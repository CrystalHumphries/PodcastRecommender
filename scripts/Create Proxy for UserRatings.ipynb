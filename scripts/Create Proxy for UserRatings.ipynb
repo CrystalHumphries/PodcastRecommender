{
 "cells": [
  {
   "cell_type": "code",
   "execution_count": 17,
   "metadata": {
    "collapsed": false
   },
   "outputs": [],
   "source": [
    "from pymongo import MongoClient\n",
    "import pandas as pd\n",
    "import numpy as np\n",
    "from sklearn.feature_extraction.text import CountVectorizer\n",
    "CV = CountVectorizer()\n",
    "from scipy.sparse import csr_matrix\n",
    "from PodcastFeatureEngineering import Podcast_Features\n",
    "import graphlab as gl\n",
    "from graphlab import SFrame as sf\n",
    "import time"
   ]
  },
  {
   "cell_type": "code",
   "execution_count": 2,
   "metadata": {
    "collapsed": false
   },
   "outputs": [
    {
     "name": "stdout",
     "output_type": "stream",
     "text": [
      "153497\n"
     ]
    }
   ],
   "source": [
    "client = MongoClient()\n",
    "# Access/Initiate Database\n",
    "db = client['Podcast']\n",
    "# Access/Initiate Table\n",
    "Podcast_twitter = db['PodcastTwitter_handles']\n",
    "print Podcast_twitter.count()"
   ]
  },
  {
   "cell_type": "code",
   "execution_count": 8,
   "metadata": {
    "collapsed": false
   },
   "outputs": [
    {
     "name": "stderr",
     "output_type": "stream",
     "text": [
      "2016-04-16 20:22:00,385 [INFO] graphlab.cython.cy_server, 176: GraphLab Create v1.8.5 started. Logging: /tmp/graphlab_server_1460838119.log\n"
     ]
    },
    {
     "name": "stdout",
     "output_type": "stream",
     "text": [
      "This non-commercial license of GraphLab Create is assigned to crystal.humphries@systemsbiology.org and will expire on November 04, 2016. For commercial licensing options, visit https://dato.com/buy/.\n"
     ]
    }
   ],
   "source": [
    "gl.set_runtime_config(\"GRAPHLAB_CACHE_FILE_LOCATIONS\", \"/mnt/data/\")"
   ]
  },
  {
   "cell_type": "code",
   "execution_count": 3,
   "metadata": {
    "collapsed": false
   },
   "outputs": [],
   "source": [
    "def count_account_with_twitter_handle(pymongo_collection):\n",
    "    n = 0\n",
    "    for pod in pymongo_collection.find({}, {'Podcast_Twitter_handle': 1, '_id':0}):\n",
    "        if 'Podcast_Twitter_handle' in pod and pod['Podcast_Twitter_handle'] != \"NaN\":\n",
    "            n+=1\n",
    "    return n"
   ]
  },
  {
   "cell_type": "code",
   "execution_count": 4,
   "metadata": {
    "collapsed": false
   },
   "outputs": [],
   "source": [
    "def return_account_with_twitter_handle(pymongo_collection):\n",
    "    Podcast_Twitter_handles=[]\n",
    "    _id=[]\n",
    "    for pod in pymongo_collection.find({}, {'Podcast_Twitter_handle': 1, '_id':1}):\n",
    "        if 'Podcast_Twitter_handle' in pod and pod['Podcast_Twitter_handle'] != \"NaN\":\n",
    "            Podcast_Twitter_handles.append(pod['Podcast_Twitter_handle'])\n",
    "            _id.append(pod['_id'])           \n",
    "    return pd.DataFrame([Podcast_Twitter_handles, _id])"
   ]
  },
  {
   "cell_type": "code",
   "execution_count": null,
   "metadata": {
    "collapsed": false
   },
   "outputs": [],
   "source": [
    "Podcast_twitter.find_one({}, {'Podcast_Twitter_handle': 1, '_id':1})"
   ]
  },
  {
   "cell_type": "code",
   "execution_count": null,
   "metadata": {
    "collapsed": false
   },
   "outputs": [],
   "source": [
    "count_account_with_twitter_handle(Podcast_twitter), Podcast_twitter.count()"
   ]
  },
  {
   "cell_type": "code",
   "execution_count": null,
   "metadata": {
    "collapsed": true
   },
   "outputs": [],
   "source": [
    "new_df = return_account_with_twitter_handle(Podcast_twitter)\n",
    "new_df.columns = ['Handles', \"IDs\"]\n",
    "new_df.to_pickle(\"twitter_handles_ids_4Mongo.pkl\")\n",
    "new_df.head()"
   ]
  },
  {
   "cell_type": "code",
   "execution_count": 5,
   "metadata": {
    "collapsed": false
   },
   "outputs": [
    {
     "name": "stdout",
     "output_type": "stream",
     "text": [
      "15819\n"
     ]
    }
   ],
   "source": [
    "practice = []\n",
    "n=0\n",
    "for pod in Podcast_twitter.find({}, {'Title':1, '_id':0, 'TwitterFollowers':1}):\n",
    "    try:\n",
    "        if 'TwitterFollowers' in pod and pod['TwitterFollowers'] and pod['TwitterFollowers'][0]!='None':\n",
    "            practice.append(pod)\n",
    "            n+=1\n",
    "    except:\n",
    "        pass\n",
    "print n"
   ]
  },
  {
   "cell_type": "code",
   "execution_count": null,
   "metadata": {
    "collapsed": true
   },
   "outputs": [],
   "source": [
    "import os"
   ]
  },
  {
   "cell_type": "code",
   "execution_count": null,
   "metadata": {
    "collapsed": false
   },
   "outputs": [],
   "source": [
    "os.environ['PYTHONPATH']"
   ]
  },
  {
   "cell_type": "code",
   "execution_count": 6,
   "metadata": {
    "collapsed": true
   },
   "outputs": [],
   "source": [
    "def create_sparse_matrix(list_of_followers):\n",
    "    list_of_strings = []\n",
    "    list_of_titles = []\n",
    "    for ls in list_of_followers:\n",
    "        x = ' '.join([ str(x) for x in ls['TwitterFollowers']])\n",
    "        list_of_strings.append(x)\n",
    "        list_of_titles.append(ls['Title'])\n",
    "    return list_of_strings, list_of_titles"
   ]
  },
  {
   "cell_type": "code",
   "execution_count": null,
   "metadata": {
    "collapsed": false
   },
   "outputs": [],
   "source": [
    "%%writefile get_sparsematrix.py\n",
    "\n",
    "from pymongo import MongoClient\n",
    "import pandas as pd\n",
    "import numpy as np\n",
    "from sklearn.feature_extraction.text import CountVectorizer\n",
    "CV = CountVectorizer()\n",
    "from scipy.sparse import csr_matrix\n",
    "from PodcastFeatureEngineering import Podcast_Features\n",
    "import graphlab as gl\n",
    "\n",
    "client = MongoClient()\n",
    "# Access/Initiate Database\n",
    "db = client['Podcast']\n",
    "# Access/Initiate Table\n",
    "Podcast_twitter = db['PodcastTwitter_handles']\n",
    "print Podcast_twitter.count()\n",
    "\n",
    "practice = []\n",
    "n=0\n",
    "for pod in Podcast_twitter.find({}, {'Title':1, '_id':0, 'TwitterFollowers':1}):\n",
    "    try:\n",
    "        if 'TwitterFollowers' in pod and pod['TwitterFollowers'] and pod['TwitterFollowers'][0]!='None':\n",
    "            practice.append(pod)\n",
    "            n+=1\n",
    "    except:\n",
    "        pass\n",
    "print n\n",
    "\n",
    "\n",
    "def create_sparse_matrix(list_of_followers):\n",
    "    list_of_strings = []\n",
    "    list_of_titles = []\n",
    "    for ls in list_of_followers:\n",
    "        x = ' '.join([ str(x) for x in ls['TwitterFollowers']])\n",
    "        list_of_strings.append(x)\n",
    "        list_of_titles.append(ls['Title'])\n",
    "    return list_of_strings, list_of_titles\n",
    "\n",
    "\n",
    "strings,titles = create_sparse_matrix(practice)\n",
    "final = CV.fit_transform(strings)\n",
    "\n",
    "a = csr_matrix.sum(final, axis=0)\n",
    "a = np.array(a).reshape(a.shape[1],)\n",
    "sparse = final.toarray()\n",
    "mask = a>1\n",
    "indices=np.where(mask)[0]\n",
    "mat = sparse_mat.tocsc()[:,indices]\n",
    "df = mat.toarray()\n",
    "df = pd.DataFrame(df)\n",
    "item_matrix=gl.SFrame(df)\n",
    "\n",
    "item_matrix.save(\"IHavebeensaved.gl\")"
   ]
  },
  {
   "cell_type": "code",
   "execution_count": null,
   "metadata": {
    "collapsed": false
   },
   "outputs": [],
   "source": [
    "df = pd.DataFrame(practice)\n",
    "df.to_pickle(\"twitter_info.pkl\")"
   ]
  },
  {
   "cell_type": "code",
   "execution_count": 10,
   "metadata": {
    "collapsed": false
   },
   "outputs": [
    {
     "name": "stdout",
     "output_type": "stream",
     "text": [
      "(15819, 1826440)\n"
     ]
    }
   ],
   "source": [
    "strings,titles = create_sparse_matrix(practice)\n",
    "final = CV.fit_transform(strings)\n",
    "a = csr_matrix.sum(final, axis=0)\n",
    "print final.shape\n",
    "a = np.array(a).reshape(a.shape[1],)\n",
    "mask = a>1"
   ]
  },
  {
   "cell_type": "code",
   "execution_count": 11,
   "metadata": {
    "collapsed": true
   },
   "outputs": [],
   "source": [
    "u=np.where(mask)[0]"
   ]
  },
  {
   "cell_type": "code",
   "execution_count": 12,
   "metadata": {
    "collapsed": false
   },
   "outputs": [],
   "source": [
    "u=np.where(mask)[0]\n",
    "sparse_mat = final.tocsc()[:,u]\n",
    "mat = sparse_mat.toarray()"
   ]
  },
  {
   "cell_type": "code",
   "execution_count": 13,
   "metadata": {
    "collapsed": false
   },
   "outputs": [],
   "source": [
    "mat = sparse_mat.toarray()"
   ]
  },
  {
   "cell_type": "code",
   "execution_count": 14,
   "metadata": {
    "collapsed": true
   },
   "outputs": [],
   "source": [
    "def get_truncated_matrix(mat, max_num):\n",
    "    df = pd.DataFrame(mat[:,0:max_num])\n",
    "    df.index = titles\n",
    "    a = df.sum(axis=1)\n",
    "    mask2 = a>0\n",
    "    return df.loc[mask2,:]"
   ]
  },
  {
   "cell_type": "code",
   "execution_count": null,
   "metadata": {
    "collapsed": true
   },
   "outputs": [],
   "source": [
    "df = pd.DataFrame(mat[:,0:1000])"
   ]
  },
  {
   "cell_type": "code",
   "execution_count": null,
   "metadata": {
    "collapsed": false
   },
   "outputs": [],
   "source": [
    "sum(mask2)"
   ]
  },
  {
   "cell_type": "code",
   "execution_count": null,
   "metadata": {
    "collapsed": false
   },
   "outputs": [],
   "source": [
    "df.loc[mask2,:]"
   ]
  },
  {
   "cell_type": "code",
   "execution_count": null,
   "metadata": {
    "collapsed": false
   },
   "outputs": [],
   "source": [
    "a = df.sum(axis=1)"
   ]
  },
  {
   "cell_type": "code",
   "execution_count": 20,
   "metadata": {
    "collapsed": false
   },
   "outputs": [
    {
     "name": "stdout",
     "output_type": "stream",
     "text": [
      "(2396, 1000)\n",
      "0.104803085327\n"
     ]
    }
   ],
   "source": [
    "start = time.time()\n",
    "attempt = get_truncated_matrix(mat, 1000)\n",
    "print attempt.shape\n",
    "end = time.time()\n",
    "print(end - start)"
   ]
  },
  {
   "cell_type": "code",
   "execution_count": null,
   "metadata": {
    "collapsed": false
   },
   "outputs": [],
   "source": [
    "start = time.time()\n",
    "newnewdf=gl.SFrame(attempt)\n",
    "end = time.time()\n",
    "print(end - start)"
   ]
  },
  {
   "cell_type": "code",
   "execution_count": null,
   "metadata": {
    "collapsed": true
   },
   "outputs": [],
   "source": [
    "newnewdfnewdf.save(\"sf_50000.gl\")"
   ]
  },
  {
   "cell_type": "code",
   "execution_count": null,
   "metadata": {
    "collapsed": true
   },
   "outputs": [],
   "source": [
    "attempt = get_truncated_matrix(mat, 100000)\n",
    "print attempt.shape\n",
    "start = time.time()\n",
    "newnewdf=gl.SFrame(attempt)\n",
    "end = time.time()\n",
    "print(end - start)\n",
    "newnewdfnewdf.save(\"sf_100000.gl\")"
   ]
  },
  {
   "cell_type": "code",
   "execution_count": null,
   "metadata": {
    "collapsed": false
   },
   "outputs": [],
   "source": [
    "def get_data(x):\n",
    "    strings,titles = create_sparse_matrix(x)\n",
    "    f = CV.fit_transform(strings)\n",
    "    sf=pd.DataFrame(f.toarray())\n",
    "    sf = gl.SFrame(sf)\n",
    "    return sf"
   ]
  },
  {
   "cell_type": "code",
   "execution_count": null,
   "metadata": {
    "collapsed": false
   },
   "outputs": [],
   "source": [
    "start=0\n",
    "list_sf = []\n",
    "for stop in range(1000,11000,1000):\n",
    "    if stop > len(practice):\n",
    "        stop = len(practice)\n",
    "    x = practice[start:stop]\n",
    "    list_sf.append(get_data(x))\n",
    "    start = stop"
   ]
  },
  {
   "cell_type": "code",
   "execution_count": null,
   "metadata": {
    "collapsed": false
   },
   "outputs": [],
   "source": [
    "import time\n",
    "start = time.time()\n",
    "x = practice[0:100]\n",
    "end = time.time()\n",
    "print(end - start)\n"
   ]
  },
  {
   "cell_type": "code",
   "execution_count": null,
   "metadata": {
    "collapsed": true
   },
   "outputs": [],
   "source": [
    "strings,titles = create_sparse_matrix(x)"
   ]
  },
  {
   "cell_type": "code",
   "execution_count": null,
   "metadata": {
    "collapsed": false
   },
   "outputs": [],
   "source": [
    "f = CV.fit_transform(strings)"
   ]
  },
  {
   "cell_type": "code",
   "execution_count": null,
   "metadata": {
    "collapsed": false
   },
   "outputs": [],
   "source": [
    "sf=pd.DataFrame(f.toarray())"
   ]
  },
  {
   "cell_type": "code",
   "execution_count": null,
   "metadata": {
    "collapsed": false
   },
   "outputs": [],
   "source": [
    "sf.head()"
   ]
  },
  {
   "cell_type": "code",
   "execution_count": null,
   "metadata": {
    "collapsed": false
   },
   "outputs": [],
   "source": [
    "sf = gl.SFrame(sf)\n",
    "sf.head()"
   ]
  },
  {
   "cell_type": "code",
   "execution_count": null,
   "metadata": {
    "collapsed": false
   },
   "outputs": [],
   "source": [
    "user_matrix = gl.SFrame(newnewdf)\n",
    "user_matrix.save(\"user_twitter_pod.gl\") "
   ]
  },
  {
   "cell_type": "code",
   "execution_count": null,
   "metadata": {
    "collapsed": false
   },
   "outputs": [],
   "source": [
    "item_matrix = gl.SFrame(newnewdf)"
   ]
  },
  {
   "cell_type": "markdown",
   "metadata": {},
   "source": [
    "## Creation of a Model"
   ]
  },
  {
   "cell_type": "code",
   "execution_count": null,
   "metadata": {
    "collapsed": true
   },
   "outputs": [],
   "source": [
    "MFR = gl.recommender.factorization_recommender"
   ]
  },
  {
   "cell_type": "code",
   "execution_count": null,
   "metadata": {
    "collapsed": true
   },
   "outputs": [],
   "source": [
    "mfr_sd = MFR.create(X_train,\n",
    "                 item_id='movie_id',\n",
    "                 target='rating',\n",
    "                 user_data=user_data,\n",
    "                 item_data=movie_simple,\n",
    "                 solver='sgd',\n",
    "                 linear_regularization=1e-09,\n",
    "                 regularization=1e-07,\n",
    "                 num_factors=20)"
   ]
  },
  {
   "cell_type": "code",
   "execution_count": null,
   "metadata": {
    "collapsed": false
   },
   "outputs": [],
   "source": [
    "PF = Podcast_Features()\n",
    "df2 = PF.cleaned_df.copy()"
   ]
  },
  {
   "cell_type": "code",
   "execution_count": null,
   "metadata": {
    "collapsed": true
   },
   "outputs": [],
   "source": [
    "df2 = pd.read_pickle('df2.pkl')"
   ]
  },
  {
   "cell_type": "code",
   "execution_count": null,
   "metadata": {
    "collapsed": false
   },
   "outputs": [],
   "source": [
    "PF = Podcast_Features(cleaned_df=df2)\n",
    "df2.to_pickle(\"df2.pkl\")\n",
    "df2['Subtitle_categories'] = PF.get_new_column_of_text('iTunesSubtitle', n_components=30)\n",
    "df2.to_pickle(\"df2.pkl\")\n",
    "df2['Keywords_categories'] = PF.get_new_column_of_text('iTunesKeywords', n_components=30)\n",
    "df2['Url_Folders'] = df2.NormalizedUrl.apply(lambda x: x.count('/'))\n",
    "df2.to_pickle(\"df2.pkl\")"
   ]
  },
  {
   "cell_type": "code",
   "execution_count": null,
   "metadata": {
    "collapsed": false
   },
   "outputs": [],
   "source": [
    "#df2['Summary_categories'] = PF.get_new_column_of_text('iTunesSummary', n_components=30)\n",
    "#df2.to_pickle(\"df2.pkl\")\n",
    "\n",
    "#for some reason this data kills the kernel"
   ]
  },
  {
   "cell_type": "code",
   "execution_count": null,
   "metadata": {
    "collapsed": true
   },
   "outputs": [],
   "source": [
    "dates=[]\n",
    "for a,b in  zip(df2.DateLastEpisode, df2.DateFirstEpisode):\n",
    "    try:\n",
    "        new = (a-b).days\n",
    "    except:\n",
    "        new = 'NaT'\n",
    "    dates.append(new)\n",
    "dates = np.array(dates)"
   ]
  },
  {
   "cell_type": "code",
   "execution_count": null,
   "metadata": {
    "collapsed": false
   },
   "outputs": [],
   "source": [
    "df2['dates'] = dates"
   ]
  },
  {
   "cell_type": "code",
   "execution_count": null,
   "metadata": {
    "collapsed": false
   },
   "outputs": [],
   "source": [
    "g = df2.columns.to_series().groupby(df2.dtypes).groups"
   ]
  },
  {
   "cell_type": "code",
   "execution_count": null,
   "metadata": {
    "collapsed": false
   },
   "outputs": [],
   "source": [
    "c = g.keys()\n",
    "c"
   ]
  },
  {
   "cell_type": "code",
   "execution_count": null,
   "metadata": {
    "collapsed": false
   },
   "outputs": [],
   "source": [
    "df3 = df2.drop(g[c[0]], axis=1)\n",
    "df3 = df3.drop(g[c[1]], axis=1)\n",
    "df3['Title'] = df2.Title"
   ]
  },
  {
   "cell_type": "code",
   "execution_count": null,
   "metadata": {
    "collapsed": false
   },
   "outputs": [],
   "source": [
    "df3.info()"
   ]
  },
  {
   "cell_type": "code",
   "execution_count": null,
   "metadata": {
    "collapsed": true
   },
   "outputs": [],
   "source": [
    "ISR = gl.recommender.item_similarity_recommender.ItemSimilarityRecommender #SEAFREE"
   ]
  },
  {
   "cell_type": "code",
   "execution_count": null,
   "metadata": {
    "collapsed": false
   },
   "outputs": [],
   "source": [
    "df2_gl = gl.SFrame(df3)"
   ]
  },
  {
   "cell_type": "code",
   "execution_count": null,
   "metadata": {
    "collapsed": false
   },
   "outputs": [],
   "source": [
    "df3."
   ]
  },
  {
   "cell_type": "code",
   "execution_count": null,
   "metadata": {
    "collapsed": false
   },
   "outputs": [],
   "source": [
    "??gl.item_similarity_recommender.create"
   ]
  },
  {
   "cell_type": "code",
   "execution_count": null,
   "metadata": {
    "collapsed": false
   },
   "outputs": [],
   "source": [
    "IS = gl.item_similarity_recommender.create(df2_gl, user_id='Title', item_id='CategoryRanking')"
   ]
  },
  {
   "cell_type": "code",
   "execution_count": null,
   "metadata": {
    "collapsed": false
   },
   "outputs": [],
   "source": [
    "IS.get_similar_users() #(users=['The Moth Podcast'])"
   ]
  },
  {
   "cell_type": "code",
   "execution_count": null,
   "metadata": {
    "collapsed": false
   },
   "outputs": [],
   "source": [
    "df3.Title"
   ]
  }
 ],
 "metadata": {
  "kernelspec": {
   "display_name": "Python 2",
   "language": "python",
   "name": "python2"
  },
  "language_info": {
   "codemirror_mode": {
    "name": "ipython",
    "version": 2
   },
   "file_extension": ".py",
   "mimetype": "text/x-python",
   "name": "python",
   "nbconvert_exporter": "python",
   "pygments_lexer": "ipython2",
   "version": "2.7.11"
  }
 },
 "nbformat": 4,
 "nbformat_minor": 0
}
