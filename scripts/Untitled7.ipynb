{
 "cells": [
  {
   "cell_type": "code",
   "execution_count": 1,
   "metadata": {
    "collapsed": false
   },
   "outputs": [],
   "source": [
    "import imp\n",
    "import os"
   ]
  },
  {
   "cell_type": "code",
   "execution_count": 2,
   "metadata": {
    "collapsed": false
   },
   "outputs": [
    {
     "name": "stdout",
     "output_type": "stream",
     "text": [
      "Writing get_MP3_files.py\n"
     ]
    }
   ],
   "source": [
    "%%writefile get_MP3_files.py\n",
    "import imp\n",
    "import os\n",
    "\n",
    "if __name__ == \"__main__\":\n",
    "    loc = os.path.join('/home/ubuntu/PodcastRecommender/', \"scripts/GrabMP3.py\")\n",
    "    MP3s = imp.load_source('Grab_MP3S', loc)\n",
    "    MP3s = MP3s.Grab_MP3S()\n",
    "    MP3s.send_to_S3()\n"
   ]
  },
  {
   "cell_type": "code",
   "execution_count": null,
   "metadata": {
    "collapsed": false
   },
   "outputs": [],
   "source": [
    "loc = os.path.join('/home/ubuntu/PodcastRecommender/', \"scripts/GrabMP3.py\")"
   ]
  },
  {
   "cell_type": "code",
   "execution_count": 3,
   "metadata": {
    "collapsed": false
   },
   "outputs": [],
   "source": [
    "loc = os.path.join('/home/ubuntu/PodcastRecommender/', \"scripts/GrabMP3.py\")\n",
    "MP3s = imp.load_source('Grab_MP3S', loc)\n",
    "MP3s = MP3s.Grab_MP3S()"
   ]
  },
  {
   "cell_type": "code",
   "execution_count": null,
   "metadata": {
    "collapsed": false
   },
   "outputs": [],
   "source": [
    "MP3s.send_to_S3()"
   ]
  },
  {
   "cell_type": "code",
   "execution_count": 8,
   "metadata": {
    "collapsed": false
   },
   "outputs": [],
   "source": [
    "import pandas as pd\n",
    "df = pd.read_csv(\"../data/Podcast_additional_info.csv\", low_memory=False)"
   ]
  },
  {
   "cell_type": "code",
   "execution_count": 4,
   "metadata": {
    "collapsed": false
   },
   "outputs": [
    {
     "name": "stderr",
     "output_type": "stream",
     "text": [
      "/home/ubuntu/anaconda2/lib/python2.7/site-packages/IPython/core/interactiveshell.py:3012: DtypeWarning: Columns (14,15,17) have mixed types. Specify dtype option on import or set low_memory=False.\n",
      "  if self.run_code(code, result):\n"
     ]
    }
   ],
   "source": [
    "MP3s._trim_names()"
   ]
  },
  {
   "cell_type": "code",
   "execution_count": 5,
   "metadata": {
    "collapsed": false
   },
   "outputs": [
    {
     "data": {
      "text/html": [
       "<div>\n",
       "<table border=\"1\" class=\"dataframe\">\n",
       "  <thead>\n",
       "    <tr style=\"text-align: right;\">\n",
       "      <th></th>\n",
       "      <th>Title</th>\n",
       "      <th>iTunesSubtitle</th>\n",
       "      <th>iTunesSummary</th>\n",
       "      <th>iTunesKeywords</th>\n",
       "      <th>NormalizedUrl</th>\n",
       "      <th>iTunesAuthor</th>\n",
       "      <th>iTunesOwnerName</th>\n",
       "      <th>iTunesOwnerEmail</th>\n",
       "      <th>DateFirstEpisode</th>\n",
       "      <th>DateLastEpisode</th>\n",
       "      <th>TotalEpisodes</th>\n",
       "      <th>Link</th>\n",
       "      <th>ImageUrl</th>\n",
       "      <th>HostingDomain</th>\n",
       "      <th>RatingCount</th>\n",
       "      <th>AverageRating</th>\n",
       "      <th>Category</th>\n",
       "      <th>CategoryRanking</th>\n",
       "    </tr>\n",
       "  </thead>\n",
       "  <tbody>\n",
       "    <tr>\n",
       "      <th>3</th>\n",
       "      <td>Selected Shorts</td>\n",
       "      <td>Spellbinding short stories by established and ...</td>\n",
       "      <td>&lt;null&gt;</td>\n",
       "      <td>&lt;null&gt;</td>\n",
       "      <td>feeds.feedburner.com/Selected-Shorts</td>\n",
       "      <td>Symphony Space</td>\n",
       "      <td>Selected Shorts</td>\n",
       "      <td>rob.blatt@symphonyspace.org</td>\n",
       "      <td>2015-12-02 00:00:00.0000000</td>\n",
       "      <td>2016-02-03 00:00:00.0000000</td>\n",
       "      <td>8</td>\n",
       "      <td>https://itunes.com/selectedshorts</td>\n",
       "      <td>http://i1.sndcdn.com/avatars-000086321840-t7kq...</td>\n",
       "      <td>feeds.soundcloud.com</td>\n",
       "      <td>851</td>\n",
       "      <td>4.5</td>\n",
       "      <td>Performing Arts/Podcasts/Arts</td>\n",
       "      <td>4</td>\n",
       "    </tr>\n",
       "    <tr>\n",
       "      <th>4</th>\n",
       "      <td>The Black Tapes</td>\n",
       "      <td>The Black Tapes is a serialized docudrama abou...</td>\n",
       "      <td>The Black Tapes is a weekly podcast from the c...</td>\n",
       "      <td>bizarre,black,catalog,creepy,crime,criminal,es...</td>\n",
       "      <td>theblacktapes.libsyn.com/rss</td>\n",
       "      <td>Pacific Northwest Stories</td>\n",
       "      <td>Terry Miles</td>\n",
       "      <td>cinemanovel@gmail.com</td>\n",
       "      <td>2015-05-21 21:33:21.0000000</td>\n",
       "      <td>2016-01-19 06:17:45.0000000</td>\n",
       "      <td>26</td>\n",
       "      <td>http://theblacktapespodcast.com/</td>\n",
       "      <td>http://static.libsyn.com/p/assets/d/0/0/b/d00b...</td>\n",
       "      <td>traffic.libsyn.com</td>\n",
       "      <td>1797</td>\n",
       "      <td>4.5</td>\n",
       "      <td>Performing Arts/Podcasts/Arts/TV &amp; Film/Societ...</td>\n",
       "      <td>8</td>\n",
       "    </tr>\n",
       "    <tr>\n",
       "      <th>5</th>\n",
       "      <td>The Splendid Table</td>\n",
       "      <td>American Public Media's The Splendid Table is ...</td>\n",
       "      <td>American Public Media's The Splendid Table is ...</td>\n",
       "      <td>&lt;null&gt;</td>\n",
       "      <td>splendidtable.org/feeds/podcast/itunes</td>\n",
       "      <td>Lynne Rossetto Kasper</td>\n",
       "      <td>American Public Media</td>\n",
       "      <td>contact@splendidtable.org</td>\n",
       "      <td>2015-02-13 06:00:00.0000000</td>\n",
       "      <td>2016-01-29 06:00:00.0000000</td>\n",
       "      <td>52</td>\n",
       "      <td>http://www.splendidtable.org/</td>\n",
       "      <td>&lt;null&gt;</td>\n",
       "      <td>167.88.156.220</td>\n",
       "      <td>298</td>\n",
       "      <td>4.5</td>\n",
       "      <td>Food/Podcasts/Arts</td>\n",
       "      <td>7</td>\n",
       "    </tr>\n",
       "    <tr>\n",
       "      <th>6</th>\n",
       "      <td>Limetown</td>\n",
       "      <td>Ten years ago, over three hundred men, women a...</td>\n",
       "      <td>&lt;null&gt;</td>\n",
       "      <td>&lt;null&gt;</td>\n",
       "      <td>feeds.soundcloud.com/users/soundcloud:users:12...</td>\n",
       "      <td>Two-Up Productions</td>\n",
       "      <td>Limetown</td>\n",
       "      <td>feeds@soundcloud.com</td>\n",
       "      <td>2015-07-25 00:00:00.0000000</td>\n",
       "      <td>2015-12-15 16:16:52.0000000</td>\n",
       "      <td>11</td>\n",
       "      <td>http://www.limetownstories.com/</td>\n",
       "      <td>http://i1.sndcdn.com/avatars-000193031993-9798...</td>\n",
       "      <td>feeds.soundcloud.com</td>\n",
       "      <td>941</td>\n",
       "      <td>4.5</td>\n",
       "      <td>Performing Arts/Podcasts/Arts</td>\n",
       "      <td>9</td>\n",
       "    </tr>\n",
       "    <tr>\n",
       "      <th>7</th>\n",
       "      <td>The Writer's Almanac with Garrison Keillor</td>\n",
       "      <td>Literary history and poems</td>\n",
       "      <td>Each day, The Writer's Almanac features Garris...</td>\n",
       "      <td>poetry, public radio, npr, garrison keillor, a...</td>\n",
       "      <td>feeds.americanpublicmedia.org/writersalmanac</td>\n",
       "      <td>American Public Media</td>\n",
       "      <td>American Public Media</td>\n",
       "      <td>podcasts@americanpublicmedia.org</td>\n",
       "      <td>2016-01-27 06:01:19.0000000</td>\n",
       "      <td>2016-02-05 06:01:41.0000000</td>\n",
       "      <td>10</td>\n",
       "      <td>http://writersalmanac.org/</td>\n",
       "      <td>http://writersalmanac.org/wp-content/uploads/2...</td>\n",
       "      <td>167.88.156.220</td>\n",
       "      <td>407</td>\n",
       "      <td>4.5</td>\n",
       "      <td>Literature/Podcasts/Arts/Society &amp; Culture/His...</td>\n",
       "      <td>12</td>\n",
       "    </tr>\n",
       "  </tbody>\n",
       "</table>\n",
       "</div>"
      ],
      "text/plain": [
       "                                        Title  \\\n",
       "3                             Selected Shorts   \n",
       "4                             The Black Tapes   \n",
       "5                          The Splendid Table   \n",
       "6                                    Limetown   \n",
       "7  The Writer's Almanac with Garrison Keillor   \n",
       "\n",
       "                                      iTunesSubtitle  \\\n",
       "3  Spellbinding short stories by established and ...   \n",
       "4  The Black Tapes is a serialized docudrama abou...   \n",
       "5  American Public Media's The Splendid Table is ...   \n",
       "6  Ten years ago, over three hundred men, women a...   \n",
       "7                         Literary history and poems   \n",
       "\n",
       "                                       iTunesSummary  \\\n",
       "3                                             <null>   \n",
       "4  The Black Tapes is a weekly podcast from the c...   \n",
       "5  American Public Media's The Splendid Table is ...   \n",
       "6                                             <null>   \n",
       "7  Each day, The Writer's Almanac features Garris...   \n",
       "\n",
       "                                      iTunesKeywords  \\\n",
       "3                                             <null>   \n",
       "4  bizarre,black,catalog,creepy,crime,criminal,es...   \n",
       "5                                             <null>   \n",
       "6                                             <null>   \n",
       "7  poetry, public radio, npr, garrison keillor, a...   \n",
       "\n",
       "                                       NormalizedUrl  \\\n",
       "3               feeds.feedburner.com/Selected-Shorts   \n",
       "4                       theblacktapes.libsyn.com/rss   \n",
       "5             splendidtable.org/feeds/podcast/itunes   \n",
       "6  feeds.soundcloud.com/users/soundcloud:users:12...   \n",
       "7       feeds.americanpublicmedia.org/writersalmanac   \n",
       "\n",
       "                iTunesAuthor        iTunesOwnerName  \\\n",
       "3             Symphony Space        Selected Shorts   \n",
       "4  Pacific Northwest Stories            Terry Miles   \n",
       "5      Lynne Rossetto Kasper  American Public Media   \n",
       "6         Two-Up Productions               Limetown   \n",
       "7      American Public Media  American Public Media   \n",
       "\n",
       "                   iTunesOwnerEmail             DateFirstEpisode  \\\n",
       "3       rob.blatt@symphonyspace.org  2015-12-02 00:00:00.0000000   \n",
       "4             cinemanovel@gmail.com  2015-05-21 21:33:21.0000000   \n",
       "5         contact@splendidtable.org  2015-02-13 06:00:00.0000000   \n",
       "6              feeds@soundcloud.com  2015-07-25 00:00:00.0000000   \n",
       "7  podcasts@americanpublicmedia.org  2016-01-27 06:01:19.0000000   \n",
       "\n",
       "               DateLastEpisode  TotalEpisodes  \\\n",
       "3  2016-02-03 00:00:00.0000000              8   \n",
       "4  2016-01-19 06:17:45.0000000             26   \n",
       "5  2016-01-29 06:00:00.0000000             52   \n",
       "6  2015-12-15 16:16:52.0000000             11   \n",
       "7  2016-02-05 06:01:41.0000000             10   \n",
       "\n",
       "                                Link  \\\n",
       "3  https://itunes.com/selectedshorts   \n",
       "4   http://theblacktapespodcast.com/   \n",
       "5      http://www.splendidtable.org/   \n",
       "6    http://www.limetownstories.com/   \n",
       "7         http://writersalmanac.org/   \n",
       "\n",
       "                                            ImageUrl         HostingDomain  \\\n",
       "3  http://i1.sndcdn.com/avatars-000086321840-t7kq...  feeds.soundcloud.com   \n",
       "4  http://static.libsyn.com/p/assets/d/0/0/b/d00b...    traffic.libsyn.com   \n",
       "5                                             <null>        167.88.156.220   \n",
       "6  http://i1.sndcdn.com/avatars-000193031993-9798...  feeds.soundcloud.com   \n",
       "7  http://writersalmanac.org/wp-content/uploads/2...        167.88.156.220   \n",
       "\n",
       "  RatingCount AverageRating  \\\n",
       "3         851           4.5   \n",
       "4        1797           4.5   \n",
       "5         298           4.5   \n",
       "6         941           4.5   \n",
       "7         407           4.5   \n",
       "\n",
       "                                            Category CategoryRanking  \n",
       "3                      Performing Arts/Podcasts/Arts               4  \n",
       "4  Performing Arts/Podcasts/Arts/TV & Film/Societ...               8  \n",
       "5                                 Food/Podcasts/Arts               7  \n",
       "6                      Performing Arts/Podcasts/Arts               9  \n",
       "7  Literature/Podcasts/Arts/Society & Culture/His...              12  "
      ]
     },
     "execution_count": 5,
     "metadata": {},
     "output_type": "execute_result"
    }
   ],
   "source": [
    "MP3s.df.head()"
   ]
  },
  {
   "cell_type": "code",
   "execution_count": null,
   "metadata": {
    "collapsed": true
   },
   "outputs": [],
   "source": [
    "tweets = tweets.get_twitter_followers()"
   ]
  },
  {
   "cell_type": "code",
   "execution_count": null,
   "metadata": {
    "collapsed": true
   },
   "outputs": [],
   "source": [
    "tweets.get_overlapping_users(Num=12)"
   ]
  },
  {
   "cell_type": "code",
   "execution_count": null,
   "metadata": {
    "collapsed": false
   },
   "outputs": [],
   "source": [
    "df = tweets.trim_users()"
   ]
  }
 ],
 "metadata": {
  "kernelspec": {
   "display_name": "Python 2",
   "language": "python",
   "name": "python2"
  },
  "language_info": {
   "codemirror_mode": {
    "name": "ipython",
    "version": 2
   },
   "file_extension": ".py",
   "mimetype": "text/x-python",
   "name": "python",
   "nbconvert_exporter": "python",
   "pygments_lexer": "ipython2",
   "version": "2.7.11"
  }
 },
 "nbformat": 4,
 "nbformat_minor": 0
}
