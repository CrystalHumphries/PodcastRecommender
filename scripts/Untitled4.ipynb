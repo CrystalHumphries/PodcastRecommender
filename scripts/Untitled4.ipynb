{
 "cells": [
  {
   "cell_type": "code",
   "execution_count": 1,
   "metadata": {
    "collapsed": true
   },
   "outputs": [],
   "source": [
    "import time\n",
    "from pymongo import MongoClient\n",
    "import requests\n",
    "import pandas as pd\n",
    "import tweepy\n",
    "from tweepy.streaming import StreamListener\n",
    "from tweepy import Cursor\n",
    "from tweepy import OAuthHandler\n",
    "from tweepy import Stream\n",
    "from tweepy import API\n",
    "import json\n",
    "import itertools\n",
    "from bson.objectid import ObjectId\n",
    "import re\n",
    "\n",
    "'''set up twitter'''\n",
    "APIs = ['Twitter2_API.json',  'Twitter3_API.json', 'Twitter4_API.json', \n",
    "        'Twitter_API.json',  'Twitter_API4.json', 'Twitter_API5.json',\n",
    "         'Twitter_API6.json', 'Twitter_API7.json', 'Twitter_API8.json', \n",
    "        'Twitter_API9.json']\n",
    "\n",
    "loc = '/home/ubuntu/.api/'\n",
    "\n",
    "def create_api(file_name):\n",
    "    twitter_api = json.load(open(file_name))\n",
    "\n",
    "    access_token        = twitter_api['Access Token']\n",
    "    access_token_secret = twitter_api['Access Token Secret']\n",
    "    consumer_key        = twitter_api['API Key']\n",
    "    consumer_secret     = twitter_api['API Secret']\n",
    "    return access_token, access_token_secret, consumer_key, consumer_secret\n",
    "\n",
    "api_list = []\n",
    "for api in APIs:\n",
    "    file_name = loc + api\n",
    "    AT,ATS,CK,CKS = create_api(file_name)\n",
    "    auth = OAuthHandler(CK,CKS)\n",
    "    auth.set_access_token(AT,ATS)\n",
    "    api = tweepy.API(auth)\n",
    "    api_list.append(api)\n",
    "\n",
    "api_generator = itertools.cycle(api_list)\n",
    "\n",
    "'''get mongoDB'''\n",
    "client = MongoClient()\n",
    "# Access/Initiate Database\n",
    "db = client['Podcast']\n",
    "# Access/Initiate Table\n",
    "#Podcasts = db['PodcastFinal_new']\n",
    "Podcast_twitter = db['PodcastTwitter_handles']\n",
    "\n",
    "n=0\n",
    "new_df = pd.read_pickle(\"twitter_handles_ids_4Mongo.pkl\")\n",
    "check_names=[]\n"
   ]
  },
  {
   "cell_type": "code",
   "execution_count": 2,
   "metadata": {
    "collapsed": true
   },
   "outputs": [],
   "source": [
    "podcast = Podcast_twitter.find_one({'_id': { '$in': [ new_df.IDs[0] ] }})"
   ]
  },
  {
   "cell_type": "code",
   "execution_count": 7,
   "metadata": {
    "collapsed": false
   },
   "outputs": [
    {
     "data": {
      "text/plain": [
       "{u'PodcastRating': 2195,\n",
       " u'Podcast_Twitter_handle': u'@freshair',\n",
       " u'Title': u'Fresh Air',\n",
       " u'_id': ObjectId('571034d9bdc83961cdaae972')}"
      ]
     },
     "execution_count": 7,
     "metadata": {},
     "output_type": "execute_result"
    }
   ],
   "source": [
    "current_api = api_generator.next() \n",
    "podcast"
   ]
  },
  {
   "cell_type": "code",
   "execution_count": 5,
   "metadata": {
    "collapsed": false
   },
   "outputs": [
    {
     "name": "stdout",
     "output_type": "stream",
     "text": [
      "@freshair Fresh Air\n"
     ]
    }
   ],
   "source": [
    "handle = str(podcast['Podcast_Twitter_handle'])\n",
    "Title = podcast[\"Title\"]\n",
    "print handle, Title"
   ]
  },
  {
   "cell_type": "code",
   "execution_count": 6,
   "metadata": {
    "collapsed": false
   },
   "outputs": [
    {
     "name": "stdout",
     "output_type": "stream",
     "text": [
      "add tweets\n"
     ]
    }
   ],
   "source": [
    "if handle == 'NaN':\n",
    "    print \"hola\"\n",
    "elif not re.match(r'@\\w+', handle):\n",
    "    print 'hola2'\n",
    "elif 'TwitterFollowers' in podcast: \n",
    "    print \"no added\"\n",
    "else:\n",
    "    print \"add tweets\""
   ]
  },
  {
   "cell_type": "code",
   "execution_count": 19,
   "metadata": {
    "collapsed": true
   },
   "outputs": [],
   "source": [
    "current_api = api_generator.next() "
   ]
  },
  {
   "cell_type": "code",
   "execution_count": 37,
   "metadata": {
    "collapsed": false
   },
   "outputs": [],
   "source": [
    "a = current_api.get_user(screen_name='@nprfreshair')# @nprfreshair"
   ]
  },
  {
   "cell_type": "code",
   "execution_count": 34,
   "metadata": {
    "collapsed": false
   },
   "outputs": [
    {
     "data": {
      "text/plain": [
       "5976"
      ]
     },
     "execution_count": 34,
     "metadata": {},
     "output_type": "execute_result"
    }
   ],
   "source": [
    "a.listed_count"
   ]
  },
  {
   "cell_type": "code",
   "execution_count": 36,
   "metadata": {
    "collapsed": false
   },
   "outputs": [
    {
     "data": {
      "text/plain": [
       "(6457, 228148)"
      ]
     },
     "execution_count": 36,
     "metadata": {},
     "output_type": "execute_result"
    }
   ],
   "source": [
    "a.favourites_count, a.followers_count"
   ]
  },
  {
   "cell_type": "code",
   "execution_count": 31,
   "metadata": {
    "collapsed": false
   },
   "outputs": [
    {
     "data": {
      "text/plain": [
       "228145"
      ]
     },
     "execution_count": 31,
     "metadata": {},
     "output_type": "execute_result"
    }
   ],
   "source": [
    "a.followers_count"
   ]
  }
 ],
 "metadata": {
  "kernelspec": {
   "display_name": "Python 2",
   "language": "python",
   "name": "python2"
  },
  "language_info": {
   "codemirror_mode": {
    "name": "ipython",
    "version": 2
   },
   "file_extension": ".py",
   "mimetype": "text/x-python",
   "name": "python",
   "nbconvert_exporter": "python",
   "pygments_lexer": "ipython2",
   "version": "2.7.11"
  }
 },
 "nbformat": 4,
 "nbformat_minor": 0
}
