{
 "cells": [
  {
   "cell_type": "code",
   "execution_count": 282,
   "metadata": {
    "collapsed": false
   },
   "outputs": [],
   "source": [
    "import matplotlib.pyplot as plt\n",
    "import numpy as np\n",
    "import plotly.plotly as py\n",
    "import json\n",
    "plotly_key = json.load(open(\"/home/ubuntu/.api/plotly.api\"))\n",
    "py.sign_in('Crystal.Humphries', str(plotly_key['KEY']))"
   ]
  },
  {
   "cell_type": "code",
   "execution_count": 1,
   "metadata": {
    "collapsed": false
   },
   "outputs": [
    {
     "name": "stderr",
     "output_type": "stream",
     "text": [
      "2016-04-21 22:27:06,280 [INFO] graphlab.cython.cy_server, 176: GraphLab Create v1.8.5 started. Logging: /tmp/graphlab_server_1461277625.log\n"
     ]
    },
    {
     "name": "stdout",
     "output_type": "stream",
     "text": [
      "This non-commercial license of GraphLab Create is assigned to crystal.humphries@systemsbiology.org and will expire on November 04, 2016. For commercial licensing options, visit https://dato.com/buy/.\n"
     ]
    }
   ],
   "source": [
    "import graphlab as gl\n",
    "gl.canvas.set_target('ipynb')\n",
    "import matplotlib.pyplot as plt\n",
    "from PodcastFeatureEngineering import Podcast_Features\n",
    "%matplotlib inline\n",
    "import numpy as np\n",
    "from sklearn.feature_extraction.text import TfidfVectorizer\n",
    "import pandas as pd\n",
    "import imp\n",
    "import os\n",
    "from collections import Counter\n",
    "import plotly.plotly as py\n",
    "import json\n",
    "plotly_key = json.load(open(\"/home/ubuntu/.api/plotly.api\"))\n",
    "py.sign_in('Crystal.Humphries', str(plotly_key['KEY']))"
   ]
  },
  {
   "cell_type": "code",
   "execution_count": 2,
   "metadata": {
    "collapsed": false
   },
   "outputs": [],
   "source": [
    "loc = os.path.join('/home/ubuntu/PodcastRecommender/', \"src/twitter_followers_list.py\")\n",
    "tweets = imp.load_source('get_twitter_followers', loc)\n",
    "tweets = tweets.get_twitter_followers()\n",
    "tweets.get_overlapping_users(Num=3)\n",
    "item_sim_mat = tweets.Item_sim_matrix(max_num=20000)"
   ]
  },
  {
   "cell_type": "code",
   "execution_count": 3,
   "metadata": {
    "collapsed": false
   },
   "outputs": [],
   "source": [
    "sf = gl.SFrame(item_sim_mat)"
   ]
  },
  {
   "cell_type": "code",
   "execution_count": 4,
   "metadata": {
    "collapsed": false
   },
   "outputs": [],
   "source": [
    "(train_set, test_set) = sf.random_split(0.8, seed=1)"
   ]
  },
  {
   "cell_type": "markdown",
   "metadata": {},
   "source": [
    "# Feature Engineering MetaData"
   ]
  },
  {
   "cell_type": "code",
   "execution_count": 5,
   "metadata": {
    "collapsed": false
   },
   "outputs": [
    {
     "name": "stderr",
     "output_type": "stream",
     "text": [
      "/home/ubuntu/anaconda2/lib/python2.7/site-packages/IPython/core/interactiveshell.py:3066: DtypeWarning: Columns (14,15,17) have mixed types. Specify dtype option on import or set low_memory=False.\n",
      "  exec(code_obj, self.user_global_ns, self.user_ns)\n",
      "clean_podcast_csv.py:24: FutureWarning: the coerce=True keyword is deprecated, use errors='coerce' instead\n",
      "  self.df['DateFirstEpisode'] = self.df.DateFirstEpisode.apply(lambda x: pd.to_datetime(str(x), coerce=True))\n"
     ]
    },
    {
     "name": "stdout",
     "output_type": "stream",
     "text": [
      "Creating Tf-idf\n"
     ]
    },
    {
     "name": "stderr",
     "output_type": "stream",
     "text": [
      "clean_podcast_csv.py:25: FutureWarning: the coerce=True keyword is deprecated, use errors='coerce' instead\n",
      "  self.df['DateLastEpisode']  = self.df.DateLastEpisode.apply(lambda x: pd.to_datetime(str(x), coerce=True))\n"
     ]
    }
   ],
   "source": [
    "PF = Podcast_Features()\n",
    "df = PF.cleaned_df"
   ]
  },
  {
   "cell_type": "code",
   "execution_count": 6,
   "metadata": {
    "collapsed": false
   },
   "outputs": [],
   "source": [
    "def get_top_100(col, df):\n",
    "    tfidf = TfidfVectorizer( max_features=100, stop_words='english')\n",
    "    X = tfidf.fit_transform(df[col])\n",
    "    return pd.DataFrame(X.toarray(),\n",
    "                        columns=pd.Series(tfidf.get_feature_names()))\n",
    "\n",
    "def remove_bots(sf, flag=True):\n",
    "    tr = pd.Series(sf['user_id'])\n",
    "    podcasts = tr.value_counts()\n",
    "    if flag is True:\n",
    "        podcasts.hist(bins=200)\n",
    "    users_following100_lessPods = gl.SArray(podcasts.index[ podcasts <= 100].values)\n",
    "    return sf.filter_by(users_following100_lessPods, 'user_id')"
   ]
  },
  {
   "cell_type": "code",
   "execution_count": 92,
   "metadata": {
    "collapsed": false
   },
   "outputs": [],
   "source": [
    "df_orig = df.copy()\n",
    "df = df.drop_duplicates()"
   ]
  },
  {
   "cell_type": "code",
   "execution_count": 93,
   "metadata": {
    "collapsed": false
   },
   "outputs": [],
   "source": [
    "g = df.columns.to_series().groupby(df.dtypes).groups\n",
    "c = g.keys()\n",
    "df2 = df.drop(g[c[0]], axis=1)\n",
    "df2 = df2.drop(g[c[1]], axis=1)"
   ]
  },
  {
   "cell_type": "code",
   "execution_count": 96,
   "metadata": {
    "collapsed": false
   },
   "outputs": [],
   "source": [
    "dates=[]\n",
    "for a,b in  zip(df.DateLastEpisode, df.DateFirstEpisode):\n",
    "    try:\n",
    "        new = (a-b).days\n",
    "    except:\n",
    "        new = 'NaT'\n",
    "    dates.append(new)\n",
    "dates = np.array(dates)"
   ]
  },
  {
   "cell_type": "code",
   "execution_count": 97,
   "metadata": {
    "collapsed": false
   },
   "outputs": [],
   "source": [
    "df2['Title'] = df.Title\n",
    "df2['dates'] = dates"
   ]
  },
  {
   "cell_type": "code",
   "execution_count": 99,
   "metadata": {
    "collapsed": false
   },
   "outputs": [
    {
     "data": {
      "image/png": "[encoded data removed]",
      "text/plain": [
       "<matplotlib.figure.Figure at 0x7f8940e93450>"
      ]
     },
     "metadata": {},
     "output_type": "display_data"
    }
   ],
   "source": [
    "sf2 = remove_bots(sf)"
   ]
  },
  {
   "cell_type": "code",
   "execution_count": 98,
   "metadata": {
    "collapsed": false
   },
   "outputs": [
    {
     "data": {
      "text/plain": [
       "((29543, 6), (153679, 6))"
      ]
     },
     "execution_count": 98,
     "metadata": {},
     "output_type": "execute_result"
    }
   ],
   "source": [
    "unique_pod = item_sim_mat.Title.unique()\n",
    "df_reduced = df2[ df2.Title.isin(unique_pod)]\n",
    "items_reduced = gl.SFrame(df_reduced)\n",
    "items = gl.SFrame(df2)\n",
    "items_reduced.shape, items.shape"
   ]
  },
  {
   "cell_type": "markdown",
   "metadata": {},
   "source": [
    "# Create a table"
   ]
  },
  {
   "cell_type": "code",
   "execution_count": 41,
   "metadata": {
    "collapsed": false
   },
   "outputs": [],
   "source": [
    "import plotly.plotly as py\n",
    "from plotly.tools import FigureFactory as FF"
   ]
  },
  {
   "cell_type": "code",
   "execution_count": 43,
   "metadata": {
    "collapsed": false
   },
   "outputs": [],
   "source": [
    "a = pd.DataFrame(df.dtypes)\n",
    "#table = FF.create_table(a)\n",
    "#py.iplot(table, filename='podcast_meta_dtypes')"
   ]
  },
  {
   "cell_type": "code",
   "execution_count": 50,
   "metadata": {
    "collapsed": true
   },
   "outputs": [],
   "source": [
    "a['Title'] = a.index\n",
    "a.columns = ['DataTypes', 'Title']\n",
    "a['DataTypes'] = a.DataTypes.apply(lambda x: \"str\" if x==\"object\" else x)"
   ]
  },
  {
   "cell_type": "code",
   "execution_count": 58,
   "metadata": {
    "collapsed": false
   },
   "outputs": [],
   "source": [
    "a = a[['Title', 'DataTypes']]"
   ]
  },
  {
   "cell_type": "code",
   "execution_count": 63,
   "metadata": {
    "collapsed": false
   },
   "outputs": [
    {
     "data": {
      "text/html": [
       "<div>\n",
       "<table border=\"1\" class=\"dataframe\">\n",
       "  <thead>\n",
       "    <tr style=\"text-align: right;\">\n",
       "      <th></th>\n",
       "      <th>Title</th>\n",
       "      <th>DataTypes</th>\n",
       "    </tr>\n",
       "  </thead>\n",
       "  <tbody>\n",
       "    <tr>\n",
       "      <th>DateFirstEpisode</th>\n",
       "      <td>DateFirstEpisode</td>\n",
       "      <td>datetime64[ns]</td>\n",
       "    </tr>\n",
       "    <tr>\n",
       "      <th>DateLastEpisode</th>\n",
       "      <td>DateLastEpisode</td>\n",
       "      <td>datetime64[ns]</td>\n",
       "    </tr>\n",
       "    <tr>\n",
       "      <th>RatingCount</th>\n",
       "      <td>RatingCount</td>\n",
       "      <td>int64</td>\n",
       "    </tr>\n",
       "    <tr>\n",
       "      <th>TotalEpisodes</th>\n",
       "      <td>TotalEpisodes</td>\n",
       "      <td>int64</td>\n",
       "    </tr>\n",
       "    <tr>\n",
       "      <th>CategoryRanking</th>\n",
       "      <td>CategoryRanking</td>\n",
       "      <td>int64</td>\n",
       "    </tr>\n",
       "    <tr>\n",
       "      <th>AverageRating</th>\n",
       "      <td>AverageRating</td>\n",
       "      <td>float64</td>\n",
       "    </tr>\n",
       "    <tr>\n",
       "      <th>Category</th>\n",
       "      <td>Category</td>\n",
       "      <td>str</td>\n",
       "    </tr>\n",
       "    <tr>\n",
       "      <th>iTunesKeywords</th>\n",
       "      <td>iTunesKeywords</td>\n",
       "      <td>str</td>\n",
       "    </tr>\n",
       "    <tr>\n",
       "      <th>iTunesSummary</th>\n",
       "      <td>iTunesSummary</td>\n",
       "      <td>str</td>\n",
       "    </tr>\n",
       "    <tr>\n",
       "      <th>HostingDomain</th>\n",
       "      <td>HostingDomain</td>\n",
       "      <td>str</td>\n",
       "    </tr>\n",
       "    <tr>\n",
       "      <th>iTunesSubtitle</th>\n",
       "      <td>iTunesSubtitle</td>\n",
       "      <td>str</td>\n",
       "    </tr>\n",
       "  </tbody>\n",
       "</table>\n",
       "</div>"
      ],
      "text/plain": [
       "                             Title       DataTypes\n",
       "DateFirstEpisode  DateFirstEpisode  datetime64[ns]\n",
       "DateLastEpisode    DateLastEpisode  datetime64[ns]\n",
       "RatingCount            RatingCount           int64\n",
       "TotalEpisodes        TotalEpisodes           int64\n",
       "CategoryRanking    CategoryRanking           int64\n",
       "AverageRating        AverageRating         float64\n",
       "Category                  Category             str\n",
       "iTunesKeywords      iTunesKeywords             str\n",
       "iTunesSummary        iTunesSummary             str\n",
       "HostingDomain        HostingDomain             str\n",
       "iTunesSubtitle      iTunesSubtitle             str"
      ]
     },
     "execution_count": 63,
     "metadata": {},
     "output_type": "execute_result"
    }
   ],
   "source": [
    "df_table[~df_table.Title.isin(['Link', 'ImageUrl', 'NormalizedUrl', 'iTunesOwnerEmail', 'iTunesOwnerName','iTunesAuthor', 'Title'])]"
   ]
  },
  {
   "cell_type": "code",
   "execution_count": 110,
   "metadata": {
    "collapsed": false
   },
   "outputs": [
    {
     "data": {
      "text/plain": [
       "2322"
      ]
     },
     "execution_count": 110,
     "metadata": {},
     "output_type": "execute_result"
    }
   ],
   "source": [
    "len(df.RatingCount[df.RatingCount>100])"
   ]
  },
  {
   "cell_type": "code",
   "execution_count": 147,
   "metadata": {
    "collapsed": false
   },
   "outputs": [],
   "source": [
    "a =df.RatingCount[ (df.RatingCount<100) | (df.RatingCount>0)]"
   ]
  },
  {
   "cell_type": "code",
   "execution_count": 180,
   "metadata": {
    "collapsed": false
   },
   "outputs": [
    {
     "name": "stderr",
     "output_type": "stream",
     "text": [
      "/home/ubuntu/anaconda2/lib/python2.7/site-packages/plotly/matplotlylib/renderer.py:516: UserWarning:\n",
      "\n",
      "Looks like the annotation(s) you are trying \n",
      "to draw lies/lay outside the given figure size.\n",
      "\n",
      "Therefore, the resulting Plotly figure may not be \n",
      "large enough to view the full text. To adjust \n",
      "the size of the figure, use the 'width' and \n",
      "'height' keys in the Layout object. Alternatively,\n",
      "use the Margin object to adjust the figure's margins.\n",
      "\n"
     ]
    },
    {
     "data": {
      "text/html": [
       "<iframe id=\"igraph\" scrolling=\"no\" style=\"border:none;\" seamless=\"seamless\" src=\"https://plot.ly/~crystal.humphries/71.embed\" height=\"525px\" width=\"100%\"></iframe>"
      ],
      "text/plain": [
       "<plotly.tools.PlotlyDisplay object>"
      ]
     },
     "execution_count": 180,
     "metadata": {},
     "output_type": "execute_result"
    }
   ],
   "source": [
    "fig2 = plt.figure()\n",
    "plt.hist(a, bins=1000)\n",
    "plt.xlim(0,100)\n",
    "plt.ylabel(\"Podcasts\")\n",
    "plt.title(\"90 of Podcasts have <100 Ratings\")\n",
    "plt.xlabel(\"# of Ratings\")\n",
    "py.iplot_mpl(fig2, strip_style = True,filename='Ratings Counts')"
   ]
  },
  {
   "cell_type": "code",
   "execution_count": 77,
   "metadata": {
    "collapsed": true
   },
   "outputs": [],
   "source": [
    "ti = df.Title.apply(lambda x: x.lower())"
   ]
  },
  {
   "cell_type": "code",
   "execution_count": 64,
   "metadata": {
    "collapsed": false
   },
   "outputs": [
    {
     "data": {
      "text/html": [
       "<iframe id=\"igraph\" scrolling=\"no\" style=\"border:none;\" seamless=\"seamless\" src=\"https://plot.ly/~crystal.humphries/69.embed\" height=\"410px\" width=\"100%\"></iframe>"
      ],
      "text/plain": [
       "<plotly.tools.PlotlyDisplay object>"
      ]
     },
     "execution_count": 64,
     "metadata": {},
     "output_type": "execute_result"
    }
   ],
   "source": [
    "df_table = a.sort_values('DataTypes', ascending=True)\n",
    "df_table = df_table[~df_table.Title.isin(['Link', 'ImageUrl', 'NormalizedUrl', 'iTunesOwnerEmail', 'iTunesOwnerName','iTunesAuthor', 'Title'])]\n",
    "table = FF.create_table(df_table)\n",
    "py.iplot(table, filename='podcast_meta_dtypes')"
   ]
  },
  {
   "cell_type": "code",
   "execution_count": 14,
   "metadata": {
    "collapsed": false
   },
   "outputs": [],
   "source": [
    "(train_set_2, test_set_2) = sf2.random_split(0.8, seed=1)"
   ]
  },
  {
   "cell_type": "code",
   "execution_count": 100,
   "metadata": {
    "collapsed": false
   },
   "outputs": [
    {
     "data": {
      "text/html": [
       "<pre>Recsys training: model = item_similarity</pre>"
      ],
      "text/plain": [
       "Recsys training: model = item_similarity"
      ]
     },
     "metadata": {},
     "output_type": "display_data"
    },
    {
     "data": {
      "text/plain": [
       "{'precision_recall_by_user': Columns:\n",
       " \tuser_id\tstr\n",
       " \tcutoff\tint\n",
       " \tprecision\tfloat\n",
       " \trecall\tfloat\n",
       " \tcount\tint\n",
       " \n",
       " Rows: 602930\n",
       " \n",
       " Data:\n",
       " +---------+--------+----------------+--------+-------+\n",
       " | user_id | cutoff |   precision    | recall | count |\n",
       " +---------+--------+----------------+--------+-------+\n",
       " |  user_0 |   1    |      1.0       |  1.0   |   1   |\n",
       " |  user_0 |   2    |      0.5       |  1.0   |   1   |\n",
       " |  user_0 |   3    | 0.333333333333 |  1.0   |   1   |\n",
       " |  user_0 |   4    |      0.25      |  1.0   |   1   |\n",
       " |  user_0 |   5    |      0.2       |  1.0   |   1   |\n",
       " | user_10 |   1    |      0.0       |  0.0   |   1   |\n",
       " | user_10 |   2    |      0.0       |  0.0   |   1   |\n",
       " | user_10 |   3    |      0.0       |  0.0   |   1   |\n",
       " | user_10 |   4    |      0.0       |  0.0   |   1   |\n",
       " | user_10 |   5    |      0.2       |  1.0   |   1   |\n",
       " +---------+--------+----------------+--------+-------+\n",
       " [602930 rows x 5 columns]\n",
       " Note: Only the head of the SFrame is printed.\n",
       " You can use print_rows(num_rows=m, num_columns=n) to print more rows and columns.,\n",
       " 'precision_recall_overall': Columns:\n",
       " \tcutoff\tint\n",
       " \tprecision\tfloat\n",
       " \trecall\tfloat\n",
       " \n",
       " Rows: 5\n",
       " \n",
       " Data:\n",
       " +--------+----------------+----------------+\n",
       " | cutoff |   precision    |     recall     |\n",
       " +--------+----------------+----------------+\n",
       " |   1    | 0.409351002604 | 0.296483022129 |\n",
       " |   2    | 0.271996749208 | 0.355661993656 |\n",
       " |   3    | 0.201911222419 | 0.378856780367 |\n",
       " |   4    | 0.161096644718 | 0.392487310396 |\n",
       " |   5    | 0.134400344982 | 0.402636310224 |\n",
       " +--------+----------------+----------------+\n",
       " [5 rows x 3 columns]}"
      ]
     },
     "execution_count": 100,
     "metadata": {},
     "output_type": "execute_result"
    }
   ],
   "source": [
    "# run with trainset2<-no bots and items<-all meta data no filter\n",
    "item_model = gl.item_similarity_recommender.create(train_set_2, user_id=\"user_id\", \n",
    "                                                   item_id=\"Title\", item_data=items, verbose=False)\n",
    "item_model.evaluate_precision_recall(test_set_2, cutoffs=[1,2,3,4,5], verbose=False)"
   ]
  },
  {
   "cell_type": "code",
   "execution_count": 101,
   "metadata": {
    "collapsed": false
   },
   "outputs": [
    {
     "data": {
      "text/html": [
       "<pre>Recsys training: model = item_similarity</pre>"
      ],
      "text/plain": [
       "Recsys training: model = item_similarity"
      ]
     },
     "metadata": {},
     "output_type": "display_data"
    },
    {
     "data": {
      "text/plain": [
       "{'precision_recall_by_user': Columns:\n",
       " \tuser_id\tstr\n",
       " \tcutoff\tint\n",
       " \tprecision\tfloat\n",
       " \trecall\tfloat\n",
       " \tcount\tint\n",
       " \n",
       " Rows: 602930\n",
       " \n",
       " Data:\n",
       " +---------+--------+----------------+--------+-------+\n",
       " | user_id | cutoff |   precision    | recall | count |\n",
       " +---------+--------+----------------+--------+-------+\n",
       " |  user_0 |   1    |      1.0       |  1.0   |   1   |\n",
       " |  user_0 |   2    |      0.5       |  1.0   |   1   |\n",
       " |  user_0 |   3    | 0.333333333333 |  1.0   |   1   |\n",
       " |  user_0 |   4    |      0.25      |  1.0   |   1   |\n",
       " |  user_0 |   5    |      0.2       |  1.0   |   1   |\n",
       " | user_10 |   1    |      0.0       |  0.0   |   1   |\n",
       " | user_10 |   2    |      0.0       |  0.0   |   1   |\n",
       " | user_10 |   3    |      0.0       |  0.0   |   1   |\n",
       " | user_10 |   4    |      0.0       |  0.0   |   1   |\n",
       " | user_10 |   5    |      0.2       |  1.0   |   1   |\n",
       " +---------+--------+----------------+--------+-------+\n",
       " [602930 rows x 5 columns]\n",
       " Note: Only the head of the SFrame is printed.\n",
       " You can use print_rows(num_rows=m, num_columns=n) to print more rows and columns.,\n",
       " 'precision_recall_overall': Columns:\n",
       " \tcutoff\tint\n",
       " \tprecision\tfloat\n",
       " \trecall\tfloat\n",
       " \n",
       " Rows: 5\n",
       " \n",
       " Data:\n",
       " +--------+----------------+----------------+\n",
       " | cutoff |   precision    |     recall     |\n",
       " +--------+----------------+----------------+\n",
       " |   1    | 0.409425638134 | 0.296547922969 |\n",
       " |   2    | 0.272000895626 | 0.355706706914 |\n",
       " |   3    | 0.201844879726 | 0.378741248061 |\n",
       " |   4    | 0.161046887698 | 0.39241751148  |\n",
       " |   5    | 0.134436833463 | 0.40272289028  |\n",
       " +--------+----------------+----------------+\n",
       " [5 rows x 3 columns]}"
      ]
     },
     "execution_count": 101,
     "metadata": {},
     "output_type": "execute_result"
    }
   ],
   "source": [
    "# run with trainset2<-no bots and items<-meta data with podcasts only seen by users\n",
    "item_model = gl.item_similarity_recommender.create(train_set_2, user_id=\"user_id\", \n",
    "                                                   item_id=\"Title\", item_data=items_reduced, verbose=False)\n",
    "item_model.evaluate_precision_recall(test_set_2, cutoffs=[1,2,3,4,5], verbose=False)"
   ]
  },
  {
   "cell_type": "code",
   "execution_count": 182,
   "metadata": {
    "collapsed": false
   },
   "outputs": [
    {
     "data": {
      "text/html": [
       "<div>\n",
       "<table border=\"1\" class=\"dataframe\">\n",
       "  <thead>\n",
       "    <tr style=\"text-align: right;\">\n",
       "      <th></th>\n",
       "      <th>Performing Arts</th>\n",
       "      <th>Philosophy</th>\n",
       "      <th>Tech News</th>\n",
       "      <th>Fitness &amp; Nutrition</th>\n",
       "      <th>Podcasting</th>\n",
       "      <th>Games &amp; Hobbies</th>\n",
       "      <th>Science &amp; Medicine</th>\n",
       "      <th>Educational Technology</th>\n",
       "      <th>Arts</th>\n",
       "      <th>Sports &amp; Recreation</th>\n",
       "      <th>...</th>\n",
       "      <th>Gadgets</th>\n",
       "      <th>Literary Criticism</th>\n",
       "      <th>Design</th>\n",
       "      <th>Teaching &amp; Learning</th>\n",
       "      <th>Hobbies</th>\n",
       "      <th>Music</th>\n",
       "      <th>Management</th>\n",
       "      <th>Education</th>\n",
       "      <th>Technology</th>\n",
       "      <th>Islam</th>\n",
       "    </tr>\n",
       "  </thead>\n",
       "  <tbody>\n",
       "    <tr>\n",
       "      <th>0</th>\n",
       "      <td>1</td>\n",
       "      <td>0</td>\n",
       "      <td>0</td>\n",
       "      <td>0</td>\n",
       "      <td>0</td>\n",
       "      <td>0</td>\n",
       "      <td>0</td>\n",
       "      <td>0</td>\n",
       "      <td>1</td>\n",
       "      <td>0</td>\n",
       "      <td>...</td>\n",
       "      <td>0</td>\n",
       "      <td>0</td>\n",
       "      <td>0</td>\n",
       "      <td>0</td>\n",
       "      <td>0</td>\n",
       "      <td>0</td>\n",
       "      <td>0</td>\n",
       "      <td>0</td>\n",
       "      <td>0</td>\n",
       "      <td>0</td>\n",
       "    </tr>\n",
       "    <tr>\n",
       "      <th>1</th>\n",
       "      <td>0</td>\n",
       "      <td>0</td>\n",
       "      <td>0</td>\n",
       "      <td>0</td>\n",
       "      <td>0</td>\n",
       "      <td>0</td>\n",
       "      <td>0</td>\n",
       "      <td>0</td>\n",
       "      <td>1</td>\n",
       "      <td>0</td>\n",
       "      <td>...</td>\n",
       "      <td>0</td>\n",
       "      <td>0</td>\n",
       "      <td>0</td>\n",
       "      <td>0</td>\n",
       "      <td>0</td>\n",
       "      <td>0</td>\n",
       "      <td>0</td>\n",
       "      <td>0</td>\n",
       "      <td>0</td>\n",
       "      <td>0</td>\n",
       "    </tr>\n",
       "    <tr>\n",
       "      <th>2</th>\n",
       "      <td>0</td>\n",
       "      <td>0</td>\n",
       "      <td>0</td>\n",
       "      <td>0</td>\n",
       "      <td>0</td>\n",
       "      <td>0</td>\n",
       "      <td>0</td>\n",
       "      <td>0</td>\n",
       "      <td>1</td>\n",
       "      <td>0</td>\n",
       "      <td>...</td>\n",
       "      <td>0</td>\n",
       "      <td>0</td>\n",
       "      <td>1</td>\n",
       "      <td>0</td>\n",
       "      <td>0</td>\n",
       "      <td>0</td>\n",
       "      <td>0</td>\n",
       "      <td>0</td>\n",
       "      <td>0</td>\n",
       "      <td>0</td>\n",
       "    </tr>\n",
       "    <tr>\n",
       "      <th>3</th>\n",
       "      <td>1</td>\n",
       "      <td>0</td>\n",
       "      <td>0</td>\n",
       "      <td>0</td>\n",
       "      <td>0</td>\n",
       "      <td>0</td>\n",
       "      <td>0</td>\n",
       "      <td>0</td>\n",
       "      <td>1</td>\n",
       "      <td>0</td>\n",
       "      <td>...</td>\n",
       "      <td>0</td>\n",
       "      <td>0</td>\n",
       "      <td>0</td>\n",
       "      <td>0</td>\n",
       "      <td>0</td>\n",
       "      <td>0</td>\n",
       "      <td>0</td>\n",
       "      <td>0</td>\n",
       "      <td>0</td>\n",
       "      <td>0</td>\n",
       "    </tr>\n",
       "    <tr>\n",
       "      <th>4</th>\n",
       "      <td>1</td>\n",
       "      <td>0</td>\n",
       "      <td>0</td>\n",
       "      <td>0</td>\n",
       "      <td>0</td>\n",
       "      <td>0</td>\n",
       "      <td>0</td>\n",
       "      <td>0</td>\n",
       "      <td>1</td>\n",
       "      <td>0</td>\n",
       "      <td>...</td>\n",
       "      <td>0</td>\n",
       "      <td>0</td>\n",
       "      <td>0</td>\n",
       "      <td>0</td>\n",
       "      <td>0</td>\n",
       "      <td>0</td>\n",
       "      <td>0</td>\n",
       "      <td>0</td>\n",
       "      <td>0</td>\n",
       "      <td>0</td>\n",
       "    </tr>\n",
       "  </tbody>\n",
       "</table>\n",
       "<p>5 rows × 79 columns</p>\n",
       "</div>"
      ],
      "text/plain": [
       "   Performing Arts  Philosophy  Tech News  Fitness & Nutrition  Podcasting  \\\n",
       "0                1           0          0                    0           0   \n",
       "1                0           0          0                    0           0   \n",
       "2                0           0          0                    0           0   \n",
       "3                1           0          0                    0           0   \n",
       "4                1           0          0                    0           0   \n",
       "\n",
       "   Games & Hobbies  Science & Medicine  Educational Technology  Arts  \\\n",
       "0                0                   0                       0     1   \n",
       "1                0                   0                       0     1   \n",
       "2                0                   0                       0     1   \n",
       "3                0                   0                       0     1   \n",
       "4                0                   0                       0     1   \n",
       "\n",
       "   Sports & Recreation  ...    Gadgets  Literary Criticism  Design  \\\n",
       "0                    0  ...          0                   0       0   \n",
       "1                    0  ...          0                   0       0   \n",
       "2                    0  ...          0                   0       1   \n",
       "3                    0  ...          0                   0       0   \n",
       "4                    0  ...          0                   0       0   \n",
       "\n",
       "   Teaching & Learning  Hobbies  Music  Management  Education  Technology  \\\n",
       "0                    0        0      0           0          0           0   \n",
       "1                    0        0      0           0          0           0   \n",
       "2                    0        0      0           0          0           0   \n",
       "3                    0        0      0           0          0           0   \n",
       "4                    0        0      0           0          0           0   \n",
       "\n",
       "   Islam  \n",
       "0      0  \n",
       "1      0  \n",
       "2      0  \n",
       "3      0  \n",
       "4      0  \n",
       "\n",
       "[5 rows x 79 columns]"
      ]
     },
     "execution_count": 182,
     "metadata": {},
     "output_type": "execute_result"
    }
   ],
   "source": [
    "all_categories = df.Category.apply(lambda x: x.split('/'))\n",
    "temp = [item for sublist in all_categories for item in sublist]\n",
    "categories = {x:0 for x in temp}\n",
    "\n",
    "cats = pd.DataFrame(0, index=np.arange(len(df.Category.values)), columns=categories.keys())\n",
    "for i,v in enumerate(df.Category.values):\n",
    "    ls = v.split('/')\n",
    "    cats.loc[i][ls] = 1\n",
    "cats.head()"
   ]
  },
  {
   "cell_type": "code",
   "execution_count": 251,
   "metadata": {
    "collapsed": false
   },
   "outputs": [],
   "source": [
    "cats.index = df.index"
   ]
  },
  {
   "cell_type": "code",
   "execution_count": 252,
   "metadata": {
    "collapsed": false
   },
   "outputs": [
    {
     "data": {
      "text/plain": [
       "(153679, 97)"
      ]
     },
     "execution_count": 252,
     "metadata": {},
     "output_type": "execute_result"
    }
   ],
   "source": [
    "df.shape, cats.shape\n",
    "cats.index = df.index\n",
    "d = pd.concat([df, cats], axis=1)\n",
    "d.shape"
   ]
  },
  {
   "cell_type": "code",
   "execution_count": 253,
   "metadata": {
    "collapsed": false
   },
   "outputs": [],
   "source": [
    "g = d.columns.to_series().groupby(d.dtypes).groups\n",
    "c = g.keys()\n",
    "df2 = d.drop(g[c[0]], axis=1)\n",
    "df2 = df2.drop(g[c[1]], axis=1)"
   ]
  },
  {
   "cell_type": "code",
   "execution_count": 254,
   "metadata": {
    "collapsed": true
   },
   "outputs": [],
   "source": [
    "df2['Title'] = df.Title\n",
    "d = pd.concat([df2, cats], axis=1)\n",
    "d['Title'] = d.Title.astype('str')"
   ]
  },
  {
   "cell_type": "code",
   "execution_count": 263,
   "metadata": {
    "collapsed": true
   },
   "outputs": [],
   "source": [
    "d_clean = remove_duplicate_columns(d)\n",
    "df_raw_cl = gl.SFrame(d_clean)"
   ]
  },
  {
   "cell_type": "code",
   "execution_count": 267,
   "metadata": {
    "collapsed": false
   },
   "outputs": [
    {
     "data": {
      "text/html": [
       "<pre>Recsys training: model = item_similarity</pre>"
      ],
      "text/plain": [
       "Recsys training: model = item_similarity"
      ]
     },
     "metadata": {},
     "output_type": "display_data"
    },
    {
     "data": {
      "text/plain": [
       "{'precision_recall_by_user': Columns:\n",
       " \tuser_id\tstr\n",
       " \tcutoff\tint\n",
       " \tprecision\tfloat\n",
       " \trecall\tfloat\n",
       " \tcount\tint\n",
       " \n",
       " Rows: 602930\n",
       " \n",
       " Data:\n",
       " +---------+--------+----------------+--------+-------+\n",
       " | user_id | cutoff |   precision    | recall | count |\n",
       " +---------+--------+----------------+--------+-------+\n",
       " |  user_0 |   1    |      1.0       |  1.0   |   1   |\n",
       " |  user_0 |   2    |      0.5       |  1.0   |   1   |\n",
       " |  user_0 |   3    | 0.333333333333 |  1.0   |   1   |\n",
       " |  user_0 |   4    |      0.25      |  1.0   |   1   |\n",
       " |  user_0 |   5    |      0.2       |  1.0   |   1   |\n",
       " | user_10 |   1    |      0.0       |  0.0   |   1   |\n",
       " | user_10 |   2    |      0.0       |  0.0   |   1   |\n",
       " | user_10 |   3    |      0.0       |  0.0   |   1   |\n",
       " | user_10 |   4    |      0.0       |  0.0   |   1   |\n",
       " | user_10 |   5    |      0.2       |  1.0   |   1   |\n",
       " +---------+--------+----------------+--------+-------+\n",
       " [602930 rows x 5 columns]\n",
       " Note: Only the head of the SFrame is printed.\n",
       " You can use print_rows(num_rows=m, num_columns=n) to print more rows and columns.,\n",
       " 'precision_recall_overall': Columns:\n",
       " \tcutoff\tint\n",
       " \tprecision\tfloat\n",
       " \trecall\tfloat\n",
       " \n",
       " Rows: 5\n",
       " \n",
       " Data:\n",
       " +--------+----------------+----------------+\n",
       " | cutoff |   precision    |     recall     |\n",
       " +--------+----------------+----------------+\n",
       " |   1    | 0.409392466787 | 0.296484328641 |\n",
       " |   2    | 0.271959431443 | 0.355661244089 |\n",
       " |   3    | 0.201880815352 | 0.378794691062 |\n",
       " |   4    | 0.161051034117 | 0.392391417886 |\n",
       " |   5    | 0.134392052145 | 0.402718569582 |\n",
       " +--------+----------------+----------------+\n",
       " [5 rows x 3 columns]}"
      ]
     },
     "execution_count": 267,
     "metadata": {},
     "output_type": "execute_result"
    }
   ],
   "source": [
    "# run with trainset2<-no bots and items<-meta data plus categories\n",
    "item_model = gl.item_similarity_recommender.create(train_set_2, user_id=\"user_id\", \n",
    "                                                   item_id=\"Title\", item_data=df_raw_cl, verbose=False)\n",
    "item_model.evaluate_precision_recall(test_set_2, cutoffs=[1,2,3,4,5], verbose=False)"
   ]
  },
  {
   "cell_type": "code",
   "execution_count": 279,
   "metadata": {
    "collapsed": true
   },
   "outputs": [],
   "source": [
    "orig_results = results['precision_recall_overall']"
   ]
  },
  {
   "cell_type": "code",
   "execution_count": 280,
   "metadata": {
    "collapsed": false
   },
   "outputs": [
    {
     "data": {
      "text/html": [
       "<div style=\"max-height:1000px;max-width:1500px;overflow:auto;\"><table frame=\"box\" rules=\"cols\">\n",
       "    <tr>\n",
       "        <th style=\"padding-left: 1em; padding-right: 1em; text-align: center\">cutoff</th>\n",
       "        <th style=\"padding-left: 1em; padding-right: 1em; text-align: center\">precision</th>\n",
       "        <th style=\"padding-left: 1em; padding-right: 1em; text-align: center\">recall</th>\n",
       "    </tr>\n",
       "    <tr>\n",
       "        <td style=\"padding-left: 1em; padding-right: 1em; text-align: center; vertical-align: top\">1</td>\n",
       "        <td style=\"padding-left: 1em; padding-right: 1em; text-align: center; vertical-align: top\">0.409400759624</td>\n",
       "        <td style=\"padding-left: 1em; padding-right: 1em; text-align: center; vertical-align: top\">0.296500446387</td>\n",
       "    </tr>\n",
       "    <tr>\n",
       "        <td style=\"padding-left: 1em; padding-right: 1em; text-align: center; vertical-align: top\">2</td>\n",
       "        <td style=\"padding-left: 1em; padding-right: 1em; text-align: center; vertical-align: top\">0.272005042045</td>\n",
       "        <td style=\"padding-left: 1em; padding-right: 1em; text-align: center; vertical-align: top\">0.355705003744</td>\n",
       "    </tr>\n",
       "    <tr>\n",
       "        <td style=\"padding-left: 1em; padding-right: 1em; text-align: center; vertical-align: top\">3</td>\n",
       "        <td style=\"padding-left: 1em; padding-right: 1em; text-align: center; vertical-align: top\">0.201897401025</td>\n",
       "        <td style=\"padding-left: 1em; padding-right: 1em; text-align: center; vertical-align: top\">0.378786165323</td>\n",
       "    </tr>\n",
       "    <tr>\n",
       "        <td style=\"padding-left: 1em; padding-right: 1em; text-align: center; vertical-align: top\">4</td>\n",
       "        <td style=\"padding-left: 1em; padding-right: 1em; text-align: center; vertical-align: top\">0.161051034117</td>\n",
       "        <td style=\"padding-left: 1em; padding-right: 1em; text-align: center; vertical-align: top\">0.3923757844</td>\n",
       "    </tr>\n",
       "    <tr>\n",
       "        <td style=\"padding-left: 1em; padding-right: 1em; text-align: center; vertical-align: top\">5</td>\n",
       "        <td style=\"padding-left: 1em; padding-right: 1em; text-align: center; vertical-align: top\">0.134382100741</td>\n",
       "        <td style=\"padding-left: 1em; padding-right: 1em; text-align: center; vertical-align: top\">0.402558431288</td>\n",
       "    </tr>\n",
       "</table>\n",
       "[5 rows x 3 columns]<br/>\n",
       "</div>"
      ],
      "text/plain": [
       "Columns:\n",
       "\tcutoff\tint\n",
       "\tprecision\tfloat\n",
       "\trecall\tfloat\n",
       "\n",
       "Rows: 5\n",
       "\n",
       "Data:\n",
       "+--------+----------------+----------------+\n",
       "| cutoff |   precision    |     recall     |\n",
       "+--------+----------------+----------------+\n",
       "|   1    | 0.409400759624 | 0.296500446387 |\n",
       "|   2    | 0.272005042045 | 0.355705003744 |\n",
       "|   3    | 0.201897401025 | 0.378786165323 |\n",
       "|   4    | 0.161051034117 |  0.3923757844  |\n",
       "|   5    | 0.134382100741 | 0.402558431288 |\n",
       "+--------+----------------+----------------+\n",
       "[5 rows x 3 columns]"
      ]
     },
     "execution_count": 280,
     "metadata": {},
     "output_type": "execute_result"
    }
   ],
   "source": [
    "orig_results"
   ]
  },
  {
   "cell_type": "code",
   "execution_count": 261,
   "metadata": {
    "collapsed": false
   },
   "outputs": [],
   "source": [
    "##cleaning the mess up\n",
    "def remove_duplicate_columns(df):\n",
    "    ls = Counter(df.columns)\n",
    "    df_final = pd.DataFrame()\n",
    "    for a,b in ls.items():\n",
    "        if b==1:\n",
    "            df_final = pd.concat([df_final, df[a]],axis=1)\n",
    "        else:\n",
    "            df_final[a] = df[[a]].sum(axis=1)\n",
    "    return df_final"
   ]
  },
  {
   "cell_type": "code",
   "execution_count": 411,
   "metadata": {
    "collapsed": false
   },
   "outputs": [],
   "source": [
    "df3 = d.copy()\n",
    "\n",
    "dates=[]\n",
    "for a,b in  zip(df.DateLastEpisode, df.DateFirstEpisode):\n",
    "    try:\n",
    "        new = (a-b).days\n",
    "    except:\n",
    "        new = -1\n",
    "    dates.append(new)\n",
    "    \n",
    "df3['dates'] = np.array(dates)\n",
    "\n",
    "df3['dates'] = df3['dates'].astype('int')\n",
    "for col in ['iTunesSummary', 'iTunesKeywords','Category','iTunesSubtitle', 'HostingDomain']:\n",
    "    y = get_top_100(col, df)\n",
    "    df3 = pd.concat([df3, y], axis=1)"
   ]
  },
  {
   "cell_type": "code",
   "execution_count": null,
   "metadata": {
    "collapsed": false
   },
   "outputs": [],
   "source": [
    "# cols = df3.columns.str.lower()\n",
    "# df3.columns  = cols"
   ]
  },
  {
   "cell_type": "code",
   "execution_count": 412,
   "metadata": {
    "collapsed": false
   },
   "outputs": [],
   "source": [
    "df_cat_tfidf_orig = remove_duplicate_columns(df3)"
   ]
  },
  {
   "cell_type": "code",
   "execution_count": 417,
   "metadata": {
    "collapsed": false
   },
   "outputs": [],
   "source": [
    "df_cat_tfidf_orig['Title'] = d.Title\n",
    "#df_cat_tfidf_orig.drop(\"title\", axis=1, inplace=True)\n",
    "df_cat_tfidf_orig['Title'] = df_cat_tfidf_orig.Title.astype('str')\n",
    "gl_cat_tfidf_temp = gl.SFrame(df_cat_tfidf_orig)"
   ]
  },
  {
   "cell_type": "code",
   "execution_count": 474,
   "metadata": {
    "collapsed": false
   },
   "outputs": [],
   "source": [
    "keep_cols_p = [ str(x) for x in keep_cols_p]\n",
    "keep_cols_r = [ str(x) for x in keep_cols_r]"
   ]
  },
  {
   "cell_type": "code",
   "execution_count": 477,
   "metadata": {
    "collapsed": true
   },
   "outputs": [],
   "source": [
    "keep_cols_p.append(\"Title\")\n",
    "keep_cols_p.extend(keep_cols_r)\n",
    "keep_cols_p = list(set(keep_cols_p))"
   ]
  },
  {
   "cell_type": "code",
   "execution_count": 481,
   "metadata": {
    "collapsed": false
   },
   "outputs": [],
   "source": [
    "gl_cat_tfidf_temp_r = gl_cat_tfidf_temp.filter_by(unique_pod, 'Title')"
   ]
  },
  {
   "cell_type": "code",
   "execution_count": 482,
   "metadata": {
    "collapsed": false
   },
   "outputs": [
    {
     "data": {
      "text/html": [
       "<pre>Recsys training: model = item_similarity</pre>"
      ],
      "text/plain": [
       "Recsys training: model = item_similarity"
      ]
     },
     "metadata": {},
     "output_type": "display_data"
    },
    {
     "data": {
      "text/plain": [
       "{'precision_recall_by_user': Columns:\n",
       " \tuser_id\tstr\n",
       " \tcutoff\tint\n",
       " \tprecision\tfloat\n",
       " \trecall\tfloat\n",
       " \tcount\tint\n",
       " \n",
       " Rows: 602930\n",
       " \n",
       " Data:\n",
       " +---------+--------+----------------+--------+-------+\n",
       " | user_id | cutoff |   precision    | recall | count |\n",
       " +---------+--------+----------------+--------+-------+\n",
       " |  user_0 |   1    |      1.0       |  1.0   |   1   |\n",
       " |  user_0 |   2    |      0.5       |  1.0   |   1   |\n",
       " |  user_0 |   3    | 0.333333333333 |  1.0   |   1   |\n",
       " |  user_0 |   4    |      0.25      |  1.0   |   1   |\n",
       " |  user_0 |   5    |      0.2       |  1.0   |   1   |\n",
       " | user_10 |   1    |      0.0       |  0.0   |   1   |\n",
       " | user_10 |   2    |      0.0       |  0.0   |   1   |\n",
       " | user_10 |   3    |      0.0       |  0.0   |   1   |\n",
       " | user_10 |   4    |      0.0       |  0.0   |   1   |\n",
       " | user_10 |   5    |      0.2       |  1.0   |   1   |\n",
       " +---------+--------+----------------+--------+-------+\n",
       " [602930 rows x 5 columns]\n",
       " Note: Only the head of the SFrame is printed.\n",
       " You can use print_rows(num_rows=m, num_columns=n) to print more rows and columns.,\n",
       " 'precision_recall_overall': Columns:\n",
       " \tcutoff\tint\n",
       " \tprecision\tfloat\n",
       " \trecall\tfloat\n",
       " \n",
       " Rows: 5\n",
       " \n",
       " Data:\n",
       " +--------+----------------+----------------+\n",
       " | cutoff |   precision    |     recall     |\n",
       " +--------+----------------+----------------+\n",
       " |   1    | 0.409351002604 | 0.296443056637 |\n",
       " |   2    | 0.272034066973 | 0.355726133549 |\n",
       " |   3    | 0.201927808093 | 0.378816573272 |\n",
       " |   4    | 0.161109083973 | 0.392537290849 |\n",
       " |   5    | 0.134440150598 | 0.402814398312 |\n",
       " +--------+----------------+----------------+\n",
       " [5 rows x 3 columns]}"
      ]
     },
     "execution_count": 482,
     "metadata": {},
     "output_type": "execute_result"
    }
   ],
   "source": [
    "item_model = gl.item_similarity_recommender.create(train_set_2, user_id=\"user_id\", \n",
    "                                                   item_id=\"Title\", item_data=gl_cat_tfidf_temp_r[keep_cols_p], \n",
    "                                                   verbose=False)\n",
    "item_model.evaluate_precision_recall(test_set_2, cutoffs=[1,2,3,4,5], verbose=False)"
   ]
  },
  {
   "cell_type": "code",
   "execution_count": 438,
   "metadata": {
    "collapsed": true
   },
   "outputs": [],
   "source": [
    "item_model.save(\"../data/ItemSimilarity.gl\")"
   ]
  },
  {
   "cell_type": "code",
   "execution_count": null,
   "metadata": {
    "collapsed": true
   },
   "outputs": [],
   "source": [
    "other_model = gl.load_mode(\"../data/ItemSimilarity.gl\")"
   ]
  },
  {
   "cell_type": "code",
   "execution_count": 486,
   "metadata": {
    "collapsed": false
   },
   "outputs": [],
   "source": [
    "df.to_pickle(\"../data/MetaData_cleaned.pkl\")"
   ]
  },
  {
   "cell_type": "code",
   "execution_count": 289,
   "metadata": {
    "collapsed": false
   },
   "outputs": [],
   "source": [
    "category_sums = cats.sum(axis=0)"
   ]
  },
  {
   "cell_type": "code",
   "execution_count": 374,
   "metadata": {
    "collapsed": false
   },
   "outputs": [],
   "source": [
    "# fig3 = plt.figure()\n",
    "# plt.bar(category_sums)\n",
    "# plt.xlim(0,100)\n",
    "# plt.ylabel(\"Categories\")\n",
    "# py.iplot_mpl(fig3, strip_style = True,filename='../data/Categories')"
   ]
  },
  {
   "cell_type": "markdown",
   "metadata": {},
   "source": [
    "## use get_best_features_OneInOut.py to find the best features for item-similarity"
   ]
  },
  {
   "cell_type": "code",
   "execution_count": 284,
   "metadata": {
    "collapsed": true
   },
   "outputs": [],
   "source": [
    "gl_cat_tfidf.save('../data/items_categories_tifidf_need2reduce.gl')\n",
    "train_set_2.save(\"../data/train_set_2.gl\")\n",
    "test_set_2.save(\"../data/test_set_2.gl\")\n",
    "orig_results.save(\"../data/orig_results.gl\")"
   ]
  },
  {
   "cell_type": "code",
   "execution_count": 473,
   "metadata": {
    "collapsed": false
   },
   "outputs": [
    {
     "name": "stdout",
     "output_type": "stream",
     "text": [
      "413\n"
     ]
    },
    {
     "data": {
      "text/plain": [
       "(51, 58)"
      ]
     },
     "execution_count": 473,
     "metadata": {},
     "output_type": "execute_result"
    }
   ],
   "source": [
    "from pymongo import MongoClient\n",
    "\n",
    "client = MongoClient()\n",
    "# Access/Initiate Database\n",
    "db = client['Podcast']\n",
    "# Access/Initiate Table\n",
    "Features = db['Features']\n",
    "print Features.count()\n",
    "\n",
    "keep_cols_p = []\n",
    "keep_cols_r = []\n",
    "for i in Features.find({}):\n",
    "    features = i['Feature']\n",
    "    if i['Precision']>0 and i['Precision_max']>0.0001:\n",
    "        keep_cols_p.append(features)\n",
    "    if i['Recall']>0 and i['Recall_max']>0.0001:\n",
    "        keep_cols_r.append(features)\n",
    "len(keep_cols_p), len(keep_cols_r)"
   ]
  },
  {
   "cell_type": "code",
   "execution_count": 457,
   "metadata": {
    "collapsed": false
   },
   "outputs": [
    {
     "data": {
      "text/plain": [
       "0"
      ]
     },
     "execution_count": 457,
     "metadata": {},
     "output_type": "execute_result"
    }
   ],
   "source": [
    "len(keep_cols_p)"
   ]
  },
  {
   "cell_type": "code",
   "execution_count": null,
   "metadata": {
    "collapsed": false
   },
   "outputs": [],
   "source": [
    "new_cols_items_reduced = df_final[ df_final.Title.isin(unique_pod)]\n",
    "new_cols_items_reduced.shape\n",
    "new_cols_items_reduced = gl.SFrame(new_cols_items_reduced)"
   ]
  },
  {
   "cell_type": "code",
   "execution_count": 325,
   "metadata": {
    "collapsed": false
   },
   "outputs": [
    {
     "data": {
      "text/html": [
       "<iframe id=\"igraph\" scrolling=\"no\" style=\"border:none;\" seamless=\"seamless\" src=\"https://plot.ly/~crystal.humphries/75.embed\" height=\"587px\" width=\"1116px\"></iframe>"
      ],
      "text/plain": [
       "<plotly.tools.PlotlyDisplay object>"
      ]
     },
     "execution_count": 325,
     "metadata": {},
     "output_type": "execute_result"
    }
   ],
   "source": [
    "import plotly.plotly as py\n",
    "import pandas as pd\n",
    "import numpy as np\n",
    "import cufflinks as cf\n",
    "\n",
    "#cf.set_config_file(offline=False, world_readable=True, theme='ggplot')\n",
    "\n",
    "category_sums[category_sums>1549].iplot(kind='bar', filename='../data/category_info')"
   ]
  },
  {
   "cell_type": "code",
   "execution_count": 318,
   "metadata": {
    "collapsed": false
   },
   "outputs": [],
   "source": [
    "a = category_sums.index!=\"Podcasts\"\n",
    "len(category_sums[a]), len(category_sums)\n",
    "category_sums = category_sums[a]\n",
    "category_sums.describe()"
   ]
  },
  {
   "cell_type": "code",
   "execution_count": 369,
   "metadata": {
    "collapsed": false
   },
   "outputs": [],
   "source": [
    "cat_names = category_sums.index.str.lower()\n",
    "new = pd.read_csv(\"../data/temp_data.tsv\", header=None)\n",
    "new.columns = ['cats']\n",
    "new = new.cats.str.lower()"
   ]
  },
  {
   "cell_type": "code",
   "execution_count": 7,
   "metadata": {
    "collapsed": false
   },
   "outputs": [],
   "source": [
    "items = gl.load_sframe(\"../data/items_podcast_sframe.gl/\")"
   ]
  },
  {
   "cell_type": "code",
   "execution_count": 8,
   "metadata": {
    "collapsed": false
   },
   "outputs": [
    {
     "data": {
      "text/html": [
       "<pre>Recsys training: model = item_similarity</pre>"
      ],
      "text/plain": [
       "Recsys training: model = item_similarity"
      ]
     },
     "metadata": {},
     "output_type": "display_data"
    },
    {
     "data": {
      "text/plain": [
       "{'precision_recall_by_user': Columns:\n",
       " \tuser_id\tstr\n",
       " \tcutoff\tint\n",
       " \tprecision\tfloat\n",
       " \trecall\tfloat\n",
       " \tcount\tint\n",
       " \n",
       " Rows: 607840\n",
       " \n",
       " Data:\n",
       " +----------+--------+----------------+--------+-------+\n",
       " | user_id  | cutoff |   precision    | recall | count |\n",
       " +----------+--------+----------------+--------+-------+\n",
       " |  user_0  |   1    |      1.0       |  1.0   |   1   |\n",
       " |  user_0  |   2    |      0.5       |  1.0   |   1   |\n",
       " |  user_0  |   3    | 0.333333333333 |  1.0   |   1   |\n",
       " |  user_0  |   4    |      0.25      |  1.0   |   1   |\n",
       " |  user_0  |   5    |      0.2       |  1.0   |   1   |\n",
       " | user_100 |   1    |      0.0       |  0.0   |   1   |\n",
       " | user_100 |   2    |      0.0       |  0.0   |   1   |\n",
       " | user_100 |   3    |      0.0       |  0.0   |   1   |\n",
       " | user_100 |   4    |      0.0       |  0.0   |   1   |\n",
       " | user_100 |   5    |      0.0       |  0.0   |   1   |\n",
       " +----------+--------+----------------+--------+-------+\n",
       " [607840 rows x 5 columns]\n",
       " Note: Only the head of the SFrame is printed.\n",
       " You can use print_rows(num_rows=m, num_columns=n) to print more rows and columns.,\n",
       " 'precision_recall_overall': Columns:\n",
       " \tcutoff\tint\n",
       " \tprecision\tfloat\n",
       " \trecall\tfloat\n",
       " \n",
       " Rows: 5\n",
       " \n",
       " Data:\n",
       " +--------+----------------+----------------+\n",
       " | cutoff |   precision    |     recall     |\n",
       " +--------+----------------+----------------+\n",
       " |   1    | 0.410000987102 | 0.294310976423 |\n",
       " |   2    | 0.274101737299 | 0.353373088049 |\n",
       " |   3    | 0.204206699131 | 0.375421906115 |\n",
       " |   4    | 0.163492859963 | 0.388643418997 |\n",
       " |   5    | 0.136906093709 | 0.398280792737 |\n",
       " +--------+----------------+----------------+\n",
       " [5 rows x 3 columns]}"
      ]
     },
     "execution_count": 8,
     "metadata": {},
     "output_type": "execute_result"
    }
   ],
   "source": [
    "item_model = gl.item_similarity_recommender.create(train_set, user_id=\"user_id\", \n",
    "                                                   item_id=\"Title\", item_data=items, verbose=False)\n",
    "item_model.evaluate_precision_recall(test_set, cutoffs=[1,2,3,4,5], verbose=False)"
   ]
  },
  {
   "cell_type": "code",
   "execution_count": null,
   "metadata": {
    "collapsed": true
   },
   "outputs": [],
   "source": [
    " 0.409375881114 | 0.296451269988 |\n",
    " |   2    | 0.271976017116 | 0.355691085843 |\n",
    " |   3    | 0.201875286794 | 0.378739548183 |\n",
    " |   4    | 0.161075912627 | 0.392539963899 |\n",
    " |   5    | 0.134400344982\n",
    "    \n",
    " 0.41031356936  | 0.294388081934 |\n",
    " |   2    | 0.274200447486 | 0.353317653823 |\n",
    " |   3    | 0.204316377117 | 0.37535708372  |\n",
    " |   4    | 0.163587457226 | 0.388614710937 |\n",
    " |   5    | 0.137039352461 | 0.398395700281"
   ]
  },
  {
   "cell_type": "code",
   "execution_count": 46,
   "metadata": {
    "collapsed": false
   },
   "outputs": [],
   "source": [
    "items_reduced_sorted = items_reduced.sort(\"RatingCount\", ascending=False)"
   ]
  },
  {
   "cell_type": "code",
   "execution_count": 211,
   "metadata": {
    "collapsed": false
   },
   "outputs": [
    {
     "data": {
      "text/plain": [
       "((153679,), (155796, 84))"
      ]
     },
     "execution_count": 211,
     "metadata": {},
     "output_type": "execute_result"
    }
   ],
   "source": [
    "df.DateLastEpisode.shape, d.shape"
   ]
  },
  {
   "cell_type": "code",
   "execution_count": 50,
   "metadata": {
    "collapsed": false
   },
   "outputs": [
    {
     "data": {
      "text/html": [
       "<pre>Getting similar items completed in 0.008762</pre>"
      ],
      "text/plain": [
       "Getting similar items completed in 0.008762"
      ]
     },
     "metadata": {},
     "output_type": "display_data"
    },
    {
     "data": {
      "text/html": [
       "<div style=\"max-height:1000px;max-width:1500px;overflow:auto;\"><table frame=\"box\" rules=\"cols\">\n",
       "    <tr>\n",
       "        <th style=\"padding-left: 1em; padding-right: 1em; text-align: center\">Title</th>\n",
       "        <th style=\"padding-left: 1em; padding-right: 1em; text-align: center\">similar</th>\n",
       "        <th style=\"padding-left: 1em; padding-right: 1em; text-align: center\">score</th>\n",
       "        <th style=\"padding-left: 1em; padding-right: 1em; text-align: center\">rank</th>\n",
       "    </tr>\n",
       "    <tr>\n",
       "        <td style=\"padding-left: 1em; padding-right: 1em; text-align: center; vertical-align: top\">Wait Wait... Don't Tell<br>Me! ...</td>\n",
       "        <td style=\"padding-left: 1em; padding-right: 1em; text-align: center; vertical-align: top\">Ask Me Another</td>\n",
       "        <td style=\"padding-left: 1em; padding-right: 1em; text-align: center; vertical-align: top\">0.1</td>\n",
       "        <td style=\"padding-left: 1em; padding-right: 1em; text-align: center; vertical-align: top\">1</td>\n",
       "    </tr>\n",
       "    <tr>\n",
       "        <td style=\"padding-left: 1em; padding-right: 1em; text-align: center; vertical-align: top\">Wait Wait... Don't Tell<br>Me! ...</td>\n",
       "        <td style=\"padding-left: 1em; padding-right: 1em; text-align: center; vertical-align: top\">On Point with Tom<br>Ashbrook ...</td>\n",
       "        <td style=\"padding-left: 1em; padding-right: 1em; text-align: center; vertical-align: top\">0.0769230769231</td>\n",
       "        <td style=\"padding-left: 1em; padding-right: 1em; text-align: center; vertical-align: top\">2</td>\n",
       "    </tr>\n",
       "    <tr>\n",
       "        <td style=\"padding-left: 1em; padding-right: 1em; text-align: center; vertical-align: top\">Wait Wait... Don't Tell<br>Me! ...</td>\n",
       "        <td style=\"padding-left: 1em; padding-right: 1em; text-align: center; vertical-align: top\">Speech Path Podcast</td>\n",
       "        <td style=\"padding-left: 1em; padding-right: 1em; text-align: center; vertical-align: top\">0.0571428571429</td>\n",
       "        <td style=\"padding-left: 1em; padding-right: 1em; text-align: center; vertical-align: top\">3</td>\n",
       "    </tr>\n",
       "    <tr>\n",
       "        <td style=\"padding-left: 1em; padding-right: 1em; text-align: center; vertical-align: top\">Wait Wait... Don't Tell<br>Me! ...</td>\n",
       "        <td style=\"padding-left: 1em; padding-right: 1em; text-align: center; vertical-align: top\">One of These Things</td>\n",
       "        <td style=\"padding-left: 1em; padding-right: 1em; text-align: center; vertical-align: top\">0.04</td>\n",
       "        <td style=\"padding-left: 1em; padding-right: 1em; text-align: center; vertical-align: top\">4</td>\n",
       "    </tr>\n",
       "    <tr>\n",
       "        <td style=\"padding-left: 1em; padding-right: 1em; text-align: center; vertical-align: top\">Wait Wait... Don't Tell<br>Me! ...</td>\n",
       "        <td style=\"padding-left: 1em; padding-right: 1em; text-align: center; vertical-align: top\">Seth Rogen and Evan<br>Goldberg: Meet the ...</td>\n",
       "        <td style=\"padding-left: 1em; padding-right: 1em; text-align: center; vertical-align: top\">0.0263157894737</td>\n",
       "        <td style=\"padding-left: 1em; padding-right: 1em; text-align: center; vertical-align: top\">5</td>\n",
       "    </tr>\n",
       "    <tr>\n",
       "        <td style=\"padding-left: 1em; padding-right: 1em; text-align: center; vertical-align: top\">Wait Wait... Don't Tell<br>Me! ...</td>\n",
       "        <td style=\"padding-left: 1em; padding-right: 1em; text-align: center; vertical-align: top\">Madcast Podcast</td>\n",
       "        <td style=\"padding-left: 1em; padding-right: 1em; text-align: center; vertical-align: top\">0.025641025641</td>\n",
       "        <td style=\"padding-left: 1em; padding-right: 1em; text-align: center; vertical-align: top\">6</td>\n",
       "    </tr>\n",
       "    <tr>\n",
       "        <td style=\"padding-left: 1em; padding-right: 1em; text-align: center; vertical-align: top\">Wait Wait... Don't Tell<br>Me! ...</td>\n",
       "        <td style=\"padding-left: 1em; padding-right: 1em; text-align: center; vertical-align: top\">The Splendid Table</td>\n",
       "        <td style=\"padding-left: 1em; padding-right: 1em; text-align: center; vertical-align: top\">0.025641025641</td>\n",
       "        <td style=\"padding-left: 1em; padding-right: 1em; text-align: center; vertical-align: top\">7</td>\n",
       "    </tr>\n",
       "    <tr>\n",
       "        <td style=\"padding-left: 1em; padding-right: 1em; text-align: center; vertical-align: top\">Wait Wait... Don't Tell<br>Me! ...</td>\n",
       "        <td style=\"padding-left: 1em; padding-right: 1em; text-align: center; vertical-align: top\">All Things Talk</td>\n",
       "        <td style=\"padding-left: 1em; padding-right: 1em; text-align: center; vertical-align: top\">0.025641025641</td>\n",
       "        <td style=\"padding-left: 1em; padding-right: 1em; text-align: center; vertical-align: top\">8</td>\n",
       "    </tr>\n",
       "    <tr>\n",
       "        <td style=\"padding-left: 1em; padding-right: 1em; text-align: center; vertical-align: top\">Wait Wait... Don't Tell<br>Me! ...</td>\n",
       "        <td style=\"padding-left: 1em; padding-right: 1em; text-align: center; vertical-align: top\">To Sense</td>\n",
       "        <td style=\"padding-left: 1em; padding-right: 1em; text-align: center; vertical-align: top\">0.0243902439024</td>\n",
       "        <td style=\"padding-left: 1em; padding-right: 1em; text-align: center; vertical-align: top\">9</td>\n",
       "    </tr>\n",
       "    <tr>\n",
       "        <td style=\"padding-left: 1em; padding-right: 1em; text-align: center; vertical-align: top\">Wait Wait... Don't Tell<br>Me! ...</td>\n",
       "        <td style=\"padding-left: 1em; padding-right: 1em; text-align: center; vertical-align: top\">Roleplay Tavern</td>\n",
       "        <td style=\"padding-left: 1em; padding-right: 1em; text-align: center; vertical-align: top\">0.0232558139535</td>\n",
       "        <td style=\"padding-left: 1em; padding-right: 1em; text-align: center; vertical-align: top\">10</td>\n",
       "    </tr>\n",
       "</table>\n",
       "[10 rows x 4 columns]<br/>\n",
       "</div>"
      ],
      "text/plain": [
       "Columns:\n",
       "\tTitle\tstr\n",
       "\tsimilar\tstr\n",
       "\tscore\tfloat\n",
       "\trank\tint\n",
       "\n",
       "Rows: 10\n",
       "\n",
       "Data:\n",
       "+-----------------------------+-------------------------------+-----------------+\n",
       "|            Title            |            similar            |      score      |\n",
       "+-----------------------------+-------------------------------+-----------------+\n",
       "| Wait Wait... Don't Tell Me! |         Ask Me Another        |       0.1       |\n",
       "| Wait Wait... Don't Tell Me! |   On Point with Tom Ashbrook  | 0.0769230769231 |\n",
       "| Wait Wait... Don't Tell Me! |      Speech Path Podcast      | 0.0571428571429 |\n",
       "| Wait Wait... Don't Tell Me! |      One of These Things      |       0.04      |\n",
       "| Wait Wait... Don't Tell Me! | Seth Rogen and Evan Goldbe... | 0.0263157894737 |\n",
       "| Wait Wait... Don't Tell Me! |        Madcast Podcast        |  0.025641025641 |\n",
       "| Wait Wait... Don't Tell Me! |       The Splendid Table      |  0.025641025641 |\n",
       "| Wait Wait... Don't Tell Me! |        All Things Talk        |  0.025641025641 |\n",
       "| Wait Wait... Don't Tell Me! |            To Sense           | 0.0243902439024 |\n",
       "| Wait Wait... Don't Tell Me! |        Roleplay Tavern        | 0.0232558139535 |\n",
       "+-----------------------------+-------------------------------+-----------------+\n",
       "+------+\n",
       "| rank |\n",
       "+------+\n",
       "|  1   |\n",
       "|  2   |\n",
       "|  3   |\n",
       "|  4   |\n",
       "|  5   |\n",
       "|  6   |\n",
       "|  7   |\n",
       "|  8   |\n",
       "|  9   |\n",
       "|  10  |\n",
       "+------+\n",
       "[10 rows x 4 columns]"
      ]
     },
     "execution_count": 50,
     "metadata": {},
     "output_type": "execute_result"
    }
   ],
   "source": [
    "arr = gl.SArray([\"Wait Wait... Don't Tell Me!\"])\n",
    "item_model.get_similar_items(arr, k=10)"
   ]
  },
  {
   "cell_type": "code",
   "execution_count": null,
   "metadata": {
    "collapsed": false
   },
   "outputs": [],
   "source": [
    "for col in items.column_names()[:-1]:\n",
    "    cols = ['Title']\n",
    "    cols.append(col)\n",
    "    item_model = gl.item_similarity_recommender.create(train_set, user_id=\"user_id\", \n",
    "                                                       item_id=\"Title\", item_data=items[cols], verbose=False)\n",
    "    results = item_model.evaluate_precision_recall(test_set, cutoffs=[1,2,3,4,5], verbose=False)\n",
    "    print \"*****\"\n",
    "    print results['precision_recall_overall']"
   ]
  },
  {
   "cell_type": "code",
   "execution_count": 26,
   "metadata": {
    "collapsed": false
   },
   "outputs": [
    {
     "data": {
      "text/html": [
       "<pre>Recsys training: model = item_similarity</pre>"
      ],
      "text/plain": [
       "Recsys training: model = item_similarity"
      ]
     },
     "metadata": {},
     "output_type": "display_data"
    },
    {
     "data": {
      "text/plain": [
       "{'precision_recall_by_user': Columns:\n",
       " \tuser_id\tstr\n",
       " \tcutoff\tint\n",
       " \tprecision\tfloat\n",
       " \trecall\tfloat\n",
       " \tcount\tint\n",
       " \n",
       " Rows: 607840\n",
       " \n",
       " Data:\n",
       " +----------+--------+----------------+--------+-------+\n",
       " | user_id  | cutoff |   precision    | recall | count |\n",
       " +----------+--------+----------------+--------+-------+\n",
       " |  user_0  |   1    |      1.0       |  1.0   |   1   |\n",
       " |  user_0  |   2    |      0.5       |  1.0   |   1   |\n",
       " |  user_0  |   3    | 0.333333333333 |  1.0   |   1   |\n",
       " |  user_0  |   4    |      0.25      |  1.0   |   1   |\n",
       " |  user_0  |   5    |      0.2       |  1.0   |   1   |\n",
       " | user_100 |   1    |      0.0       |  0.0   |   1   |\n",
       " | user_100 |   2    |      0.0       |  0.0   |   1   |\n",
       " | user_100 |   3    |      0.0       |  0.0   |   1   |\n",
       " | user_100 |   4    |      0.0       |  0.0   |   1   |\n",
       " | user_100 |   5    |      0.0       |  0.0   |   1   |\n",
       " +----------+--------+----------------+--------+-------+\n",
       " [607840 rows x 5 columns]\n",
       " Note: Only the head of the SFrame is printed.\n",
       " You can use print_rows(num_rows=m, num_columns=n) to print more rows and columns.,\n",
       " 'precision_recall_overall': Columns:\n",
       " \tcutoff\tint\n",
       " \tprecision\tfloat\n",
       " \trecall\tfloat\n",
       " \n",
       " Rows: 5\n",
       " \n",
       " Data:\n",
       " +--------+----------------+----------------+\n",
       " | cutoff |   precision    |     recall     |\n",
       " +--------+----------------+----------------+\n",
       " |   1    | 0.41031356936  | 0.294388081934 |\n",
       " |   2    | 0.274200447486 | 0.353317653823 |\n",
       " |   3    | 0.204316377117 | 0.37535708372  |\n",
       " |   4    | 0.163587457226 | 0.388614710937 |\n",
       " |   5    | 0.137039352461 | 0.398395700281 |\n",
       " +--------+----------------+----------------+\n",
       " [5 rows x 3 columns]}"
      ]
     },
     "execution_count": 26,
     "metadata": {},
     "output_type": "execute_result"
    }
   ],
   "source": [
    "item_model = gl.item_similarity_recommender.create(train_set, user_id=\"user_id\", \n",
    "                                                   item_id=\"Title\", item_data=items_reduced, verbose=False)\n",
    "item_model.evaluate_precision_recall(test_set, cutoffs=[1,2,3,4,5], verbose=False)"
   ]
  },
  {
   "cell_type": "code",
   "execution_count": null,
   "metadata": {
    "collapsed": false
   },
   "outputs": [],
   "source": [
    "iTunes_Summary = get_top_100(\"iTunesSummary\", df)"
   ]
  },
  {
   "cell_type": "code",
   "execution_count": null,
   "metadata": {
    "collapsed": false
   },
   "outputs": [],
   "source": [
    "item_model = gl.item_similarity_recommender.create(train_set, user_id=\"user_id\", \n",
    "                                                   item_id=\"Title\", item_data=new_cols_items_reduced, verbose=False)\n",
    "results = item_model.evaluate_precision_recall(test_set, cutoffs=[1,2,3,4,5], verbose=False)\n",
    "new_res = results['precision_recall_overall']"
   ]
  },
  {
   "cell_type": "code",
   "execution_count": null,
   "metadata": {
    "collapsed": false
   },
   "outputs": [],
   "source": [
    "item_model = gl.item_similarity_recommender.create(train_set, user_id=\"user_id\", \n",
    "                                                   item_id=\"Title\", verbose=False)\n",
    "results = item_model.evaluate_precision_recall(test_set, cutoffs=[1,2,3,4,5], verbose=False)\n",
    "orig_res = results['precision_recall_overall']"
   ]
  },
  {
   "cell_type": "code",
   "execution_count": null,
   "metadata": {
    "collapsed": false
   },
   "outputs": [],
   "source": [
    "temp_items =new_cols_items_reduced.copy()\n",
    "temp_items = temp_items.remove_column(\"Title\")"
   ]
  },
  {
   "cell_type": "code",
   "execution_count": null,
   "metadata": {
    "collapsed": false
   },
   "outputs": [],
   "source": [
    "#precision1 = precision.append('Title')\n",
    "item_model = gl.item_similarity_recommender.create(train_set, user_id=\"user_id\", \n",
    "                                                       item_id=\"Title\", item_data=new_cols_items_reduced[p],\n",
    "                                                       verbose=False)\n",
    "item_model.evaluate_precision_recall(test_set, cutoffs=[1,2,3,4,5], verbose=False)"
   ]
  },
  {
   "cell_type": "code",
   "execution_count": null,
   "metadata": {
    "collapsed": false
   },
   "outputs": [],
   "source": [
    "len(train_set['user_id'].unique())"
   ]
  },
  {
   "cell_type": "code",
   "execution_count": null,
   "metadata": {
    "collapsed": false
   },
   "outputs": [],
   "source": [
    "train_set.shape"
   ]
  },
  {
   "cell_type": "code",
   "execution_count": 12,
   "metadata": {
    "collapsed": false
   },
   "outputs": [
    {
     "data": {
      "image/png": "[encoded data removed]",
      "text/plain": [
       "<matplotlib.figure.Figure at 0x7f5da77fc590>"
      ]
     },
     "metadata": {},
     "output_type": "display_data"
    }
   ],
   "source": [
    "sf2 = remove_bots(sf)"
   ]
  },
  {
   "cell_type": "code",
   "execution_count": null,
   "metadata": {
    "collapsed": false
   },
   "outputs": [],
   "source": [
    "tr = pd.Series(sf['user_id'])\n",
    "podcasts = tr.value_counts()\n",
    "podcasts.hist(bins=200, title=\"main\")"
   ]
  },
  {
   "cell_type": "code",
   "execution_count": null,
   "metadata": {
    "collapsed": false
   },
   "outputs": [],
   "source": [
    "fig = plt.figure()\n",
    "plt.hist(podcasts, bins=200)\n",
    "plt.title(\"Twitter Followers\")\n",
    "plt.xlim(0,100)\n",
    "plt.xlabel(\"Podcasts\")\n",
    "plt.ylabel(\"Users\")\n",
    "plt.show()"
   ]
  },
  {
   "cell_type": "code",
   "execution_count": null,
   "metadata": {
    "collapsed": false
   },
   "outputs": [],
   "source": [
    "py.iplot_mpl(fig, strip_style = True, filename='data/TwitterFollowers')"
   ]
  },
  {
   "cell_type": "code",
   "execution_count": null,
   "metadata": {
    "collapsed": false
   },
   "outputs": [],
   "source": [
    "y = pd.Series(item_sim_mat['user_id']).value_counts()"
   ]
  },
  {
   "cell_type": "code",
   "execution_count": 11,
   "metadata": {
    "collapsed": false
   },
   "outputs": [],
   "source": [
    "def remove_bots(sf, flag=True):\n",
    "    tr = pd.Series(sf['user_id'])\n",
    "    podcasts = tr.value_counts()\n",
    "    if flag is True:\n",
    "        podcasts.hist(bins=200)\n",
    "    users_following100_lessPods = gl.SArray(podcasts.index[ podcasts <= 100].values)\n",
    "    return sf.filter_by(users_following100_lessPods, 'user_id')"
   ]
  },
  {
   "cell_type": "code",
   "execution_count": 13,
   "metadata": {
    "collapsed": false
   },
   "outputs": [],
   "source": [
    "no_bots = pd.Series(sf2['user_id'])"
   ]
  },
  {
   "cell_type": "code",
   "execution_count": 14,
   "metadata": {
    "collapsed": true
   },
   "outputs": [],
   "source": [
    "no_bots = no_bots.value_counts()"
   ]
  },
  {
   "cell_type": "code",
   "execution_count": 15,
   "metadata": {
    "collapsed": false
   },
   "outputs": [
    {
     "data": {
      "text/plain": [
       "count    199282.000000\n",
       "mean          5.328911\n",
       "std           5.813819\n",
       "min           3.000000\n",
       "25%           3.000000\n",
       "50%           4.000000\n",
       "75%           5.000000\n",
       "max         100.000000\n",
       "dtype: float64"
      ]
     },
     "execution_count": 15,
     "metadata": {},
     "output_type": "execute_result"
    }
   ],
   "source": [
    "no_bots.describe()"
   ]
  },
  {
   "cell_type": "code",
   "execution_count": 17,
   "metadata": {
    "collapsed": false
   },
   "outputs": [
    {
     "data": {
      "text/html": [
       "<pre>Recsys training: model = item_similarity</pre>"
      ],
      "text/plain": [
       "Recsys training: model = item_similarity"
      ]
     },
     "metadata": {},
     "output_type": "display_data"
    },
    {
     "data": {
      "text/plain": [
       "{'precision_recall_by_user': Columns:\n",
       " \tuser_id\tstr\n",
       " \tcutoff\tint\n",
       " \tprecision\tfloat\n",
       " \trecall\tfloat\n",
       " \tcount\tint\n",
       " \n",
       " Rows: 602930\n",
       " \n",
       " Data:\n",
       " +---------+--------+----------------+--------+-------+\n",
       " | user_id | cutoff |   precision    | recall | count |\n",
       " +---------+--------+----------------+--------+-------+\n",
       " |  user_0 |   1    |      1.0       |  1.0   |   1   |\n",
       " |  user_0 |   2    |      0.5       |  1.0   |   1   |\n",
       " |  user_0 |   3    | 0.333333333333 |  1.0   |   1   |\n",
       " |  user_0 |   4    |      0.25      |  1.0   |   1   |\n",
       " |  user_0 |   5    |      0.2       |  1.0   |   1   |\n",
       " | user_10 |   1    |      0.0       |  0.0   |   1   |\n",
       " | user_10 |   2    |      0.0       |  0.0   |   1   |\n",
       " | user_10 |   3    |      0.0       |  0.0   |   1   |\n",
       " | user_10 |   4    |      0.0       |  0.0   |   1   |\n",
       " | user_10 |   5    |      0.2       |  1.0   |   1   |\n",
       " +---------+--------+----------------+--------+-------+\n",
       " [602930 rows x 5 columns]\n",
       " Note: Only the head of the SFrame is printed.\n",
       " You can use print_rows(num_rows=m, num_columns=n) to print more rows and columns.,\n",
       " 'precision_recall_overall': Columns:\n",
       " \tcutoff\tint\n",
       " \tprecision\tfloat\n",
       " \trecall\tfloat\n",
       " \n",
       " Rows: 5\n",
       " \n",
       " Data:\n",
       " +--------+----------------+----------------+\n",
       " | cutoff |   precision    |     recall     |\n",
       " +--------+----------------+----------------+\n",
       " |   1    | 0.409375881114 | 0.296451269988 |\n",
       " |   2    | 0.271976017116 | 0.355691085843 |\n",
       " |   3    | 0.201875286794 | 0.378739548183 |\n",
       " |   4    | 0.161075912627 | 0.392539963899 |\n",
       " |   5    | 0.134400344982 | 0.402740070319 |\n",
       " +--------+----------------+----------------+\n",
       " [5 rows x 3 columns]}"
      ]
     },
     "execution_count": 17,
     "metadata": {},
     "output_type": "execute_result"
    }
   ],
   "source": [
    "item_model = gl.item_similarity_recommender.create(train_set_2, user_id=\"user_id\", \n",
    "                                                   item_id=\"Title\", item_data=items, verbose=False)\n",
    "item_model.evaluate_precision_recall(test_set_2, cutoffs=[1,2,3,4,5], verbose=False)"
   ]
  },
  {
   "cell_type": "code",
   "execution_count": null,
   "metadata": {
    "collapsed": false
   },
   "outputs": [],
   "source": [
    "new_cols_items_reduced_5min = df_final[ df_final['Title'].isin(sf2['Title'])]\n",
    "new_cols_items_reduced_5min.shape"
   ]
  },
  {
   "cell_type": "code",
   "execution_count": null,
   "metadata": {
    "collapsed": false
   },
   "outputs": [],
   "source": [
    "reduced_podcast = new_cols_items_reduced_5min['Title'].unique()\n",
    "check = pd.Series(sf2['Title']).unique()\n",
    "len(check), len(reduced_podcast)"
   ]
  },
  {
   "cell_type": "code",
   "execution_count": null,
   "metadata": {
    "collapsed": false
   },
   "outputs": [],
   "source": [
    "sf3_reduced = sf2.filter_by(reduced_podcast, 'Title')"
   ]
  },
  {
   "cell_type": "code",
   "execution_count": null,
   "metadata": {
    "collapsed": true
   },
   "outputs": [],
   "source": [
    "(train_set_3, test_set_3) = sf3_reduced.random_split(0.8, seed=1)"
   ]
  },
  {
   "cell_type": "code",
   "execution_count": null,
   "metadata": {
    "collapsed": false
   },
   "outputs": [],
   "source": [
    "new_cols_items_reduced_5min = gl.SFrame(new_cols_items_reduced_5min)"
   ]
  },
  {
   "cell_type": "markdown",
   "metadata": {},
   "source": [
    "### Q\n",
    "    see if the recall/precision is due to podcasts not being in the data set. Reduced the podcasts to only be present in both the items and user info. \n",
    "    \n",
    "### A\n",
    "    made the precision worse!"
   ]
  },
  {
   "cell_type": "code",
   "execution_count": null,
   "metadata": {
    "collapsed": false
   },
   "outputs": [],
   "source": [
    "item_model = gl.item_similarity_recommender.create(train_set_3, user_id=\"user_id\", \n",
    "                                                   item_id=\"Title\", item_data=new_cols_items_reduced_5min, \n",
    "                                                   verbose=False)\n",
    "item_model.evaluate_precision_recall(test_set_3, cutoffs=[1,2,3,4,5], verbose=False)"
   ]
  },
  {
   "cell_type": "code",
   "execution_count": null,
   "metadata": {
    "collapsed": false
   },
   "outputs": [],
   "source": [
    "item_model = gl.item_similarity_recommender.create(train_set_2, user_id=\"user_id\", \n",
    "                                                   item_id=\"Title\", item_data=new_cols_items_reduced[r], verbose=False)\n",
    "item_model.evaluate_precision_recall(test_set_2, cutoffs=[1,2,3,4,5], verbose=False)"
   ]
  },
  {
   "cell_type": "code",
   "execution_count": null,
   "metadata": {
    "collapsed": false
   },
   "outputs": [],
   "source": [
    "p = [ x for x in precision]\n",
    "#item_data=new_cols_items_reduced[precision]"
   ]
  },
  {
   "cell_type": "code",
   "execution_count": null,
   "metadata": {
    "collapsed": false
   },
   "outputs": [],
   "source": [
    "precision = precision[:-1]"
   ]
  },
  {
   "cell_type": "code",
   "execution_count": null,
   "metadata": {
    "collapsed": false
   },
   "outputs": [],
   "source": [
    "r = [ r for r in recall]"
   ]
  },
  {
   "cell_type": "code",
   "execution_count": null,
   "metadata": {
    "collapsed": true
   },
   "outputs": [],
   "source": [
    "r.extend(precision)"
   ]
  },
  {
   "cell_type": "code",
   "execution_count": null,
   "metadata": {
    "collapsed": false
   },
   "outputs": [],
   "source": [
    "keep = cats.columns.tolist() + p"
   ]
  },
  {
   "cell_type": "code",
   "execution_count": null,
   "metadata": {
    "collapsed": true
   },
   "outputs": [],
   "source": [
    "df_final_cats = pd.concat([df_final, cats],axis=1)"
   ]
  },
  {
   "cell_type": "code",
   "execution_count": null,
   "metadata": {
    "collapsed": false
   },
   "outputs": [],
   "source": [
    "items_reduced_with_categories = df_final_cats[ df_final_cats.Title.isin(unique_pod)]\n",
    "items_reduced_with_categories = gl.SFrame(items_reduced_with_categories)"
   ]
  },
  {
   "cell_type": "code",
   "execution_count": null,
   "metadata": {
    "collapsed": false
   },
   "outputs": [],
   "source": [
    "item_model = gl.item_similarity_recommender.create(train_set_2, user_id=\"user_id\", \n",
    "                                                   item_id=\"Title\", item_data=items_reduced_with_categories[keep], verbose=False)\n",
    "item_model.evaluate_precision_recall(test_set_2, cutoffs=[1,2,3,4,5], verbose=False)"
   ]
  },
  {
   "cell_type": "code",
   "execution_count": null,
   "metadata": {
    "collapsed": false
   },
   "outputs": [],
   "source": [
    "keep = np.array(keep)"
   ]
  },
  {
   "cell_type": "code",
   "execution_count": null,
   "metadata": {
    "collapsed": false
   },
   "outputs": [],
   "source": [
    "keep = keep[np.where(keep!=\"<null>\")]"
   ]
  }
 ],
 "metadata": {
  "hide_input": false,
  "kernelspec": {
   "display_name": "Python 2",
   "language": "python",
   "name": "python2"
  },
  "language_info": {
   "codemirror_mode": {
    "name": "ipython",
    "version": 2
   },
   "file_extension": ".py",
   "mimetype": "text/x-python",
   "name": "python",
   "nbconvert_exporter": "python",
   "pygments_lexer": "ipython2",
   "version": "2.7.11"
  }
 },
 "nbformat": 4,
 "nbformat_minor": 0
}
