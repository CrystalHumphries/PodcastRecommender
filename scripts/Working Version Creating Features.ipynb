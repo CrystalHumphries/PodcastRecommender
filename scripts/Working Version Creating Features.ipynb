{
 "cells": [
  {
   "cell_type": "code",
   "execution_count": 1,
   "metadata": {
    "collapsed": false
   },
   "outputs": [
    {
     "name": "stderr",
     "output_type": "stream",
     "text": [
      "2016-04-21 22:22:51,533 [INFO] graphlab.cython.cy_server, 176: GraphLab Create v1.8.5 started. Logging: /tmp/graphlab_server_1461277370.log\n"
     ]
    },
    {
     "name": "stdout",
     "output_type": "stream",
     "text": [
      "This non-commercial license of GraphLab Create is assigned to crystal.humphries@systemsbiology.org and will expire on November 04, 2016. For commercial licensing options, visit https://dato.com/buy/.\n"
     ]
    }
   ],
   "source": [
    "import graphlab as gl\n",
    "gl.canvas.set_target('ipynb')\n",
    "import matplotlib.pyplot as plt\n",
    "from PodcastFeatureEngineering import Podcast_Features\n",
    "%matplotlib inline\n",
    "import numpy as np\n",
    "from sklearn.feature_extraction.text import TfidfVectorizer\n",
    "import pandas as pd\n",
    "import imp\n",
    "import os\n",
    "from collections import Counter"
   ]
  },
  {
   "cell_type": "code",
   "execution_count": 2,
   "metadata": {
    "collapsed": false
   },
   "outputs": [],
   "source": [
    "loc = os.path.join('/home/ubuntu/PodcastRecommender/', \"src/twitter_followers_list.py\")\n",
    "tweets = imp.load_source('get_twitter_followers', loc)\n",
    "tweets = tweets.get_twitter_followers()\n",
    "tweets.get_overlapping_users(Num=3)\n",
    "item_sim_mat = tweets.Item_sim_matrix(max_num=20000)"
   ]
  },
  {
   "cell_type": "code",
   "execution_count": 3,
   "metadata": {
    "collapsed": false
   },
   "outputs": [],
   "source": [
    "sf = gl.SFrame(item_sim_mat)"
   ]
  },
  {
   "cell_type": "code",
   "execution_count": 6,
   "metadata": {
    "collapsed": false
   },
   "outputs": [],
   "source": [
    "(train_set, test_set) = sf.random_split(0.8, seed=1)"
   ]
  },
  {
   "cell_type": "code",
   "execution_count": 5,
   "metadata": {
    "collapsed": false
   },
   "outputs": [
    {
     "name": "stderr",
     "output_type": "stream",
     "text": [
      "/home/ubuntu/anaconda2/lib/python2.7/site-packages/IPython/core/interactiveshell.py:3066: DtypeWarning: Columns (14,15,17) have mixed types. Specify dtype option on import or set low_memory=False.\n",
      "  exec(code_obj, self.user_global_ns, self.user_ns)\n",
      "clean_podcast_csv.py:24: FutureWarning: the coerce=True keyword is deprecated, use errors='coerce' instead\n",
      "  self.df['DateFirstEpisode'] = self.df.DateFirstEpisode.apply(lambda x: pd.to_datetime(str(x), coerce=True))\n"
     ]
    },
    {
     "name": "stdout",
     "output_type": "stream",
     "text": [
      "Creating Tf-idf\n"
     ]
    },
    {
     "name": "stderr",
     "output_type": "stream",
     "text": [
      "clean_podcast_csv.py:25: FutureWarning: the coerce=True keyword is deprecated, use errors='coerce' instead\n",
      "  self.df['DateLastEpisode']  = self.df.DateLastEpisode.apply(lambda x: pd.to_datetime(str(x), coerce=True))\n"
     ]
    }
   ],
   "source": [
    "PF = Podcast_Features()\n",
    "df = PF.cleaned_df"
   ]
  },
  {
   "cell_type": "code",
   "execution_count": 7,
   "metadata": {
    "collapsed": false
   },
   "outputs": [],
   "source": [
    "items = gl.load_sframe(\"../data/items_podcast_sframe.gl/\")"
   ]
  },
  {
   "cell_type": "code",
   "execution_count": null,
   "metadata": {
    "collapsed": false
   },
   "outputs": [],
   "source": [
    "train_set.head(2)"
   ]
  },
  {
   "cell_type": "code",
   "execution_count": null,
   "metadata": {
    "collapsed": false
   },
   "outputs": [],
   "source": [
    "items.head(2)"
   ]
  },
  {
   "cell_type": "code",
   "execution_count": 8,
   "metadata": {
    "collapsed": false
   },
   "outputs": [
    {
     "data": {
      "text/html": [
       "<pre>Recsys training: model = item_similarity</pre>"
      ],
      "text/plain": [
       "Recsys training: model = item_similarity"
      ]
     },
     "metadata": {},
     "output_type": "display_data"
    },
    {
     "data": {
      "text/plain": [
       "{'precision_recall_by_user': Columns:\n",
       " \tuser_id\tstr\n",
       " \tcutoff\tint\n",
       " \tprecision\tfloat\n",
       " \trecall\tfloat\n",
       " \tcount\tint\n",
       " \n",
       " Rows: 607840\n",
       " \n",
       " Data:\n",
       " +----------+--------+----------------+--------+-------+\n",
       " | user_id  | cutoff |   precision    | recall | count |\n",
       " +----------+--------+----------------+--------+-------+\n",
       " |  user_0  |   1    |      1.0       |  1.0   |   1   |\n",
       " |  user_0  |   2    |      0.5       |  1.0   |   1   |\n",
       " |  user_0  |   3    | 0.333333333333 |  1.0   |   1   |\n",
       " |  user_0  |   4    |      0.25      |  1.0   |   1   |\n",
       " |  user_0  |   5    |      0.2       |  1.0   |   1   |\n",
       " | user_100 |   1    |      0.0       |  0.0   |   1   |\n",
       " | user_100 |   2    |      0.0       |  0.0   |   1   |\n",
       " | user_100 |   3    |      0.0       |  0.0   |   1   |\n",
       " | user_100 |   4    |      0.0       |  0.0   |   1   |\n",
       " | user_100 |   5    |      0.0       |  0.0   |   1   |\n",
       " +----------+--------+----------------+--------+-------+\n",
       " [607840 rows x 5 columns]\n",
       " Note: Only the head of the SFrame is printed.\n",
       " You can use print_rows(num_rows=m, num_columns=n) to print more rows and columns.,\n",
       " 'precision_recall_overall': Columns:\n",
       " \tcutoff\tint\n",
       " \tprecision\tfloat\n",
       " \trecall\tfloat\n",
       " \n",
       " Rows: 5\n",
       " \n",
       " Data:\n",
       " +--------+----------------+----------------+\n",
       " | cutoff |   precision    |     recall     |\n",
       " +--------+----------------+----------------+\n",
       " |   1    | 0.410000987102 | 0.294310976423 |\n",
       " |   2    | 0.274101737299 | 0.353373088049 |\n",
       " |   3    | 0.204206699131 | 0.375421906115 |\n",
       " |   4    | 0.163492859963 | 0.388643418997 |\n",
       " |   5    | 0.136906093709 | 0.398280792737 |\n",
       " +--------+----------------+----------------+\n",
       " [5 rows x 3 columns]}"
      ]
     },
     "execution_count": 8,
     "metadata": {},
     "output_type": "execute_result"
    }
   ],
   "source": [
    "item_model = gl.item_similarity_recommender.create(train_set, user_id=\"user_id\", \n",
    "                                                   item_id=\"Title\", item_data=items, verbose=False)\n",
    "item_model.evaluate_precision_recall(test_set, cutoffs=[1,2,3,4,5], verbose=False)"
   ]
  },
  {
   "cell_type": "code",
   "execution_count": null,
   "metadata": {
    "collapsed": true
   },
   "outputs": [],
   "source": [
    " 0.409375881114 | 0.296451269988 |\n",
    " |   2    | 0.271976017116 | 0.355691085843 |\n",
    " |   3    | 0.201875286794 | 0.378739548183 |\n",
    " |   4    | 0.161075912627 | 0.392539963899 |\n",
    " |   5    | 0.134400344982\n",
    "    \n",
    " 0.41031356936  | 0.294388081934 |\n",
    " |   2    | 0.274200447486 | 0.353317653823 |\n",
    " |   3    | 0.204316377117 | 0.37535708372  |\n",
    " |   4    | 0.163587457226 | 0.388614710937 |\n",
    " |   5    | 0.137039352461 | 0.398395700281"
   ]
  },
  {
   "cell_type": "code",
   "execution_count": 18,
   "metadata": {
    "collapsed": false
   },
   "outputs": [
    {
     "data": {
      "text/plain": [
       "(16343, 5)"
      ]
     },
     "execution_count": 18,
     "metadata": {},
     "output_type": "execute_result"
    }
   ],
   "source": [
    "items.shape"
   ]
  },
  {
   "cell_type": "code",
   "execution_count": 20,
   "metadata": {
    "collapsed": false
   },
   "outputs": [],
   "source": [
    "dates=[]\n",
    "for a,b in  zip(PF.df.DateLastEpisode, PF.df.DateFirstEpisode):\n",
    "    try:\n",
    "        new = (a-b).days\n",
    "    except:\n",
    "        new = 'NaT'\n",
    "    dates.append(new)\n",
    "dates = np.array(dates)"
   ]
  },
  {
   "cell_type": "code",
   "execution_count": 46,
   "metadata": {
    "collapsed": false
   },
   "outputs": [],
   "source": [
    "items_reduced_sorted = items_reduced.sort(\"RatingCount\", ascending=False)"
   ]
  },
  {
   "cell_type": "code",
   "execution_count": 49,
   "metadata": {
    "collapsed": false
   },
   "outputs": [],
   "source": [
    "#items_reduced_sorted['Title']"
   ]
  },
  {
   "cell_type": "code",
   "execution_count": 51,
   "metadata": {
    "collapsed": false
   },
   "outputs": [
    {
     "data": {
      "text/plain": [
       "0"
      ]
     },
     "execution_count": 51,
     "metadata": {},
     "output_type": "execute_result"
    }
   ],
   "source": [
    "sum(df.Title==\"Serial\")"
   ]
  },
  {
   "cell_type": "code",
   "execution_count": 50,
   "metadata": {
    "collapsed": false
   },
   "outputs": [
    {
     "data": {
      "text/html": [
       "<pre>Getting similar items completed in 0.008762</pre>"
      ],
      "text/plain": [
       "Getting similar items completed in 0.008762"
      ]
     },
     "metadata": {},
     "output_type": "display_data"
    },
    {
     "data": {
      "text/html": [
       "<div style=\"max-height:1000px;max-width:1500px;overflow:auto;\"><table frame=\"box\" rules=\"cols\">\n",
       "    <tr>\n",
       "        <th style=\"padding-left: 1em; padding-right: 1em; text-align: center\">Title</th>\n",
       "        <th style=\"padding-left: 1em; padding-right: 1em; text-align: center\">similar</th>\n",
       "        <th style=\"padding-left: 1em; padding-right: 1em; text-align: center\">score</th>\n",
       "        <th style=\"padding-left: 1em; padding-right: 1em; text-align: center\">rank</th>\n",
       "    </tr>\n",
       "    <tr>\n",
       "        <td style=\"padding-left: 1em; padding-right: 1em; text-align: center; vertical-align: top\">Wait Wait... Don't Tell<br>Me! ...</td>\n",
       "        <td style=\"padding-left: 1em; padding-right: 1em; text-align: center; vertical-align: top\">Ask Me Another</td>\n",
       "        <td style=\"padding-left: 1em; padding-right: 1em; text-align: center; vertical-align: top\">0.1</td>\n",
       "        <td style=\"padding-left: 1em; padding-right: 1em; text-align: center; vertical-align: top\">1</td>\n",
       "    </tr>\n",
       "    <tr>\n",
       "        <td style=\"padding-left: 1em; padding-right: 1em; text-align: center; vertical-align: top\">Wait Wait... Don't Tell<br>Me! ...</td>\n",
       "        <td style=\"padding-left: 1em; padding-right: 1em; text-align: center; vertical-align: top\">On Point with Tom<br>Ashbrook ...</td>\n",
       "        <td style=\"padding-left: 1em; padding-right: 1em; text-align: center; vertical-align: top\">0.0769230769231</td>\n",
       "        <td style=\"padding-left: 1em; padding-right: 1em; text-align: center; vertical-align: top\">2</td>\n",
       "    </tr>\n",
       "    <tr>\n",
       "        <td style=\"padding-left: 1em; padding-right: 1em; text-align: center; vertical-align: top\">Wait Wait... Don't Tell<br>Me! ...</td>\n",
       "        <td style=\"padding-left: 1em; padding-right: 1em; text-align: center; vertical-align: top\">Speech Path Podcast</td>\n",
       "        <td style=\"padding-left: 1em; padding-right: 1em; text-align: center; vertical-align: top\">0.0571428571429</td>\n",
       "        <td style=\"padding-left: 1em; padding-right: 1em; text-align: center; vertical-align: top\">3</td>\n",
       "    </tr>\n",
       "    <tr>\n",
       "        <td style=\"padding-left: 1em; padding-right: 1em; text-align: center; vertical-align: top\">Wait Wait... Don't Tell<br>Me! ...</td>\n",
       "        <td style=\"padding-left: 1em; padding-right: 1em; text-align: center; vertical-align: top\">One of These Things</td>\n",
       "        <td style=\"padding-left: 1em; padding-right: 1em; text-align: center; vertical-align: top\">0.04</td>\n",
       "        <td style=\"padding-left: 1em; padding-right: 1em; text-align: center; vertical-align: top\">4</td>\n",
       "    </tr>\n",
       "    <tr>\n",
       "        <td style=\"padding-left: 1em; padding-right: 1em; text-align: center; vertical-align: top\">Wait Wait... Don't Tell<br>Me! ...</td>\n",
       "        <td style=\"padding-left: 1em; padding-right: 1em; text-align: center; vertical-align: top\">Seth Rogen and Evan<br>Goldberg: Meet the ...</td>\n",
       "        <td style=\"padding-left: 1em; padding-right: 1em; text-align: center; vertical-align: top\">0.0263157894737</td>\n",
       "        <td style=\"padding-left: 1em; padding-right: 1em; text-align: center; vertical-align: top\">5</td>\n",
       "    </tr>\n",
       "    <tr>\n",
       "        <td style=\"padding-left: 1em; padding-right: 1em; text-align: center; vertical-align: top\">Wait Wait... Don't Tell<br>Me! ...</td>\n",
       "        <td style=\"padding-left: 1em; padding-right: 1em; text-align: center; vertical-align: top\">Madcast Podcast</td>\n",
       "        <td style=\"padding-left: 1em; padding-right: 1em; text-align: center; vertical-align: top\">0.025641025641</td>\n",
       "        <td style=\"padding-left: 1em; padding-right: 1em; text-align: center; vertical-align: top\">6</td>\n",
       "    </tr>\n",
       "    <tr>\n",
       "        <td style=\"padding-left: 1em; padding-right: 1em; text-align: center; vertical-align: top\">Wait Wait... Don't Tell<br>Me! ...</td>\n",
       "        <td style=\"padding-left: 1em; padding-right: 1em; text-align: center; vertical-align: top\">The Splendid Table</td>\n",
       "        <td style=\"padding-left: 1em; padding-right: 1em; text-align: center; vertical-align: top\">0.025641025641</td>\n",
       "        <td style=\"padding-left: 1em; padding-right: 1em; text-align: center; vertical-align: top\">7</td>\n",
       "    </tr>\n",
       "    <tr>\n",
       "        <td style=\"padding-left: 1em; padding-right: 1em; text-align: center; vertical-align: top\">Wait Wait... Don't Tell<br>Me! ...</td>\n",
       "        <td style=\"padding-left: 1em; padding-right: 1em; text-align: center; vertical-align: top\">All Things Talk</td>\n",
       "        <td style=\"padding-left: 1em; padding-right: 1em; text-align: center; vertical-align: top\">0.025641025641</td>\n",
       "        <td style=\"padding-left: 1em; padding-right: 1em; text-align: center; vertical-align: top\">8</td>\n",
       "    </tr>\n",
       "    <tr>\n",
       "        <td style=\"padding-left: 1em; padding-right: 1em; text-align: center; vertical-align: top\">Wait Wait... Don't Tell<br>Me! ...</td>\n",
       "        <td style=\"padding-left: 1em; padding-right: 1em; text-align: center; vertical-align: top\">To Sense</td>\n",
       "        <td style=\"padding-left: 1em; padding-right: 1em; text-align: center; vertical-align: top\">0.0243902439024</td>\n",
       "        <td style=\"padding-left: 1em; padding-right: 1em; text-align: center; vertical-align: top\">9</td>\n",
       "    </tr>\n",
       "    <tr>\n",
       "        <td style=\"padding-left: 1em; padding-right: 1em; text-align: center; vertical-align: top\">Wait Wait... Don't Tell<br>Me! ...</td>\n",
       "        <td style=\"padding-left: 1em; padding-right: 1em; text-align: center; vertical-align: top\">Roleplay Tavern</td>\n",
       "        <td style=\"padding-left: 1em; padding-right: 1em; text-align: center; vertical-align: top\">0.0232558139535</td>\n",
       "        <td style=\"padding-left: 1em; padding-right: 1em; text-align: center; vertical-align: top\">10</td>\n",
       "    </tr>\n",
       "</table>\n",
       "[10 rows x 4 columns]<br/>\n",
       "</div>"
      ],
      "text/plain": [
       "Columns:\n",
       "\tTitle\tstr\n",
       "\tsimilar\tstr\n",
       "\tscore\tfloat\n",
       "\trank\tint\n",
       "\n",
       "Rows: 10\n",
       "\n",
       "Data:\n",
       "+-----------------------------+-------------------------------+-----------------+\n",
       "|            Title            |            similar            |      score      |\n",
       "+-----------------------------+-------------------------------+-----------------+\n",
       "| Wait Wait... Don't Tell Me! |         Ask Me Another        |       0.1       |\n",
       "| Wait Wait... Don't Tell Me! |   On Point with Tom Ashbrook  | 0.0769230769231 |\n",
       "| Wait Wait... Don't Tell Me! |      Speech Path Podcast      | 0.0571428571429 |\n",
       "| Wait Wait... Don't Tell Me! |      One of These Things      |       0.04      |\n",
       "| Wait Wait... Don't Tell Me! | Seth Rogen and Evan Goldbe... | 0.0263157894737 |\n",
       "| Wait Wait... Don't Tell Me! |        Madcast Podcast        |  0.025641025641 |\n",
       "| Wait Wait... Don't Tell Me! |       The Splendid Table      |  0.025641025641 |\n",
       "| Wait Wait... Don't Tell Me! |        All Things Talk        |  0.025641025641 |\n",
       "| Wait Wait... Don't Tell Me! |            To Sense           | 0.0243902439024 |\n",
       "| Wait Wait... Don't Tell Me! |        Roleplay Tavern        | 0.0232558139535 |\n",
       "+-----------------------------+-------------------------------+-----------------+\n",
       "+------+\n",
       "| rank |\n",
       "+------+\n",
       "|  1   |\n",
       "|  2   |\n",
       "|  3   |\n",
       "|  4   |\n",
       "|  5   |\n",
       "|  6   |\n",
       "|  7   |\n",
       "|  8   |\n",
       "|  9   |\n",
       "|  10  |\n",
       "+------+\n",
       "[10 rows x 4 columns]"
      ]
     },
     "execution_count": 50,
     "metadata": {},
     "output_type": "execute_result"
    }
   ],
   "source": [
    "arr = gl.SArray([\"Wait Wait... Don't Tell Me!\"])\n",
    "item_model.get_similar_items(arr, k=10)"
   ]
  },
  {
   "cell_type": "code",
   "execution_count": null,
   "metadata": {
    "collapsed": false
   },
   "outputs": [],
   "source": [
    "for col in items.column_names()[:-1]:\n",
    "    cols = ['Title']\n",
    "    cols.append(col)\n",
    "    item_model = gl.item_similarity_recommender.create(train_set, user_id=\"user_id\", \n",
    "                                                       item_id=\"Title\", item_data=items[cols], verbose=False)\n",
    "    results = item_model.evaluate_precision_recall(test_set, cutoffs=[1,2,3,4,5], verbose=False)\n",
    "    print \"*****\"\n",
    "    print results['precision_recall_overall']"
   ]
  },
  {
   "cell_type": "code",
   "execution_count": 21,
   "metadata": {
    "collapsed": false
   },
   "outputs": [],
   "source": [
    "g = df.columns.to_series().groupby(df.dtypes).groups\n",
    "c = g.keys()\n",
    "df2 = df.drop(g[c[0]], axis=1)\n",
    "df2 = df2.drop(g[c[1]], axis=1)"
   ]
  },
  {
   "cell_type": "code",
   "execution_count": 22,
   "metadata": {
    "collapsed": false
   },
   "outputs": [],
   "source": [
    "df2['Title'] = df.Title\n",
    "df2['dates'] = dates"
   ]
  },
  {
   "cell_type": "code",
   "execution_count": 10,
   "metadata": {
    "collapsed": false
   },
   "outputs": [],
   "source": [
    "def get_top_100(col, df):\n",
    "    tfidf = TfidfVectorizer( max_features=100, stop_words='english')\n",
    "    X = tfidf.fit_transform(df[col])\n",
    "    return pd.DataFrame(X.toarray(),\n",
    "                        columns=pd.Series(tfidf.get_feature_names()))"
   ]
  },
  {
   "cell_type": "code",
   "execution_count": 24,
   "metadata": {
    "collapsed": false
   },
   "outputs": [],
   "source": [
    "unique_pod = item_sim_mat.Title.unique()"
   ]
  },
  {
   "cell_type": "code",
   "execution_count": 25,
   "metadata": {
    "collapsed": false
   },
   "outputs": [
    {
     "name": "stdout",
     "output_type": "stream",
     "text": [
      "(29904, 6)\n"
     ]
    }
   ],
   "source": [
    "df_reduced = df2[ df2.Title.isin(unique_pod)]\n",
    "print df_reduced.shape\n",
    "items_reduced = gl.SFrame(df_reduced)"
   ]
  },
  {
   "cell_type": "code",
   "execution_count": null,
   "metadata": {
    "collapsed": false
   },
   "outputs": [],
   "source": [
    "items_reduced.head()"
   ]
  },
  {
   "cell_type": "code",
   "execution_count": 26,
   "metadata": {
    "collapsed": false
   },
   "outputs": [
    {
     "data": {
      "text/html": [
       "<pre>Recsys training: model = item_similarity</pre>"
      ],
      "text/plain": [
       "Recsys training: model = item_similarity"
      ]
     },
     "metadata": {},
     "output_type": "display_data"
    },
    {
     "data": {
      "text/plain": [
       "{'precision_recall_by_user': Columns:\n",
       " \tuser_id\tstr\n",
       " \tcutoff\tint\n",
       " \tprecision\tfloat\n",
       " \trecall\tfloat\n",
       " \tcount\tint\n",
       " \n",
       " Rows: 607840\n",
       " \n",
       " Data:\n",
       " +----------+--------+----------------+--------+-------+\n",
       " | user_id  | cutoff |   precision    | recall | count |\n",
       " +----------+--------+----------------+--------+-------+\n",
       " |  user_0  |   1    |      1.0       |  1.0   |   1   |\n",
       " |  user_0  |   2    |      0.5       |  1.0   |   1   |\n",
       " |  user_0  |   3    | 0.333333333333 |  1.0   |   1   |\n",
       " |  user_0  |   4    |      0.25      |  1.0   |   1   |\n",
       " |  user_0  |   5    |      0.2       |  1.0   |   1   |\n",
       " | user_100 |   1    |      0.0       |  0.0   |   1   |\n",
       " | user_100 |   2    |      0.0       |  0.0   |   1   |\n",
       " | user_100 |   3    |      0.0       |  0.0   |   1   |\n",
       " | user_100 |   4    |      0.0       |  0.0   |   1   |\n",
       " | user_100 |   5    |      0.0       |  0.0   |   1   |\n",
       " +----------+--------+----------------+--------+-------+\n",
       " [607840 rows x 5 columns]\n",
       " Note: Only the head of the SFrame is printed.\n",
       " You can use print_rows(num_rows=m, num_columns=n) to print more rows and columns.,\n",
       " 'precision_recall_overall': Columns:\n",
       " \tcutoff\tint\n",
       " \tprecision\tfloat\n",
       " \trecall\tfloat\n",
       " \n",
       " Rows: 5\n",
       " \n",
       " Data:\n",
       " +--------+----------------+----------------+\n",
       " | cutoff |   precision    |     recall     |\n",
       " +--------+----------------+----------------+\n",
       " |   1    | 0.41031356936  | 0.294388081934 |\n",
       " |   2    | 0.274200447486 | 0.353317653823 |\n",
       " |   3    | 0.204316377117 | 0.37535708372  |\n",
       " |   4    | 0.163587457226 | 0.388614710937 |\n",
       " |   5    | 0.137039352461 | 0.398395700281 |\n",
       " +--------+----------------+----------------+\n",
       " [5 rows x 3 columns]}"
      ]
     },
     "execution_count": 26,
     "metadata": {},
     "output_type": "execute_result"
    }
   ],
   "source": [
    "item_model = gl.item_similarity_recommender.create(train_set, user_id=\"user_id\", \n",
    "                                                   item_id=\"Title\", item_data=items_reduced, verbose=False)\n",
    "item_model.evaluate_precision_recall(test_set, cutoffs=[1,2,3,4,5], verbose=False)"
   ]
  },
  {
   "cell_type": "code",
   "execution_count": null,
   "metadata": {
    "collapsed": false
   },
   "outputs": [],
   "source": [
    "iTunes_Summary = get_top_100(\"iTunesSummary\", df)"
   ]
  },
  {
   "cell_type": "code",
   "execution_count": null,
   "metadata": {
    "collapsed": false
   },
   "outputs": [],
   "source": [
    "df3 = items_reduced.to_dataframe()"
   ]
  },
  {
   "cell_type": "code",
   "execution_count": null,
   "metadata": {
    "collapsed": false
   },
   "outputs": [],
   "source": [
    "df3['dates'] = df3['dates'].apply(lambda x: -1 if x=='NaT' else x)\n",
    "df3['dates'] = df3['dates'].astype('int')"
   ]
  },
  {
   "cell_type": "code",
   "execution_count": null,
   "metadata": {
    "collapsed": false
   },
   "outputs": [],
   "source": [
    "for col in ['iTunesSummary', 'iTunesKeywords', 'Category']:\n",
    "    y = get_top_100(col, df)\n",
    "    df3 = pd.concat([df3, y], axis=1)"
   ]
  },
  {
   "cell_type": "code",
   "execution_count": null,
   "metadata": {
    "collapsed": false
   },
   "outputs": [],
   "source": [
    "#np.duplicates(df3.columns)\n",
    "from collections import Counter"
   ]
  },
  {
   "cell_type": "code",
   "execution_count": null,
   "metadata": {
    "collapsed": false
   },
   "outputs": [],
   "source": [
    "ls = Counter(df3.columns)"
   ]
  },
  {
   "cell_type": "code",
   "execution_count": null,
   "metadata": {
    "collapsed": false
   },
   "outputs": [],
   "source": [
    "df_final = pd.DataFrame()\n",
    "for a,b in ls.items():\n",
    "    if b==1:\n",
    "        df_final = pd.concat([df_final, df3[a]],axis=1)\n",
    "    else:\n",
    "        df_final[a] = df3[[a]].sum(axis=1)"
   ]
  },
  {
   "cell_type": "code",
   "execution_count": null,
   "metadata": {
    "collapsed": false
   },
   "outputs": [],
   "source": [
    "new_cols_items_reduced = df_final[ df_final.Title.isin(unique_pod)]\n",
    "new_cols_items_reduced.shape\n",
    "new_cols_items_reduced = gl.SFrame(new_cols_items_reduced)"
   ]
  },
  {
   "cell_type": "code",
   "execution_count": null,
   "metadata": {
    "collapsed": false
   },
   "outputs": [],
   "source": [
    "item_model = gl.item_similarity_recommender.create(train_set, user_id=\"user_id\", \n",
    "                                                   item_id=\"Title\", item_data=new_cols_items_reduced, verbose=False)\n",
    "results = item_model.evaluate_precision_recall(test_set, cutoffs=[1,2,3,4,5], verbose=False)\n",
    "new_res = results['precision_recall_overall']"
   ]
  },
  {
   "cell_type": "code",
   "execution_count": null,
   "metadata": {
    "collapsed": false
   },
   "outputs": [],
   "source": [
    "item_model = gl.item_similarity_recommender.create(train_set, user_id=\"user_id\", \n",
    "                                                   item_id=\"Title\", verbose=False)\n",
    "results = item_model.evaluate_precision_recall(test_set, cutoffs=[1,2,3,4,5], verbose=False)\n",
    "orig_res = results['precision_recall_overall']"
   ]
  },
  {
   "cell_type": "code",
   "execution_count": null,
   "metadata": {
    "collapsed": false
   },
   "outputs": [],
   "source": [
    "temp_items =new_cols_items_reduced.copy()\n",
    "temp_items = temp_items.remove_column(\"Title\")"
   ]
  },
  {
   "cell_type": "code",
   "execution_count": null,
   "metadata": {
    "collapsed": false
   },
   "outputs": [],
   "source": [
    "#precision1 = precision.append('Title')\n",
    "item_model = gl.item_similarity_recommender.create(train_set, user_id=\"user_id\", \n",
    "                                                       item_id=\"Title\", item_data=new_cols_items_reduced[p],\n",
    "                                                       verbose=False)\n",
    "item_model.evaluate_precision_recall(test_set, cutoffs=[1,2,3,4,5], verbose=False)"
   ]
  },
  {
   "cell_type": "code",
   "execution_count": null,
   "metadata": {
    "collapsed": false
   },
   "outputs": [],
   "source": [
    "len(train_set['user_id'].unique())"
   ]
  },
  {
   "cell_type": "code",
   "execution_count": null,
   "metadata": {
    "collapsed": false
   },
   "outputs": [],
   "source": [
    "train_set.shape"
   ]
  },
  {
   "cell_type": "code",
   "execution_count": 12,
   "metadata": {
    "collapsed": false
   },
   "outputs": [
    {
     "data": {
      "image/png": "[encoded data removed]",
      "text/plain": [
       "<matplotlib.figure.Figure at 0x7f5da77fc590>"
      ]
     },
     "metadata": {},
     "output_type": "display_data"
    }
   ],
   "source": [
    "sf2 = remove_bots(sf)"
   ]
  },
  {
   "cell_type": "code",
   "execution_count": null,
   "metadata": {
    "collapsed": false
   },
   "outputs": [],
   "source": [
    "tr = pd.Series(sf['user_id'])\n",
    "podcasts = tr.value_counts()\n",
    "podcasts.hist(bins=200, title=\"main\")"
   ]
  },
  {
   "cell_type": "code",
   "execution_count": null,
   "metadata": {
    "collapsed": false
   },
   "outputs": [],
   "source": [
    "fig = plt.figure()\n",
    "plt.hist(podcasts, bins=200)\n",
    "plt.title(\"Twitter Followers\")\n",
    "plt.xlim(0,100)\n",
    "plt.xlabel(\"Podcasts\")\n",
    "plt.ylabel(\"Users\")\n",
    "plt.show()"
   ]
  },
  {
   "cell_type": "code",
   "execution_count": null,
   "metadata": {
    "collapsed": false
   },
   "outputs": [],
   "source": [
    "import matplotlib.pyplot as plt\n",
    "import numpy as np\n",
    "import plotly.plotly as py\n",
    "import json"
   ]
  },
  {
   "cell_type": "code",
   "execution_count": null,
   "metadata": {
    "collapsed": false
   },
   "outputs": [],
   "source": [
    "plotly_key = json.load(open(\"/home/ubuntu/.api/plotly.api\"))"
   ]
  },
  {
   "cell_type": "code",
   "execution_count": null,
   "metadata": {
    "collapsed": false
   },
   "outputs": [],
   "source": [
    "plotly_key['KEY']"
   ]
  },
  {
   "cell_type": "code",
   "execution_count": null,
   "metadata": {
    "collapsed": true
   },
   "outputs": [],
   "source": [
    "py.sign_in('Crystal.Humphries', str(plotly_key['KEY']))"
   ]
  },
  {
   "cell_type": "code",
   "execution_count": null,
   "metadata": {
    "collapsed": false
   },
   "outputs": [],
   "source": [
    "py.iplot_mpl(fig, strip_style = True, filename='data/TwitterFollowers')"
   ]
  },
  {
   "cell_type": "code",
   "execution_count": null,
   "metadata": {
    "collapsed": false
   },
   "outputs": [],
   "source": [
    "y = pd.Series(item_sim_mat['user_id']).value_counts()"
   ]
  },
  {
   "cell_type": "code",
   "execution_count": null,
   "metadata": {
    "collapsed": false
   },
   "outputs": [],
   "source": [
    "y[y<=100].describe()"
   ]
  },
  {
   "cell_type": "code",
   "execution_count": null,
   "metadata": {
    "collapsed": false
   },
   "outputs": [],
   "source": [
    "podcasts[podcasts<=100].describe()"
   ]
  },
  {
   "cell_type": "code",
   "execution_count": null,
   "metadata": {
    "collapsed": true
   },
   "outputs": [],
   "source": [
    "6 + 7"
   ]
  },
  {
   "cell_type": "code",
   "execution_count": 11,
   "metadata": {
    "collapsed": false
   },
   "outputs": [],
   "source": [
    "def remove_bots(sf, flag=True):\n",
    "    tr = pd.Series(sf['user_id'])\n",
    "    podcasts = tr.value_counts()\n",
    "    if flag is True:\n",
    "        podcasts.hist(bins=200)\n",
    "    users_following100_lessPods = gl.SArray(podcasts.index[ podcasts <= 100].values)\n",
    "    return sf.filter_by(users_following100_lessPods, 'user_id')"
   ]
  },
  {
   "cell_type": "code",
   "execution_count": 13,
   "metadata": {
    "collapsed": false
   },
   "outputs": [],
   "source": [
    "no_bots = pd.Series(sf2['user_id'])"
   ]
  },
  {
   "cell_type": "code",
   "execution_count": 14,
   "metadata": {
    "collapsed": true
   },
   "outputs": [],
   "source": [
    "no_bots = no_bots.value_counts()"
   ]
  },
  {
   "cell_type": "code",
   "execution_count": 15,
   "metadata": {
    "collapsed": false
   },
   "outputs": [
    {
     "data": {
      "text/plain": [
       "count    199282.000000\n",
       "mean          5.328911\n",
       "std           5.813819\n",
       "min           3.000000\n",
       "25%           3.000000\n",
       "50%           4.000000\n",
       "75%           5.000000\n",
       "max         100.000000\n",
       "dtype: float64"
      ]
     },
     "execution_count": 15,
     "metadata": {},
     "output_type": "execute_result"
    }
   ],
   "source": [
    "no_bots.describe()"
   ]
  },
  {
   "cell_type": "code",
   "execution_count": 16,
   "metadata": {
    "collapsed": false
   },
   "outputs": [],
   "source": [
    "(train_set_2, test_set_2) = sf2.random_split(0.8, seed=1)"
   ]
  },
  {
   "cell_type": "code",
   "execution_count": 17,
   "metadata": {
    "collapsed": false
   },
   "outputs": [
    {
     "data": {
      "text/html": [
       "<pre>Recsys training: model = item_similarity</pre>"
      ],
      "text/plain": [
       "Recsys training: model = item_similarity"
      ]
     },
     "metadata": {},
     "output_type": "display_data"
    },
    {
     "data": {
      "text/plain": [
       "{'precision_recall_by_user': Columns:\n",
       " \tuser_id\tstr\n",
       " \tcutoff\tint\n",
       " \tprecision\tfloat\n",
       " \trecall\tfloat\n",
       " \tcount\tint\n",
       " \n",
       " Rows: 602930\n",
       " \n",
       " Data:\n",
       " +---------+--------+----------------+--------+-------+\n",
       " | user_id | cutoff |   precision    | recall | count |\n",
       " +---------+--------+----------------+--------+-------+\n",
       " |  user_0 |   1    |      1.0       |  1.0   |   1   |\n",
       " |  user_0 |   2    |      0.5       |  1.0   |   1   |\n",
       " |  user_0 |   3    | 0.333333333333 |  1.0   |   1   |\n",
       " |  user_0 |   4    |      0.25      |  1.0   |   1   |\n",
       " |  user_0 |   5    |      0.2       |  1.0   |   1   |\n",
       " | user_10 |   1    |      0.0       |  0.0   |   1   |\n",
       " | user_10 |   2    |      0.0       |  0.0   |   1   |\n",
       " | user_10 |   3    |      0.0       |  0.0   |   1   |\n",
       " | user_10 |   4    |      0.0       |  0.0   |   1   |\n",
       " | user_10 |   5    |      0.2       |  1.0   |   1   |\n",
       " +---------+--------+----------------+--------+-------+\n",
       " [602930 rows x 5 columns]\n",
       " Note: Only the head of the SFrame is printed.\n",
       " You can use print_rows(num_rows=m, num_columns=n) to print more rows and columns.,\n",
       " 'precision_recall_overall': Columns:\n",
       " \tcutoff\tint\n",
       " \tprecision\tfloat\n",
       " \trecall\tfloat\n",
       " \n",
       " Rows: 5\n",
       " \n",
       " Data:\n",
       " +--------+----------------+----------------+\n",
       " | cutoff |   precision    |     recall     |\n",
       " +--------+----------------+----------------+\n",
       " |   1    | 0.409375881114 | 0.296451269988 |\n",
       " |   2    | 0.271976017116 | 0.355691085843 |\n",
       " |   3    | 0.201875286794 | 0.378739548183 |\n",
       " |   4    | 0.161075912627 | 0.392539963899 |\n",
       " |   5    | 0.134400344982 | 0.402740070319 |\n",
       " +--------+----------------+----------------+\n",
       " [5 rows x 3 columns]}"
      ]
     },
     "execution_count": 17,
     "metadata": {},
     "output_type": "execute_result"
    }
   ],
   "source": [
    "item_model = gl.item_similarity_recommender.create(train_set_2, user_id=\"user_id\", \n",
    "                                                   item_id=\"Title\", item_data=items, verbose=False)\n",
    "item_model.evaluate_precision_recall(test_set_2, cutoffs=[1,2,3,4,5], verbose=False)"
   ]
  },
  {
   "cell_type": "code",
   "execution_count": null,
   "metadata": {
    "collapsed": false
   },
   "outputs": [],
   "source": [
    "new_cols_items_reduced_5min = df_final[ df_final['Title'].isin(sf2['Title'])]\n",
    "new_cols_items_reduced_5min.shape"
   ]
  },
  {
   "cell_type": "code",
   "execution_count": null,
   "metadata": {
    "collapsed": false
   },
   "outputs": [],
   "source": [
    "reduced_podcast = new_cols_items_reduced_5min['Title'].unique()\n",
    "check = pd.Series(sf2['Title']).unique()\n",
    "len(check), len(reduced_podcast)"
   ]
  },
  {
   "cell_type": "code",
   "execution_count": null,
   "metadata": {
    "collapsed": false
   },
   "outputs": [],
   "source": [
    "sf3_reduced = sf2.filter_by(reduced_podcast, 'Title')"
   ]
  },
  {
   "cell_type": "code",
   "execution_count": null,
   "metadata": {
    "collapsed": true
   },
   "outputs": [],
   "source": [
    "(train_set_3, test_set_3) = sf3_reduced.random_split(0.8, seed=1)"
   ]
  },
  {
   "cell_type": "code",
   "execution_count": null,
   "metadata": {
    "collapsed": false
   },
   "outputs": [],
   "source": [
    "new_cols_items_reduced_5min = gl.SFrame(new_cols_items_reduced_5min)\n"
   ]
  },
  {
   "cell_type": "markdown",
   "metadata": {},
   "source": [
    "### Q\n",
    "    see if the recall/precision is due to podcasts not being in the data set. Reduced the podcasts to only be present in both the items and user info. \n",
    "    \n",
    "### A\n",
    "    made the precision worse!"
   ]
  },
  {
   "cell_type": "code",
   "execution_count": null,
   "metadata": {
    "collapsed": false
   },
   "outputs": [],
   "source": [
    "item_model = gl.item_similarity_recommender.create(train_set_3, user_id=\"user_id\", \n",
    "                                                   item_id=\"Title\", item_data=new_cols_items_reduced_5min, \n",
    "                                                   verbose=False)\n",
    "item_model.evaluate_precision_recall(test_set_3, cutoffs=[1,2,3,4,5], verbose=False)"
   ]
  },
  {
   "cell_type": "code",
   "execution_count": null,
   "metadata": {
    "collapsed": false
   },
   "outputs": [],
   "source": [
    "item_model = gl.item_similarity_recommender.create(train_set_2, user_id=\"user_id\", \n",
    "                                                   item_id=\"Title\", item_data=new_cols_items_reduced[r], verbose=False)\n",
    "item_model.evaluate_precision_recall(test_set_2, cutoffs=[1,2,3,4,5], verbose=False)"
   ]
  },
  {
   "cell_type": "code",
   "execution_count": null,
   "metadata": {
    "collapsed": false
   },
   "outputs": [],
   "source": [
    "p = [ x for x in precision]\n",
    "#item_data=new_cols_items_reduced[precision]"
   ]
  },
  {
   "cell_type": "code",
   "execution_count": null,
   "metadata": {
    "collapsed": false
   },
   "outputs": [],
   "source": [
    "precision = precision[:-1]"
   ]
  },
  {
   "cell_type": "code",
   "execution_count": null,
   "metadata": {
    "collapsed": false
   },
   "outputs": [],
   "source": [
    "# precision = []\n",
    "# prec_num  = []\n",
    "# recall    = []\n",
    "# recall_num= []\n",
    "\n",
    "# for col in new_cols_items_reduced.column_names()[:-1]:\n",
    "#     cols = ['Title']\n",
    "#     if col == 'Title':\n",
    "#         continue\n",
    "#     cols.append(col)\n",
    "#     item_model = gl.item_similarity_recommender.create(train_set, user_id=\"user_id\", \n",
    "#                                                        item_id=\"Title\", item_data=new_cols_items_reduced[cols],\n",
    "#                                                        verbose=False)\n",
    "#     new_res = item_model.evaluate_precision_recall(test_set, cutoffs=[1,2,3,4,5], verbose=False)\n",
    "#     new_res = new_res['precision_recall_overall']\n",
    "#     compare_p = sum(orig_res['precision']<new_res['precision'])\n",
    "#     if compare_p>0:\n",
    "#         precision.append(col)\n",
    "#         prec_num.append(compare_p)\n",
    "#         print \"Precision\" + str(col)\n",
    "#     compare_r = sum(orig_res['recall']<new_res['recall'])\n",
    "#     if compare_r>0:\n",
    "#         recall.append(col)\n",
    "#         recall_num.append(compare_r)\n",
    "#         print \"Recall\" + str(col)"
   ]
  },
  {
   "cell_type": "code",
   "execution_count": null,
   "metadata": {
    "collapsed": false
   },
   "outputs": [],
   "source": [
    "r = [ r for r in recall]"
   ]
  },
  {
   "cell_type": "code",
   "execution_count": null,
   "metadata": {
    "collapsed": true
   },
   "outputs": [],
   "source": [
    "r.extend(precision)"
   ]
  },
  {
   "cell_type": "code",
   "execution_count": null,
   "metadata": {
    "collapsed": false
   },
   "outputs": [],
   "source": [
    "r = list(set(r))"
   ]
  },
  {
   "cell_type": "code",
   "execution_count": null,
   "metadata": {
    "collapsed": false
   },
   "outputs": [],
   "source": [
    "all_categories = df.Category.apply(lambda x: x.split('/'))\n",
    "temp = [item for sublist in all_categories for item in sublist]\n",
    "categories = {x:0 for x in temp}\n",
    "\n",
    "cats = pd.DataFrame(0, index=np.arange(len(df.Category.values)), columns=categories.keys())\n",
    "for i,v in enumerate(df.Category.values):\n",
    "    ls = v.split('/')\n",
    "    cats.loc[i][ls] = 1\n",
    "cats.head()"
   ]
  },
  {
   "cell_type": "code",
   "execution_count": null,
   "metadata": {
    "collapsed": false
   },
   "outputs": [],
   "source": [
    "df_final.shape, cats.shape"
   ]
  },
  {
   "cell_type": "code",
   "execution_count": null,
   "metadata": {
    "collapsed": false
   },
   "outputs": [],
   "source": [
    "keep = cats.columns.tolist() + p"
   ]
  },
  {
   "cell_type": "code",
   "execution_count": null,
   "metadata": {
    "collapsed": true
   },
   "outputs": [],
   "source": [
    "df_final_cats = pd.concat([df_final, cats],axis=1)"
   ]
  },
  {
   "cell_type": "code",
   "execution_count": null,
   "metadata": {
    "collapsed": false
   },
   "outputs": [],
   "source": [
    "items_reduced_with_categories = df_final_cats[ df_final_cats.Title.isin(unique_pod)]\n",
    "items_reduced_with_categories = gl.SFrame(items_reduced_with_categories)"
   ]
  },
  {
   "cell_type": "code",
   "execution_count": null,
   "metadata": {
    "collapsed": false
   },
   "outputs": [],
   "source": [
    "item_model = gl.item_similarity_recommender.create(train_set_2, user_id=\"user_id\", \n",
    "                                                   item_id=\"Title\", item_data=items_reduced_with_categories[keep], verbose=False)\n",
    "item_model.evaluate_precision_recall(test_set_2, cutoffs=[1,2,3,4,5], verbose=False)"
   ]
  },
  {
   "cell_type": "code",
   "execution_count": null,
   "metadata": {
    "collapsed": false
   },
   "outputs": [],
   "source": [
    "keep = np.array(keep)"
   ]
  },
  {
   "cell_type": "code",
   "execution_count": null,
   "metadata": {
    "collapsed": false
   },
   "outputs": [],
   "source": [
    "keep = keep[np.where(keep!=\"<null>\")]"
   ]
  }
 ],
 "metadata": {
  "hide_input": false,
  "kernelspec": {
   "display_name": "Python 2",
   "language": "python",
   "name": "python2"
  },
  "language_info": {
   "codemirror_mode": {
    "name": "ipython",
    "version": 2
   },
   "file_extension": ".py",
   "mimetype": "text/x-python",
   "name": "python",
   "nbconvert_exporter": "python",
   "pygments_lexer": "ipython2",
   "version": "2.7.11"
  }
 },
 "nbformat": 4,
 "nbformat_minor": 0
}
