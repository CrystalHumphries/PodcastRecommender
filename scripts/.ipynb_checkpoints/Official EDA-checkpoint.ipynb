{
 "cells": [
  {
   "cell_type": "code",
   "execution_count": 40,
   "metadata": {
    "collapsed": false
   },
   "outputs": [
    {
     "name": "stdout",
     "output_type": "stream",
     "text": [
      "The autoreload extension is already loaded. To reload it, use:\n",
      "  %reload_ext autoreload\n"
     ]
    }
   ],
   "source": [
    "from PodcastFeatureEngineering import Podcast_Features\n",
    "from clean_podcast_csv import PodcastCleaner\n",
    "%load_ext autoreload\n",
    "%autoreload 2\n",
    "import numpy as np\n",
    "import pandas as pd\n",
    "from sklearn.feature_extraction.text import TfidfVectorizer"
   ]
  },
  {
   "cell_type": "code",
   "execution_count": 2,
   "metadata": {
    "collapsed": false
   },
   "outputs": [
    {
     "name": "stderr",
     "output_type": "stream",
     "text": [
      "/Users/zephryin/anaconda/envs/py2/lib/python2.7/site-packages/IPython/core/interactiveshell.py:2885: DtypeWarning: Columns (14,15,17) have mixed types. Specify dtype option on import or set low_memory=False.\n",
      "  exec(code_obj, self.user_global_ns, self.user_ns)\n",
      "clean_podcast_csv.py:24: FutureWarning: the coerce=True keyword is deprecated, use errors='coerce' instead\n",
      "  self.df['DateFirstEpisode'] = self.df.DateFirstEpisode.apply(lambda x: pd.to_datetime(str(x), coerce=True))\n"
     ]
    },
    {
     "name": "stdout",
     "output_type": "stream",
     "text": [
      "Creating Tf-idf\n"
     ]
    },
    {
     "name": "stderr",
     "output_type": "stream",
     "text": [
      "clean_podcast_csv.py:25: FutureWarning: the coerce=True keyword is deprecated, use errors='coerce' instead\n",
      "  self.df['DateLastEpisode']  = self.df.DateLastEpisode.apply(lambda x: pd.to_datetime(str(x), coerce=True))\n"
     ]
    }
   ],
   "source": [
    "GenerateFeatures = Podcast_Features()"
   ]
  },
  {
   "cell_type": "code",
   "execution_count": 22,
   "metadata": {
    "collapsed": false
   },
   "outputs": [
    {
     "name": "stdout",
     "output_type": "stream",
     "text": [
      "Creating Tf-idf\n"
     ]
    }
   ],
   "source": [
    "df = GenerateFeatures.cleaned_df\n",
    "GF = Podcast_Features(cleaned_df=df)"
   ]
  },
  {
   "cell_type": "code",
   "execution_count": 23,
   "metadata": {
    "collapsed": true
   },
   "outputs": [],
   "source": [
    "df2 = df.copy()"
   ]
  },
  {
   "cell_type": "code",
   "execution_count": 6,
   "metadata": {
    "collapsed": false
   },
   "outputs": [
    {
     "name": "stdout",
     "output_type": "stream",
     "text": [
      "<class 'pandas.core.frame.DataFrame'>\n",
      "Int64Index: 155804 entries, 0 to 155803\n",
      "Data columns (total 18 columns):\n",
      "Title               155804 non-null object\n",
      "iTunesSubtitle      155804 non-null object\n",
      "iTunesSummary       155804 non-null object\n",
      "iTunesKeywords      155804 non-null object\n",
      "NormalizedUrl       155804 non-null object\n",
      "iTunesAuthor        155804 non-null object\n",
      "iTunesOwnerName     155804 non-null object\n",
      "iTunesOwnerEmail    155804 non-null object\n",
      "DateFirstEpisode    149281 non-null datetime64[ns]\n",
      "DateLastEpisode     149763 non-null datetime64[ns]\n",
      "TotalEpisodes       155804 non-null int64\n",
      "Link                155804 non-null object\n",
      "ImageUrl            155804 non-null object\n",
      "HostingDomain       155804 non-null object\n",
      "RatingCount         155804 non-null int64\n",
      "AverageRating       155804 non-null float64\n",
      "Category            155804 non-null object\n",
      "CategoryRanking     155804 non-null int64\n",
      "dtypes: datetime64[ns](2), float64(1), int64(3), object(12)\n",
      "memory usage: 22.6+ MB\n"
     ]
    }
   ],
   "source": [
    "GF.df.info()"
   ]
  },
  {
   "cell_type": "markdown",
   "metadata": {},
   "source": [
    "## Vectorize Subtitle"
   ]
  },
  {
   "cell_type": "code",
   "execution_count": 9,
   "metadata": {
    "collapsed": false
   },
   "outputs": [
    {
     "name": "stdout",
     "output_type": "stream",
     "text": [
      "\n",
      "Topics in NMF model:\n",
      "Topic #0:\n",
      "null free songs thesongoftheday free songs free shows free short free sfr bouygues free sfr free send free radio free public free psychic free press free podcasts free picks free open free online ios 효과적인 리스닝 강의 free music free mp3 audio free mp3\n",
      "Topic #1:\n",
      "faith comes faith comes hearing comes hearing audio bible online audio bible recorded faith comes recorded faith bible recorded faith audio bible recorded online audio bible recorded hearing comes recorded faith bible online audio bible church bible study\n",
      "Topic #2:\n",
      "listen listen shows shows croydon croydon radio shows croydon radio listen shows croydon croydon listen new shows listen enjoy enjoy download listen learn listen download listen sermons learn listen latest just listen share just\n",
      "Topic #3:\n",
      "com http facebook visit facebook com gmail com gmail twitter https brought info blogspot com blogspot twitter com email presented website information booking contact\n",
      "Topic #4:\n",
      "sermons weekly sermons sunday sunday sermons church sermons audio sermons morning morning sermons sunday morning sunday morning sermons pastor preached sermons preached st latest sermons sermons pastor presbyterian sermons teachings presbyterian church chapel\n",
      "Topic #5:\n",
      "radio talk radio internet radio station radio station radio network shows internet program weekly radio radio web la radio radio program radio web talk radio future future talk future talk radio talk radio web best internet radio radio future talk\n",
      "Topic #6:\n",
      "shows tv tv shows post game wrap favorite tv favorite tv shows shows favorite wrap shows favorite wrap shows post game wrap game wrap shows daily post game daily post shows favorite tv game wrap game post favorite daily\n",
      "Topic #7:\n",
      "life real life church living real life new life change everyday live life everyday life charge life charge living life love stories god change life work family way\n",
      "Topic #8:\n",
      "music house house music electronic electronic music dance dance music best new music live music underground interviews electronic dance deep electronic dance music music podcasts independent movies artists house music podcasts\n",
      "Topic #9:\n",
      "podcasts church podcasts sermon podcasts recent podcasts recent video podcasts audio podcasts music podcasts sermon otc podcasts otc series podcasts series house music podcasts daily podcasts baptist church podcasts free school weekly podcasts daily\n",
      "Topic #10:\n",
      "ein des ein download ein download angebot download angebot angebot rundfunks bayerischen des bayerischen des bayerischen rundfunks angebot des bayerischen download angebot des angebot des bayerischen rundfunks download und le et über ein über\n",
      "Topic #11:\n",
      "weekly weekly sermons messages weekly messages weekly sermon sermon hosted message weekly message weekly radio weekly audio bi weekly bi services weekly hosted featuring weekly services discussion things weekly dose\n",
      "Topic #12:\n",
      "podcasting tsf podcasting tsf podcasting network podcasting broadcasting podcasting dickinson podcasting dickinson college dickinson college dickinson broadcasting podcasters college music podcasting world lectures sports podcasting podcasting time podcasters podcasting poker dummies\n",
      "Topic #13:\n",
      "news latest interviews reviews gaming sports tech latest news news reviews tech news week information events good technology good news entertainment news interviews views gaming news\n",
      "Topic #14:\n",
      "der und von für aus mit die aus der über das der für zum ein zu dem den auf der der welt ist\n",
      "Topic #15:\n",
      "audio sermon sermon audio weekly sermon audio sermons audio video church sermon weekly audio church audio audio messages audio podcasts weekly sermon audio sermon podcasts series church sermon audio sunday audio version teaching audio audio tour tour\n",
      "Topic #16:\n",
      "welcome home welcome official welcome world hello welcome hello enjoy welcome home welcome weekly welcome new talk join series club journey place page welcome house night th\n",
      "Topic #17:\n",
      "network magic gathering magic gathering gathering network magic gathering network radio network uk network uk jcast network jcast shows sports media network network marketing feed brought media sports network home\n",
      "Topic #18:\n",
      "poderato com poderato com radio poderato com radio poderato el del mexico oficial rock punto party los frecuencia grupo station poderato station poderato com com poderato com com poderato leviatanime\n",
      "Topic #19:\n",
      "world live people love god real jesus stories interviews love god god love word christ time join love god love know things world warcraft warcraft\n",
      "Topic #20:\n",
      "dj house mixes mix deep producer electro house music dj producer progressive deep house tech techno dj mixes tech house trance electro house progressive house mixed best\n",
      "Topic #21:\n",
      "official welcome official channel uk records page net official radio official dj official radioshow official audio radioshow community gaming official uk official soundcloud soundcloud magazine radio official official website\n",
      "Topic #22:\n",
      "die zur sendung beiträge zur die beiträge zur die beiträge zur sendung beiträge zur sendung beiträge und für auf über mit im für die des über die ist von\n",
      "Topic #23:\n",
      "talk talk radio best internet future best internet radio future talk future talk radio web talk radio future talk internet radio future radio future radio web talk web talk talk radio web best internet radio web radio web internet radio sports\n",
      "Topic #24:\n",
      "culture pop pop culture geek nerd geek culture politics sports movies entertainment things sports pop sports pop culture nerd culture comics comedy tv discuss current culture politics\n",
      "Topic #25:\n",
      "new york new york books discussions new books new music new life brand new city brand old scholars york city new york city week discussions scholars episode episodes series\n",
      "Topic #26:\n",
      "en la el le om et och les los que en om del du des med en la sur france bleu france bleu\n",
      "Topic #27:\n",
      "church baptist baptist church community community church messages christ christian christian church church christ bible church podcasts bible church pastor presbyterian presbyterian church god city reformed church reformed\n",
      "Topic #28:\n",
      "business marketing small small business media owners online entrepreneurs business owners interviews success tips social social media leaders grow strategies online business learn internet\n",
      "Topic #29:\n",
      "video games video games game video game movies audio video games movies comics video podcasts gaming tv video games movies weekly video talking board talk video video feed things motor\n",
      "()\n"
     ]
    }
   ],
   "source": [
    "X = GF.vectorize_text('iTunesSubtitle')\n",
    "GF.call_nmf(X, 30)\n",
    "new_col = GF.get_NMF_topics(GF.nmf, X)"
   ]
  },
  {
   "cell_type": "code",
   "execution_count": 24,
   "metadata": {
    "collapsed": false
   },
   "outputs": [
    {
     "name": "stdout",
     "output_type": "stream",
     "text": [
      "hello\n",
      "hello\n"
     ]
    }
   ],
   "source": [
    "df2['Subtitle_categories'] = GF.get_new_column_of_text('iTunesSubtitle', n_components=30)\n",
    "df2['Keywords_categories'] = GF.get_new_column_of_text('iTunesKeywords', n_components=30)"
   ]
  },
  {
   "cell_type": "code",
   "execution_count": 30,
   "metadata": {
    "collapsed": false
   },
   "outputs": [],
   "source": [
    "df2['Url_Folders'] = df2.NormalizedUrl.apply(lambda x: x.count('/'))"
   ]
  },
  {
   "cell_type": "code",
   "execution_count": 36,
   "metadata": {
    "collapsed": false
   },
   "outputs": [
    {
     "name": "stdout",
     "output_type": "stream",
     "text": [
      "hello\n"
     ]
    }
   ],
   "source": [
    "df2['Summary_categories'] = GF.get_new_column_of_text('iTunesSummary', n_components=30)"
   ]
  },
  {
   "cell_type": "code",
   "execution_count": 117,
   "metadata": {
    "collapsed": true
   },
   "outputs": [],
   "source": [
    "def get_top_100(col):\n",
    "    tfidf = TfidfVectorizer( max_features=100)\n",
    "    X = tfidf.fit_transform(df2[col])\n",
    "    return pd.DataFrame(X.toarray(),\n",
    "                        columns=pd.Series(tfidf.get_feature_names()))"
   ]
  },
  {
   "cell_type": "code",
   "execution_count": 118,
   "metadata": {
    "collapsed": false
   },
   "outputs": [
    {
     "name": "stdout",
     "output_type": "stream",
     "text": [
      "<class 'pandas.core.frame.DataFrame'>\n",
      "Int64Index: 155804 entries, 0 to 155803\n",
      "Data columns (total 18 columns):\n",
      "Title               155804 non-null object\n",
      "iTunesSubtitle      155804 non-null object\n",
      "iTunesSummary       155804 non-null object\n",
      "iTunesKeywords      155804 non-null object\n",
      "NormalizedUrl       155804 non-null object\n",
      "iTunesAuthor        155804 non-null object\n",
      "iTunesOwnerName     155804 non-null object\n",
      "iTunesOwnerEmail    155804 non-null object\n",
      "DateFirstEpisode    149281 non-null datetime64[ns]\n",
      "DateLastEpisode     149763 non-null datetime64[ns]\n",
      "TotalEpisodes       155804 non-null int64\n",
      "Link                155804 non-null object\n",
      "ImageUrl            155804 non-null object\n",
      "HostingDomain       155804 non-null object\n",
      "RatingCount         155804 non-null int64\n",
      "AverageRating       155804 non-null float64\n",
      "Category            155804 non-null object\n",
      "CategoryRanking     155804 non-null int64\n",
      "dtypes: datetime64[ns](2), float64(1), int64(3), object(12)\n",
      "memory usage: 22.6+ MB\n"
     ]
    }
   ],
   "source": [
    "df.info()"
   ]
  },
  {
   "cell_type": "code",
   "execution_count": 115,
   "metadata": {
    "collapsed": false
   },
   "outputs": [],
   "source": [
    "df_t = pd.DataFrame(X.toarray(),columns=pd.Series(tfidf.get_feature_names()))"
   ]
  },
  {
   "cell_type": "code",
   "execution_count": 122,
   "metadata": {
    "collapsed": false
   },
   "outputs": [],
   "source": [
    "keep_as_is = ['DateFirstEpisode', 'DateLastEpisode','TotalEpisodes','RatingCount', 'AverageRating', 'CategoryRanking' ]\n",
    "df3 = df[keep_as_is].copy()"
   ]
  },
  {
   "cell_type": "code",
   "execution_count": 121,
   "metadata": {
    "collapsed": false
   },
   "outputs": [],
   "source": [
    "append_new_cols = [ 'Title', 'iTunesSubtitle', 'iTunesSummary', 'iTunesKeywords', 'Category', 'iTunesAuthor']"
   ]
  },
  {
   "cell_type": "code",
   "execution_count": 133,
   "metadata": {
    "collapsed": false
   },
   "outputs": [
    {
     "name": "stdout",
     "output_type": "stream",
     "text": [
      "<class 'pandas.core.frame.DataFrame'>\n",
      "Int64Index: 155804 entries, 0 to 155803\n",
      "Columns: 106 entries, DateFirstEpisode to world\n",
      "dtypes: datetime64[ns](2), float64(101), int64(3)\n",
      "memory usage: 127.2 MB\n"
     ]
    }
   ],
   "source": [
    "new = pd.concat([df3, df_t], axis=1)\n",
    "new.info()"
   ]
  },
  {
   "cell_type": "code",
   "execution_count": 136,
   "metadata": {
    "collapsed": false
   },
   "outputs": [],
   "source": [
    "final = df3.copy()\n",
    "for column in append_new_cols:\n",
    "    temp = get_top_100(col=column)\n",
    "    final = pd.concat([final, temp], axis=1)"
   ]
  },
  {
   "cell_type": "code",
   "execution_count": null,
   "metadata": {
    "collapsed": false
   },
   "outputs": [],
   "source": [
    "final.corr()"
   ]
  },
  {
   "cell_type": "code",
   "execution_count": null,
   "metadata": {
    "collapsed": true
   },
   "outputs": [],
   "source": []
  },
  {
   "cell_type": "code",
   "execution_count": 39,
   "metadata": {
    "collapsed": false
   },
   "outputs": [
    {
     "data": {
      "text/plain": [
       "<null>                                                                                                  86970\n",
       "Bible, Testament, Jesus, Scripture, Holy, God, Heaven, Hell, Gospel, Christian, Bible.is, Church          950\n",
       "podcast                                                                                                   600\n",
       "Common, Misspellings, of, Key, Words                                                                       82\n",
       "Music                                                                                                      77\n",
       "Filadelfia Kristiansand, Radioandakten, Radioprogram, Andakt, Bibelen, Jesus, Gud, Den Hellige Ånd,        74\n",
       "Croydon, Croydon Radio, Community Radio, London Borough of Croydon                                         58\n",
       "Comedy                                                                                                     56\n",
       "Religion & Spirituality,Christianity                                                                       54\n",
       "Real,Estate,for,sale,Real,Estate,agents,top,real,estate,agents,local,real,estate,agents,find,a,real,       51\n",
       "pastor, jason, peebles, wom, world, outreach, ministries                                                   46\n",
       "Dr Farhat Hashmi, Alhuda, Tafseer, Islam, Detailed description of Quran, farhat hashmi, Taleem Al-Qu       44\n",
       "ferrai,maserati,lamborghini,mercedes,bmw,audi,tesla                                                        42\n",
       "foreign policy, politics, policy, economics, law, philosophy, political parties, liberal, conservati       31\n",
       "cancercare, cancer care, cancer, education workshops, cancer workshops, cancer education                   29\n",
       "House                                                                                                      28\n",
       "Great Tribulation,Prophecy,Branham,Revelation,End Time,Believers Christian Fellowship,Daniel,World P       28\n",
       "relaxation music anxiety stress                                                                            27\n",
       "Deep House                                                                                                 27\n",
       "Nachrichten, Inland, Ausland, Wirtschaft, Kultur, Reportagen, Berichte, News, Tagesthemen, Tageschau       26\n",
       "Grace, UMC, Christianity, Sermon, Methodist, Jeremy, Vickers, God, Bible, Scripture, Lees Summit, Fa       26\n",
       "elmwood,church,salford,manchester,sermon,service,series,jesus,christian,god,life,spirit,christ,trini       25\n",
       "Asma Huda, Alhuda, Tajweed, Islam, Recitation of Quran, asma huda, Dr Farhat Hashmi                        24\n",
       "leadership,essentials                                                                                      23\n",
       "Music,London                                                                                               22\n",
       "Rinse France                                                                                               22\n",
       "Education,  teaching, professional development, technology, educators, principals, administrators, e       21\n",
       "radio, svizzera, svizzera italiana, italiano, ticino, grigioni italiano, RSI                               21\n",
       "Croncast, Kris Smith, Betsy Shilts, Comedy, Parenting, Funny, Palegroove, Croncast, eBay, Goodwill,        21\n",
       "TV & Film                                                                                                  20\n",
       "                                                                                                        ...  \n",
       "Podcast,Entertainment,Sandra Oles,Whitney Perry,Oscars Gossip,Use Your Body to Heal Your Mind,David         1\n",
       "google,marketing,plus,tech,writing                                                                          1\n",
       "Thanksgiving,thanks,gratitude,Bible,study,Bible,study,Scripture,in,depth,advanced,will,god,forgivene        1\n",
       "mix,house,electro,latin,funk,deep,afro,boogaloo,paris,dj,groove,break,dance                                 1\n",
       "futures,cme,trading,lewis,borsellino,eminni,sp500,Business,Investing,Chicago                                1\n",
       "aqbt,bzsh,cher,getopen,trinitysoundconnection,urbansanctuary,djaquabeat,soulassembly,afrohouse,afrot        1\n",
       "ya, fiction, freaks, young, adult, reading, books, literature, freak, cast, chapter, chicks, electif        1\n",
       "Podcast,Business,personal development,entrepreneurship,entrepreneur,speaking,work-life balance,life,        1\n",
       "Media,Film,Movies,Reviews,Talk,Nerds,German,Media,Sciences,Heinke,Josefowicz,Krauss                         1\n",
       "Podcast,Sports,nfl,nba,fantasy football,football,mlb,nfl draft,nfl soup,basketball,sports talk              1\n",
       "Erindale,Alliance,Church,Sermons                                                                            1\n",
       "Kanaval,Carnaval,Haiti,Compas,Raboday,Rap,Kreyol,Racines                                                    1\n",
       "Eletroronic                                                                                                 1\n",
       "authors,chefs,crafters,designbloggers,etsyshopowners,fineartists,freelancewriters,graphicdesigners,h        1\n",
       "Nutrition,science,research                                                                                  1\n",
       "Millennials;faith;youth                                                                                     1\n",
       "america,insurance,latin,palig,seguros,spanish                                                               1\n",
       "bass, dubstep, house, funky, techno, bass, vandalizm, zenit, faust, raphallus, fresh, wonky, uhuruku        1\n",
       "jpop,jrock,japan,japon,j,pop,j,rock,j,music,jmusic,the,checkers,onyanko,club,luna,sea,the,alfee,chag        1\n",
       "shaarawy,sharawy,شعراوي,الشعراوي,tafseer,quran,islam,تفسير,قرءان                                            1\n",
       "Trance Music EDM Techno DJ Mix Uplifting Orbit                                                              1\n",
       "drink,fastfood,food,junkfood                                                                                1\n",
       "creative,create,habit,process,minimalism,travel,health,fitness,actionable,writing,surfing                   1\n",
       "downtempo, jazz, abstract beats, house, african, soul, R&B, dance, radio, funk, trip-hop, electronic        1\n",
       "music,movies,writing                                                                                        1\n",
       "education,etertainment,inspiration,interviews,parenting                                                     1\n",
       "business,marketing,investing                                                                                1\n",
       "claytonmemorialchurch,cmc,cmcog,cmcpodcast                                                                  1\n",
       "math algebra williams geometry education chaminade chatsworth wes                                           1\n",
       "Deep House, Nu Disco, Lounge                                                                                1\n",
       "Name: iTunesKeywords, dtype: int64"
      ]
     },
     "execution_count": 39,
     "metadata": {},
     "output_type": "execute_result"
    }
   ],
   "source": [
    "#change into individual dummies\n",
    "\n",
    "df2.iTunesKeywords"
   ]
  },
  {
   "cell_type": "code",
   "execution_count": 38,
   "metadata": {
    "collapsed": false
   },
   "outputs": [
    {
     "data": {
      "text/plain": [
       "[life world people stories new time join live week like just help topics real best make interviews weekly series way]                                                                                                                                                                                                                                                             33628\n",
       "[null ｒｏｃｋのｄｎａを伝承するキャリアアーティストが週替わりで djを担当するという画期的なプログラム ロックの殿堂 fragen der frage frage ist frage nach frage nach dem frage wie fragen fragen der akkusativ fra filadelfia fragen der zeit fragen des fragen des lebens fragen die fragen im fractured fraction fractal frackulous takes daily]                                                                                     30134\n",
       "[sermons weekly sermons weekly sunday sunday sermons sunday morning morning sermons preached preached morning sermons sunday morning sermons pastor church sermons pastor services presbyterian audio sermons church sermons church christ listen]                                                                                                                                 7611\n",
       "[god christ jesus word jesus christ love people bible word god god word gospel teaching ministry faith christian church pastor life worship community]                                                                                                                                                                                                                             6121\n",
       "[la en el que los del las para por es una se en el sobre su lo programa más en la al]                                                                                                                                                                                                                                                                                              5895\n",
       "[church baptist baptist church messages community community church sermon pastor weekly audio sunday christian church located christian church located services org visit reformed city]                                                                                                                                                                                           5645\n",
       "[news latest weekly reviews latest news interviews week gaming tech news reviews discuss world events news need technology information tech news analysis industry discussion]                                                                                                                                                                                                     5468\n",
       "[com http facebook facebook com twitter visit https gmail gmail com twitter com soundcloud https facebook com https facebook email follow youtube http facebook http facebook com soundcloud com website]                                                                                                                                                                          4844\n",
       "[und die der von mit zu das ist den für über aus auf ein im sie sich dem wir um]                                                                                                                                                                                                                                                                                                   4755\n",
       "[business marketing media entrepreneurs small small business online owners business owners tips social help strategies social media successful success grow sales leaders businesses]                                                                                                                                                                                              4719\n",
       "[talk sports things sports talk culture talk things pop pop culture talk radio movies stuff guys football week talk sports friends wrestling join like talking]                                                                                                                                                                                                                    4700\n",
       "[games video video games movies game gaming video game tv comics discuss culture games movies books movies tv geek comic video games movies pop talk video talk video games]                                                                                                                                                                                                       4551\n",
       "[music electronic electronic music artists dance house music dance music best new new music musicians rock songs interviews underground artist live featuring bands indie]                                                                                                                                                                                                         4505\n",
       "[et les le des la du sur est pour vous une dans qui en avec par au il plus tous]                                                                                                                                                                                                                                                                                                   4437\n",
       "[radio station talk radio fm radio station broadcast live weekly radio shows program weekly radio program internet network radio shows radio network hosted internet radio host radio hosted]                                                                                                                                                                                      4286\n",
       "[podcasts podcasts available available audio podcasts audio series series podcasts sermon podcasts recent podcasts am1020 whdd am1020 whdd robinhoodradio whdd robinhoodradio com whdd robinhoodradio com robinhoodradio am1020 whdd robinhoodradio video podcasts weekly podcasts school]                                                                                         2975\n",
       "[dj mixes mix producer official dj producer sets dj mixes dance hop trance hip hop club hip mixed tracks dj sets live bass electronic]                                                                                                                                                                                                                                             2676\n",
       "[house deep house music electro tech deep house progressive tech house techno progressive house electro house house tech house electro house deep house tech house house techno house progressive disco mix house deep house]                                                                                                                                                      2615\n",
       "[br br br librivox poetry summary em librivox volunteers volunteers librivox volunteers bring volunteers bring collection poetry project project recordings weekly poetry weekly poetry project poems bring book br librivox]                                                                                                                                                      2545\n",
       "[using com created using com created using using created com description com created using com created live join talkcast discussion life created using life created discussing wrestling net created using world created using net created]                                                                                                                                       2445\n",
       "[och om som en med är på att vi av för det från ansvarig utgivare ansvarig utgivare till ett allt har]                                                                                                                                                                                                                                                                             1964\n",
       "[new testament testament language audio sound new languages website tribe language people make disciples nation com mission faith http faithcomesbyhearing com languages website http tribe language http faithcomesbyhearing list available languages mission faith comes available languages website person opportunity listen comes hearing bring presentation audio bible]     1509\n",
       "[weblog new weblog new new york york new books books discussions new music old new episodes new york city york city brand new discussions scholars scholars new life city episodes brand]                                                                                                                                                                                          1398\n",
       "[aftershow tv afterbuzz afterbuzz tv fans movies afterbuzztv features hd undergaro keven keven undergaro features hosts menounos maria menounos afterbuzz tv network tv network content tv undergaro designated producing undergaro designated]                                                                                                                                    1230\n",
       "[farhat dr farhat farhat hashmi hashmi dr farhat hashmi dr al tafseer surah tafseer surah assorted lecuture assorted lecuture taleem taleem al quran tafseer surah al surah al al quran taleem al quran]                                                                                                                                                                           1076\n",
       "[og er på til med om fra det som af en programledere programledere er vi oddvar isachsen isachsen oddvar margrethe margrethe tveit tveit]                                                                                                                                                                                                                                          1049\n",
       "[org reader librivox org reader librivox org org http librivox http librivox org reader http librivox br strong elizabeth klett elizabeth klett br strong br br strong klett br elizabeth klett br strong br reader 1259]                                                                                                                                                           954\n",
       "[magic gathering table guys gals table guys pros local aspect game pros podcasts covering aspect guys gals mtgcast pros local kitchen local kitchen table local kitchen network best magic magic gathering podcasts kitchen table guys covering aspect game game pros local best magic gathering best magic gathering podcasts gathering podcasts covering place convenience]       706\n",
       "[audioboom com posts audioboom com posts audioboom recent posts audioboom recent posts audioboom posts recent com matt school recent posts school recent michael robert chris ian radio recent radio recent posts jones recent jones recent posts]                                                                                                                                  686\n",
       "[park texas national park sciences texas amtrak national service trails rails tourism sciences texas sciences texas university trails rails program created podcasts enhance amtrak department recreation department recreation park program department recreation rails program department rails program park tourism sciences trails rails park tourism park service trails]      677\n",
       "Name: Summary_categories, dtype: int64"
      ]
     },
     "execution_count": 38,
     "metadata": {},
     "output_type": "execute_result"
    }
   ],
   "source": [
    "df2.Summary_categories.value_counts()"
   ]
  }
 ],
 "metadata": {
  "hide_input": false,
  "kernelspec": {
   "display_name": "Python 2",
   "language": "python",
   "name": "python2"
  },
  "language_info": {
   "codemirror_mode": {
    "name": "ipython",
    "version": 2
   },
   "file_extension": ".py",
   "mimetype": "text/x-python",
   "name": "python",
   "nbconvert_exporter": "python",
   "pygments_lexer": "ipython2",
   "version": "2.7.11"
  }
 },
 "nbformat": 4,
 "nbformat_minor": 0
}
