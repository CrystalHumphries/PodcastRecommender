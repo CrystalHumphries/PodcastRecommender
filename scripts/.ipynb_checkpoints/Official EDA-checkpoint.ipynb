{
 "cells": [
  {
   "cell_type": "code",
   "execution_count": 3,
   "metadata": {
    "collapsed": false
   },
   "outputs": [
    {
     "name": "stdout",
     "output_type": "stream",
     "text": [
      "The autoreload extension is already loaded. To reload it, use:\n",
      "  %reload_ext autoreload\n"
     ]
    }
   ],
   "source": [
    "from PodcastFeatureEngineering import Podcast_Features\n",
    "from clean_podcast_csv import PodcastCleaner\n",
    "%load_ext autoreload\n",
    "%autoreload 2\n",
    "import numpy as np\n",
    "import pandas as pd\n",
    "from sklearn.feature_extraction.text import TfidfVectorizer\n",
    "%matplotlib inline\n",
    "from matplotlib import pyplot as plt"
   ]
  },
  {
   "cell_type": "code",
   "execution_count": 4,
   "metadata": {
    "collapsed": false
   },
   "outputs": [
    {
     "name": "stderr",
     "output_type": "stream",
     "text": [
      "/home/ubuntu/anaconda2/lib/python2.7/site-packages/IPython/core/interactiveshell.py:3066: DtypeWarning: Columns (14,15,17) have mixed types. Specify dtype option on import or set low_memory=False.\n",
      "  exec(code_obj, self.user_global_ns, self.user_ns)\n",
      "clean_podcast_csv.py:24: FutureWarning: the coerce=True keyword is deprecated, use errors='coerce' instead\n",
      "  self.df['DateFirstEpisode'] = self.df.DateFirstEpisode.apply(lambda x: pd.to_datetime(str(x), coerce=True))\n"
     ]
    },
    {
     "name": "stdout",
     "output_type": "stream",
     "text": [
      "Creating Tf-idf\n"
     ]
    },
    {
     "name": "stderr",
     "output_type": "stream",
     "text": [
      "clean_podcast_csv.py:25: FutureWarning: the coerce=True keyword is deprecated, use errors='coerce' instead\n",
      "  self.df['DateLastEpisode']  = self.df.DateLastEpisode.apply(lambda x: pd.to_datetime(str(x), coerce=True))\n"
     ]
    }
   ],
   "source": [
    "GenerateFeatures = Podcast_Features()"
   ]
  },
  {
   "cell_type": "code",
   "execution_count": 5,
   "metadata": {
    "collapsed": false
   },
   "outputs": [
    {
     "name": "stdout",
     "output_type": "stream",
     "text": [
      "Creating Tf-idf\n"
     ]
    }
   ],
   "source": [
    "df = GenerateFeatures.cleaned_df\n",
    "GF = Podcast_Features(cleaned_df=df)"
   ]
  },
  {
   "cell_type": "code",
   "execution_count": 6,
   "metadata": {
    "collapsed": true
   },
   "outputs": [],
   "source": [
    "df2 = df.copy()"
   ]
  },
  {
   "cell_type": "code",
   "execution_count": null,
   "metadata": {
    "collapsed": false
   },
   "outputs": [],
   "source": [
    "GF.df.info()"
   ]
  },
  {
   "cell_type": "markdown",
   "metadata": {},
   "source": [
    "## Vectorize Subtitle"
   ]
  },
  {
   "cell_type": "code",
   "execution_count": null,
   "metadata": {
    "collapsed": false
   },
   "outputs": [],
   "source": [
    "X = GF.vectorize_text('iTunesSubtitle')\n",
    "GF.call_nmf(X, 30)\n",
    "new_col = GF.get_NMF_topics(GF.nmf, X)"
   ]
  },
  {
   "cell_type": "code",
   "execution_count": null,
   "metadata": {
    "collapsed": false
   },
   "outputs": [],
   "source": [
    "df2['Subtitle_categories'] = GF.get_new_column_of_text('iTunesSubtitle', n_components=30)\n",
    "df2['Keywords_categories'] = GF.get_new_column_of_text('iTunesKeywords', n_components=30)"
   ]
  },
  {
   "cell_type": "code",
   "execution_count": null,
   "metadata": {
    "collapsed": false
   },
   "outputs": [],
   "source": [
    "df2['Url_Folders'] = df2.NormalizedUrl.apply(lambda x: x.count('/'))"
   ]
  },
  {
   "cell_type": "code",
   "execution_count": null,
   "metadata": {
    "collapsed": false
   },
   "outputs": [],
   "source": [
    "df2['Summary_categories'] = GF.get_new_column_of_text('iTunesSummary', n_components=30)"
   ]
  },
  {
   "cell_type": "code",
   "execution_count": null,
   "metadata": {
    "collapsed": true
   },
   "outputs": [],
   "source": [
    "def get_top_100(col):\n",
    "    tfidf = TfidfVectorizer( max_features=100)\n",
    "    X = tfidf.fit_transform(df2[col])\n",
    "    return pd.DataFrame(X.toarray(),\n",
    "                        columns=pd.Series(tfidf.get_feature_names()))"
   ]
  },
  {
   "cell_type": "code",
   "execution_count": null,
   "metadata": {
    "collapsed": false
   },
   "outputs": [],
   "source": [
    "df.Link[155]"
   ]
  },
  {
   "cell_type": "code",
   "execution_count": null,
   "metadata": {
    "collapsed": false
   },
   "outputs": [],
   "source": [
    "dates = (df.DateFirstEpisode - df.DateLastEpisode).days"
   ]
  },
  {
   "cell_type": "code",
   "execution_count": null,
   "metadata": {
    "collapsed": false
   },
   "outputs": [],
   "source": [
    "dates = (GF.df.DateLastEpisode - GF.df.DateFirstEpisode).days"
   ]
  },
  {
   "cell_type": "code",
   "execution_count": 10,
   "metadata": {
    "collapsed": false
   },
   "outputs": [
    {
     "ename": "AttributeError",
     "evalue": "'NaTType' object has no attribute 'days'",
     "output_type": "error",
     "traceback": [
      "\u001b[1;31m---------------------------------------------------------------------------\u001b[0m",
      "\u001b[1;31mAttributeError\u001b[0m                            Traceback (most recent call last)",
      "\u001b[1;32m<ipython-input-10-3b9ed1343a36>\u001b[0m in \u001b[0;36m<module>\u001b[1;34m()\u001b[0m\n\u001b[1;32m----> 1\u001b[1;33m \u001b[0mdates\u001b[0m \u001b[1;33m=\u001b[0m \u001b[1;33m[\u001b[0m \u001b[1;33m(\u001b[0m\u001b[0ma\u001b[0m\u001b[1;33m-\u001b[0m\u001b[0mb\u001b[0m\u001b[1;33m)\u001b[0m\u001b[1;33m.\u001b[0m\u001b[0mdays\u001b[0m \u001b[1;32mfor\u001b[0m \u001b[0ma\u001b[0m\u001b[1;33m,\u001b[0m\u001b[0mb\u001b[0m \u001b[1;32min\u001b[0m \u001b[0mzip\u001b[0m\u001b[1;33m(\u001b[0m\u001b[0mGF\u001b[0m\u001b[1;33m.\u001b[0m\u001b[0mdf\u001b[0m\u001b[1;33m.\u001b[0m\u001b[0mDateLastEpisode\u001b[0m\u001b[1;33m,\u001b[0m \u001b[0mGF\u001b[0m\u001b[1;33m.\u001b[0m\u001b[0mdf\u001b[0m\u001b[1;33m.\u001b[0m\u001b[0mDateFirstEpisode\u001b[0m\u001b[1;33m)\u001b[0m\u001b[1;33m]\u001b[0m\u001b[1;33m\u001b[0m\u001b[0m\n\u001b[0m",
      "\u001b[1;31mAttributeError\u001b[0m: 'NaTType' object has no attribute 'days'"
     ]
    }
   ],
   "source": [
    "dates = [ (a-b).days for a,b in zip(GF.df.DateLastEpisode, GF.df.DateFirstEpisode)]"
   ]
  },
  {
   "cell_type": "code",
   "execution_count": 22,
   "metadata": {
    "collapsed": true
   },
   "outputs": [],
   "source": [
    "dates=[]\n",
    "for a,b in  zip(GF.df.DateLastEpisode, GF.df.DateFirstEpisode):\n",
    "    try:\n",
    "        new = (a-b).days\n",
    "    except:\n",
    "        #new = 'NaT'\n",
    "        continue\n",
    "    dates.append(new)\n",
    "dates = np.array(dates)"
   ]
  },
  {
   "cell_type": "code",
   "execution_count": 35,
   "metadata": {
    "collapsed": false
   },
   "outputs": [
    {
     "data": {
      "image/png": "[encoded data removed]",
      "text/plain": [
       "<matplotlib.figure.Figure at 0x7f9e9cf0f150>"
      ]
     },
     "metadata": {},
     "output_type": "display_data"
    }
   ],
   "source": [
    "plt.hist(np.abs(dates), bins=1000)\n",
    "#plt.xlim(0,4000)\n",
    "plt.yscale('log')"
   ]
  },
  {
   "cell_type": "code",
   "execution_count": 23,
   "metadata": {
    "collapsed": true
   },
   "outputs": [],
   "source": [
    "new_date = pd.Series(dates)"
   ]
  },
  {
   "cell_type": "code",
   "execution_count": 25,
   "metadata": {
    "collapsed": false
   },
   "outputs": [
    {
     "data": {
      "text/plain": [
       "count    155790.000000\n",
       "mean        491.559144\n",
       "std         959.795100\n",
       "min           0.000000\n",
       "25%          52.000000\n",
       "50%         202.000000\n",
       "75%         594.000000\n",
       "max       64895.000000\n",
       "dtype: float64"
      ]
     },
     "execution_count": 25,
     "metadata": {},
     "output_type": "execute_result"
    }
   ],
   "source": [
    "np.abs(new_date).describe()"
   ]
  },
  {
   "cell_type": "code",
   "execution_count": null,
   "metadata": {
    "collapsed": false
   },
   "outputs": [],
   "source": [
    "keep_as_is = ['DateFirstEpisode', 'DateLastEpisode','TotalEpisodes','RatingCount', 'AverageRating', 'CategoryRanking' ]\n",
    "df3 = df[keep_as_is].copy()"
   ]
  },
  {
   "cell_type": "code",
   "execution_count": null,
   "metadata": {
    "collapsed": false
   },
   "outputs": [],
   "source": [
    "append_new_cols = [ 'Title', 'iTunesSubtitle', 'iTunesSummary', 'iTunesKeywords', 'Category', 'iTunesAuthor']"
   ]
  },
  {
   "cell_type": "code",
   "execution_count": null,
   "metadata": {
    "collapsed": false
   },
   "outputs": [],
   "source": [
    "final = df3.copy()\n",
    "for column in append_new_cols:\n",
    "    temp = get_top_100(col=column)\n",
    "    final = pd.concat([final, temp], axis=1)"
   ]
  },
  {
   "cell_type": "code",
   "execution_count": null,
   "metadata": {
    "collapsed": false
   },
   "outputs": [],
   "source": [
    "correlation = final.corr()"
   ]
  },
  {
   "cell_type": "code",
   "execution_count": null,
   "metadata": {
    "collapsed": false
   },
   "outputs": [],
   "source": [
    "from sklearn.cluster import KMeans\n",
    "cluster_me = KMeans(n_clusters=8)"
   ]
  },
  {
   "cell_type": "code",
   "execution_count": null,
   "metadata": {
    "collapsed": false
   },
   "outputs": [],
   "source": [
    "y_pred = KMeans(n_clusters=20, random_state=55).fit_predict(temp)"
   ]
  },
  {
   "cell_type": "code",
   "execution_count": null,
   "metadata": {
    "collapsed": false
   },
   "outputs": [],
   "source": [
    "plt.subplot(221)\n",
    "plt.scatter(temp.iloc[:, 0], temp.iloc[:, 1], c=y_pred)"
   ]
  },
  {
   "cell_type": "code",
   "execution_count": null,
   "metadata": {
    "collapsed": false
   },
   "outputs": [],
   "source": [
    "temp"
   ]
  },
  {
   "cell_type": "code",
   "execution_count": null,
   "metadata": {
    "collapsed": false
   },
   "outputs": [],
   "source": [
    "df2.Category.value_counts()"
   ]
  },
  {
   "cell_type": "code",
   "execution_count": null,
   "metadata": {
    "collapsed": false
   },
   "outputs": [],
   "source": [
    "#change into individual dummies\n",
    "\n",
    "df2.iTunesKeywords"
   ]
  },
  {
   "cell_type": "code",
   "execution_count": null,
   "metadata": {
    "collapsed": false
   },
   "outputs": [],
   "source": [
    "df2.Summary_categories.value_counts()"
   ]
  },
  {
   "cell_type": "code",
   "execution_count": 36,
   "metadata": {
    "collapsed": true
   },
   "outputs": [],
   "source": [
    "##remove the following:\n",
    "site = 'https://www.bing.com/search?q=vegetarian+twitter&qs=n&form=QBLH&pq=vegetarian+twitter&sc=1-18&sp=-1&sk=&cvid=CD411FFF9FF64463B4FCCA7F7F9F6512'\n"
   ]
  },
  {
   "cell_type": "code",
   "execution_count": 38,
   "metadata": {
    "collapsed": false
   },
   "outputs": [
    {
     "name": "stderr",
     "output_type": "stream",
     "text": [
      "/home/ubuntu/anaconda2/lib/python2.7/site-packages/bs4/__init__.py:166: UserWarning: No parser was explicitly specified, so I'm using the best available HTML parser for this system (\"lxml\"). This usually isn't a problem, but if you run this code on another system, or in a different virtual environment, it may use a different parser and behave differently.\n",
      "\n",
      "To get rid of this warning, change this:\n",
      "\n",
      " BeautifulSoup([your markup])\n",
      "\n",
      "to this:\n",
      "\n",
      " BeautifulSoup([your markup], \"lxml\")\n",
      "\n",
      "  markup_type=markup_type))\n"
     ]
    }
   ],
   "source": [
    "soup = BeautifulSoup(requests.get(site).content, 'html')"
   ]
  },
  {
   "cell_type": "code",
   "execution_count": 44,
   "metadata": {
    "collapsed": false
   },
   "outputs": [
    {
     "data": {
      "text/plain": [
       "<li class=\"b_algo\"><h2><a h=\"ID=SERP,5123.1\" href=\"https://twitter.com/vegan\"><strong>Vegan</strong> (@<strong>vegan</strong>) | <strong>Twitter</strong></a></h2><div class=\"b_caption\"><div class=\"b_attribution\" u=\"0|5056|4907663091237214|l_g9PVE23uG3vyOfHINOWvsJNBiUee-T\"><cite>https://<strong>twitter.com</strong>/<strong>vegan</strong></cite><span class=\"c_tlbxTrg\"><span class=\"c_tlbxH\" h=\"BASE:CACHEDPAGEDEFAULT\" k=\"SERP,5124.1\"></span></span></div><ul class=\"b_factrownosep\"><li>156K FOLLOWERS</li><li>16K TWEETS</li></ul><p>@<strong>vegan</strong> is blocked. Are you sure you want to view these Tweets? Viewing Tweets won't unblock @<strong>vegan</strong>. View Tweets</p></div></li>"
      ]
     },
     "execution_count": 44,
     "metadata": {},
     "output_type": "execute_result"
    }
   ],
   "source": [
    "result_1 = soup.find('ol', {'id':'b_results'}).find('li', {'class':'b_algo'})\n",
    "result_1"
   ]
  },
  {
   "cell_type": "code",
   "execution_count": 37,
   "metadata": {
    "collapsed": true
   },
   "outputs": [],
   "source": [
    "import requests\n",
    "from bs4 import BeautifulSoup\n",
    "import re"
   ]
  },
  {
   "cell_type": "code",
   "execution_count": null,
   "metadata": {
    "collapsed": false
   },
   "outputs": [],
   "source": [
    "ls=[]\n",
    "n = 0\n",
    "for Title in GF.df.Title:\n",
    "    if re.search('|', Title):\n",
    "        Title = Title.split('|')[0].strip()\n",
    "        \n",
    "    a = Title.split()\n",
    "    pName = '+'.join(a)\n",
    "    site = 'https://www.bing.com/search?q=' + pName + '+site%3Atwitter.com'\n",
    "    soup = BeautifulSoup(requests.get(site).content, 'html')\n",
    "    result_step1 = soup.find('ol', {'id':'b_results'}).find('li', {'class':'b_algo'})\n",
    "    result_step2 = result_step1.find('a').get('href')\n",
    "    if re.match(r'https://twitter.com/', result_step2):\n",
    "        '''get the twitter handle'''\n",
    "        twitter_handle = \"@\" + result_step2.replace(r'https://twitter.com/', '')\n",
    "        n +=1\n",
    "        if n % 100 == 0:\n",
    "            print \"*\",\n",
    "    else:\n",
    "        twitter_handle = 'NaN'\n",
    "    ls.append(twitter_handle)"
   ]
  },
  {
   "cell_type": "code",
   "execution_count": 96,
   "metadata": {
    "collapsed": false
   },
   "outputs": [],
   "source": [
    "df_title = df['Title'].copy()"
   ]
  },
  {
   "cell_type": "code",
   "execution_count": 97,
   "metadata": {
    "collapsed": false
   },
   "outputs": [
    {
     "data": {
      "text/plain": [
       "0                                          The Moth Podcast\n",
       "1                                                 Fresh Air\n",
       "2                                             99% Invisible\n",
       "3                                           Selected Shorts\n",
       "4                                           The Black Tapes\n",
       "5                                        The Splendid Table\n",
       "6                                                  Limetown\n",
       "7                The Writer's Almanac with Garrison Keillor\n",
       "8                                      New Yorker: Out Loud\n",
       "9                                               The Message\n",
       "10                         KEXP Presents Music That Matters\n",
       "11                                              Book Review\n",
       "12                                The Dinner Party Download\n",
       "13                                                    TANIS\n",
       "14                                       This Week in Photo\n",
       "15                                    Bon Appétit Foodcast \n",
       "16                                         Philosophy Bites\n",
       "17                                The Classic Tales Podcast\n",
       "18                                  TIPS FROM THE TOP FLOOR\n",
       "19                                            Magic Lessons\n",
       "20                                      The NoSleep Podcast\n",
       "21                                                The Truth\n",
       "22                                          PHOTOGRAPHY 101\n",
       "23                                            Start Cooking\n",
       "24                        Merriam-Webster's Word of the Day\n",
       "25                                               Escape Pod\n",
       "26                           iFanboy.com Comic Book Podcast\n",
       "27                                         Imaginary Worlds\n",
       "28        What Should I Read Next?: Book Talk | Reading ...\n",
       "29                                             Delicious TV\n",
       "                                ...                        \n",
       "155774                                    Crossroads Church\n",
       "155775                               Computer Talk with TAB\n",
       "155776               Charlotte Tilbury with Kinvara Balfour\n",
       "155777    Crossroads Bible Church | Kennewick, WA | Audi...\n",
       "155778                                  MovieCast - Classic\n",
       "155779                              Compound Stock Earnings\n",
       "155780                                      Audiowave Radio\n",
       "155781                                            CEO Today\n",
       "155782                           Tenstrike Community Church\n",
       "155783                                       Creative Shift\n",
       "155784                    Whale Wars AfterBuzz TV AfterShow\n",
       "155785                   Operation Santa Claus 2014 (Video)\n",
       "155786                              Creative Hustle Podcast\n",
       "155787                                          CENLA RADIO\n",
       "155788                                  Capturando Momentos\n",
       "155789                                       Commodity Week\n",
       "155790                                            Chai Chat\n",
       "155791                                          Thrash Talk\n",
       "155792                                   Hitmix by DJ Dam's\n",
       "155793                           TK Jingles Weekly Prodcast\n",
       "155794    Conejo Valley Advice Givers | Business Owners ...\n",
       "155795                                   Content of Success\n",
       "155796                                     The Tuesday Show\n",
       "155797                               College Gaming Podcast\n",
       "155798         Connector Podcast - Makers, Movers & Shakers\n",
       "155799                                       CEM Audio Edge\n",
       "155800                       Good Times: With Steve Simeone\n",
       "155801                            Criatividade Para Normais\n",
       "155802                       Perfectly Polished With Nicole\n",
       "155803              Create Your Fortune, Fame, & Following \n",
       "Name: Title, dtype: object"
      ]
     },
     "execution_count": 97,
     "metadata": {},
     "output_type": "execute_result"
    }
   ],
   "source": [
    "df_title['podcasts']"
   ]
  },
  {
   "cell_type": "code",
   "execution_count": 81,
   "metadata": {
    "collapsed": false
   },
   "outputs": [],
   "source": [
    "a = GF.df.Title[0]"
   ]
  },
  {
   "cell_type": "code",
   "execution_count": 82,
   "metadata": {
    "collapsed": false
   },
   "outputs": [],
   "source": [
    "a = t.split()\n",
    "pName = '+'.join(a)\n"
   ]
  },
  {
   "cell_type": "code",
   "execution_count": 83,
   "metadata": {
    "collapsed": false
   },
   "outputs": [
    {
     "data": {
      "text/plain": [
       "'The+Moth+Podcast'"
      ]
     },
     "execution_count": 83,
     "metadata": {},
     "output_type": "execute_result"
    }
   ],
   "source": [
    "pName"
   ]
  },
  {
   "cell_type": "code",
   "execution_count": 85,
   "metadata": {
    "collapsed": false
   },
   "outputs": [
    {
     "data": {
      "text/plain": [
       "'https://www.bing.com/search?q=The+Moth+Podcast+site%3Atwitter.com'"
      ]
     },
     "execution_count": 85,
     "metadata": {},
     "output_type": "execute_result"
    }
   ],
   "source": [
    "site = 'https://www.bing.com/search?q=' + pName + '+site%3Atwitter.com'\n",
    "site"
   ]
  },
  {
   "cell_type": "code",
   "execution_count": 80,
   "metadata": {
    "collapsed": false
   },
   "outputs": [
    {
     "data": {
      "text/plain": [
       "'https://www.bing.com/search?q=The+Moth+Podcast+twitter&qs=n&form=QBLH&pq=The+Moth+Podcast+twitter&sc=1-18&sp=-1&sk=&cvid=CD411FFF9FF64463B4FCCA7F7F9F6512'"
      ]
     },
     "execution_count": 80,
     "metadata": {},
     "output_type": "execute_result"
    }
   ],
   "source": [
    "site = 'https://www.bing.com/search?q=' + pName + \"&qs=n&form=QBLH&pq=\" + pName + \"&sc=1-18&sp=-1&sk=&cvid=CD411FFF9FF64463B4FCCA7F7F9F6512\"\n",
    "site"
   ]
  },
  {
   "cell_type": "code",
   "execution_count": 66,
   "metadata": {
    "collapsed": false
   },
   "outputs": [],
   "source": [
    "words = [t.split()]\n",
    "words = words.append(\"twitter\")\n",
    "#'+'.join(words)\n",
    "words"
   ]
  },
  {
   "cell_type": "code",
   "execution_count": 50,
   "metadata": {
    "collapsed": true
   },
   "outputs": [],
   "source": [
    "if re.search('|', pName):\n",
    "        pName = pName.split('|')[0].strip()"
   ]
  },
  {
   "cell_type": "code",
   "execution_count": 53,
   "metadata": {
    "collapsed": false
   },
   "outputs": [
    {
     "data": {
      "text/plain": [
       "<a h=\"ID=SERP,5123.1\" href=\"https://twitter.com/vegan\"><strong>Vegan</strong> (@<strong>vegan</strong>) | <strong>Twitter</strong></a>"
      ]
     },
     "execution_count": 53,
     "metadata": {},
     "output_type": "execute_result"
    }
   ],
   "source": [
    "result_1.find('a', {'h': 'ID=SERP,5123.1' })"
   ]
  },
  {
   "cell_type": "code",
   "execution_count": 55,
   "metadata": {
    "collapsed": false
   },
   "outputs": [
    {
     "data": {
      "text/plain": [
       "'@vegan'"
      ]
     },
     "execution_count": 55,
     "metadata": {},
     "output_type": "execute_result"
    }
   ],
   "source": [
    "\"@\" + b.replace(r'https://twitter.com/', '')"
   ]
  },
  {
   "cell_type": "code",
   "execution_count": 52,
   "metadata": {
    "collapsed": false
   },
   "outputs": [
    {
     "data": {
      "text/plain": [
       "<_sre.SRE_Match at 0x7f9e9c847c60>"
      ]
     },
     "execution_count": 52,
     "metadata": {},
     "output_type": "execute_result"
    }
   ],
   "source": [
    "re.match(r'https://twitter.com/', b)"
   ]
  }
 ],
 "metadata": {
  "hide_input": false,
  "kernelspec": {
   "display_name": "Python 2",
   "language": "python",
   "name": "python2"
  },
  "language_info": {
   "codemirror_mode": {
    "name": "ipython",
    "version": 2
   },
   "file_extension": ".py",
   "mimetype": "text/x-python",
   "name": "python",
   "nbconvert_exporter": "python",
   "pygments_lexer": "ipython2",
   "version": "2.7.11"
  }
 },
 "nbformat": 4,
 "nbformat_minor": 0
}
