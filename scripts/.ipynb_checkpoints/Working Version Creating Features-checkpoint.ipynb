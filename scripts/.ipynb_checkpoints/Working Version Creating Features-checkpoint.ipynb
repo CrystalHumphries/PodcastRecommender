{
 "cells": [
  {
   "cell_type": "code",
   "execution_count": 303,
   "metadata": {
    "collapsed": false
   },
   "outputs": [],
   "source": [
    "import graphlab as gl\n",
    "gl.canvas.set_target('ipynb')\n",
    "import matplotlib.pyplot as plt\n",
    "from PodcastFeatureEngineering import Podcast_Features\n",
    "%matplotlib inline\n",
    "import numpy as np\n",
    "from sklearn.feature_extraction.text import TfidfVectorizer\n",
    "import pandas as pd\n",
    "import imp\n",
    "import os\n",
    "from collections import Counter"
   ]
  },
  {
   "cell_type": "code",
   "execution_count": 279,
   "metadata": {
    "collapsed": false
   },
   "outputs": [],
   "source": [
    "loc = os.path.join('/home/ubuntu/PodcastRecommender/', \"src/twitter_followers_list.py\")\n",
    "tweets = imp.load_source('get_twitter_followers', loc)\n",
    "tweets = tweets.get_twitter_followers()\n",
    "tweets.get_overlapping_users(Num=5)\n",
    "item_sim_mat = tweets.Item_sim_matrix(max_num=20000)"
   ]
  },
  {
   "cell_type": "code",
   "execution_count": null,
   "metadata": {
    "collapsed": false
   },
   "outputs": [],
   "source": [
    "sf = gl.SFrame(item_sim_mat)"
   ]
  },
  {
   "cell_type": "code",
   "execution_count": null,
   "metadata": {
    "collapsed": false
   },
   "outputs": [],
   "source": [
    "(train_set, test_set) = sf.random_split(0.8, seed=1)"
   ]
  },
  {
   "cell_type": "code",
   "execution_count": 6,
   "metadata": {
    "collapsed": false
   },
   "outputs": [],
   "source": [
    "items = gl.load_sframe(\"../data/items_podcast_sframe.gl/\")"
   ]
  },
  {
   "cell_type": "code",
   "execution_count": 7,
   "metadata": {
    "collapsed": false
   },
   "outputs": [
    {
     "data": {
      "text/html": [
       "<div style=\"max-height:1000px;max-width:1500px;overflow:auto;\"><table frame=\"box\" rules=\"cols\">\n",
       "    <tr>\n",
       "        <th style=\"padding-left: 1em; padding-right: 1em; text-align: center\">Title</th>\n",
       "        <th style=\"padding-left: 1em; padding-right: 1em; text-align: center\">user_id</th>\n",
       "    </tr>\n",
       "    <tr>\n",
       "        <td style=\"padding-left: 1em; padding-right: 1em; text-align: center; vertical-align: top\">For The Show MIA</td>\n",
       "        <td style=\"padding-left: 1em; padding-right: 1em; text-align: center; vertical-align: top\">user_2488</td>\n",
       "    </tr>\n",
       "    <tr>\n",
       "        <td style=\"padding-left: 1em; padding-right: 1em; text-align: center; vertical-align: top\">For The Show MIA</td>\n",
       "        <td style=\"padding-left: 1em; padding-right: 1em; text-align: center; vertical-align: top\">user_13980</td>\n",
       "    </tr>\n",
       "</table>\n",
       "[2 rows x 2 columns]<br/>\n",
       "</div>"
      ],
      "text/plain": [
       "Columns:\n",
       "\tTitle\tstr\n",
       "\tuser_id\tstr\n",
       "\n",
       "Rows: 2\n",
       "\n",
       "Data:\n",
       "+------------------+------------+\n",
       "|      Title       |  user_id   |\n",
       "+------------------+------------+\n",
       "| For The Show MIA | user_2488  |\n",
       "| For The Show MIA | user_13980 |\n",
       "+------------------+------------+\n",
       "[2 rows x 2 columns]"
      ]
     },
     "execution_count": 7,
     "metadata": {},
     "output_type": "execute_result"
    }
   ],
   "source": [
    "train_set.head(2)"
   ]
  },
  {
   "cell_type": "code",
   "execution_count": 8,
   "metadata": {
    "collapsed": false
   },
   "outputs": [
    {
     "data": {
      "text/html": [
       "<div style=\"max-height:1000px;max-width:1500px;overflow:auto;\"><table frame=\"box\" rules=\"cols\">\n",
       "    <tr>\n",
       "        <th style=\"padding-left: 1em; padding-right: 1em; text-align: center\">TotalEpisodes</th>\n",
       "        <th style=\"padding-left: 1em; padding-right: 1em; text-align: center\">RatingCount</th>\n",
       "        <th style=\"padding-left: 1em; padding-right: 1em; text-align: center\">AverageRating</th>\n",
       "        <th style=\"padding-left: 1em; padding-right: 1em; text-align: center\">CategoryRanking</th>\n",
       "        <th style=\"padding-left: 1em; padding-right: 1em; text-align: center\">Title</th>\n",
       "    </tr>\n",
       "    <tr>\n",
       "        <td style=\"padding-left: 1em; padding-right: 1em; text-align: center; vertical-align: top\">50</td>\n",
       "        <td style=\"padding-left: 1em; padding-right: 1em; text-align: center; vertical-align: top\">2195</td>\n",
       "        <td style=\"padding-left: 1em; padding-right: 1em; text-align: center; vertical-align: top\">4.5</td>\n",
       "        <td style=\"padding-left: 1em; padding-right: 1em; text-align: center; vertical-align: top\">1</td>\n",
       "        <td style=\"padding-left: 1em; padding-right: 1em; text-align: center; vertical-align: top\">Fresh Air</td>\n",
       "    </tr>\n",
       "    <tr>\n",
       "        <td style=\"padding-left: 1em; padding-right: 1em; text-align: center; vertical-align: top\">8</td>\n",
       "        <td style=\"padding-left: 1em; padding-right: 1em; text-align: center; vertical-align: top\">851</td>\n",
       "        <td style=\"padding-left: 1em; padding-right: 1em; text-align: center; vertical-align: top\">4.5</td>\n",
       "        <td style=\"padding-left: 1em; padding-right: 1em; text-align: center; vertical-align: top\">4</td>\n",
       "        <td style=\"padding-left: 1em; padding-right: 1em; text-align: center; vertical-align: top\">Selected Shorts</td>\n",
       "    </tr>\n",
       "</table>\n",
       "[2 rows x 5 columns]<br/>\n",
       "</div>"
      ],
      "text/plain": [
       "Columns:\n",
       "\tTotalEpisodes\tint\n",
       "\tRatingCount\tint\n",
       "\tAverageRating\tfloat\n",
       "\tCategoryRanking\tint\n",
       "\tTitle\tstr\n",
       "\n",
       "Rows: 2\n",
       "\n",
       "Data:\n",
       "+---------------+-------------+---------------+-----------------+\n",
       "| TotalEpisodes | RatingCount | AverageRating | CategoryRanking |\n",
       "+---------------+-------------+---------------+-----------------+\n",
       "|       50      |     2195    |      4.5      |        1        |\n",
       "|       8       |     851     |      4.5      |        4        |\n",
       "+---------------+-------------+---------------+-----------------+\n",
       "+-----------------+\n",
       "|      Title      |\n",
       "+-----------------+\n",
       "|    Fresh Air    |\n",
       "| Selected Shorts |\n",
       "+-----------------+\n",
       "[2 rows x 5 columns]"
      ]
     },
     "execution_count": 8,
     "metadata": {},
     "output_type": "execute_result"
    }
   ],
   "source": [
    "items.head(2)"
   ]
  },
  {
   "cell_type": "code",
   "execution_count": 23,
   "metadata": {
    "collapsed": false
   },
   "outputs": [
    {
     "data": {
      "text/html": [
       "<pre>Recsys training: model = item_similarity</pre>"
      ],
      "text/plain": [
       "Recsys training: model = item_similarity"
      ]
     },
     "metadata": {},
     "output_type": "display_data"
    },
    {
     "data": {
      "text/plain": [
       "{'precision_recall_by_user': Columns:\n",
       " \tuser_id\tstr\n",
       " \tcutoff\tint\n",
       " \tprecision\tfloat\n",
       " \trecall\tfloat\n",
       " \tcount\tint\n",
       " \n",
       " Rows: 84170\n",
       " \n",
       " Data:\n",
       " +---------+--------+----------------+--------+-------+\n",
       " | user_id | cutoff |   precision    | recall | count |\n",
       " +---------+--------+----------------+--------+-------+\n",
       " |  user_0 |   1    |      1.0       |  0.5   |   2   |\n",
       " |  user_0 |   2    |      1.0       |  1.0   |   2   |\n",
       " |  user_0 |   3    | 0.666666666667 |  1.0   |   2   |\n",
       " |  user_0 |   4    |      0.5       |  1.0   |   2   |\n",
       " |  user_0 |   5    |      0.4       |  1.0   |   2   |\n",
       " |  user_1 |   1    |      0.0       |  0.0   |   1   |\n",
       " |  user_1 |   2    |      0.0       |  0.0   |   1   |\n",
       " |  user_1 |   3    |      0.0       |  0.0   |   1   |\n",
       " |  user_1 |   4    |      0.0       |  0.0   |   1   |\n",
       " |  user_1 |   5    |      0.0       |  0.0   |   1   |\n",
       " +---------+--------+----------------+--------+-------+\n",
       " [84170 rows x 5 columns]\n",
       " Note: Only the head of the SFrame is printed.\n",
       " You can use print_rows(num_rows=m, num_columns=n) to print more rows and columns.,\n",
       " 'precision_recall_overall': Columns:\n",
       " \tcutoff\tint\n",
       " \tprecision\tfloat\n",
       " \trecall\tfloat\n",
       " \n",
       " Rows: 5\n",
       " \n",
       " Data:\n",
       " +--------+----------------+----------------+\n",
       " | cutoff |   precision    |     recall     |\n",
       " +--------+----------------+----------------+\n",
       " |   1    | 0.533147202091 | 0.170298135641 |\n",
       " |   2    | 0.447041701319 | 0.257479615191 |\n",
       " |   3    | 0.386539146964 | 0.309802289674 |\n",
       " |   4    | 0.33932814542  | 0.342189922814 |\n",
       " |   5    | 0.30098609956  | 0.362848664249 |\n",
       " +--------+----------------+----------------+\n",
       " [5 rows x 3 columns]}"
      ]
     },
     "execution_count": 23,
     "metadata": {},
     "output_type": "execute_result"
    }
   ],
   "source": [
    "item_model = gl.item_similarity_recommender.create(train_set, user_id=\"user_id\", \n",
    "                                                   item_id=\"Title\", item_data=items, verbose=False)\n",
    "item_model.evaluate_precision_recall(test_set, cutoffs=[1,2,3,4,5], verbose=False)"
   ]
  },
  {
   "cell_type": "code",
   "execution_count": 11,
   "metadata": {
    "collapsed": false
   },
   "outputs": [
    {
     "data": {
      "text/html": [
       "<pre>Recsys training: model = item_similarity</pre>"
      ],
      "text/plain": [
       "Recsys training: model = item_similarity"
      ]
     },
     "metadata": {},
     "output_type": "display_data"
    },
    {
     "data": {
      "text/html": [
       "<pre>Recsys training: model = item_similarity</pre>"
      ],
      "text/plain": [
       "Recsys training: model = item_similarity"
      ]
     },
     "metadata": {},
     "output_type": "display_data"
    },
    {
     "name": "stdout",
     "output_type": "stream",
     "text": [
      "*****\n",
      "+--------+----------------+----------------+\n",
      "| cutoff |   precision    |     recall     |\n",
      "+--------+----------------+----------------+\n",
      "|   1    | 0.536295592254 | 0.170910758672 |\n",
      "|   2    | 0.449774266366 | 0.257659854543 |\n",
      "|   3    | 0.389350916795 | 0.310340660954 |\n",
      "|   4    | 0.342357728407 | 0.342914312382 |\n",
      "|   5    | 0.303861233218 | 0.363585299831 |\n",
      "+--------+----------------+----------------+\n",
      "[5 rows x 3 columns]\n",
      "\n",
      "*****"
     ]
    },
    {
     "data": {
      "text/html": [
       "<pre>Recsys training: model = item_similarity</pre>"
      ],
      "text/plain": [
       "Recsys training: model = item_similarity"
      ]
     },
     "metadata": {},
     "output_type": "display_data"
    },
    {
     "name": "stdout",
     "output_type": "stream",
     "text": [
      "\n",
      "+--------+----------------+----------------+\n",
      "| cutoff |   precision    |     recall     |\n",
      "+--------+----------------+----------------+\n",
      "|   1    | 0.535107520494 | 0.170551560155 |\n",
      "|   2    | 0.44950695022  | 0.257706623396 |\n",
      "|   3    | 0.389192507227 | 0.310221325815 |\n",
      "|   4    | 0.342238921231 | 0.342669580655 |\n",
      "|   5    | 0.303920636806 | 0.363405679496 |\n",
      "+--------+----------------+----------------+\n",
      "[5 rows x 3 columns]\n",
      "\n",
      "*****"
     ]
    },
    {
     "data": {
      "text/html": [
       "<pre>Recsys training: model = item_similarity</pre>"
      ],
      "text/plain": [
       "Recsys training: model = item_similarity"
      ]
     },
     "metadata": {},
     "output_type": "display_data"
    },
    {
     "name": "stdout",
     "output_type": "stream",
     "text": [
      "\n",
      "+--------+----------------+----------------+\n",
      "| cutoff |   precision    |     recall     |\n",
      "+--------+----------------+----------------+\n",
      "|   1    | 0.535582749198 | 0.170513485061 |\n",
      "|   2    | 0.450160389688 | 0.257862817701 |\n",
      "|   3    | 0.389430121579 | 0.310259252423 |\n",
      "|   4    | 0.342298324819 | 0.342731361683 |\n",
      "|   5    | 0.303980040394 | 0.363603956659 |\n",
      "+--------+----------------+----------------+\n",
      "[5 rows x 3 columns]\n",
      "\n",
      "*****\n",
      "+--------+----------------+----------------+\n",
      "| cutoff |   precision    |     recall     |\n",
      "+--------+----------------+----------------+\n",
      "|   1    | 0.534157063087 | 0.170321236635 |\n",
      "|   2    | 0.449625757396 | 0.257984989019 |\n",
      "|   3    | 0.389093501247 | 0.310667349925 |\n",
      "|   4    | 0.341496376381 | 0.342852958376 |\n",
      "|   5    | 0.30311274801  | 0.36331313608  |\n",
      "+--------+----------------+----------------+\n",
      "[5 rows x 3 columns]\n",
      "\n"
     ]
    }
   ],
   "source": [
    "for col in items.column_names()[:-1]:\n",
    "    cols = ['Title']\n",
    "    cols.append(col)\n",
    "    item_model = gl.item_similarity_recommender.create(train_set, user_id=\"user_id\", \n",
    "                                                       item_id=\"Title\", item_data=items[cols], verbose=False)\n",
    "    results = item_model.evaluate_precision_recall(test_set, cutoffs=[1,2,3,4,5], verbose=False)\n",
    "    print \"*****\"\n",
    "    print results['precision_recall_overall']"
   ]
  },
  {
   "cell_type": "code",
   "execution_count": 12,
   "metadata": {
    "collapsed": false
   },
   "outputs": [
    {
     "name": "stderr",
     "output_type": "stream",
     "text": [
      "/home/ubuntu/anaconda2/lib/python2.7/site-packages/IPython/core/interactiveshell.py:3066: DtypeWarning: Columns (14,15,17) have mixed types. Specify dtype option on import or set low_memory=False.\n",
      "  exec(code_obj, self.user_global_ns, self.user_ns)\n",
      "clean_podcast_csv.py:24: FutureWarning: the coerce=True keyword is deprecated, use errors='coerce' instead\n",
      "  self.df['DateFirstEpisode'] = self.df.DateFirstEpisode.apply(lambda x: pd.to_datetime(str(x), coerce=True))\n"
     ]
    },
    {
     "name": "stdout",
     "output_type": "stream",
     "text": [
      "Creating Tf-idf\n"
     ]
    },
    {
     "name": "stderr",
     "output_type": "stream",
     "text": [
      "clean_podcast_csv.py:25: FutureWarning: the coerce=True keyword is deprecated, use errors='coerce' instead\n",
      "  self.df['DateLastEpisode']  = self.df.DateLastEpisode.apply(lambda x: pd.to_datetime(str(x), coerce=True))\n"
     ]
    }
   ],
   "source": [
    "PF = Podcast_Features()\n",
    "df = PF.cleaned_df"
   ]
  },
  {
   "cell_type": "code",
   "execution_count": 13,
   "metadata": {
    "collapsed": false
   },
   "outputs": [],
   "source": [
    "dates=[]\n",
    "for a,b in  zip(PF.df.DateLastEpisode, PF.df.DateFirstEpisode):\n",
    "    try:\n",
    "        new = (a-b).days\n",
    "    except:\n",
    "        new = 'NaT'\n",
    "    dates.append(new)\n",
    "dates = np.array(dates)"
   ]
  },
  {
   "cell_type": "code",
   "execution_count": 14,
   "metadata": {
    "collapsed": false
   },
   "outputs": [],
   "source": [
    "g = df.columns.to_series().groupby(df.dtypes).groups\n",
    "c = g.keys()\n",
    "df2 = df.drop(g[c[0]], axis=1)\n",
    "df2 = df2.drop(g[c[1]], axis=1)"
   ]
  },
  {
   "cell_type": "code",
   "execution_count": 15,
   "metadata": {
    "collapsed": false
   },
   "outputs": [],
   "source": [
    "df2['Title'] = df.Title\n",
    "df2['dates'] = dates"
   ]
  },
  {
   "cell_type": "code",
   "execution_count": 26,
   "metadata": {
    "collapsed": false
   },
   "outputs": [],
   "source": [
    "def get_top_100(col, df):\n",
    "    tfidf = TfidfVectorizer( max_features=100, stop_words='english')\n",
    "    X = tfidf.fit_transform(df[col])\n",
    "    return pd.DataFrame(X.toarray(),\n",
    "                        columns=pd.Series(tfidf.get_feature_names()))"
   ]
  },
  {
   "cell_type": "code",
   "execution_count": 19,
   "metadata": {
    "collapsed": false
   },
   "outputs": [
    {
     "data": {
      "text/html": [
       "<div>\n",
       "<table border=\"1\" class=\"dataframe\">\n",
       "  <thead>\n",
       "    <tr style=\"text-align: right;\">\n",
       "      <th></th>\n",
       "      <th>TotalEpisodes</th>\n",
       "      <th>RatingCount</th>\n",
       "      <th>AverageRating</th>\n",
       "      <th>CategoryRanking</th>\n",
       "      <th>Title</th>\n",
       "      <th>dates</th>\n",
       "    </tr>\n",
       "  </thead>\n",
       "  <tbody>\n",
       "    <tr>\n",
       "      <th>0</th>\n",
       "      <td>5</td>\n",
       "      <td>4227</td>\n",
       "      <td>4.5</td>\n",
       "      <td>2</td>\n",
       "      <td>The Moth Podcast</td>\n",
       "      <td>28</td>\n",
       "    </tr>\n",
       "    <tr>\n",
       "      <th>1</th>\n",
       "      <td>50</td>\n",
       "      <td>2195</td>\n",
       "      <td>4.5</td>\n",
       "      <td>1</td>\n",
       "      <td>Fresh Air</td>\n",
       "      <td>57</td>\n",
       "    </tr>\n",
       "    <tr>\n",
       "      <th>2</th>\n",
       "      <td>210</td>\n",
       "      <td>5520</td>\n",
       "      <td>5.0</td>\n",
       "      <td>3</td>\n",
       "      <td>99% Invisible</td>\n",
       "      <td>1951</td>\n",
       "    </tr>\n",
       "    <tr>\n",
       "      <th>3</th>\n",
       "      <td>8</td>\n",
       "      <td>851</td>\n",
       "      <td>4.5</td>\n",
       "      <td>4</td>\n",
       "      <td>Selected Shorts</td>\n",
       "      <td>63</td>\n",
       "    </tr>\n",
       "    <tr>\n",
       "      <th>4</th>\n",
       "      <td>26</td>\n",
       "      <td>1797</td>\n",
       "      <td>4.5</td>\n",
       "      <td>8</td>\n",
       "      <td>The Black Tapes</td>\n",
       "      <td>242</td>\n",
       "    </tr>\n",
       "  </tbody>\n",
       "</table>\n",
       "</div>"
      ],
      "text/plain": [
       "   TotalEpisodes  RatingCount  AverageRating  CategoryRanking  \\\n",
       "0              5         4227            4.5                2   \n",
       "1             50         2195            4.5                1   \n",
       "2            210         5520            5.0                3   \n",
       "3              8          851            4.5                4   \n",
       "4             26         1797            4.5                8   \n",
       "\n",
       "              Title dates  \n",
       "0  The Moth Podcast    28  \n",
       "1         Fresh Air    57  \n",
       "2     99% Invisible  1951  \n",
       "3   Selected Shorts    63  \n",
       "4   The Black Tapes   242  "
      ]
     },
     "execution_count": 19,
     "metadata": {},
     "output_type": "execute_result"
    }
   ],
   "source": [
    "unique_pod = item_sim_mat.Title.unique()\n",
    "df2.head()"
   ]
  },
  {
   "cell_type": "code",
   "execution_count": 21,
   "metadata": {
    "collapsed": false
   },
   "outputs": [],
   "source": [
    "df_reduced = df2[ df2.Title.isin(unique_pod)]\n",
    "df_reduced.shape\n",
    "items_reduced = gl.SFrame(df_reduced)"
   ]
  },
  {
   "cell_type": "code",
   "execution_count": 22,
   "metadata": {
    "collapsed": false
   },
   "outputs": [
    {
     "data": {
      "text/html": [
       "<div style=\"max-height:1000px;max-width:1500px;overflow:auto;\"><table frame=\"box\" rules=\"cols\">\n",
       "    <tr>\n",
       "        <th style=\"padding-left: 1em; padding-right: 1em; text-align: center\">TotalEpisodes</th>\n",
       "        <th style=\"padding-left: 1em; padding-right: 1em; text-align: center\">RatingCount</th>\n",
       "        <th style=\"padding-left: 1em; padding-right: 1em; text-align: center\">AverageRating</th>\n",
       "        <th style=\"padding-left: 1em; padding-right: 1em; text-align: center\">CategoryRanking</th>\n",
       "        <th style=\"padding-left: 1em; padding-right: 1em; text-align: center\">Title</th>\n",
       "        <th style=\"padding-left: 1em; padding-right: 1em; text-align: center\">dates</th>\n",
       "    </tr>\n",
       "    <tr>\n",
       "        <td style=\"padding-left: 1em; padding-right: 1em; text-align: center; vertical-align: top\">8</td>\n",
       "        <td style=\"padding-left: 1em; padding-right: 1em; text-align: center; vertical-align: top\">851</td>\n",
       "        <td style=\"padding-left: 1em; padding-right: 1em; text-align: center; vertical-align: top\">4.5</td>\n",
       "        <td style=\"padding-left: 1em; padding-right: 1em; text-align: center; vertical-align: top\">4</td>\n",
       "        <td style=\"padding-left: 1em; padding-right: 1em; text-align: center; vertical-align: top\">Selected Shorts</td>\n",
       "        <td style=\"padding-left: 1em; padding-right: 1em; text-align: center; vertical-align: top\">63</td>\n",
       "    </tr>\n",
       "    <tr>\n",
       "        <td style=\"padding-left: 1em; padding-right: 1em; text-align: center; vertical-align: top\">26</td>\n",
       "        <td style=\"padding-left: 1em; padding-right: 1em; text-align: center; vertical-align: top\">1797</td>\n",
       "        <td style=\"padding-left: 1em; padding-right: 1em; text-align: center; vertical-align: top\">4.5</td>\n",
       "        <td style=\"padding-left: 1em; padding-right: 1em; text-align: center; vertical-align: top\">8</td>\n",
       "        <td style=\"padding-left: 1em; padding-right: 1em; text-align: center; vertical-align: top\">The Black Tapes</td>\n",
       "        <td style=\"padding-left: 1em; padding-right: 1em; text-align: center; vertical-align: top\">242</td>\n",
       "    </tr>\n",
       "    <tr>\n",
       "        <td style=\"padding-left: 1em; padding-right: 1em; text-align: center; vertical-align: top\">52</td>\n",
       "        <td style=\"padding-left: 1em; padding-right: 1em; text-align: center; vertical-align: top\">298</td>\n",
       "        <td style=\"padding-left: 1em; padding-right: 1em; text-align: center; vertical-align: top\">4.5</td>\n",
       "        <td style=\"padding-left: 1em; padding-right: 1em; text-align: center; vertical-align: top\">7</td>\n",
       "        <td style=\"padding-left: 1em; padding-right: 1em; text-align: center; vertical-align: top\">The Splendid Table</td>\n",
       "        <td style=\"padding-left: 1em; padding-right: 1em; text-align: center; vertical-align: top\">350</td>\n",
       "    </tr>\n",
       "    <tr>\n",
       "        <td style=\"padding-left: 1em; padding-right: 1em; text-align: center; vertical-align: top\">11</td>\n",
       "        <td style=\"padding-left: 1em; padding-right: 1em; text-align: center; vertical-align: top\">941</td>\n",
       "        <td style=\"padding-left: 1em; padding-right: 1em; text-align: center; vertical-align: top\">4.5</td>\n",
       "        <td style=\"padding-left: 1em; padding-right: 1em; text-align: center; vertical-align: top\">9</td>\n",
       "        <td style=\"padding-left: 1em; padding-right: 1em; text-align: center; vertical-align: top\">Limetown</td>\n",
       "        <td style=\"padding-left: 1em; padding-right: 1em; text-align: center; vertical-align: top\">143</td>\n",
       "    </tr>\n",
       "    <tr>\n",
       "        <td style=\"padding-left: 1em; padding-right: 1em; text-align: center; vertical-align: top\">10</td>\n",
       "        <td style=\"padding-left: 1em; padding-right: 1em; text-align: center; vertical-align: top\">407</td>\n",
       "        <td style=\"padding-left: 1em; padding-right: 1em; text-align: center; vertical-align: top\">4.5</td>\n",
       "        <td style=\"padding-left: 1em; padding-right: 1em; text-align: center; vertical-align: top\">12</td>\n",
       "        <td style=\"padding-left: 1em; padding-right: 1em; text-align: center; vertical-align: top\">The Writer's Almanac with<br>Garrison Keillor ...</td>\n",
       "        <td style=\"padding-left: 1em; padding-right: 1em; text-align: center; vertical-align: top\">9</td>\n",
       "    </tr>\n",
       "    <tr>\n",
       "        <td style=\"padding-left: 1em; padding-right: 1em; text-align: center; vertical-align: top\">404</td>\n",
       "        <td style=\"padding-left: 1em; padding-right: 1em; text-align: center; vertical-align: top\">129</td>\n",
       "        <td style=\"padding-left: 1em; padding-right: 1em; text-align: center; vertical-align: top\">4.5</td>\n",
       "        <td style=\"padding-left: 1em; padding-right: 1em; text-align: center; vertical-align: top\">13</td>\n",
       "        <td style=\"padding-left: 1em; padding-right: 1em; text-align: center; vertical-align: top\">New Yorker: Out Loud</td>\n",
       "        <td style=\"padding-left: 1em; padding-right: 1em; text-align: center; vertical-align: top\">3033</td>\n",
       "    </tr>\n",
       "    <tr>\n",
       "        <td style=\"padding-left: 1em; padding-right: 1em; text-align: center; vertical-align: top\">298</td>\n",
       "        <td style=\"padding-left: 1em; padding-right: 1em; text-align: center; vertical-align: top\">135</td>\n",
       "        <td style=\"padding-left: 1em; padding-right: 1em; text-align: center; vertical-align: top\">4.5</td>\n",
       "        <td style=\"padding-left: 1em; padding-right: 1em; text-align: center; vertical-align: top\">16</td>\n",
       "        <td style=\"padding-left: 1em; padding-right: 1em; text-align: center; vertical-align: top\">KEXP Presents Music That<br>Matters ...</td>\n",
       "        <td style=\"padding-left: 1em; padding-right: 1em; text-align: center; vertical-align: top\">2093</td>\n",
       "    </tr>\n",
       "    <tr>\n",
       "        <td style=\"padding-left: 1em; padding-right: 1em; text-align: center; vertical-align: top\">100</td>\n",
       "        <td style=\"padding-left: 1em; padding-right: 1em; text-align: center; vertical-align: top\">445</td>\n",
       "        <td style=\"padding-left: 1em; padding-right: 1em; text-align: center; vertical-align: top\">4.5</td>\n",
       "        <td style=\"padding-left: 1em; padding-right: 1em; text-align: center; vertical-align: top\">18</td>\n",
       "        <td style=\"padding-left: 1em; padding-right: 1em; text-align: center; vertical-align: top\">The Dinner Party Download</td>\n",
       "        <td style=\"padding-left: 1em; padding-right: 1em; text-align: center; vertical-align: top\">622</td>\n",
       "    </tr>\n",
       "    <tr>\n",
       "        <td style=\"padding-left: 1em; padding-right: 1em; text-align: center; vertical-align: top\">10</td>\n",
       "        <td style=\"padding-left: 1em; padding-right: 1em; text-align: center; vertical-align: top\">678</td>\n",
       "        <td style=\"padding-left: 1em; padding-right: 1em; text-align: center; vertical-align: top\">5.0</td>\n",
       "        <td style=\"padding-left: 1em; padding-right: 1em; text-align: center; vertical-align: top\">19</td>\n",
       "        <td style=\"padding-left: 1em; padding-right: 1em; text-align: center; vertical-align: top\">TANIS</td>\n",
       "        <td style=\"padding-left: 1em; padding-right: 1em; text-align: center; vertical-align: top\">112</td>\n",
       "    </tr>\n",
       "    <tr>\n",
       "        <td style=\"padding-left: 1em; padding-right: 1em; text-align: center; vertical-align: top\">288</td>\n",
       "        <td style=\"padding-left: 1em; padding-right: 1em; text-align: center; vertical-align: top\">556</td>\n",
       "        <td style=\"padding-left: 1em; padding-right: 1em; text-align: center; vertical-align: top\">4.5</td>\n",
       "        <td style=\"padding-left: 1em; padding-right: 1em; text-align: center; vertical-align: top\">22</td>\n",
       "        <td style=\"padding-left: 1em; padding-right: 1em; text-align: center; vertical-align: top\">Philosophy Bites</td>\n",
       "        <td style=\"padding-left: 1em; padding-right: 1em; text-align: center; vertical-align: top\">3162</td>\n",
       "    </tr>\n",
       "</table>\n",
       "[10 rows x 6 columns]<br/>\n",
       "</div>"
      ],
      "text/plain": [
       "Columns:\n",
       "\tTotalEpisodes\tint\n",
       "\tRatingCount\tint\n",
       "\tAverageRating\tfloat\n",
       "\tCategoryRanking\tint\n",
       "\tTitle\tstr\n",
       "\tdates\tstr\n",
       "\n",
       "Rows: 10\n",
       "\n",
       "Data:\n",
       "+---------------+-------------+---------------+-----------------+\n",
       "| TotalEpisodes | RatingCount | AverageRating | CategoryRanking |\n",
       "+---------------+-------------+---------------+-----------------+\n",
       "|       8       |     851     |      4.5      |        4        |\n",
       "|       26      |     1797    |      4.5      |        8        |\n",
       "|       52      |     298     |      4.5      |        7        |\n",
       "|       11      |     941     |      4.5      |        9        |\n",
       "|       10      |     407     |      4.5      |        12       |\n",
       "|      404      |     129     |      4.5      |        13       |\n",
       "|      298      |     135     |      4.5      |        16       |\n",
       "|      100      |     445     |      4.5      |        18       |\n",
       "|       10      |     678     |      5.0      |        19       |\n",
       "|      288      |     556     |      4.5      |        22       |\n",
       "+---------------+-------------+---------------+-----------------+\n",
       "+-------------------------------+-------+\n",
       "|             Title             | dates |\n",
       "+-------------------------------+-------+\n",
       "|        Selected Shorts        |   63  |\n",
       "|        The Black Tapes        |  242  |\n",
       "|       The Splendid Table      |  350  |\n",
       "|            Limetown           |  143  |\n",
       "| The Writer's Almanac with ... |   9   |\n",
       "|      New Yorker: Out Loud     |  3033 |\n",
       "| KEXP Presents Music That M... |  2093 |\n",
       "|   The Dinner Party Download   |  622  |\n",
       "|             TANIS             |  112  |\n",
       "|        Philosophy Bites       |  3162 |\n",
       "+-------------------------------+-------+\n",
       "[10 rows x 6 columns]"
      ]
     },
     "execution_count": 22,
     "metadata": {},
     "output_type": "execute_result"
    }
   ],
   "source": [
    "items_reduced.head()"
   ]
  },
  {
   "cell_type": "code",
   "execution_count": 24,
   "metadata": {
    "collapsed": false
   },
   "outputs": [
    {
     "data": {
      "text/html": [
       "<pre>Recsys training: model = item_similarity</pre>"
      ],
      "text/plain": [
       "Recsys training: model = item_similarity"
      ]
     },
     "metadata": {},
     "output_type": "display_data"
    },
    {
     "data": {
      "text/plain": [
       "{'precision_recall_by_user': Columns:\n",
       " \tuser_id\tstr\n",
       " \tcutoff\tint\n",
       " \tprecision\tfloat\n",
       " \trecall\tfloat\n",
       " \tcount\tint\n",
       " \n",
       " Rows: 84170\n",
       " \n",
       " Data:\n",
       " +---------+--------+----------------+--------+-------+\n",
       " | user_id | cutoff |   precision    | recall | count |\n",
       " +---------+--------+----------------+--------+-------+\n",
       " |  user_0 |   1    |      1.0       |  0.5   |   2   |\n",
       " |  user_0 |   2    |      1.0       |  1.0   |   2   |\n",
       " |  user_0 |   3    | 0.666666666667 |  1.0   |   2   |\n",
       " |  user_0 |   4    |      0.5       |  1.0   |   2   |\n",
       " |  user_0 |   5    |      0.4       |  1.0   |   2   |\n",
       " |  user_1 |   1    |      0.0       |  0.0   |   1   |\n",
       " |  user_1 |   2    |      0.0       |  0.0   |   1   |\n",
       " |  user_1 |   3    |      0.0       |  0.0   |   1   |\n",
       " |  user_1 |   4    |      0.0       |  0.0   |   1   |\n",
       " |  user_1 |   5    |      0.0       |  0.0   |   1   |\n",
       " +---------+--------+----------------+--------+-------+\n",
       " [84170 rows x 5 columns]\n",
       " Note: Only the head of the SFrame is printed.\n",
       " You can use print_rows(num_rows=m, num_columns=n) to print more rows and columns.,\n",
       " 'precision_recall_overall': Columns:\n",
       " \tcutoff\tint\n",
       " \tprecision\tfloat\n",
       " \trecall\tfloat\n",
       " \n",
       " Rows: 5\n",
       " \n",
       " Data:\n",
       " +--------+----------------+----------------+\n",
       " | cutoff |   precision    |     recall     |\n",
       " +--------+----------------+----------------+\n",
       " |   1    | 0.534810502554 | 0.170406077071 |\n",
       " |   2    | 0.448942616134 | 0.257708749977 |\n",
       " |   3    | 0.388360856996 | 0.310297845179 |\n",
       " |   4    | 0.340738980634 | 0.342344703827 |\n",
       " |   5    | 0.302399904954 | 0.363051960572 |\n",
       " +--------+----------------+----------------+\n",
       " [5 rows x 3 columns]}"
      ]
     },
     "execution_count": 24,
     "metadata": {},
     "output_type": "execute_result"
    }
   ],
   "source": [
    "item_model = gl.item_similarity_recommender.create(train_set, user_id=\"user_id\", \n",
    "                                                   item_id=\"Title\", item_data=items_reduced, verbose=False)\n",
    "item_model.evaluate_precision_recall(test_set, cutoffs=[1,2,3,4,5], verbose=False)"
   ]
  },
  {
   "cell_type": "code",
   "execution_count": 27,
   "metadata": {
    "collapsed": false
   },
   "outputs": [],
   "source": [
    "iTunes_Summary = get_top_100(\"iTunesSummary\", df)"
   ]
  },
  {
   "cell_type": "code",
   "execution_count": 34,
   "metadata": {
    "collapsed": false
   },
   "outputs": [],
   "source": [
    "df3 = items_reduced.to_dataframe()"
   ]
  },
  {
   "cell_type": "code",
   "execution_count": 35,
   "metadata": {
    "collapsed": false
   },
   "outputs": [],
   "source": [
    "df3['dates'] = df3['dates'].apply(lambda x: -1 if x=='NaT' else x)\n",
    "df3['dates'] = df3['dates'].astype('int')"
   ]
  },
  {
   "cell_type": "code",
   "execution_count": 37,
   "metadata": {
    "collapsed": false
   },
   "outputs": [],
   "source": [
    "for col in ['iTunesSummary', 'iTunesKeywords', 'Category']:\n",
    "    y = get_top_100(col, df)\n",
    "    df3 = pd.concat([df3, y], axis=1)"
   ]
  },
  {
   "cell_type": "code",
   "execution_count": null,
   "metadata": {
    "collapsed": false
   },
   "outputs": [],
   "source": [
    "#np.duplicates(df3.columns)\n",
    "from collections import Counter"
   ]
  },
  {
   "cell_type": "code",
   "execution_count": 38,
   "metadata": {
    "collapsed": false
   },
   "outputs": [],
   "source": [
    "ls = Counter(df3.columns)"
   ]
  },
  {
   "cell_type": "code",
   "execution_count": 39,
   "metadata": {
    "collapsed": false
   },
   "outputs": [],
   "source": [
    "df_final = pd.DataFrame()\n",
    "for a,b in ls.items():\n",
    "    if b==1:\n",
    "        df_final = pd.concat([df_final, df3[a]],axis=1)\n",
    "    else:\n",
    "        df_final[a] = df3[[a]].sum(axis=1)"
   ]
  },
  {
   "cell_type": "code",
   "execution_count": 45,
   "metadata": {
    "collapsed": false
   },
   "outputs": [],
   "source": [
    "new_cols_items_reduced = df_final[ df_final.Title.isin(unique_pod)]\n",
    "new_cols_items_reduced.shape\n",
    "new_cols_items_reduced = gl.SFrame(new_cols_items_reduced)"
   ]
  },
  {
   "cell_type": "code",
   "execution_count": 53,
   "metadata": {
    "collapsed": false
   },
   "outputs": [
    {
     "data": {
      "text/html": [
       "<pre>Recsys training: model = item_similarity</pre>"
      ],
      "text/plain": [
       "Recsys training: model = item_similarity"
      ]
     },
     "metadata": {},
     "output_type": "display_data"
    }
   ],
   "source": [
    "item_model = gl.item_similarity_recommender.create(train_set, user_id=\"user_id\", \n",
    "                                                   item_id=\"Title\", item_data=new_cols_items_reduced, verbose=False)\n",
    "results = item_model.evaluate_precision_recall(test_set, cutoffs=[1,2,3,4,5], verbose=False)\n",
    "new_res = results['precision_recall_overall']"
   ]
  },
  {
   "cell_type": "code",
   "execution_count": 52,
   "metadata": {
    "collapsed": false
   },
   "outputs": [
    {
     "data": {
      "text/html": [
       "<pre>Recsys training: model = item_similarity</pre>"
      ],
      "text/plain": [
       "Recsys training: model = item_similarity"
      ]
     },
     "metadata": {},
     "output_type": "display_data"
    }
   ],
   "source": [
    "item_model = gl.item_similarity_recommender.create(train_set, user_id=\"user_id\", \n",
    "                                                   item_id=\"Title\", verbose=False)\n",
    "results = item_model.evaluate_precision_recall(test_set, cutoffs=[1,2,3,4,5], verbose=False)\n",
    "orig_res = results['precision_recall_overall']"
   ]
  },
  {
   "cell_type": "code",
   "execution_count": 74,
   "metadata": {
    "collapsed": false
   },
   "outputs": [],
   "source": [
    "temp_items =new_cols_items_reduced.copy()\n",
    "temp_items = temp_items.remove_column(\"Title\")"
   ]
  },
  {
   "cell_type": "code",
   "execution_count": 105,
   "metadata": {
    "collapsed": false
   },
   "outputs": [
    {
     "data": {
      "text/html": [
       "<pre>Recsys training: model = item_similarity</pre>"
      ],
      "text/plain": [
       "Recsys training: model = item_similarity"
      ]
     },
     "metadata": {},
     "output_type": "display_data"
    },
    {
     "data": {
      "text/plain": [
       "{'precision_recall_by_user': Columns:\n",
       " \tuser_id\tstr\n",
       " \tcutoff\tint\n",
       " \tprecision\tfloat\n",
       " \trecall\tfloat\n",
       " \tcount\tint\n",
       " \n",
       " Rows: 84170\n",
       " \n",
       " Data:\n",
       " +---------+--------+----------------+--------+-------+\n",
       " | user_id | cutoff |   precision    | recall | count |\n",
       " +---------+--------+----------------+--------+-------+\n",
       " |  user_0 |   1    |      1.0       |  0.5   |   2   |\n",
       " |  user_0 |   2    |      1.0       |  1.0   |   2   |\n",
       " |  user_0 |   3    | 0.666666666667 |  1.0   |   2   |\n",
       " |  user_0 |   4    |      0.5       |  1.0   |   2   |\n",
       " |  user_0 |   5    |      0.4       |  1.0   |   2   |\n",
       " |  user_1 |   1    |      0.0       |  0.0   |   1   |\n",
       " |  user_1 |   2    |      0.0       |  0.0   |   1   |\n",
       " |  user_1 |   3    |      0.0       |  0.0   |   1   |\n",
       " |  user_1 |   4    |      0.0       |  0.0   |   1   |\n",
       " |  user_1 |   5    |      0.0       |  0.0   |   1   |\n",
       " +---------+--------+----------------+--------+-------+\n",
       " [84170 rows x 5 columns]\n",
       " Note: Only the head of the SFrame is printed.\n",
       " You can use print_rows(num_rows=m, num_columns=n) to print more rows and columns.,\n",
       " 'precision_recall_overall': Columns:\n",
       " \tcutoff\tint\n",
       " \tprecision\tfloat\n",
       " \trecall\tfloat\n",
       " \n",
       " Rows: 5\n",
       " \n",
       " Data:\n",
       " +--------+----------------+----------------+\n",
       " | cutoff |   precision    |     recall     |\n",
       " +--------+----------------+----------------+\n",
       " |   1    | 0.535582749198 | 0.170326999423 |\n",
       " |   2    | 0.450219793276 | 0.257862439915 |\n",
       " |   3    | 0.389588531147 | 0.310246102262 |\n",
       " |   4    | 0.342253772128 | 0.342671435797 |\n",
       " |   5    | 0.303849352501 | 0.36336817091  |\n",
       " +--------+----------------+----------------+\n",
       " [5 rows x 3 columns]}"
      ]
     },
     "execution_count": 105,
     "metadata": {},
     "output_type": "execute_result"
    }
   ],
   "source": [
    "#precision1 = precision.append('Title')\n",
    "item_model = gl.item_similarity_recommender.create(train_set, user_id=\"user_id\", \n",
    "                                                       item_id=\"Title\", item_data=new_cols_items_reduced[p],\n",
    "                                                       verbose=False)\n",
    "item_model.evaluate_precision_recall(test_set, cutoffs=[1,2,3,4,5], verbose=False)"
   ]
  },
  {
   "cell_type": "code",
   "execution_count": 113,
   "metadata": {
    "collapsed": false
   },
   "outputs": [
    {
     "data": {
      "text/plain": [
       "17617"
      ]
     },
     "execution_count": 113,
     "metadata": {},
     "output_type": "execute_result"
    }
   ],
   "source": [
    "len(train_set['user_id'].unique())"
   ]
  },
  {
   "cell_type": "code",
   "execution_count": 114,
   "metadata": {
    "collapsed": false
   },
   "outputs": [
    {
     "data": {
      "text/plain": [
       "(496806, 2)"
      ]
     },
     "execution_count": 114,
     "metadata": {},
     "output_type": "execute_result"
    }
   ],
   "source": [
    "train_set.shape"
   ]
  },
  {
   "cell_type": "code",
   "execution_count": 186,
   "metadata": {
    "collapsed": false
   },
   "outputs": [
    {
     "data": {
      "image/png": "[encoded data removed]",
      "text/plain": [
       "<matplotlib.figure.Figure at 0x7fd488165d10>"
      ]
     },
     "metadata": {},
     "output_type": "display_data"
    }
   ],
   "source": [
    "sf2 = remove_bots(sf)"
   ]
  },
  {
   "cell_type": "code",
   "execution_count": 281,
   "metadata": {
    "collapsed": false
   },
   "outputs": [
    {
     "data": {
      "text/plain": [
       "<matplotlib.axes._subplots.AxesSubplot at 0x7fd4885685d0>"
      ]
     },
     "execution_count": 281,
     "metadata": {},
     "output_type": "execute_result"
    },
    {
     "data": {
      "image/png": "[encoded data removed]",
      "text/plain": [
       "<matplotlib.figure.Figure at 0x7fd488085c90>"
      ]
     },
     "metadata": {},
     "output_type": "display_data"
    }
   ],
   "source": [
    "tr = pd.Series(sf['user_id'])\n",
    "podcasts = tr.value_counts()\n",
    "podcasts.hist(bins=200, title=\"main\")"
   ]
  },
  {
   "cell_type": "code",
   "execution_count": 305,
   "metadata": {
    "collapsed": false
   },
   "outputs": [
    {
     "data": {
      "image/png": "[encoded data removed]",
      "text/plain": [
       "<matplotlib.figure.Figure at 0x7fd4b9e82510>"
      ]
     },
     "metadata": {},
     "output_type": "display_data"
    }
   ],
   "source": [
    "fig = plt.figure()\n",
    "plt.hist(podcasts, bins=200)\n",
    "plt.title(\"Twitter Followers\")\n",
    "plt.xlim(0,100)\n",
    "plt.xlabel(\"Podcasts\")\n",
    "plt.ylabel(\"Users\")\n",
    "plt.show()"
   ]
  },
  {
   "cell_type": "code",
   "execution_count": 297,
   "metadata": {
    "collapsed": false
   },
   "outputs": [],
   "source": [
    "import matplotlib.pyplot as plt\n",
    "import numpy as np\n",
    "import plotly.plotly as py\n",
    "import json"
   ]
  },
  {
   "cell_type": "code",
   "execution_count": 299,
   "metadata": {
    "collapsed": false
   },
   "outputs": [],
   "source": [
    "plotly_key = json.load(open(\"/home/ubuntu/.api/plotly.api\"))"
   ]
  },
  {
   "cell_type": "code",
   "execution_count": 309,
   "metadata": {
    "collapsed": false
   },
   "outputs": [
    {
     "data": {
      "text/plain": [
       "u'vesb5aa230'"
      ]
     },
     "execution_count": 309,
     "metadata": {},
     "output_type": "execute_result"
    }
   ],
   "source": [
    "plotly_key['KEY']"
   ]
  },
  {
   "cell_type": "code",
   "execution_count": 310,
   "metadata": {
    "collapsed": true
   },
   "outputs": [],
   "source": [
    "py.sign_in('Crystal.Humphries', str(plotly_key['KEY']))"
   ]
  },
  {
   "cell_type": "code",
   "execution_count": 311,
   "metadata": {
    "collapsed": false
   },
   "outputs": [
    {
     "data": {
      "text/html": [
       "<iframe id=\"igraph\" scrolling=\"no\" style=\"border:none;\" seamless=\"seamless\" src=\"https://plot.ly/~crystal.humphries/67.embed\" height=\"525px\" width=\"100%\"></iframe>"
      ],
      "text/plain": [
       "<plotly.tools.PlotlyDisplay object>"
      ]
     },
     "execution_count": 311,
     "metadata": {},
     "output_type": "execute_result"
    }
   ],
   "source": [
    "py.iplot_mpl(fig, strip_style = True, filename='data/TwitterFollowers')"
   ]
  },
  {
   "cell_type": "code",
   "execution_count": 295,
   "metadata": {
    "collapsed": false
   },
   "outputs": [
    {
     "ename": "PlotlyLocalCredentialsError",
     "evalue": "\nCouldn't find a 'username', 'api-key' pair for you on your local machine. To sign in temporarily (until you stop running Python), run:\n>>> import plotly.plotly as py\n>>> py.sign_in('username', 'api_key')\n\nEven better, save your credentials permanently using the 'tools' module:\n>>> import plotly.tools as tls\n>>> tls.set_credentials_file(username='username', api_key='api-key')\n\nFor more help, see https://plot.ly/python.\n",
     "output_type": "error",
     "traceback": [
      "\u001b[1;31m---------------------------------------------------------------------------\u001b[0m",
      "\u001b[1;31mPlotlyLocalCredentialsError\u001b[0m               Traceback (most recent call last)",
      "\u001b[1;32m<ipython-input-295-153531937988>\u001b[0m in \u001b[0;36m<module>\u001b[1;34m()\u001b[0m\n\u001b[0;32m      8\u001b[0m }\n\u001b[0;32m      9\u001b[0m }, filename='hello world',      # name of the file as saved in your plotly account\n\u001b[1;32m---> 10\u001b[1;33m sharing='public')        \n\u001b[0m",
      "\u001b[1;32m/home/ubuntu/anaconda2/lib/python2.7/site-packages/plotly/plotly/plotly.pyc\u001b[0m in \u001b[0;36mplot\u001b[1;34m(figure_or_data, validate, **plot_options)\u001b[0m\n\u001b[0;32m    239\u001b[0m \u001b[1;33m\u001b[0m\u001b[0m\n\u001b[0;32m    240\u001b[0m     \u001b[0mplot_options\u001b[0m \u001b[1;33m=\u001b[0m \u001b[0m_plot_option_logic\u001b[0m\u001b[1;33m(\u001b[0m\u001b[0mplot_options\u001b[0m\u001b[1;33m)\u001b[0m\u001b[1;33m\u001b[0m\u001b[0m\n\u001b[1;32m--> 241\u001b[1;33m     \u001b[0mres\u001b[0m \u001b[1;33m=\u001b[0m \u001b[0m_send_to_plotly\u001b[0m\u001b[1;33m(\u001b[0m\u001b[0mfigure\u001b[0m\u001b[1;33m,\u001b[0m \u001b[1;33m**\u001b[0m\u001b[0mplot_options\u001b[0m\u001b[1;33m)\u001b[0m\u001b[1;33m\u001b[0m\u001b[0m\n\u001b[0m\u001b[0;32m    242\u001b[0m     \u001b[1;32mif\u001b[0m \u001b[0mres\u001b[0m\u001b[1;33m[\u001b[0m\u001b[1;34m'error'\u001b[0m\u001b[1;33m]\u001b[0m \u001b[1;33m==\u001b[0m \u001b[1;34m''\u001b[0m\u001b[1;33m:\u001b[0m\u001b[1;33m\u001b[0m\u001b[0m\n\u001b[0;32m    243\u001b[0m         \u001b[1;32mif\u001b[0m \u001b[0mplot_options\u001b[0m\u001b[1;33m[\u001b[0m\u001b[1;34m'auto_open'\u001b[0m\u001b[1;33m]\u001b[0m\u001b[1;33m:\u001b[0m\u001b[1;33m\u001b[0m\u001b[0m\n",
      "\u001b[1;32m/home/ubuntu/anaconda2/lib/python2.7/site-packages/plotly/plotly/plotly.pyc\u001b[0m in \u001b[0;36m_send_to_plotly\u001b[1;34m(figure, **plot_options)\u001b[0m\n\u001b[0;32m   1374\u001b[0m                       cls=utils.PlotlyJSONEncoder)\n\u001b[0;32m   1375\u001b[0m     \u001b[0mcredentials\u001b[0m \u001b[1;33m=\u001b[0m \u001b[0mget_credentials\u001b[0m\u001b[1;33m(\u001b[0m\u001b[1;33m)\u001b[0m\u001b[1;33m\u001b[0m\u001b[0m\n\u001b[1;32m-> 1376\u001b[1;33m     \u001b[0mvalidate_credentials\u001b[0m\u001b[1;33m(\u001b[0m\u001b[0mcredentials\u001b[0m\u001b[1;33m)\u001b[0m\u001b[1;33m\u001b[0m\u001b[0m\n\u001b[0m\u001b[0;32m   1377\u001b[0m     \u001b[0musername\u001b[0m \u001b[1;33m=\u001b[0m \u001b[0mcredentials\u001b[0m\u001b[1;33m[\u001b[0m\u001b[1;34m'username'\u001b[0m\u001b[1;33m]\u001b[0m\u001b[1;33m\u001b[0m\u001b[0m\n\u001b[0;32m   1378\u001b[0m     \u001b[0mapi_key\u001b[0m \u001b[1;33m=\u001b[0m \u001b[0mcredentials\u001b[0m\u001b[1;33m[\u001b[0m\u001b[1;34m'api_key'\u001b[0m\u001b[1;33m]\u001b[0m\u001b[1;33m\u001b[0m\u001b[0m\n",
      "\u001b[1;32m/home/ubuntu/anaconda2/lib/python2.7/site-packages/plotly/plotly/plotly.pyc\u001b[0m in \u001b[0;36mvalidate_credentials\u001b[1;34m(credentials)\u001b[0m\n\u001b[0;32m   1323\u001b[0m     \u001b[0mapi_key\u001b[0m \u001b[1;33m=\u001b[0m \u001b[0mcredentials\u001b[0m\u001b[1;33m.\u001b[0m\u001b[0mget\u001b[0m\u001b[1;33m(\u001b[0m\u001b[1;34m'api_key'\u001b[0m\u001b[1;33m)\u001b[0m\u001b[1;33m\u001b[0m\u001b[0m\n\u001b[0;32m   1324\u001b[0m     \u001b[1;32mif\u001b[0m \u001b[1;32mnot\u001b[0m \u001b[0musername\u001b[0m \u001b[1;32mor\u001b[0m \u001b[1;32mnot\u001b[0m \u001b[0mapi_key\u001b[0m\u001b[1;33m:\u001b[0m\u001b[1;33m\u001b[0m\u001b[0m\n\u001b[1;32m-> 1325\u001b[1;33m         \u001b[1;32mraise\u001b[0m \u001b[0mexceptions\u001b[0m\u001b[1;33m.\u001b[0m\u001b[0mPlotlyLocalCredentialsError\u001b[0m\u001b[1;33m(\u001b[0m\u001b[1;33m)\u001b[0m\u001b[1;33m\u001b[0m\u001b[0m\n\u001b[0m\u001b[0;32m   1326\u001b[0m \u001b[1;33m\u001b[0m\u001b[0m\n\u001b[0;32m   1327\u001b[0m \u001b[1;33m\u001b[0m\u001b[0m\n",
      "\u001b[1;31mPlotlyLocalCredentialsError\u001b[0m: \nCouldn't find a 'username', 'api-key' pair for you on your local machine. To sign in temporarily (until you stop running Python), run:\n>>> import plotly.plotly as py\n>>> py.sign_in('username', 'api_key')\n\nEven better, save your credentials permanently using the 'tools' module:\n>>> import plotly.tools as tls\n>>> tls.set_credentials_file(username='username', api_key='api-key')\n\nFor more help, see https://plot.ly/python.\n"
     ]
    }
   ],
   "source": [
    "       "
   ]
  },
  {
   "cell_type": "code",
   "execution_count": 185,
   "metadata": {
    "collapsed": false
   },
   "outputs": [],
   "source": [
    "def remove_bots(sf, flag=True):\n",
    "    tr = pd.Series(sf['user_id'])\n",
    "    podcasts = tr.value_counts()\n",
    "    if flag is True:\n",
    "        podcasts.hist(bins=200)\n",
    "    users_following100_lessPods = gl.SArray(podcasts.index[ podcasts <= 100].values)\n",
    "    return sf.filter_by(users_following100_lessPods, 'user_id')"
   ]
  },
  {
   "cell_type": "code",
   "execution_count": 187,
   "metadata": {
    "collapsed": false
   },
   "outputs": [],
   "source": [
    "no_bots = pd.Series(sf2['user_id'])"
   ]
  },
  {
   "cell_type": "code",
   "execution_count": 188,
   "metadata": {
    "collapsed": true
   },
   "outputs": [],
   "source": [
    "no_bots = no_bots.value_counts()"
   ]
  },
  {
   "cell_type": "code",
   "execution_count": 189,
   "metadata": {
    "collapsed": false
   },
   "outputs": [
    {
     "data": {
      "text/plain": [
       "count    63702.000000\n",
       "mean         9.688644\n",
       "std          8.796193\n",
       "min          5.000000\n",
       "25%          5.000000\n",
       "50%          7.000000\n",
       "75%         10.000000\n",
       "max        100.000000\n",
       "dtype: float64"
      ]
     },
     "execution_count": 189,
     "metadata": {},
     "output_type": "execute_result"
    }
   ],
   "source": [
    "no_bots.describe()"
   ]
  },
  {
   "cell_type": "code",
   "execution_count": 190,
   "metadata": {
    "collapsed": false
   },
   "outputs": [],
   "source": [
    "(train_set_2, test_set_2) = sf2.random_split(0.8, seed=1)"
   ]
  },
  {
   "cell_type": "code",
   "execution_count": 203,
   "metadata": {
    "collapsed": false
   },
   "outputs": [
    {
     "data": {
      "text/plain": [
       "(24111, 233)"
      ]
     },
     "execution_count": 203,
     "metadata": {},
     "output_type": "execute_result"
    }
   ],
   "source": [
    "new_cols_items_reduced_5min = df_final[ df_final['Title'].isin(sf2['Title'])]\n",
    "new_cols_items_reduced_5min.shape"
   ]
  },
  {
   "cell_type": "code",
   "execution_count": 210,
   "metadata": {
    "collapsed": false
   },
   "outputs": [
    {
     "data": {
      "text/plain": [
       "(28293, 23634)"
      ]
     },
     "execution_count": 210,
     "metadata": {},
     "output_type": "execute_result"
    }
   ],
   "source": [
    "reduced_podcast = new_cols_items_reduced_5min['Title'].unique()\n",
    "check = pd.Series(sf2['Title']).unique()\n",
    "len(check), len(reduced_podcast)"
   ]
  },
  {
   "cell_type": "code",
   "execution_count": 213,
   "metadata": {
    "collapsed": false
   },
   "outputs": [],
   "source": [
    "sf3_reduced = sf2.filter_by(reduced_podcast, 'Title')"
   ]
  },
  {
   "cell_type": "code",
   "execution_count": 214,
   "metadata": {
    "collapsed": true
   },
   "outputs": [],
   "source": [
    "(train_set_3, test_set_3) = sf3_reduced.random_split(0.8, seed=1)"
   ]
  },
  {
   "cell_type": "code",
   "execution_count": 217,
   "metadata": {
    "collapsed": false
   },
   "outputs": [],
   "source": [
    "new_cols_items_reduced_5min = gl.SFrame(new_cols_items_reduced_5min)\n"
   ]
  },
  {
   "cell_type": "markdown",
   "metadata": {},
   "source": [
    "### Q\n",
    "    see if the recall/precision is due to podcasts not being in the data set. Reduced the podcasts to only be present in both the items and user info. \n",
    "    \n",
    "### A\n",
    "    made the precision worse!"
   ]
  },
  {
   "cell_type": "code",
   "execution_count": 219,
   "metadata": {
    "collapsed": false
   },
   "outputs": [
    {
     "data": {
      "text/html": [
       "<pre>Recsys training: model = item_similarity</pre>"
      ],
      "text/plain": [
       "Recsys training: model = item_similarity"
      ]
     },
     "metadata": {},
     "output_type": "display_data"
    },
    {
     "data": {
      "text/plain": [
       "{'precision_recall_by_user': Columns:\n",
       " \tuser_id\tstr\n",
       " \tcutoff\tint\n",
       " \tprecision\tfloat\n",
       " \trecall\tfloat\n",
       " \tcount\tint\n",
       " \n",
       " Rows: 242095\n",
       " \n",
       " Data:\n",
       " +---------+--------+-----------+--------+-------+\n",
       " | user_id | cutoff | precision | recall | count |\n",
       " +---------+--------+-----------+--------+-------+\n",
       " |  user_0 |   1    |    0.0    |  0.0   |   1   |\n",
       " |  user_0 |   2    |    0.0    |  0.0   |   1   |\n",
       " |  user_0 |   3    |    0.0    |  0.0   |   1   |\n",
       " |  user_0 |   4    |    0.0    |  0.0   |   1   |\n",
       " |  user_0 |   5    |    0.0    |  0.0   |   1   |\n",
       " |  user_1 |   1    |    0.0    |  0.0   |   1   |\n",
       " |  user_1 |   2    |    0.0    |  0.0   |   1   |\n",
       " |  user_1 |   3    |    0.0    |  0.0   |   1   |\n",
       " |  user_1 |   4    |    0.0    |  0.0   |   1   |\n",
       " |  user_1 |   5    |    0.0    |  0.0   |   1   |\n",
       " +---------+--------+-----------+--------+-------+\n",
       " [242095 rows x 5 columns]\n",
       " Note: Only the head of the SFrame is printed.\n",
       " You can use print_rows(num_rows=m, num_columns=n) to print more rows and columns.,\n",
       " 'precision_recall_overall': Columns:\n",
       " \tcutoff\tint\n",
       " \tprecision\tfloat\n",
       " \trecall\tfloat\n",
       " \n",
       " Rows: 5\n",
       " \n",
       " Data:\n",
       " +--------+----------------+----------------+\n",
       " | cutoff |   precision    |     recall     |\n",
       " +--------+----------------+----------------+\n",
       " |   1    | 0.433817303125 | 0.246925624575 |\n",
       " |   2    | 0.317654226647 | 0.319999459909 |\n",
       " |   3    | 0.24760252518  | 0.350373398239 |\n",
       " |   4    | 0.203112414548 | 0.368152610095 |\n",
       " |   5    | 0.172130775109 | 0.380226062492 |\n",
       " +--------+----------------+----------------+\n",
       " [5 rows x 3 columns]}"
      ]
     },
     "execution_count": 219,
     "metadata": {},
     "output_type": "execute_result"
    }
   ],
   "source": [
    "item_model = gl.item_similarity_recommender.create(train_set_3, user_id=\"user_id\", \n",
    "                                                   item_id=\"Title\", item_data=new_cols_items_reduced_5min, \n",
    "                                                   verbose=False)\n",
    "item_model.evaluate_precision_recall(test_set_3, cutoffs=[1,2,3,4,5], verbose=False)"
   ]
  },
  {
   "cell_type": "code",
   "execution_count": 231,
   "metadata": {
    "collapsed": false
   },
   "outputs": [
    {
     "data": {
      "text/html": [
       "<pre>Recsys training: model = item_similarity</pre>"
      ],
      "text/plain": [
       "Recsys training: model = item_similarity"
      ]
     },
     "metadata": {},
     "output_type": "display_data"
    },
    {
     "data": {
      "text/plain": [
       "{'precision_recall_by_user': Columns:\n",
       " \tuser_id\tstr\n",
       " \tcutoff\tint\n",
       " \tprecision\tfloat\n",
       " \trecall\tfloat\n",
       " \tcount\tint\n",
       " \n",
       " Rows: 253505\n",
       " \n",
       " Data:\n",
       " +---------+--------+-----------+--------+-------+\n",
       " | user_id | cutoff | precision | recall | count |\n",
       " +---------+--------+-----------+--------+-------+\n",
       " |  user_0 |   1    |    0.0    |  0.0   |   3   |\n",
       " |  user_0 |   2    |    0.0    |  0.0   |   3   |\n",
       " |  user_0 |   3    |    0.0    |  0.0   |   3   |\n",
       " |  user_0 |   4    |    0.0    |  0.0   |   3   |\n",
       " |  user_0 |   5    |    0.0    |  0.0   |   3   |\n",
       " |  user_1 |   1    |    0.0    |  0.0   |   2   |\n",
       " |  user_1 |   2    |    0.0    |  0.0   |   2   |\n",
       " |  user_1 |   3    |    0.0    |  0.0   |   2   |\n",
       " |  user_1 |   4    |    0.0    |  0.0   |   2   |\n",
       " |  user_1 |   5    |    0.0    |  0.0   |   2   |\n",
       " +---------+--------+-----------+--------+-------+\n",
       " [253505 rows x 5 columns]\n",
       " Note: Only the head of the SFrame is printed.\n",
       " You can use print_rows(num_rows=m, num_columns=n) to print more rows and columns.,\n",
       " 'precision_recall_overall': Columns:\n",
       " \tcutoff\tint\n",
       " \tprecision\tfloat\n",
       " \trecall\tfloat\n",
       " \n",
       " Rows: 5\n",
       " \n",
       " Data:\n",
       " +--------+----------------+----------------+\n",
       " | cutoff |   precision    |     recall     |\n",
       " +--------+----------------+----------------+\n",
       " |   1    | 0.448235734995 | 0.248172355805 |\n",
       " |   2    | 0.33057533382  | 0.324295272993 |\n",
       " |   3    | 0.258765441839 | 0.356805668412 |\n",
       " |   4    | 0.212195025739 | 0.375094380757 |\n",
       " |   5    | 0.18021340802  | 0.388315966949 |\n",
       " +--------+----------------+----------------+\n",
       " [5 rows x 3 columns]}"
      ]
     },
     "execution_count": 231,
     "metadata": {},
     "output_type": "execute_result"
    }
   ],
   "source": [
    "item_model = gl.item_similarity_recommender.create(train_set_2, user_id=\"user_id\", \n",
    "                                                   item_id=\"Title\", item_data=new_cols_items_reduced[r], verbose=False)\n",
    "item_model.evaluate_precision_recall(test_set_2, cutoffs=[1,2,3,4,5], verbose=False)"
   ]
  },
  {
   "cell_type": "code",
   "execution_count": 104,
   "metadata": {
    "collapsed": false
   },
   "outputs": [],
   "source": [
    "p = [ x for x in precision]\n",
    "#item_data=new_cols_items_reduced[precision]"
   ]
  },
  {
   "cell_type": "code",
   "execution_count": 98,
   "metadata": {
    "collapsed": false
   },
   "outputs": [],
   "source": [
    "precision = precision[:-1]"
   ]
  },
  {
   "cell_type": "code",
   "execution_count": 84,
   "metadata": {
    "collapsed": false
   },
   "outputs": [],
   "source": [
    "# precision = []\n",
    "# prec_num  = []\n",
    "# recall    = []\n",
    "# recall_num= []\n",
    "\n",
    "# for col in new_cols_items_reduced.column_names()[:-1]:\n",
    "#     cols = ['Title']\n",
    "#     if col == 'Title':\n",
    "#         continue\n",
    "#     cols.append(col)\n",
    "#     item_model = gl.item_similarity_recommender.create(train_set, user_id=\"user_id\", \n",
    "#                                                        item_id=\"Title\", item_data=new_cols_items_reduced[cols],\n",
    "#                                                        verbose=False)\n",
    "#     new_res = item_model.evaluate_precision_recall(test_set, cutoffs=[1,2,3,4,5], verbose=False)\n",
    "#     new_res = new_res['precision_recall_overall']\n",
    "#     compare_p = sum(orig_res['precision']<new_res['precision'])\n",
    "#     if compare_p>0:\n",
    "#         precision.append(col)\n",
    "#         prec_num.append(compare_p)\n",
    "#         print \"Precision\" + str(col)\n",
    "#     compare_r = sum(orig_res['recall']<new_res['recall'])\n",
    "#     if compare_r>0:\n",
    "#         recall.append(col)\n",
    "#         recall_num.append(compare_r)\n",
    "#         print \"Recall\" + str(col)"
   ]
  },
  {
   "cell_type": "code",
   "execution_count": 225,
   "metadata": {
    "collapsed": false
   },
   "outputs": [],
   "source": [
    "r = [ r for r in recall]"
   ]
  },
  {
   "cell_type": "code",
   "execution_count": 226,
   "metadata": {
    "collapsed": true
   },
   "outputs": [],
   "source": [
    "r.extend(precision)"
   ]
  },
  {
   "cell_type": "code",
   "execution_count": 230,
   "metadata": {
    "collapsed": false
   },
   "outputs": [],
   "source": [
    "r = list(set(r))"
   ]
  },
  {
   "cell_type": "code",
   "execution_count": 241,
   "metadata": {
    "collapsed": false
   },
   "outputs": [
    {
     "data": {
      "text/html": [
       "<div>\n",
       "<table border=\"1\" class=\"dataframe\">\n",
       "  <thead>\n",
       "    <tr style=\"text-align: right;\">\n",
       "      <th></th>\n",
       "      <th>Performing Arts</th>\n",
       "      <th>Philosophy</th>\n",
       "      <th>Tech News</th>\n",
       "      <th>Fitness &amp; Nutrition</th>\n",
       "      <th>Podcasting</th>\n",
       "      <th>Games &amp; Hobbies</th>\n",
       "      <th>Science &amp; Medicine</th>\n",
       "      <th>Educational Technology</th>\n",
       "      <th>Arts</th>\n",
       "      <th>Sports &amp; Recreation</th>\n",
       "      <th>...</th>\n",
       "      <th>Gadgets</th>\n",
       "      <th>Literary Criticism</th>\n",
       "      <th>Design</th>\n",
       "      <th>Teaching &amp; Learning</th>\n",
       "      <th>Hobbies</th>\n",
       "      <th>Music</th>\n",
       "      <th>Management</th>\n",
       "      <th>Education</th>\n",
       "      <th>Technology</th>\n",
       "      <th>Islam</th>\n",
       "    </tr>\n",
       "  </thead>\n",
       "  <tbody>\n",
       "    <tr>\n",
       "      <th>0</th>\n",
       "      <td>1</td>\n",
       "      <td>0</td>\n",
       "      <td>0</td>\n",
       "      <td>0</td>\n",
       "      <td>0</td>\n",
       "      <td>0</td>\n",
       "      <td>0</td>\n",
       "      <td>0</td>\n",
       "      <td>1</td>\n",
       "      <td>0</td>\n",
       "      <td>...</td>\n",
       "      <td>0</td>\n",
       "      <td>0</td>\n",
       "      <td>0</td>\n",
       "      <td>0</td>\n",
       "      <td>0</td>\n",
       "      <td>0</td>\n",
       "      <td>0</td>\n",
       "      <td>0</td>\n",
       "      <td>0</td>\n",
       "      <td>0</td>\n",
       "    </tr>\n",
       "    <tr>\n",
       "      <th>1</th>\n",
       "      <td>0</td>\n",
       "      <td>0</td>\n",
       "      <td>0</td>\n",
       "      <td>0</td>\n",
       "      <td>0</td>\n",
       "      <td>0</td>\n",
       "      <td>0</td>\n",
       "      <td>0</td>\n",
       "      <td>1</td>\n",
       "      <td>0</td>\n",
       "      <td>...</td>\n",
       "      <td>0</td>\n",
       "      <td>0</td>\n",
       "      <td>0</td>\n",
       "      <td>0</td>\n",
       "      <td>0</td>\n",
       "      <td>0</td>\n",
       "      <td>0</td>\n",
       "      <td>0</td>\n",
       "      <td>0</td>\n",
       "      <td>0</td>\n",
       "    </tr>\n",
       "    <tr>\n",
       "      <th>2</th>\n",
       "      <td>0</td>\n",
       "      <td>0</td>\n",
       "      <td>0</td>\n",
       "      <td>0</td>\n",
       "      <td>0</td>\n",
       "      <td>0</td>\n",
       "      <td>0</td>\n",
       "      <td>0</td>\n",
       "      <td>1</td>\n",
       "      <td>0</td>\n",
       "      <td>...</td>\n",
       "      <td>0</td>\n",
       "      <td>0</td>\n",
       "      <td>1</td>\n",
       "      <td>0</td>\n",
       "      <td>0</td>\n",
       "      <td>0</td>\n",
       "      <td>0</td>\n",
       "      <td>0</td>\n",
       "      <td>0</td>\n",
       "      <td>0</td>\n",
       "    </tr>\n",
       "    <tr>\n",
       "      <th>3</th>\n",
       "      <td>1</td>\n",
       "      <td>0</td>\n",
       "      <td>0</td>\n",
       "      <td>0</td>\n",
       "      <td>0</td>\n",
       "      <td>0</td>\n",
       "      <td>0</td>\n",
       "      <td>0</td>\n",
       "      <td>1</td>\n",
       "      <td>0</td>\n",
       "      <td>...</td>\n",
       "      <td>0</td>\n",
       "      <td>0</td>\n",
       "      <td>0</td>\n",
       "      <td>0</td>\n",
       "      <td>0</td>\n",
       "      <td>0</td>\n",
       "      <td>0</td>\n",
       "      <td>0</td>\n",
       "      <td>0</td>\n",
       "      <td>0</td>\n",
       "    </tr>\n",
       "    <tr>\n",
       "      <th>4</th>\n",
       "      <td>1</td>\n",
       "      <td>0</td>\n",
       "      <td>0</td>\n",
       "      <td>0</td>\n",
       "      <td>0</td>\n",
       "      <td>0</td>\n",
       "      <td>0</td>\n",
       "      <td>0</td>\n",
       "      <td>1</td>\n",
       "      <td>0</td>\n",
       "      <td>...</td>\n",
       "      <td>0</td>\n",
       "      <td>0</td>\n",
       "      <td>0</td>\n",
       "      <td>0</td>\n",
       "      <td>0</td>\n",
       "      <td>0</td>\n",
       "      <td>0</td>\n",
       "      <td>0</td>\n",
       "      <td>0</td>\n",
       "      <td>0</td>\n",
       "    </tr>\n",
       "  </tbody>\n",
       "</table>\n",
       "<p>5 rows × 79 columns</p>\n",
       "</div>"
      ],
      "text/plain": [
       "   Performing Arts  Philosophy  Tech News  Fitness & Nutrition  Podcasting  \\\n",
       "0                1           0          0                    0           0   \n",
       "1                0           0          0                    0           0   \n",
       "2                0           0          0                    0           0   \n",
       "3                1           0          0                    0           0   \n",
       "4                1           0          0                    0           0   \n",
       "\n",
       "   Games & Hobbies  Science & Medicine  Educational Technology  Arts  \\\n",
       "0                0                   0                       0     1   \n",
       "1                0                   0                       0     1   \n",
       "2                0                   0                       0     1   \n",
       "3                0                   0                       0     1   \n",
       "4                0                   0                       0     1   \n",
       "\n",
       "   Sports & Recreation  ...    Gadgets  Literary Criticism  Design  \\\n",
       "0                    0  ...          0                   0       0   \n",
       "1                    0  ...          0                   0       0   \n",
       "2                    0  ...          0                   0       1   \n",
       "3                    0  ...          0                   0       0   \n",
       "4                    0  ...          0                   0       0   \n",
       "\n",
       "   Teaching & Learning  Hobbies  Music  Management  Education  Technology  \\\n",
       "0                    0        0      0           0          0           0   \n",
       "1                    0        0      0           0          0           0   \n",
       "2                    0        0      0           0          0           0   \n",
       "3                    0        0      0           0          0           0   \n",
       "4                    0        0      0           0          0           0   \n",
       "\n",
       "   Islam  \n",
       "0      0  \n",
       "1      0  \n",
       "2      0  \n",
       "3      0  \n",
       "4      0  \n",
       "\n",
       "[5 rows x 79 columns]"
      ]
     },
     "execution_count": 241,
     "metadata": {},
     "output_type": "execute_result"
    }
   ],
   "source": [
    "all_categories = df.Category.apply(lambda x: x.split('/'))\n",
    "temp = [item for sublist in all_categories for item in sublist]\n",
    "categories = {x:0 for x in temp}\n",
    "\n",
    "cats = pd.DataFrame(0, index=np.arange(len(df.Category.values)), columns=categories.keys())\n",
    "for i,v in enumerate(df.Category.values):\n",
    "    ls = v.split('/')\n",
    "    cats.loc[i][ls] = 1\n",
    "cats.head()"
   ]
  },
  {
   "cell_type": "code",
   "execution_count": 244,
   "metadata": {
    "collapsed": false
   },
   "outputs": [
    {
     "data": {
      "text/plain": [
       "((155804, 233), (155804, 79))"
      ]
     },
     "execution_count": 244,
     "metadata": {},
     "output_type": "execute_result"
    }
   ],
   "source": [
    "df_final.shape, cats.shape"
   ]
  },
  {
   "cell_type": "code",
   "execution_count": 270,
   "metadata": {
    "collapsed": false
   },
   "outputs": [],
   "source": [
    "keep = cats.columns.tolist() + p"
   ]
  },
  {
   "cell_type": "code",
   "execution_count": 245,
   "metadata": {
    "collapsed": true
   },
   "outputs": [],
   "source": [
    "df_final_cats = pd.concat([df_final, cats],axis=1)"
   ]
  },
  {
   "cell_type": "code",
   "execution_count": 253,
   "metadata": {
    "collapsed": false
   },
   "outputs": [],
   "source": [
    "items_reduced_with_categories = df_final_cats[ df_final_cats.Title.isin(unique_pod)]\n",
    "items_reduced_with_categories = gl.SFrame(items_reduced_with_categories)"
   ]
  },
  {
   "cell_type": "code",
   "execution_count": 277,
   "metadata": {
    "collapsed": false
   },
   "outputs": [
    {
     "data": {
      "text/html": [
       "<pre>Recsys training: model = item_similarity</pre>"
      ],
      "text/plain": [
       "Recsys training: model = item_similarity"
      ]
     },
     "metadata": {},
     "output_type": "display_data"
    },
    {
     "data": {
      "text/plain": [
       "{'precision_recall_by_user': Columns:\n",
       " \tuser_id\tstr\n",
       " \tcutoff\tint\n",
       " \tprecision\tfloat\n",
       " \trecall\tfloat\n",
       " \tcount\tint\n",
       " \n",
       " Rows: 253505\n",
       " \n",
       " Data:\n",
       " +---------+--------+-----------+--------+-------+\n",
       " | user_id | cutoff | precision | recall | count |\n",
       " +---------+--------+-----------+--------+-------+\n",
       " |  user_0 |   1    |    0.0    |  0.0   |   3   |\n",
       " |  user_0 |   2    |    0.0    |  0.0   |   3   |\n",
       " |  user_0 |   3    |    0.0    |  0.0   |   3   |\n",
       " |  user_0 |   4    |    0.0    |  0.0   |   3   |\n",
       " |  user_0 |   5    |    0.0    |  0.0   |   3   |\n",
       " |  user_1 |   1    |    0.0    |  0.0   |   2   |\n",
       " |  user_1 |   2    |    0.0    |  0.0   |   2   |\n",
       " |  user_1 |   3    |    0.0    |  0.0   |   2   |\n",
       " |  user_1 |   4    |    0.0    |  0.0   |   2   |\n",
       " |  user_1 |   5    |    0.0    |  0.0   |   2   |\n",
       " +---------+--------+-----------+--------+-------+\n",
       " [253505 rows x 5 columns]\n",
       " Note: Only the head of the SFrame is printed.\n",
       " You can use print_rows(num_rows=m, num_columns=n) to print more rows and columns.,\n",
       " 'precision_recall_overall': Columns:\n",
       " \tcutoff\tint\n",
       " \tprecision\tfloat\n",
       " \trecall\tfloat\n",
       " \n",
       " Rows: 5\n",
       " \n",
       " Data:\n",
       " +--------+----------------+----------------+\n",
       " | cutoff |   precision    |     recall     |\n",
       " +--------+----------------+----------------+\n",
       " |   1    | 0.448058223704 | 0.248144129028 |\n",
       " |   2    | 0.330733121635 | 0.324568157727 |\n",
       " |   3    | 0.258804888792 | 0.356828572708 |\n",
       " |   4    | 0.212224610954 | 0.375135928358 |\n",
       " |   5    | 0.180158182284 | 0.388064659706 |\n",
       " +--------+----------------+----------------+\n",
       " [5 rows x 3 columns]}"
      ]
     },
     "execution_count": 277,
     "metadata": {},
     "output_type": "execute_result"
    }
   ],
   "source": [
    "item_model = gl.item_similarity_recommender.create(train_set_2, user_id=\"user_id\", \n",
    "                                                   item_id=\"Title\", item_data=items_reduced_with_categories[keep], verbose=False)\n",
    "item_model.evaluate_precision_recall(test_set_2, cutoffs=[1,2,3,4,5], verbose=False)"
   ]
  },
  {
   "cell_type": "code",
   "execution_count": 271,
   "metadata": {
    "collapsed": false
   },
   "outputs": [],
   "source": [
    "keep = np.array(keep)"
   ]
  },
  {
   "cell_type": "code",
   "execution_count": 276,
   "metadata": {
    "collapsed": false
   },
   "outputs": [],
   "source": [
    "keep = keep[np.where(keep!=\"<null>\")]"
   ]
  }
 ],
 "metadata": {
  "hide_input": false,
  "kernelspec": {
   "display_name": "Python 2",
   "language": "python",
   "name": "python2"
  },
  "language_info": {
   "codemirror_mode": {
    "name": "ipython",
    "version": 2
   },
   "file_extension": ".py",
   "mimetype": "text/x-python",
   "name": "python",
   "nbconvert_exporter": "python",
   "pygments_lexer": "ipython2",
   "version": "2.7.11"
  }
 },
 "nbformat": 4,
 "nbformat_minor": 0
}
