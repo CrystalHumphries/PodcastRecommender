{
 "cells": [
  {
   "cell_type": "code",
   "execution_count": 1,
   "metadata": {
    "collapsed": true
   },
   "outputs": [],
   "source": [
    "from datetime import datetime, timedelta\n",
    "from bs4 import BeautifulSoup\n",
    "import time\n",
    "from pymongo import MongoClient\n",
    "import requests\n",
    "import pandas as pd\n",
    "import json\n",
    "import re\n",
    "import tweepy\n",
    "from tweepy.streaming import StreamListener\n",
    "from tweepy import Cursor\n",
    "from tweepy import OAuthHandler\n",
    "from tweepy import Stream\n",
    "from tweepy import API\n",
    "\n",
    "from PodcastFeatureEngineering import Podcast_Features\n",
    "from clean_podcast_csv import PodcastCleaner\n",
    "%load_ext autoreload\n",
    "%autoreload 2\n",
    "import numpy as np\n",
    "import pandas as pd\n",
    "from sklearn.feature_extraction.text import TfidfVectorizer\n",
    "%matplotlib inline\n",
    "from matplotlib import pyplot as plt\n",
    "import time\n",
    "from collections import defaultdict"
   ]
  },
  {
   "cell_type": "code",
   "execution_count": 2,
   "metadata": {
    "collapsed": false
   },
   "outputs": [
    {
     "name": "stdout",
     "output_type": "stream",
     "text": [
      "1507\n"
     ]
    }
   ],
   "source": [
    "client = MongoClient()\n",
    "# Access/Initiate Database\n",
    "db = client['Podcast']\n",
    "# Access/Initiate Table\n",
    "Podcasts = db['PodcastFinal_new']\n",
    "print Podcasts.count()"
   ]
  },
  {
   "cell_type": "code",
   "execution_count": 9,
   "metadata": {
    "collapsed": false
   },
   "outputs": [
    {
     "data": {
      "text/plain": [
       "126195"
      ]
     },
     "execution_count": 9,
     "metadata": {},
     "output_type": "execute_result"
    }
   ],
   "source": [
    "Podcast_twitter = db['PodcastTwitter_handles']\n",
    "Podcast_twitter.count()"
   ]
  },
  {
   "cell_type": "code",
   "execution_count": 10,
   "metadata": {
    "collapsed": false
   },
   "outputs": [
    {
     "name": "stderr",
     "output_type": "stream",
     "text": [
      "/home/ubuntu/anaconda2/lib/python2.7/site-packages/IPython/core/interactiveshell.py:3066: DtypeWarning: Columns (14,15,17) have mixed types. Specify dtype option on import or set low_memory=False.\n",
      "  exec(code_obj, self.user_global_ns, self.user_ns)\n",
      "clean_podcast_csv.py:24: FutureWarning: the coerce=True keyword is deprecated, use errors='coerce' instead\n",
      "  self.df['DateFirstEpisode'] = self.df.DateFirstEpisode.apply(lambda x: pd.to_datetime(str(x), coerce=True))\n"
     ]
    },
    {
     "name": "stdout",
     "output_type": "stream",
     "text": [
      "Creating Tf-idf\n"
     ]
    },
    {
     "name": "stderr",
     "output_type": "stream",
     "text": [
      "clean_podcast_csv.py:25: FutureWarning: the coerce=True keyword is deprecated, use errors='coerce' instead\n",
      "  self.df['DateLastEpisode']  = self.df.DateLastEpisode.apply(lambda x: pd.to_datetime(str(x), coerce=True))\n"
     ]
    }
   ],
   "source": [
    "GenerateFeatures = Podcast_Features()\n",
    "df = GenerateFeatures.cleaned_df"
   ]
  },
  {
   "cell_type": "code",
   "execution_count": null,
   "metadata": {
    "collapsed": true
   },
   "outputs": [],
   "source": [
    "Podcasts.find({},{})"
   ]
  },
  {
   "cell_type": "code",
   "execution_count": null,
   "metadata": {
    "collapsed": false
   },
   "outputs": [],
   "source": [
    "Podcasts.find_one({},{'TwitterFollowers':1, '_id':0})"
   ]
  },
  {
   "cell_type": "code",
   "execution_count": 62,
   "metadata": {
    "collapsed": false
   },
   "outputs": [],
   "source": [
    "twitter_api = json.load(open(\"/home/ubuntu/.api/Twitter_API.json\"))\n",
    "\n",
    "access_token        = twitter_api['Access Token']\n",
    "access_token_secret = twitter_api['Access Token Secret']\n",
    "consumer_key        = twitter_api['API Key']\n",
    "consumer_secret     = twitter_api['API Secret']\n",
    "\n",
    "auth = OAuthHandler(consumer_key, consumer_secret)\n",
    "auth.set_access_token(access_token, access_token_secret)\n",
    "api = tweepy.API(auth)"
   ]
  },
  {
   "cell_type": "code",
   "execution_count": null,
   "metadata": {
    "collapsed": false
   },
   "outputs": [],
   "source": [
    "twitter_stuff = list(set(twitter_handle))\n",
    "followers = defaultdict()"
   ]
  },
  {
   "cell_type": "code",
   "execution_count": null,
   "metadata": {
    "collapsed": true
   },
   "outputs": [],
   "source": [
    "from sklearn.feature_extraction.text import CountVectorizer\n",
    "CV = CountVectorizer()"
   ]
  },
  {
   "cell_type": "code",
   "execution_count": null,
   "metadata": {
    "collapsed": false
   },
   "outputs": [],
   "source": [
    "the_list=[]\n",
    "for k,v in followers.items():\n",
    "    the_stuff = ' '.join([ str(x) for x in v])\n",
    "    the_list.append(the_stuff)"
   ]
  },
  {
   "cell_type": "code",
   "execution_count": null,
   "metadata": {
    "collapsed": false
   },
   "outputs": [],
   "source": [
    "final = CV.fit_transform(the_list)\n",
    "final = final.toarray()\n",
    "final.shape\n",
    "a = np.sum(final, axis=0)\n",
    "a[a>1]"
   ]
  },
  {
   "cell_type": "code",
   "execution_count": null,
   "metadata": {
    "collapsed": false
   },
   "outputs": [],
   "source": [
    "practice = []\n",
    "n=0\n",
    "for pod in Podcasts.find({}, {'PodcastName':1, '_id':0, 'TwitterFollowers':1}):\n",
    "    if 'TwitterFollowers' in pod and pod['TwitterFollowers'][0]!='None':\n",
    "        practice.append(pod)\n",
    "        n+=1\n",
    "print n"
   ]
  },
  {
   "cell_type": "code",
   "execution_count": null,
   "metadata": {
    "collapsed": false
   },
   "outputs": [],
   "source": [
    "#practice[0]"
   ]
  },
  {
   "cell_type": "code",
   "execution_count": null,
   "metadata": {
    "collapsed": false
   },
   "outputs": [],
   "source": [
    "df_twitter_handle = pd.DataFrame(twitter_handle, podcast_name)"
   ]
  },
  {
   "cell_type": "code",
   "execution_count": null,
   "metadata": {
    "collapsed": false
   },
   "outputs": [],
   "source": [
    "df_twitter_handle.to_pickle(\"df_twitter_handle.pkl\")"
   ]
  },
  {
   "cell_type": "code",
   "execution_count": null,
   "metadata": {
    "collapsed": false
   },
   "outputs": [],
   "source": [
    "def get_handle(x):\n",
    "    if x == 'None':\n",
    "        return None\n",
    "    else:\n",
    "        return x.split()[1]\n",
    "\n",
    "df_twitter_handle['twitter_handle'] = df_twitter_handle.twitter_handle.apply(lambda x: get_handle(x))"
   ]
  },
  {
   "cell_type": "code",
   "execution_count": null,
   "metadata": {
    "collapsed": true
   },
   "outputs": [],
   "source": [
    "def create_api(file_name):\n",
    "    twitter_api = json.load(open(file_name))\n",
    "\n",
    "    access_token        = twitter_api['Access Token']\n",
    "    access_token_secret = twitter_api['Access Token Secret']\n",
    "    consumer_key        = twitter_api['API Key']\n",
    "    consumer_secret     = twitter_api['API Secret']\n",
    "    return access_token, access_token_secret, consumer_key, consumer_secret"
   ]
  },
  {
   "cell_type": "code",
   "execution_count": null,
   "metadata": {
    "collapsed": false
   },
   "outputs": [],
   "source": [
    "%%writefile add_to_mongo_test.py\n",
    "\n",
    "import time\n",
    "from pymongo import MongoClient\n",
    "import requests\n",
    "import pandas as pd\n",
    "import tweepy\n",
    "from tweepy.streaming import StreamListener\n",
    "from tweepy import Cursor\n",
    "from tweepy import OAuthHandler\n",
    "from tweepy import Stream\n",
    "from tweepy import API\n",
    "import json\n",
    "import itertools\n",
    "\n",
    "'''set up twitter'''\n",
    "APIs = ['Twitter2_API.json',  'Twitter3_API.json', 'Twitter4_API.json', 'Twitter_API.json']\n",
    "loc = '/home/ubuntu/.api/'\n",
    "\n",
    "def create_api(file_name):\n",
    "    twitter_api = json.load(open(file_name))\n",
    "\n",
    "    access_token        = twitter_api['Access Token']\n",
    "    access_token_secret = twitter_api['Access Token Secret']\n",
    "    consumer_key        = twitter_api['API Key']\n",
    "    consumer_secret     = twitter_api['API Secret']\n",
    "    return access_token, access_token_secret, consumer_key, consumer_secret\n",
    "\n",
    "api_list = []\n",
    "for api in APIs:\n",
    "    file_name = loc + api\n",
    "    AT,ATS,CK,CKS = create_api(file_name)\n",
    "    auth = OAuthHandler(CK,CKS)\n",
    "    auth.set_access_token(AT,ATS)\n",
    "    api = tweepy.API(auth)\n",
    "    api_list.append(api)\n",
    "\n",
    "api_generator = itertools.cycle(api_list)\n",
    "\n",
    "'''get mongoDB'''\n",
    "client = MongoClient()\n",
    "# Access/Initiate Database\n",
    "db = client['Podcast']\n",
    "# Access/Initiate Table\n",
    "Podcasts = db['PodcastFinal_new']\n",
    "\n",
    "df_twitter_handle = pd.read_pickle('df_twitter_handle.pkl')\n",
    "\n",
    "n=0\n",
    "\n",
    "check_names=[]\n",
    "\n",
    "for i,v in zip(df_twitter_handle.index, df_twitter_handle.twitter_handle):\n",
    "    check_entries = Podcasts.find_one({'PodcastName': i})\n",
    "    if v is None:\n",
    "        Podcasts.update_one({'PodcastName': i}, \n",
    "                            { '$set': { \"TwitterFollowers\": ['None'] } })\n",
    "    elif 'TwitterFollowers' in check_entries and check_entries['TwitterFollowers'][0]!='None':\n",
    "        continue\n",
    "    else:\n",
    "        n+=1\n",
    "        try:\n",
    "            people, cursor = current_api.followers_ids(screen_name=v, \n",
    "                                                       count=200, \n",
    "                                                       cursor=-1)\n",
    "            Podcasts.update_one({'PodcastName': i}, { '$set': \n",
    "                                                     { \"TwitterFollowers\": people,\n",
    "                                                      \"TwitterCounter\":cursor }})\n",
    "            if n==15:\n",
    "                n = 0\n",
    "                time.sleep(360)\n",
    "        except:\n",
    "            current_api = api_generator.next()\n",
    "            check_names.append(i)\n",
    "    current_api = api_generator.next()  \n",
    "\n",
    "keep_df = pd.DataFrame(check_names)\n",
    "keep_df.to_json(\"save_names_didnt_check.json\")"
   ]
  },
  {
   "cell_type": "code",
   "execution_count": 63,
   "metadata": {
    "collapsed": true
   },
   "outputs": [],
   "source": [
    "APIs = ['Twitter2_API.json',  'Twitter3_API.json', 'Twitter4_API.json', 'Twitter_API.json']\n",
    "loc = '/home/ubuntu/.api/'\n",
    "\n",
    "def create_api(file_name):\n",
    "    twitter_api = json.load(open(file_name))\n",
    "\n",
    "    access_token        = twitter_api['Access Token']\n",
    "    access_token_secret = twitter_api['Access Token Secret']\n",
    "    consumer_key        = twitter_api['API Key']\n",
    "    consumer_secret     = twitter_api['API Secret']\n",
    "    return access_token, access_token_secret, consumer_key, consumer_secret\n",
    "\n",
    "api_list = []\n",
    "for api in APIs:\n",
    "    file_name = loc + api\n",
    "    AT,ATS,CK,CKS = create_api(file_name)\n",
    "    auth = OAuthHandler(CK,CKS)\n",
    "    auth.set_access_token(AT,ATS)\n",
    "    api = tweepy.API(auth)\n",
    "    api_list.append(api)"
   ]
  },
  {
   "cell_type": "code",
   "execution_count": 69,
   "metadata": {
    "collapsed": false
   },
   "outputs": [],
   "source": [
    "#api_list[3].followers_ids(screen_name='@taylorswift13', count=200,cursor=-1)"
   ]
  },
  {
   "cell_type": "code",
   "execution_count": 29,
   "metadata": {
    "collapsed": false
   },
   "outputs": [
    {
     "data": {
      "text/plain": [
       "133137"
      ]
     },
     "execution_count": 29,
     "metadata": {},
     "output_type": "execute_result"
    }
   ],
   "source": [
    "Podcast_twitter = db['PodcastTwitter_handles']\n",
    "Podcast_twitter.count()"
   ]
  },
  {
   "cell_type": "code",
   "execution_count": 72,
   "metadata": {
    "collapsed": false
   },
   "outputs": [
    {
     "name": "stdout",
     "output_type": "stream",
     "text": [
      "Overwriting add_to_mongo_All.py\n"
     ]
    }
   ],
   "source": [
    "%%writefile add_to_mongo_All.py\n",
    "\n",
    "import time\n",
    "from pymongo import MongoClient\n",
    "import requests\n",
    "import pandas as pd\n",
    "import tweepy\n",
    "from tweepy.streaming import StreamListener\n",
    "from tweepy import Cursor\n",
    "from tweepy import OAuthHandler\n",
    "from tweepy import Stream\n",
    "from tweepy import API\n",
    "import json\n",
    "import itertools\n",
    "\n",
    "'''set up twitter'''\n",
    "APIs = ['Twitter2_API.json',  'Twitter3_API.json', 'Twitter4_API.json', 'Twitter_API.json']\n",
    "loc = '/home/ubuntu/.api/'\n",
    "\n",
    "def create_api(file_name):\n",
    "    twitter_api = json.load(open(file_name))\n",
    "\n",
    "    access_token        = twitter_api['Access Token']\n",
    "    access_token_secret = twitter_api['Access Token Secret']\n",
    "    consumer_key        = twitter_api['API Key']\n",
    "    consumer_secret     = twitter_api['API Secret']\n",
    "    return access_token, access_token_secret, consumer_key, consumer_secret\n",
    "\n",
    "api_list = []\n",
    "for api in APIs:\n",
    "    file_name = loc + api\n",
    "    AT,ATS,CK,CKS = create_api(file_name)\n",
    "    auth = OAuthHandler(CK,CKS)\n",
    "    auth.set_access_token(AT,ATS)\n",
    "    api = tweepy.API(auth)\n",
    "    api_list.append(api)\n",
    "\n",
    "api_generator = itertools.cycle(api_list)\n",
    "\n",
    "'''get mongoDB'''\n",
    "client = MongoClient()\n",
    "# Access/Initiate Database\n",
    "db = client['Podcast']\n",
    "# Access/Initiate Table\n",
    "#Podcasts = db['PodcastFinal_new']\n",
    "Podcast_twitter = db['PodcastTwitter_handles']\n",
    "\n",
    "\n",
    "n=0\n",
    "\n",
    "check_names=[]\n",
    "\n",
    "for podcast in Podcast_twitter.find({}):\n",
    "    handle = str(podcast['Podcast_Twitter_handle'])\n",
    "    Title = podcast[\"Title\"]\n",
    "    if handle == 'NaN':\n",
    "        Podcast_twitter.update_one({'Title': Title}, \n",
    "                            { '$set': { \"TwitterFollowers\": ['None'] } })\n",
    "    elif 'TwitterFollowers' in podcast: # and podcast['TwitterFollowers'][0]!='None':\n",
    "        continue\n",
    "    else:\n",
    "        n+=1\n",
    "        try:\n",
    "            people, cursor = current_api.followers_ids(screen_name=handle, \n",
    "                                                       count=200, \n",
    "                                                       cursor=-1)\n",
    "            Podcast_twitter.update_one({'Title': Title}, { '$set': \n",
    "                                                         { \"TwitterFollowers\": people,\n",
    "                                                          \"TwitterCounter\":cursor }})\n",
    "            if n==15:\n",
    "                n = 0\n",
    "                time.sleep(360)\n",
    "        except:\n",
    "            current_api = api_generator.next()\n",
    "            check_names.append(handle)\n",
    "    current_api = api_generator.next()  \n",
    "\n",
    "keep_df = pd.DataFrame(check_names)\n",
    "keep_df.to_json(\"save_names_didnt_check.json\")"
   ]
  },
  {
   "cell_type": "code",
   "execution_count": null,
   "metadata": {
    "collapsed": false
   },
   "outputs": [],
   "source": [
    "'''place old pymongo in new table'''\n",
    "\n",
    "for pod in Podcasts.find({}):\n",
    "    pName = pod['PodcastName']\n",
    "    people = pod['TwitterFollowers']\n",
    "    if 'TwitterCounter' in pod:\n",
    "        cursor = pod['TwitterCounter']\n",
    "    else:\n",
    "        cursor = -1\n",
    "    people = pod[]\n",
    "    if Podcast_twitter.find_one({'Title':pName},{'_id':1}):\n",
    "        Podcast_twitter.update_one({})\n"
   ]
  },
  {
   "cell_type": "code",
   "execution_count": 59,
   "metadata": {
    "collapsed": false
   },
   "outputs": [
    {
     "data": {
      "text/plain": [
       "{u'PodcastRating': 805,\n",
       " u'Podcast_Twitter_handle': u'NaN',\n",
       " u'Title': u'The Message',\n",
       " u'_id': ObjectId('571034d9bdc83961cdaae97a')}"
      ]
     },
     "execution_count": 59,
     "metadata": {},
     "output_type": "execute_result"
    }
   ],
   "source": [
    "Podcast_twitter.find_one({'Podcast_Twitter_handle':'NaN'})"
   ]
  },
  {
   "cell_type": "code",
   "execution_count": 54,
   "metadata": {
    "collapsed": false
   },
   "outputs": [
    {
     "data": {
      "text/plain": [
       "<pymongo.results.DeleteResult at 0x7fe1121edcd0>"
      ]
     },
     "execution_count": 54,
     "metadata": {},
     "output_type": "execute_result"
    }
   ],
   "source": [
    "'''remove_dups'''\n",
    "\n",
    "total_dups = Podcast_twitter.aggregate(\n",
    "    [\n",
    "        {\"$group\": {\"_id\": \"$Title\", \"unique_ids\": {\"$addToSet\": \"$_id\"}, \"count\": {\"$sum\": 1}}},\n",
    "        {\"$match\": {\"count\": { \"$gte\": 2 }}}\n",
    "    ]\n",
    ")\n",
    "\n",
    "response = []\n",
    "\n",
    "for doc in total_dups:\n",
    "    del doc[\"unique_ids\"][0]\n",
    "    for id in doc[\"unique_ids\"]:\n",
    "        response.append(id)\n",
    "\n",
    "Podcast_twitter.delete_many({\"_id\": {\"$in\": response}})"
   ]
  },
  {
   "cell_type": "code",
   "execution_count": 48,
   "metadata": {
    "collapsed": true
   },
   "outputs": [],
   "source": [
    "total_dups = list(total_dups)"
   ]
  },
  {
   "cell_type": "code",
   "execution_count": 52,
   "metadata": {
    "collapsed": false
   },
   "outputs": [
    {
     "data": {
      "text/plain": [
       "[ObjectId('57106f24bdc83968fb429e9e'), ObjectId('57106f24bdc83968fb429e9d')]"
      ]
     },
     "execution_count": 52,
     "metadata": {},
     "output_type": "execute_result"
    }
   ],
   "source": [
    "total_dups\n",
    "total_dups[0][\"unique_ids\"]"
   ]
  },
  {
   "cell_type": "code",
   "execution_count": 22,
   "metadata": {
    "collapsed": false
   },
   "outputs": [],
   "source": [
    "'''place old pymongo in new table'''\n",
    "\n",
    "for i,v in zip(df_twitter_handle.index, df_twitter_handle.twitter_handle):\n",
    "    pod = Podcasts.find_one({'PodcastName': i})\n",
    "    pName = pod['PodcastName']\n",
    "    if 'TwitterFollowers' in pod:\n",
    "        followers = pod['TwitterFollowers']\n",
    "        \n",
    "        if 'TwitterCounter' in pod:\n",
    "            cursor = pod['TwitterCounter']\n",
    "        else:\n",
    "            cursor = -1\n",
    "        if Podcast_twitter.find_one({'Title': pName }):\n",
    "            Podcast_twitter.update_one({'Title': pName }, \n",
    "                                       { '$set': { \"TwitterFollowers\": followers,\n",
    "                                                    \"TwitterCounter\":cursor,\n",
    "                                                     \"TwitterHandle\": v} })\n",
    "        else:\n",
    "            Podcast_twitter.insert_one({'Title': pName ,\n",
    "                                        \"TwitterFollowers\": followers,\n",
    "                                        \"TwitterCounter\":cursor,\n",
    "                                        \"TwitterHandle\": v} )"
   ]
  },
  {
   "cell_type": "code",
   "execution_count": 16,
   "metadata": {
    "collapsed": false
   },
   "outputs": [
    {
     "data": {
      "text/html": [
       "<div>\n",
       "<table border=\"1\" class=\"dataframe\">\n",
       "  <thead>\n",
       "    <tr style=\"text-align: right;\">\n",
       "      <th></th>\n",
       "      <th>twitter_handle</th>\n",
       "    </tr>\n",
       "  </thead>\n",
       "  <tbody>\n",
       "    <tr>\n",
       "      <th>euromaxx Highlights | Video Podcast | Deutsche Welle</th>\n",
       "      <td>None</td>\n",
       "    </tr>\n",
       "    <tr>\n",
       "      <th>#ZERO</th>\n",
       "      <td>None</td>\n",
       "    </tr>\n",
       "    <tr>\n",
       "      <th>99% Invisible</th>\n",
       "      <td>None</td>\n",
       "    </tr>\n",
       "    <tr>\n",
       "      <th>Euromaxx: Lifestyle Europe</th>\n",
       "      <td>None</td>\n",
       "    </tr>\n",
       "    <tr>\n",
       "      <th>10,000 HOURS</th>\n",
       "      <td>None</td>\n",
       "    </tr>\n",
       "  </tbody>\n",
       "</table>\n",
       "</div>"
      ],
      "text/plain": [
       "                                                   twitter_handle\n",
       "euromaxx Highlights | Video Podcast | Deutsche ...           None\n",
       "#ZERO                                                        None\n",
       "99% Invisible                                                None\n",
       "Euromaxx: Lifestyle Europe                                   None\n",
       "10,000 HOURS                                                 None"
      ]
     },
     "execution_count": 16,
     "metadata": {},
     "output_type": "execute_result"
    }
   ],
   "source": [
    "df_twitter_handle = pd.read_pickle('df_twitter_handle.pkl')\n",
    "df_twitter_handle.head()"
   ]
  },
  {
   "cell_type": "code",
   "execution_count": null,
   "metadata": {
    "collapsed": false
   },
   "outputs": [],
   "source": [
    "Podcast_twitter.find_one({'Title': i}, { '$set':{ \"TwitterFollowers\": people, ''}})"
   ]
  },
  {
   "cell_type": "code",
   "execution_count": null,
   "metadata": {
    "collapsed": false
   },
   "outputs": [],
   "source": [
    "Podcast_twitter.count()"
   ]
  },
  {
   "cell_type": "code",
   "execution_count": null,
   "metadata": {
    "collapsed": true
   },
   "outputs": [],
   "source": [
    "Podcast_twitter = db['PodcastTwitter_handles']\n",
    "Podcast_twitter.count()"
   ]
  },
  {
   "cell_type": "code",
   "execution_count": 12,
   "metadata": {
    "collapsed": false
   },
   "outputs": [
    {
     "name": "stdout",
     "output_type": "stream",
     "text": [
      "Writing SearchTwitterWebsite_Handle.py\n"
     ]
    }
   ],
   "source": [
    "%%writefile SearchTwitterWebsite_Handle.py\n",
    "\n",
    "twitter_handle = []\n",
    "podcast_name   = []\n",
    "\n",
    "for pod in Podcasts.find({}, {'PodcastName':1, '_id':0}):\n",
    "    pName = pod['PodcastName']\n",
    "    podcast_name.append(pName)\n",
    "    if re.search('|', pName):\n",
    "        pName = pName.split('|')[0].strip()\n",
    "    try:\n",
    "        twitter_search = 'https://twitter.com/search?q=%22' + pName + '%22%20%23podcast&src=typd&lang=en'\n",
    "        attempt = requests.get(twitter_search)\n",
    "        soup = BeautifulSoup(attempt.content)\n",
    "        b = soup.find('div', {'class':'ProfileCard ProfileCard--wide js-actionable-user'})\n",
    "        handle = b.find('button').get(\"title\")\n",
    "        twitter_handle.append(handle)\n",
    "    except:\n",
    "        try:\n",
    "            twitter_search = 'https://twitter.com/search?q=%22' + pName + '&src=typd'\n",
    "            attempt = requests.get(twitter_search)\n",
    "            soup = BeautifulSoup(attempt.content)\n",
    "            b = soup.find('div', {'class':'ProfileCard ProfileCard--wide js-actionable-user'})\n",
    "            handle = b.find('button').get(\"title\")\n",
    "            twitter_handle.append(handle)\n",
    "        except:\n",
    "            handle=\"None\"\n",
    "            twitter_handle.append(handle)"
   ]
  },
  {
   "cell_type": "code",
   "execution_count": null,
   "metadata": {
    "collapsed": false
   },
   "outputs": [],
   "source": [
    "new_df = pd.DataFrame(twitter_handle, podcast_name)\n",
    "new_df"
   ]
  }
 ],
 "metadata": {
  "kernelspec": {
   "display_name": "Python 2",
   "language": "python",
   "name": "python2"
  },
  "language_info": {
   "codemirror_mode": {
    "name": "ipython",
    "version": 2
   },
   "file_extension": ".py",
   "mimetype": "text/x-python",
   "name": "python",
   "nbconvert_exporter": "python",
   "pygments_lexer": "ipython2",
   "version": "2.7.11"
  }
 },
 "nbformat": 4,
 "nbformat_minor": 0
}
