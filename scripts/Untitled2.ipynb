{
 "cells": [
  {
   "cell_type": "code",
   "execution_count": 1,
   "metadata": {
    "collapsed": false
   },
   "outputs": [],
   "source": [
    "from PodcastFeatureEngineering import Podcast_Features\n",
    "from clean_podcast_csv import PodcastCleaner\n",
    "%load_ext autoreload\n",
    "%autoreload 2\n",
    "import numpy as np\n",
    "import pandas as pd"
   ]
  },
  {
   "cell_type": "code",
   "execution_count": 3,
   "metadata": {
    "collapsed": false
   },
   "outputs": [
    {
     "name": "stderr",
     "output_type": "stream",
     "text": [
      "/Users/zephryin/anaconda/envs/py2/lib/python2.7/site-packages/IPython/core/interactiveshell.py:2885: DtypeWarning: Columns (14,15,17) have mixed types. Specify dtype option on import or set low_memory=False.\n",
      "  exec(code_obj, self.user_global_ns, self.user_ns)\n",
      "clean_podcast_csv.py:24: FutureWarning: the coerce=True keyword is deprecated, use errors='coerce' instead\n",
      "  self.df['DateFirstEpisode'] = self.df.DateFirstEpisode.apply(lambda x: pd.to_datetime(str(x), coerce=True))\n"
     ]
    },
    {
     "name": "stdout",
     "output_type": "stream",
     "text": [
      "Creating Tf-idf\n"
     ]
    },
    {
     "name": "stderr",
     "output_type": "stream",
     "text": [
      "clean_podcast_csv.py:25: FutureWarning: the coerce=True keyword is deprecated, use errors='coerce' instead\n",
      "  self.df['DateLastEpisode']  = self.df.DateLastEpisode.apply(lambda x: pd.to_datetime(str(x), coerce=True))\n"
     ]
    }
   ],
   "source": [
    "GenerateFeatures = Podcast_Features()"
   ]
  },
  {
   "cell_type": "code",
   "execution_count": 4,
   "metadata": {
    "collapsed": true
   },
   "outputs": [],
   "source": [
    "df = GenerateFeatures.cleaned_df"
   ]
  },
  {
   "cell_type": "code",
   "execution_count": 9,
   "metadata": {
    "collapsed": false
   },
   "outputs": [
    {
     "name": "stdout",
     "output_type": "stream",
     "text": [
      "Creating Tf-idf\n"
     ]
    }
   ],
   "source": [
    "GF = Podcast_Features(cleaned_df=df)"
   ]
  },
  {
   "cell_type": "code",
   "execution_count": 12,
   "metadata": {
    "collapsed": false
   },
   "outputs": [],
   "source": [
    "X = GF.vectorize_text('iTunesSubtitle')"
   ]
  },
  {
   "cell_type": "code",
   "execution_count": 10,
   "metadata": {
    "collapsed": false
   },
   "outputs": [],
   "source": [
    "GF.call_nmf(X)"
   ]
  },
  {
   "cell_type": "code",
   "execution_count": 13,
   "metadata": {
    "collapsed": false
   },
   "outputs": [
    {
     "name": "stdout",
     "output_type": "stream",
     "text": [
      "\n",
      "Topics in NMF model:\n",
      "Topic #0:\n",
      "null free songs thesongoftheday free songs free shows free short free sfr bouygues free sfr free send free radio free public free psychic free press free podcasts free picks free open free online ios 효과적인 리스닝 강의 free music free mp3 audio free mp3\n",
      "Topic #1:\n",
      "faith comes faith comes hearing comes hearing audio bible audio bible recorded online audio bible recorded faith comes recorded faith bible recorded faith online audio bible recorded hearing comes recorded faith bible online audio bible church bible study\n",
      "Topic #2:\n",
      "listen listen shows croydon radio shows croydon radio listen shows croydon shows croydon croydon listen new shows new listen enjoy enjoy download listen learn listen download listen sermons learn listen latest just listen live\n",
      "Topic #3:\n",
      "com http facebook visit facebook com gmail com gmail twitter https brought info blogspot com blogspot twitter com email presented website information el booking\n",
      "Topic #4:\n",
      "radio talk radio internet radio network station radio network shows radio station la program internet live weekly radio la radio radio web radio program radio web talk future talk internet radio future talk radio web\n",
      "Topic #5:\n",
      "church baptist baptist church community community church messages christ christian christian church church christ bible church podcasts bible church god pastor presbyterian presbyterian church city reformed church reformed\n",
      "Topic #6:\n",
      "music house house music electronic electronic music dance dance music best new new music live live music underground interviews electronic dance electronic dance music music podcasts deep love independent\n",
      "Topic #7:\n",
      "podcasts church podcasts sermon podcasts recent podcasts recent video podcasts audio podcasts music podcasts sermon otc podcasts otc series podcasts house music podcasts series daily podcasts baptist church podcasts free school weekly podcasts daily\n",
      "Topic #8:\n",
      "sermons weekly sermons sunday sunday sermons church sermons audio sermons morning morning sermons sunday morning sunday morning sermons pastor preached sermons preached st latest sermons sermons pastor presbyterian sermons teachings presbyterian church chapel\n",
      "Topic #9:\n",
      "shows tv tv shows post game game wrap favorite tv favorite tv shows shows favorite post game wrap shows favorite tv game wrap shows wrap shows wrap shows favorite daily post game daily post game wrap post favorite daily\n",
      "Topic #10:\n",
      "news video games world video games culture game sports interviews latest new gaming video game movies reviews things pop people business week\n",
      "Topic #11:\n",
      "weekly weekly sermons messages weekly messages weekly sermon sermon hosted message weekly message weekly radio weekly audio bi weekly bi services weekly hosted weekly services featuring discussion weekly dose weekly teaching\n",
      "Topic #12:\n",
      "audio sermon sermon audio weekly sermon audio sermons audio video church sermon weekly audio church audio audio messages audio podcasts weekly sermon audio sermon podcasts video series church sermon audio audio version sunday teaching audio audio tour\n",
      "Topic #13:\n",
      "ein des ein download angebot ein download download angebot angebot rundfunks bayerischen bayerischen rundfunks des bayerischen download angebot des angebot des angebot des bayerischen des bayerischen rundfunks download und der le et die\n",
      "Topic #14:\n",
      "official welcome official channel uk records page net welcome official radio official dj official radioshow official audio radioshow community official uk gaming soundcloud official soundcloud magazine radio official\n",
      "Topic #15:\n",
      "poderato com poderato com radio poderato com radio poderato el la en del mexico los oficial rock punto party frecuencia grupo station poderato com station poderato com poderato\n",
      "Topic #16:\n",
      "dj house mixes mix deep producer electro house music dj producer progressive deep house tech techno tech house dj mixes trance live electro house progressive house best\n",
      "Topic #17:\n",
      "life live real love people living god life church business real life new new life change live life everyday stories jesus everyday life word charge life\n",
      "Topic #18:\n",
      "podcasting podcasting tsf tsf podcasting network podcasting broadcasting podcasting dickinson college dickinson college podcasting dickinson dickinson broadcasting world network podcasters college magic music podcasting lectures sports podcasting podcasting time podcasters podcasting\n",
      "Topic #19:\n",
      "talk talk radio best internet future best internet radio future talk radio web radio future talk best internet radio future talk radio future talk web talk radio web talk radio web talk internet radio future web radio web internet radio sports\n",
      "()\n"
     ]
    }
   ],
   "source": [
    "check = GF.get_NMF_topics(GF.nmf, X)"
   ]
  },
  {
   "cell_type": "code",
   "execution_count": 14,
   "metadata": {
    "collapsed": false
   },
   "outputs": [
    {
     "data": {
      "text/html": [
       "<div>\n",
       "<table border=\"1\" class=\"dataframe\">\n",
       "  <thead>\n",
       "    <tr style=\"text-align: right;\">\n",
       "      <th></th>\n",
       "      <th>0</th>\n",
       "    </tr>\n",
       "  </thead>\n",
       "  <tbody>\n",
       "    <tr>\n",
       "      <th>0</th>\n",
       "      <td>[life live real love people living god life ch...</td>\n",
       "    </tr>\n",
       "    <tr>\n",
       "      <th>1</th>\n",
       "      <td>[radio talk radio internet radio network stati...</td>\n",
       "    </tr>\n",
       "    <tr>\n",
       "      <th>2</th>\n",
       "      <td>[radio talk radio internet radio network stati...</td>\n",
       "    </tr>\n",
       "    <tr>\n",
       "      <th>3</th>\n",
       "      <td>[life live real love people living god life ch...</td>\n",
       "    </tr>\n",
       "    <tr>\n",
       "      <th>4</th>\n",
       "      <td>[talk talk radio best internet future best int...</td>\n",
       "    </tr>\n",
       "    <tr>\n",
       "      <th>5</th>\n",
       "      <td>[radio talk radio internet radio network stati...</td>\n",
       "    </tr>\n",
       "    <tr>\n",
       "      <th>6</th>\n",
       "      <td>[news video games world video games culture ga...</td>\n",
       "    </tr>\n",
       "    <tr>\n",
       "      <th>7</th>\n",
       "      <td>[news video games world video games culture ga...</td>\n",
       "    </tr>\n",
       "    <tr>\n",
       "      <th>8</th>\n",
       "      <td>[weekly weekly sermons messages weekly message...</td>\n",
       "    </tr>\n",
       "    <tr>\n",
       "      <th>9</th>\n",
       "      <td>[null free songs thesongoftheday free songs fr...</td>\n",
       "    </tr>\n",
       "    <tr>\n",
       "      <th>10</th>\n",
       "      <td>[music house house music electronic electronic...</td>\n",
       "    </tr>\n",
       "    <tr>\n",
       "      <th>11</th>\n",
       "      <td>[news video games world video games culture ga...</td>\n",
       "    </tr>\n",
       "    <tr>\n",
       "      <th>12</th>\n",
       "      <td>[null free songs thesongoftheday free songs fr...</td>\n",
       "    </tr>\n",
       "    <tr>\n",
       "      <th>13</th>\n",
       "      <td>[news video games world video games culture ga...</td>\n",
       "    </tr>\n",
       "    <tr>\n",
       "      <th>14</th>\n",
       "      <td>[weekly weekly sermons messages weekly message...</td>\n",
       "    </tr>\n",
       "    <tr>\n",
       "      <th>15</th>\n",
       "      <td>[news video games world video games culture ga...</td>\n",
       "    </tr>\n",
       "    <tr>\n",
       "      <th>16</th>\n",
       "      <td>[news video games world video games culture ga...</td>\n",
       "    </tr>\n",
       "    <tr>\n",
       "      <th>17</th>\n",
       "      <td>[news video games world video games culture ga...</td>\n",
       "    </tr>\n",
       "    <tr>\n",
       "      <th>18</th>\n",
       "      <td>[weekly weekly sermons messages weekly message...</td>\n",
       "    </tr>\n",
       "    <tr>\n",
       "      <th>19</th>\n",
       "      <td>[talk talk radio best internet future best int...</td>\n",
       "    </tr>\n",
       "    <tr>\n",
       "      <th>20</th>\n",
       "      <td>[talk talk radio best internet future best int...</td>\n",
       "    </tr>\n",
       "    <tr>\n",
       "      <th>21</th>\n",
       "      <td>[news video games world video games culture ga...</td>\n",
       "    </tr>\n",
       "    <tr>\n",
       "      <th>22</th>\n",
       "      <td>[news video games world video games culture ga...</td>\n",
       "    </tr>\n",
       "    <tr>\n",
       "      <th>23</th>\n",
       "      <td>[news video games world video games culture ga...</td>\n",
       "    </tr>\n",
       "    <tr>\n",
       "      <th>24</th>\n",
       "      <td>[shows tv tv shows post game game wrap favorit...</td>\n",
       "    </tr>\n",
       "    <tr>\n",
       "      <th>25</th>\n",
       "      <td>[news video games world video games culture ga...</td>\n",
       "    </tr>\n",
       "    <tr>\n",
       "      <th>26</th>\n",
       "      <td>[weekly weekly sermons messages weekly message...</td>\n",
       "    </tr>\n",
       "    <tr>\n",
       "      <th>27</th>\n",
       "      <td>[news video games world video games culture ga...</td>\n",
       "    </tr>\n",
       "    <tr>\n",
       "      <th>28</th>\n",
       "      <td>[life live real love people living god life ch...</td>\n",
       "    </tr>\n",
       "    <tr>\n",
       "      <th>29</th>\n",
       "      <td>[shows tv tv shows post game game wrap favorit...</td>\n",
       "    </tr>\n",
       "    <tr>\n",
       "      <th>...</th>\n",
       "      <td>...</td>\n",
       "    </tr>\n",
       "    <tr>\n",
       "      <th>155774</th>\n",
       "      <td>[life live real love people living god life ch...</td>\n",
       "    </tr>\n",
       "    <tr>\n",
       "      <th>155775</th>\n",
       "      <td>[null free songs thesongoftheday free songs fr...</td>\n",
       "    </tr>\n",
       "    <tr>\n",
       "      <th>155776</th>\n",
       "      <td>[talk talk radio best internet future best int...</td>\n",
       "    </tr>\n",
       "    <tr>\n",
       "      <th>155777</th>\n",
       "      <td>[sermons weekly sermons sunday sunday sermons ...</td>\n",
       "    </tr>\n",
       "    <tr>\n",
       "      <th>155778</th>\n",
       "      <td>[null free songs thesongoftheday free songs fr...</td>\n",
       "    </tr>\n",
       "    <tr>\n",
       "      <th>155779</th>\n",
       "      <td>[null free songs thesongoftheday free songs fr...</td>\n",
       "    </tr>\n",
       "    <tr>\n",
       "      <th>155780</th>\n",
       "      <td>[talk talk radio best internet future best int...</td>\n",
       "    </tr>\n",
       "    <tr>\n",
       "      <th>155781</th>\n",
       "      <td>[news video games world video games culture ga...</td>\n",
       "    </tr>\n",
       "    <tr>\n",
       "      <th>155782</th>\n",
       "      <td>[podcasts church podcasts sermon podcasts rece...</td>\n",
       "    </tr>\n",
       "    <tr>\n",
       "      <th>155783</th>\n",
       "      <td>[null free songs thesongoftheday free songs fr...</td>\n",
       "    </tr>\n",
       "    <tr>\n",
       "      <th>155784</th>\n",
       "      <td>[shows tv tv shows post game game wrap favorit...</td>\n",
       "    </tr>\n",
       "    <tr>\n",
       "      <th>155785</th>\n",
       "      <td>[church baptist baptist church community commu...</td>\n",
       "    </tr>\n",
       "    <tr>\n",
       "      <th>155786</th>\n",
       "      <td>[news video games world video games culture ga...</td>\n",
       "    </tr>\n",
       "    <tr>\n",
       "      <th>155787</th>\n",
       "      <td>[radio talk radio internet radio network stati...</td>\n",
       "    </tr>\n",
       "    <tr>\n",
       "      <th>155788</th>\n",
       "      <td>[talk talk radio best internet future best int...</td>\n",
       "    </tr>\n",
       "    <tr>\n",
       "      <th>155789</th>\n",
       "      <td>[null free songs thesongoftheday free songs fr...</td>\n",
       "    </tr>\n",
       "    <tr>\n",
       "      <th>155790</th>\n",
       "      <td>[news video games world video games culture ga...</td>\n",
       "    </tr>\n",
       "    <tr>\n",
       "      <th>155791</th>\n",
       "      <td>[talk talk radio best internet future best int...</td>\n",
       "    </tr>\n",
       "    <tr>\n",
       "      <th>155792</th>\n",
       "      <td>[radio talk radio internet radio network stati...</td>\n",
       "    </tr>\n",
       "    <tr>\n",
       "      <th>155793</th>\n",
       "      <td>[music house house music electronic electronic...</td>\n",
       "    </tr>\n",
       "    <tr>\n",
       "      <th>155794</th>\n",
       "      <td>[news video games world video games culture ga...</td>\n",
       "    </tr>\n",
       "    <tr>\n",
       "      <th>155795</th>\n",
       "      <td>[life live real love people living god life ch...</td>\n",
       "    </tr>\n",
       "    <tr>\n",
       "      <th>155796</th>\n",
       "      <td>[news video games world video games culture ga...</td>\n",
       "    </tr>\n",
       "    <tr>\n",
       "      <th>155797</th>\n",
       "      <td>[news video games world video games culture ga...</td>\n",
       "    </tr>\n",
       "    <tr>\n",
       "      <th>155798</th>\n",
       "      <td>[news video games world video games culture ga...</td>\n",
       "    </tr>\n",
       "    <tr>\n",
       "      <th>155799</th>\n",
       "      <td>[listen listen shows croydon radio shows croyd...</td>\n",
       "    </tr>\n",
       "    <tr>\n",
       "      <th>155800</th>\n",
       "      <td>[life live real love people living god life ch...</td>\n",
       "    </tr>\n",
       "    <tr>\n",
       "      <th>155801</th>\n",
       "      <td>[talk talk radio best internet future best int...</td>\n",
       "    </tr>\n",
       "    <tr>\n",
       "      <th>155802</th>\n",
       "      <td>[null free songs thesongoftheday free songs fr...</td>\n",
       "    </tr>\n",
       "    <tr>\n",
       "      <th>155803</th>\n",
       "      <td>[news video games world video games culture ga...</td>\n",
       "    </tr>\n",
       "  </tbody>\n",
       "</table>\n",
       "<p>155804 rows × 1 columns</p>\n",
       "</div>"
      ],
      "text/plain": [
       "                                                        0\n",
       "0       [life live real love people living god life ch...\n",
       "1       [radio talk radio internet radio network stati...\n",
       "2       [radio talk radio internet radio network stati...\n",
       "3       [life live real love people living god life ch...\n",
       "4       [talk talk radio best internet future best int...\n",
       "5       [radio talk radio internet radio network stati...\n",
       "6       [news video games world video games culture ga...\n",
       "7       [news video games world video games culture ga...\n",
       "8       [weekly weekly sermons messages weekly message...\n",
       "9       [null free songs thesongoftheday free songs fr...\n",
       "10      [music house house music electronic electronic...\n",
       "11      [news video games world video games culture ga...\n",
       "12      [null free songs thesongoftheday free songs fr...\n",
       "13      [news video games world video games culture ga...\n",
       "14      [weekly weekly sermons messages weekly message...\n",
       "15      [news video games world video games culture ga...\n",
       "16      [news video games world video games culture ga...\n",
       "17      [news video games world video games culture ga...\n",
       "18      [weekly weekly sermons messages weekly message...\n",
       "19      [talk talk radio best internet future best int...\n",
       "20      [talk talk radio best internet future best int...\n",
       "21      [news video games world video games culture ga...\n",
       "22      [news video games world video games culture ga...\n",
       "23      [news video games world video games culture ga...\n",
       "24      [shows tv tv shows post game game wrap favorit...\n",
       "25      [news video games world video games culture ga...\n",
       "26      [weekly weekly sermons messages weekly message...\n",
       "27      [news video games world video games culture ga...\n",
       "28      [life live real love people living god life ch...\n",
       "29      [shows tv tv shows post game game wrap favorit...\n",
       "...                                                   ...\n",
       "155774  [life live real love people living god life ch...\n",
       "155775  [null free songs thesongoftheday free songs fr...\n",
       "155776  [talk talk radio best internet future best int...\n",
       "155777  [sermons weekly sermons sunday sunday sermons ...\n",
       "155778  [null free songs thesongoftheday free songs fr...\n",
       "155779  [null free songs thesongoftheday free songs fr...\n",
       "155780  [talk talk radio best internet future best int...\n",
       "155781  [news video games world video games culture ga...\n",
       "155782  [podcasts church podcasts sermon podcasts rece...\n",
       "155783  [null free songs thesongoftheday free songs fr...\n",
       "155784  [shows tv tv shows post game game wrap favorit...\n",
       "155785  [church baptist baptist church community commu...\n",
       "155786  [news video games world video games culture ga...\n",
       "155787  [radio talk radio internet radio network stati...\n",
       "155788  [talk talk radio best internet future best int...\n",
       "155789  [null free songs thesongoftheday free songs fr...\n",
       "155790  [news video games world video games culture ga...\n",
       "155791  [talk talk radio best internet future best int...\n",
       "155792  [radio talk radio internet radio network stati...\n",
       "155793  [music house house music electronic electronic...\n",
       "155794  [news video games world video games culture ga...\n",
       "155795  [life live real love people living god life ch...\n",
       "155796  [news video games world video games culture ga...\n",
       "155797  [news video games world video games culture ga...\n",
       "155798  [news video games world video games culture ga...\n",
       "155799  [listen listen shows croydon radio shows croyd...\n",
       "155800  [life live real love people living god life ch...\n",
       "155801  [talk talk radio best internet future best int...\n",
       "155802  [null free songs thesongoftheday free songs fr...\n",
       "155803  [news video games world video games culture ga...\n",
       "\n",
       "[155804 rows x 1 columns]"
      ]
     },
     "execution_count": 14,
     "metadata": {},
     "output_type": "execute_result"
    }
   ],
   "source": [
    "check"
   ]
  },
  {
   "cell_type": "code",
   "execution_count": null,
   "metadata": {
    "collapsed": true
   },
   "outputs": [],
   "source": [
    "GF.get"
   ]
  },
  {
   "cell_type": "code",
   "execution_count": null,
   "metadata": {
    "collapsed": true
   },
   "outputs": [],
   "source": [
    "def _topics_for_text():\n",
    "    "
   ]
  },
  {
   "cell_type": "code",
   "execution_count": null,
   "metadata": {
    "collapsed": true
   },
   "outputs": [],
   "source": [
    "def get_corresponding_topics(model, feature_names):\n",
    "    ls = []\n",
    "    for topic_idx, topic in enumerate(model.components_):\n",
    "        features = ' '.join([feature_names[i]\n",
    "                         for i in topic.argsort()[:-20 - 1:-1]])\n",
    "        ls.append(features)\n",
    "    return pd.DataFrame(pd.Series(ls))"
   ]
  },
  {
   "cell_type": "code",
   "execution_count": null,
   "metadata": {
    "collapsed": true
   },
   "outputs": [],
   "source": [
    "def match_col_with_topics(model, text):\n",
    "    X = model.transform(text)\n",
    "    ls = []\n",
    "    for i, row in enumerate(X):\n",
    "        n = np.argsort(row)[::-1][0]\n",
    "        array = other.values[n]\n",
    "        ls.append(array)\n",
    "    return pd.DataFrame(pd.Series(ls))"
   ]
  },
  {
   "cell_type": "code",
   "execution_count": null,
   "metadata": {
    "collapsed": false
   },
   "outputs": [],
   "source": [
    "match_col_with_topics(GF.nmf, X)"
   ]
  },
  {
   "cell_type": "code",
   "execution_count": null,
   "metadata": {
    "collapsed": false
   },
   "outputs": [],
   "source": [
    "other = get_corresponding_topics(GF.nmf, GF.vec_model.get_feature_names())"
   ]
  },
  {
   "cell_type": "code",
   "execution_count": null,
   "metadata": {
    "collapsed": false
   },
   "outputs": [],
   "source": [
    "other.values[0]"
   ]
  },
  {
   "cell_type": "code",
   "execution_count": null,
   "metadata": {
    "collapsed": false
   },
   "outputs": [],
   "source": [
    "type(GenerateFeatures.vec_model)"
   ]
  }
 ],
 "metadata": {
  "hide_input": false,
  "kernelspec": {
   "display_name": "Python 2",
   "language": "python",
   "name": "python2"
  },
  "language_info": {
   "codemirror_mode": {
    "name": "ipython",
    "version": 2
   },
   "file_extension": ".py",
   "mimetype": "text/x-python",
   "name": "python",
   "nbconvert_exporter": "python",
   "pygments_lexer": "ipython2",
   "version": "2.7.11"
  }
 },
 "nbformat": 4,
 "nbformat_minor": 0
}
