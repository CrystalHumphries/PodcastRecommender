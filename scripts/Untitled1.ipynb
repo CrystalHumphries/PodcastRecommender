{
 "cells": [
  {
   "cell_type": "code",
   "execution_count": 1,
   "metadata": {
    "collapsed": false
   },
   "outputs": [
    {
     "ename": "SyntaxError",
     "evalue": "invalid syntax (<ipython-input-1-e00e6e92a060>, line 1)",
     "output_type": "error",
     "traceback": [
      "\u001b[1;36m  File \u001b[1;32m\"<ipython-input-1-e00e6e92a060>\"\u001b[1;36m, line \u001b[1;32m1\u001b[0m\n\u001b[1;33m    CREATE TABLE Podcast_Info (\u001b[0m\n\u001b[1;37m               ^\u001b[0m\n\u001b[1;31mSyntaxError\u001b[0m\u001b[1;31m:\u001b[0m invalid syntax\n"
     ]
    }
   ],
   "source": [
    "CREATE TABLE Podcast_Info (\n",
    "    Name              varchar(255),\n",
    "    iTunesSubtitle    text,\n",
    "    iTunesSummary     text,\n",
    "    iTunesKeywords    text,\n",
    "    NormalizedUrl     varchar(255),\n",
    "    iTunesAuthor      varchar(255),\n",
    "    iTunesOwnerName   varchar(255),\n",
    "    EMAIL             varchar(255),\n",
    "    DateFirstEpisode  varchar(255),\n",
    "    DateLastEpisode   varchar(255),\n",
    "    TotalEpisodes     varchar(25),\n",
    "    Link              varchar(255),\n",
    "    ImageUrl          text,\n",
    "    HostingDomain     varchar(255),\n",
    "    RatingCount       varchar(255,\n",
    "    AverageRating     varchar(255),\n",
    "    Category          text,\n",
    "    CategoryRanking   text\n",
    ");"
   ]
  },
  {
   "cell_type": "code",
   "execution_count": null,
   "metadata": {
    "collapsed": true
   },
   "outputs": [],
   "source": []
  }
 ],
 "metadata": {
  "kernelspec": {
   "display_name": "Python 2",
   "language": "python",
   "name": "python2"
  },
  "language_info": {
   "codemirror_mode": {
    "name": "ipython",
    "version": 2
   },
   "file_extension": ".py",
   "mimetype": "text/x-python",
   "name": "python",
   "nbconvert_exporter": "python",
   "pygments_lexer": "ipython2",
   "version": "2.7.11"
  }
 },
 "nbformat": 4,
 "nbformat_minor": 0
}
