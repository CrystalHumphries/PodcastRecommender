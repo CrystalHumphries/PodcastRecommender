{
 "cells": [
  {
   "cell_type": "code",
   "execution_count": 15,
   "metadata": {
    "collapsed": false
   },
   "outputs": [
    {
     "name": "stdout",
     "output_type": "stream",
     "text": [
      "Overwriting PodcastFeatureEngineering.py\n"
     ]
    }
   ],
   "source": [
    "%%writefile PodcastFeatureEngineering.py\n",
    "\n",
    "import pandas as pd\n",
    "from clean_podcast_csv import PodcastCleaner\n",
    "from sklearn.feature_extraction.text import TfidfVectorizer\n",
    "from sklearn.cross_validation import train_test_split\n",
    "from sklearn.decomposition import NMF\n",
    "\n",
    "class Podcast_Features(PodcastCleaner):\n",
    "    \n",
    "    def __init__(self, cleaned_df=None, text_vec_model=None):\n",
    "        PodcastCleaner.__init__(self)\n",
    "        if cleaned_df is None:\n",
    "            self.df = self.get_clean_df()\n",
    "        else:\n",
    "            self.df = cleaned_df\n",
    "        \n",
    "        if text_vec_model is None:\n",
    "            self.vec_model = self._text_model_create()\n",
    "        else:\n",
    "            self.vec_model = text_vec_model\n",
    "        \n",
    "        \n",
    "    def get_NMF_topics(self):\n",
    "        pass\n",
    "    \n",
    "    def print_top_words(model, feature_names, n_top_words):\n",
    "        for topic_idx, topic in enumerate(model.components_):\n",
    "            print(\"Topic #%d:\" % topic_idx)\n",
    "            print(\" \".join([feature_names[i]\n",
    "                        for i in topic.argsort()[:-n_top_words - 1:-1]]))\n",
    "        print()\n",
    "    \n",
    "    def _text_model_create(self):\n",
    "        from sklearn.feature_extraction import text\n",
    "        my_stop_words = text.ENGLISH_STOP_WORDS.union(['www', 'podcast', 'talkshoe', 'href'])\n",
    "        self.text_vec = TfidfVectorizer(max_df=0.95, \n",
    "                                   ngram_range=(1, 3),\n",
    "                                   min_df=3,\n",
    "                                   stop_words=my_stop_words,\n",
    "                                   )\n",
    "    def call_nmf(self, text):\n",
    "        nmf = NMF(n_components=20, random_state=1, alpha=.1, \n",
    "                  l1_ratio=.5).fit(self.vectorized_text)\n",
    "        print(\"\\nTopics in NMF model:\")\n",
    "        tfidf_feature_names = tfidf_vectorizer.get_feature_names()\n",
    "        self.print_top_words(nmf, tfidf_feature_names, 20)\n",
    "        \n",
    "    def vectorize_text(self, col):\n",
    "        if self.vec_model is None:\n",
    "            self._text_model_create()\n",
    "            print \"hello\"\n",
    "        self.text = self.vec_model.fit_transform(df[col].values)"
   ]
  }
 ],
 "metadata": {
  "kernelspec": {
   "display_name": "Python 2",
   "language": "python",
   "name": "python2"
  },
  "language_info": {
   "codemirror_mode": {
    "name": "ipython",
    "version": 2
   },
   "file_extension": ".py",
   "mimetype": "text/x-python",
   "name": "python",
   "nbconvert_exporter": "python",
   "pygments_lexer": "ipython2",
   "version": "2.7.11"
  }
 },
 "nbformat": 4,
 "nbformat_minor": 0
}
