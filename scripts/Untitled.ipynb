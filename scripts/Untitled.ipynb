{
 "cells": [
  {
   "cell_type": "code",
   "execution_count": 1,
   "metadata": {
    "collapsed": false
   },
   "outputs": [
    {
     "name": "stdout",
     "output_type": "stream",
     "text": [
      "Overwriting Podcast_Meta.py\n"
     ]
    }
   ],
   "source": [
    "%%writefile Podcast_Meta.py\n",
    "\n",
    "from bs4 import BeautifulSoup\n",
    "from pymongo import MongoClient\n",
    "import requests\n",
    "import pandas as pd\n",
    "import json\n",
    "import re\n",
    "\n",
    "table_name = 'PodcastFinal_REAL_Alphabet_attempt'\n",
    "\n",
    "class SavePodcast_meta(object):\n",
    "    \n",
    "    def __init__(self, table_name, Letter):\n",
    "        #initiate the Mongo Server\n",
    "        client = MongoClient()\n",
    "        db = client['Podcast']\n",
    "        # Access/Initiate Table\n",
    "        self.Podcasts = db[table_name]\n",
    "        self.letter   = Letter\n",
    "\n",
    "    def _get_podcast_genres(self):\n",
    "        Itunes_base_url = 'https://itunes.apple.com/ug/genre/podcasts/id26?mt=2'\n",
    "        html = requests.get(Itunes_base_url)\n",
    "        soup = BeautifulSoup(html.text)\n",
    "        self.df_genre = pd.DataFrame(columns=['Genre', 'Link'])\n",
    "        for i,genre in enumerate(soup.findAll(attrs={'class' : 'top-level-genre'})):\n",
    "            temp = [str(genre.findAll(text=True)[0]), genre['href']]\n",
    "            self.df_genre.loc[i] = temp\n",
    "    \n",
    "    def get_data(self):\n",
    "        self._get_podcast_genres()\n",
    "        failed=[]\n",
    "        n=0\n",
    "        for link in self.df_genre.Link:\n",
    "            letter_link = link + '&letter=' + self.letter\n",
    "            stuff = BeautifulSoup(requests.get(letter_link).content)\n",
    "            pages_seen=[]\n",
    "            try:\n",
    "                for pages in stuff.find('ul',attrs={'class' :'list paginate'}):\n",
    "                    try:\n",
    "                        b = pages.find('a').get('href')\n",
    "                        if b in pages_seen:\n",
    "                            continue\n",
    "                        else:\n",
    "                            pages_seen.append(b)\n",
    "                    except:\n",
    "                        continue\n",
    "            except:\n",
    "                pages_seen.append(letter_link)\n",
    "\n",
    "            for p_url in pages_seen:\n",
    "                soup2        = BeautifulSoup(requests.get(p_url).content)\n",
    "                podcast_list = soup2.find(attrs={'class':'grid3-column'})\n",
    "                for podcast in podcast_list.findAll('a'):\n",
    "                    n += 1\n",
    "                    if n % 100 == 0:\n",
    "                        print \"*\",\n",
    "                    podcast_name = podcast.findAll(text=True)[0]\n",
    "                    podcast_link = podcast['href']\n",
    "\n",
    "                    ##get Json\n",
    "                    podcast_id   = re.search('\\/id(\\d+)',podcast['href']).group(1)\n",
    "                    json_link    = 'https://itunes.apple.com/lookup?id=' + podcast_id\n",
    "                    try:\n",
    "                        j            = requests.get(json_link)\n",
    "                        j            = j.json()\n",
    "                        jsonfile     = j['results'][0]\n",
    "                        rss          = str(jsonfile['feedUrl'])\n",
    "                        #get link\n",
    "                        soup3        = BeautifulSoup(requests.get(rss).content)\n",
    "                        summaries = []\n",
    "                        for rss_summary  in soup3.findAll('itunes:summary'):\n",
    "                            new = rss_summary.getText()\n",
    "                            summaries.extend(new)\n",
    "                        text = ' '.join(summaries)\n",
    "\n",
    "                        #place into mongoDB\n",
    "                        self.Podcasts.insert_one( {'PodcastName':podcast_name, \n",
    "                                              'PodcastLink': podcast_link, \n",
    "                                              'PodcastRSS' :text,\n",
    "                                              'PodcastJson': jsonfile})\n",
    "                    except:\n",
    "                        print (podcast_name + \": Failed\")\n",
    "                        failed.append(podcast_id)\n",
    "            del pages_seen[:]"
   ]
  },
  {
   "cell_type": "code",
   "execution_count": 2,
   "metadata": {
    "collapsed": false
   },
   "outputs": [],
   "source": [
    "from Podcast_Meta import SavePodcast_meta"
   ]
  },
  {
   "cell_type": "code",
   "execution_count": 3,
   "metadata": {
    "collapsed": true
   },
   "outputs": [],
   "source": [
    "podie = SavePodcast_meta(table_name = 'PodcastFinal_REAL_Alphabet_attempt', Letter=\"Z\")"
   ]
  },
  {
   "cell_type": "code",
   "execution_count": null,
   "metadata": {
    "collapsed": false
   },
   "outputs": [
    {
     "name": "stdout",
     "output_type": "stream",
     "text": [
      "* Zombie Bill Network » Kicking It on the Ground Floor: Failed\n",
      "*"
     ]
    }
   ],
   "source": [
    "podie.get_data()"
   ]
  }
 ],
 "metadata": {
  "kernelspec": {
   "display_name": "Python 2",
   "language": "python",
   "name": "python2"
  },
  "language_info": {
   "codemirror_mode": {
    "name": "ipython",
    "version": 2
   },
   "file_extension": ".py",
   "mimetype": "text/x-python",
   "name": "python",
   "nbconvert_exporter": "python",
   "pygments_lexer": "ipython2",
   "version": "2.7.11"
  }
 },
 "nbformat": 4,
 "nbformat_minor": 0
}
