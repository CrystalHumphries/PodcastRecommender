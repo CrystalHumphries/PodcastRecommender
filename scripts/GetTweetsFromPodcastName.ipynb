{
 "cells": [
  {
   "cell_type": "code",
   "execution_count": 1,
   "metadata": {
    "collapsed": true
   },
   "outputs": [],
   "source": [
    "from datetime import datetime, timedelta\n",
    "from bs4 import BeautifulSoup\n",
    "import time\n",
    "from pymongo import MongoClient\n",
    "import requests\n",
    "import pandas as pd\n",
    "import json\n",
    "import re\n",
    "import tweepy\n",
    "import time\n",
    "from tweepy.streaming import StreamListener\n",
    "from tweepy import Cursor\n",
    "from tweepy import OAuthHandler\n",
    "from tweepy import Stream\n",
    "from tweepy import API"
   ]
  },
  {
   "cell_type": "code",
   "execution_count": null,
   "metadata": {
    "collapsed": true
   },
   "outputs": [],
   "source": [
    "client = MongoClient()\n",
    "# Access/Initiate Database\n",
    "db = client['Podcast']\n",
    "# Access/Initiate Table\n",
    "Podcasts = db['PodcastFinal_new']"
   ]
  },
  {
   "cell_type": "code",
   "execution_count": null,
   "metadata": {
    "collapsed": false
   },
   "outputs": [],
   "source": [
    "Podcasts.count()"
   ]
  },
  {
   "cell_type": "code",
   "execution_count": null,
   "metadata": {
    "collapsed": false
   },
   "outputs": [],
   "source": [
    "Podcasts.count()"
   ]
  },
  {
   "cell_type": "code",
   "execution_count": null,
   "metadata": {
    "collapsed": false
   },
   "outputs": [],
   "source": [
    "twitter_api = json.load(open(\"/home/ubuntu/.api/Twitter_API.json\"))"
   ]
  },
  {
   "cell_type": "code",
   "execution_count": null,
   "metadata": {
    "collapsed": false
   },
   "outputs": [],
   "source": [
    "name = Podcasts.find_one({},{'PodcastName':1, '_id':0})"
   ]
  },
  {
   "cell_type": "code",
   "execution_count": null,
   "metadata": {
    "collapsed": false
   },
   "outputs": [],
   "source": [
    "name['PodcastName'].split('|')[0].strip()"
   ]
  },
  {
   "cell_type": "code",
   "execution_count": null,
   "metadata": {
    "collapsed": false
   },
   "outputs": [],
   "source": [
    "access_token        = twitter_api['Access Token']\n",
    "access_token_secret = twitter_api['Access Token Secret']\n",
    "consumer_key        = twitter_api['API Key']\n",
    "consumer_secret     = twitter_api['API Secret']\n",
    "\n",
    "auth = OAuthHandler(consumer_key, consumer_secret)\n",
    "auth.set_access_token(access_token, access_token_secret)"
   ]
  },
  {
   "cell_type": "code",
   "execution_count": null,
   "metadata": {
    "collapsed": true
   },
   "outputs": [],
   "source": [
    "api = tweepy.API(auth)"
   ]
  },
  {
   "cell_type": "code",
   "execution_count": null,
   "metadata": {
    "collapsed": true
   },
   "outputs": [],
   "source": [
    "query = ['#Podcast'] \n",
    "max_tweets = 2000"
   ]
  },
  {
   "cell_type": "code",
   "execution_count": null,
   "metadata": {
    "collapsed": true
   },
   "outputs": [],
   "source": [
    "search_results = tweepy.Cursor(api.search, q=query).items(max_tweets)\n",
    "for i, tweet in enumerate(search_results):\n",
    "    doc = {'text': tweet.text, 'username': tweet.user.screen_name, 'retweets': tweet.retweet_count,\n",
    "     'favorites': tweet.favorite_count, 'geo':tweet.geo, 'lang': tweet.lang, 'time_zone': tweet.user.time_zone,\n",
    "    'id_str': tweet.id_str, 'statuses_count': tweet.user.statuses_count,\n",
    "    'created_at': tweet.created_at, \"description\": tweet.user.description,\n",
    "    'id': tweet.id, 'id_str': tweet.id_str}\n",
    "    print doc"
   ]
  },
  {
   "cell_type": "code",
   "execution_count": null,
   "metadata": {
    "collapsed": false
   },
   "outputs": [],
   "source": [
    "search_results = tweepy.Cursor(api.search, q=query).items(max_tweets)"
   ]
  },
  {
   "cell_type": "code",
   "execution_count": null,
   "metadata": {
    "collapsed": false
   },
   "outputs": [],
   "source": [
    "new[0]"
   ]
  },
  {
   "cell_type": "code",
   "execution_count": null,
   "metadata": {
    "collapsed": false
   },
   "outputs": [],
   "source": [
    "twitter_handle=[]\n",
    "for pod in Podcasts.find({}, {'PodcastName':1, '_id':0}):\n",
    "    pName = pod['PodcastName']\n",
    "    if re.search('|', pName):\n",
    "        pName = pName.split('|')[0].strip()\n",
    "    try:\n",
    "        twitter_search = 'https://twitter.com/search?q=%22' + pName + '%22%20%23podcast&src=typd&lang=en'\n",
    "        attempt = requests.get(twitter_search)\n",
    "        soup = BeautifulSoup(attempt.content)\n",
    "        b = soup.find('div', {'class':'ProfileCard ProfileCard--wide js-actionable-user'})\n",
    "        handle = b.find('button').get(\"title\")\n",
    "        twitter_handle.append(handle)\n",
    "    except:\n",
    "        try:\n",
    "            twitter_search = 'https://twitter.com/search?q=%22' + pName + '&src=typd'\n",
    "            attempt = requests.get(twitter_search)\n",
    "            soup = BeautifulSoup(attempt.content)\n",
    "            b = soup.find('div', {'class':'ProfileCard ProfileCard--wide js-actionable-user'})\n",
    "            handle = b.find('button').get(\"title\")\n",
    "            twitter_handle.append(handle)\n",
    "        except:\n",
    "            print \"No Handle:\"  + pName"
   ]
  },
  {
   "cell_type": "code",
   "execution_count": null,
   "metadata": {
    "collapsed": false
   },
   "outputs": [],
   "source": [
    "pod"
   ]
  }
 ],
 "metadata": {
  "kernelspec": {
   "display_name": "Python 2",
   "language": "python",
   "name": "python2"
  },
  "language_info": {
   "codemirror_mode": {
    "name": "ipython",
    "version": 2
   },
   "file_extension": ".py",
   "mimetype": "text/x-python",
   "name": "python",
   "nbconvert_exporter": "python",
   "pygments_lexer": "ipython2",
   "version": "2.7.11"
  }
 },
 "nbformat": 4,
 "nbformat_minor": 0
}
