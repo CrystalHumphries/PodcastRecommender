{
 "cells": [
  {
   "cell_type": "code",
   "execution_count": 1,
   "metadata": {
    "collapsed": true
   },
   "outputs": [],
   "source": [
    "from bs4 import BeautifulSoup\n",
    "from pymongo import MongoClient\n",
    "import requests\n",
    "import pandas as pd\n",
    "import json\n",
    "import re"
   ]
  },
  {
   "cell_type": "code",
   "execution_count": 2,
   "metadata": {
    "collapsed": true
   },
   "outputs": [],
   "source": [
    "client = MongoClient()\n",
    "# Access/Initiate Database\n",
    "db = client['Podcast']\n",
    "# Access/Initiate Table\n",
    "Podcasts = db['PodcastFinal']\n",
    "#tab.insert_one( {'test': \"item\"})"
   ]
  },
  {
   "cell_type": "code",
   "execution_count": 3,
   "metadata": {
    "collapsed": true
   },
   "outputs": [],
   "source": [
    "Itunes_base_url = 'https://itunes.apple.com/ug/genre/podcasts/id26?mt=2'"
   ]
  },
  {
   "cell_type": "code",
   "execution_count": 4,
   "metadata": {
    "collapsed": false
   },
   "outputs": [
    {
     "data": {
      "text/plain": [
       "7"
      ]
     },
     "execution_count": 4,
     "metadata": {},
     "output_type": "execute_result"
    }
   ],
   "source": [
    "Podcasts.count()"
   ]
  },
  {
   "cell_type": "code",
   "execution_count": 6,
   "metadata": {
    "collapsed": false
   },
   "outputs": [
    {
     "name": "stderr",
     "output_type": "stream",
     "text": [
      "/Users/zephryin/anaconda/envs/py2/lib/python2.7/site-packages/bs4/__init__.py:166: UserWarning: No parser was explicitly specified, so I'm using the best available HTML parser for this system (\"lxml\"). This usually isn't a problem, but if you run this code on another system, or in a different virtual environment, it may use a different parser and behave differently.\n",
      "\n",
      "To get rid of this warning, change this:\n",
      "\n",
      " BeautifulSoup([your markup])\n",
      "\n",
      "to this:\n",
      "\n",
      " BeautifulSoup([your markup], \"lxml\")\n",
      "\n",
      "  markup_type=markup_type))\n"
     ]
    }
   ],
   "source": [
    "html = requests.get(Itunes_base_url)\n",
    "soup = BeautifulSoup(html.text)"
   ]
  },
  {
   "cell_type": "code",
   "execution_count": 7,
   "metadata": {
    "collapsed": false
   },
   "outputs": [],
   "source": [
    "df_genre = pd.DataFrame(columns=['Genre', 'Link'])\n",
    "for i,genre in enumerate(soup.findAll(attrs={'class' : 'top-level-genre'})):\n",
    "    temp = [str(genre.findAll(text=True)[0]), genre['href']]\n",
    "    df_genre.loc[i] = temp"
   ]
  },
  {
   "cell_type": "code",
   "execution_count": 8,
   "metadata": {
    "collapsed": false
   },
   "outputs": [
    {
     "data": {
      "text/html": [
       "<div>\n",
       "<table border=\"1\" class=\"dataframe\">\n",
       "  <thead>\n",
       "    <tr style=\"text-align: right;\">\n",
       "      <th></th>\n",
       "      <th>Genre</th>\n",
       "      <th>Link</th>\n",
       "    </tr>\n",
       "  </thead>\n",
       "  <tbody>\n",
       "    <tr>\n",
       "      <th>0</th>\n",
       "      <td>Arts</td>\n",
       "      <td>https://itunes.apple.com/ug/genre/podcasts-art...</td>\n",
       "    </tr>\n",
       "    <tr>\n",
       "      <th>1</th>\n",
       "      <td>Business</td>\n",
       "      <td>https://itunes.apple.com/ug/genre/podcasts-bus...</td>\n",
       "    </tr>\n",
       "    <tr>\n",
       "      <th>2</th>\n",
       "      <td>Comedy</td>\n",
       "      <td>https://itunes.apple.com/ug/genre/podcasts-com...</td>\n",
       "    </tr>\n",
       "    <tr>\n",
       "      <th>3</th>\n",
       "      <td>Education</td>\n",
       "      <td>https://itunes.apple.com/ug/genre/podcasts-edu...</td>\n",
       "    </tr>\n",
       "    <tr>\n",
       "      <th>4</th>\n",
       "      <td>Games &amp; Hobbies</td>\n",
       "      <td>https://itunes.apple.com/ug/genre/podcasts-gam...</td>\n",
       "    </tr>\n",
       "    <tr>\n",
       "      <th>5</th>\n",
       "      <td>Government &amp; Organisations</td>\n",
       "      <td>https://itunes.apple.com/ug/genre/podcasts-gov...</td>\n",
       "    </tr>\n",
       "    <tr>\n",
       "      <th>6</th>\n",
       "      <td>Health</td>\n",
       "      <td>https://itunes.apple.com/ug/genre/podcasts-hea...</td>\n",
       "    </tr>\n",
       "    <tr>\n",
       "      <th>7</th>\n",
       "      <td>Kids &amp; Family</td>\n",
       "      <td>https://itunes.apple.com/ug/genre/podcasts-kid...</td>\n",
       "    </tr>\n",
       "    <tr>\n",
       "      <th>8</th>\n",
       "      <td>Music</td>\n",
       "      <td>https://itunes.apple.com/ug/genre/podcasts-mus...</td>\n",
       "    </tr>\n",
       "    <tr>\n",
       "      <th>9</th>\n",
       "      <td>News &amp; Politics</td>\n",
       "      <td>https://itunes.apple.com/ug/genre/podcasts-new...</td>\n",
       "    </tr>\n",
       "    <tr>\n",
       "      <th>10</th>\n",
       "      <td>Religion &amp; Spirituality</td>\n",
       "      <td>https://itunes.apple.com/ug/genre/podcasts-rel...</td>\n",
       "    </tr>\n",
       "    <tr>\n",
       "      <th>11</th>\n",
       "      <td>Science &amp; Medicine</td>\n",
       "      <td>https://itunes.apple.com/ug/genre/podcasts-sci...</td>\n",
       "    </tr>\n",
       "    <tr>\n",
       "      <th>12</th>\n",
       "      <td>Society &amp; Culture</td>\n",
       "      <td>https://itunes.apple.com/ug/genre/podcasts-soc...</td>\n",
       "    </tr>\n",
       "    <tr>\n",
       "      <th>13</th>\n",
       "      <td>Sports &amp; Hobbies</td>\n",
       "      <td>https://itunes.apple.com/ug/genre/podcasts-spo...</td>\n",
       "    </tr>\n",
       "    <tr>\n",
       "      <th>14</th>\n",
       "      <td>TV &amp; Film</td>\n",
       "      <td>https://itunes.apple.com/ug/genre/podcasts-tv-...</td>\n",
       "    </tr>\n",
       "    <tr>\n",
       "      <th>15</th>\n",
       "      <td>Technology</td>\n",
       "      <td>https://itunes.apple.com/ug/genre/podcasts-tec...</td>\n",
       "    </tr>\n",
       "  </tbody>\n",
       "</table>\n",
       "</div>"
      ],
      "text/plain": [
       "                         Genre  \\\n",
       "0                         Arts   \n",
       "1                     Business   \n",
       "2                       Comedy   \n",
       "3                    Education   \n",
       "4              Games & Hobbies   \n",
       "5   Government & Organisations   \n",
       "6                       Health   \n",
       "7                Kids & Family   \n",
       "8                        Music   \n",
       "9              News & Politics   \n",
       "10     Religion & Spirituality   \n",
       "11          Science & Medicine   \n",
       "12           Society & Culture   \n",
       "13            Sports & Hobbies   \n",
       "14                   TV & Film   \n",
       "15                  Technology   \n",
       "\n",
       "                                                 Link  \n",
       "0   https://itunes.apple.com/ug/genre/podcasts-art...  \n",
       "1   https://itunes.apple.com/ug/genre/podcasts-bus...  \n",
       "2   https://itunes.apple.com/ug/genre/podcasts-com...  \n",
       "3   https://itunes.apple.com/ug/genre/podcasts-edu...  \n",
       "4   https://itunes.apple.com/ug/genre/podcasts-gam...  \n",
       "5   https://itunes.apple.com/ug/genre/podcasts-gov...  \n",
       "6   https://itunes.apple.com/ug/genre/podcasts-hea...  \n",
       "7   https://itunes.apple.com/ug/genre/podcasts-kid...  \n",
       "8   https://itunes.apple.com/ug/genre/podcasts-mus...  \n",
       "9   https://itunes.apple.com/ug/genre/podcasts-new...  \n",
       "10  https://itunes.apple.com/ug/genre/podcasts-rel...  \n",
       "11  https://itunes.apple.com/ug/genre/podcasts-sci...  \n",
       "12  https://itunes.apple.com/ug/genre/podcasts-soc...  \n",
       "13  https://itunes.apple.com/ug/genre/podcasts-spo...  \n",
       "14  https://itunes.apple.com/ug/genre/podcasts-tv-...  \n",
       "15  https://itunes.apple.com/ug/genre/podcasts-tec...  "
      ]
     },
     "execution_count": 8,
     "metadata": {},
     "output_type": "execute_result"
    }
   ],
   "source": [
    "df_genre"
   ]
  },
  {
   "cell_type": "code",
   "execution_count": 9,
   "metadata": {
    "collapsed": false
   },
   "outputs": [],
   "source": [
    "df_subgenre = pd.DataFrame(columns=['Genre', 'SubGenre', 'Link'])\n",
    "for genre in soup.findAll(attrs={'class' : 'list top-level-subgenres'}):\n",
    "    for subgenre in genre.findAll('a'):\n",
    "        subgroupName = str(subgenre.findAll(text=True)[0])\n",
    "        link         = subgenre['href']\n",
    "        m            = re.search('podcasts-(.+?)-', link.split('/')[-2])\n",
    "        if m:\n",
    "            main_genre   = m.group(1)\n",
    "            main_genre   = main_genre.capitalize()\n",
    "        else:\n",
    "            main_genre   = subgroupName\n",
    "        temp = [main_genre, subgroupName, link]\n",
    "        df_subgenre.loc[len(df_subgenre)] = temp"
   ]
  },
  {
   "cell_type": "code",
   "execution_count": 10,
   "metadata": {
    "collapsed": false
   },
   "outputs": [
    {
     "name": "stderr",
     "output_type": "stream",
     "text": [
      "/Users/zephryin/anaconda/envs/py2/lib/python2.7/site-packages/ipykernel/__main__.py:1: SettingWithCopyWarning: \n",
      "A value is trying to be set on a copy of a slice from a DataFrame.\n",
      "Try using .loc[row_indexer,col_indexer] = value instead\n",
      "\n",
      "See the caveats in the documentation: http://pandas.pydata.org/pandas-docs/stable/indexing.html#indexing-view-versus-copy\n",
      "  if __name__ == '__main__':\n",
      "/Users/zephryin/anaconda/envs/py2/lib/python2.7/site-packages/ipykernel/__main__.py:2: SettingWithCopyWarning: \n",
      "A value is trying to be set on a copy of a slice from a DataFrame.\n",
      "Try using .loc[row_indexer,col_indexer] = value instead\n",
      "\n",
      "See the caveats in the documentation: http://pandas.pydata.org/pandas-docs/stable/indexing.html#indexing-view-versus-copy\n",
      "  from ipykernel import kernelapp as app\n"
     ]
    }
   ],
   "source": [
    "df_subgenre.loc[29:35]['Genre'] = ['Religion & Spirituality']*7\n",
    "df_subgenre.loc[36:38]['Genre'] = ['Science & Medicine']*3"
   ]
  },
  {
   "cell_type": "code",
   "execution_count": 44,
   "metadata": {
    "collapsed": false
   },
   "outputs": [
    {
     "name": "stdout",
     "output_type": "stream",
     "text": [
      "言寺 midnight poemsFailed\n",
      "峰哥Failed\n",
      "\"It's In A Book\"Failed\n",
      "Zhongwen PodcastFailed\n",
      "2011 GLK Class How To VideosFailed\n",
      "YogaFailed\n",
      "Meditation and True RelaxationFailed\n",
      "Beyond The PitchFailed\n",
      "Rasika Digital Radio 2.0Failed\n"
     ]
    }
   ],
   "source": [
    "failed = []\n",
    "\n",
    "for p_url in df_subgenre.Link:\n",
    "    soup2        = BeautifulSoup(requests.get(p_url).content)\n",
    "    podcast_list = soup2.find(attrs={'class':'grid3-column'})\n",
    "    for podcast in podcast_list.findAll('a'):\n",
    "        podcast_name = podcast.findAll(text=True)[0] #str(podcast.findAll(text=True)[0])\n",
    "        podcast_link = podcast['href']\n",
    "    \n",
    "        ##get Json\n",
    "        podcast_id   = re.search('\\/id(\\d+)',podcast['href']).group(1)\n",
    "        json_link    = 'https://itunes.apple.com/lookup?id=' + podcast_id\n",
    "        try:\n",
    "            j            = requests.get(json_link)\n",
    "            j            = j.json()\n",
    "            jsonfile     = j['results'][0]\n",
    "            rss          = str(jsonfile['feedUrl'])\n",
    "            #get link\n",
    "            soup3        = BeautifulSoup(requests.get(rss).content)\n",
    "            summaries = []\n",
    "            for rss_summary  in soup3.findAll('itunes:summary'):\n",
    "                #new = [ a for a in rss_summary]\n",
    "                new = rss_summary.getText()\n",
    "                summaries.extend(new)\n",
    "            text = ' '.join(summaries)\n",
    "\n",
    "            #place into mongoDB\n",
    "            Podcasts.insert_one( {'PodcastName':podcast_name, \n",
    "                     'PodcastLink': podcast_link, \n",
    "                     'PodcastRSS' :text,\n",
    "                     'PodcastJson': jsonfile})\n",
    "        except:\n",
    "            print (podcast_name + \"Failed\")\n",
    "            failed.append(podcast_id)"
   ]
  },
  {
   "cell_type": "code",
   "execution_count": 45,
   "metadata": {
    "collapsed": false
   },
   "outputs": [
    {
     "data": {
      "text/plain": [
       "1587"
      ]
     },
     "execution_count": 45,
     "metadata": {},
     "output_type": "execute_result"
    }
   ],
   "source": [
    "Podcasts.count()"
   ]
  },
  {
   "cell_type": "code",
   "execution_count": 146,
   "metadata": {
    "collapsed": false
   },
   "outputs": [
    {
     "data": {
      "text/plain": [
       "<a href=\"https://itunes.apple.com/ug/podcast/creative-pep-talk/id929743897?mt=2\">Creative Pep Talk</a>"
      ]
     },
     "execution_count": 146,
     "metadata": {},
     "output_type": "execute_result"
    }
   ],
   "source": [
    "e = soup2.find(attrs={'class':'grid3-column'})\n",
    "e1 = e.find('a')\n",
    "e1"
   ]
  },
  {
   "cell_type": "code",
   "execution_count": 21,
   "metadata": {
    "collapsed": false
   },
   "outputs": [
    {
     "data": {
      "text/plain": [
       "0    https://itunes.apple.com/ug/genre/podcasts-art...\n",
       "1    https://itunes.apple.com/ug/genre/podcasts-art...\n",
       "2    https://itunes.apple.com/ug/genre/podcasts-art...\n",
       "Name: Link, dtype: object"
      ]
     },
     "execution_count": 21,
     "metadata": {},
     "output_type": "execute_result"
    }
   ],
   "source": [
    "df_subgenre.Link[0:3]"
   ]
  },
  {
   "cell_type": "code",
   "execution_count": 161,
   "metadata": {
    "collapsed": false
   },
   "outputs": [
    {
     "data": {
      "text/plain": [
       "'https://itunes.apple.com/ug/podcast/creative-pep-talk/id929743897?mt=2'"
      ]
     },
     "execution_count": 161,
     "metadata": {},
     "output_type": "execute_result"
    }
   ],
   "source": [
    "e1['href']"
   ]
  },
  {
   "cell_type": "code",
   "execution_count": 171,
   "metadata": {
    "collapsed": false
   },
   "outputs": [
    {
     "data": {
      "text/plain": [
       "'929743897'"
      ]
     },
     "execution_count": 171,
     "metadata": {},
     "output_type": "execute_result"
    }
   ],
   "source": [
    "re.search('\\/id(\\d+)',e1['href']).group(1)"
   ]
  },
  {
   "cell_type": "code",
   "execution_count": 167,
   "metadata": {
    "collapsed": false
   },
   "outputs": [
    {
     "data": {
      "text/plain": [
       "'929743897'"
      ]
     },
     "execution_count": 167,
     "metadata": {},
     "output_type": "execute_result"
    }
   ],
   "source": [
    "m.group(1)"
   ]
  },
  {
   "cell_type": "code",
   "execution_count": 12,
   "metadata": {
    "collapsed": true
   },
   "outputs": [],
   "source": [
    "json_link = 'https://itunes.apple.com/lookup?id=929743897'\n",
    "j = requests.get(json_link)"
   ]
  },
  {
   "cell_type": "code",
   "execution_count": 13,
   "metadata": {
    "collapsed": false
   },
   "outputs": [],
   "source": [
    "j = j.json()"
   ]
  },
  {
   "cell_type": "code",
   "execution_count": 14,
   "metadata": {
    "collapsed": false
   },
   "outputs": [],
   "source": [
    "jsonlink = j['results'][0]"
   ]
  },
  {
   "cell_type": "code",
   "execution_count": 18,
   "metadata": {
    "collapsed": false
   },
   "outputs": [
    {
     "data": {
      "text/plain": [
       "'http://feeds.soundcloud.com/users/soundcloud:users:87660023/sounds.rss'"
      ]
     },
     "execution_count": 18,
     "metadata": {},
     "output_type": "execute_result"
    }
   ],
   "source": [
    "str(jsonlink['feedUrl'])"
   ]
  },
  {
   "cell_type": "code",
   "execution_count": 129,
   "metadata": {
    "collapsed": true
   },
   "outputs": [],
   "source": [
    "#from each link\n",
    "get json from 'https://itunes.apple.com/lookup?id=929743897'\n",
    "#from json\n",
    "get 'rss'"
   ]
  },
  {
   "cell_type": "code",
   "execution_count": 19,
   "metadata": {
    "collapsed": true
   },
   "outputs": [],
   "source": [
    "rss = 'http://feeds.soundcloud.com/users/soundcloud:users:87660023/sounds.rss'"
   ]
  },
  {
   "cell_type": "code",
   "execution_count": 174,
   "metadata": {
    "collapsed": false
   },
   "outputs": [
    {
     "data": {
      "text/plain": [
       "'Creative Pep Talk'"
      ]
     },
     "execution_count": 174,
     "metadata": {},
     "output_type": "execute_result"
    }
   ],
   "source": [
    "str(e1.findAll(text=True)[0])"
   ]
  },
  {
   "cell_type": "code",
   "execution_count": null,
   "metadata": {
    "collapsed": true
   },
   "outputs": [],
   "source": []
  },
  {
   "cell_type": "code",
   "execution_count": 217,
   "metadata": {
    "collapsed": false
   },
   "outputs": [],
   "source": [
    "text = []\n",
    "for i  in soup3.findAll('itunes:summary'):\n",
    "    new = [ a for a in i]\n",
    "    text.extend(new)\n",
    "final = ' '.join(text)"
   ]
  },
  {
   "cell_type": "code",
   "execution_count": 208,
   "metadata": {
    "collapsed": false
   },
   "outputs": [
    {
     "name": "stdout",
     "output_type": "stream",
     "text": [
      "0 Today we chat with Brandon Rike on why staying inspired is so important, and how to actually do it!\n",
      "\n",
      "I love Brandon, he’s a good guy with a good soul. \n",
      "\n",
      "Brandon also has a podcast called ‘The Graphic Sound’. If you like CPT you might just like Brandon’s podcast too! This week we are both releasing episodes featuring each other. Go check out The Graphic Sound episode 10 to hear an in depth interview with ME.\n",
      "\n",
      "http://www.thegraphicsound.com/10\n",
      "http://www.thegraphicsound.com/\n",
      "http://brandonrike.com/\n",
      "\n",
      "Thanks to Yoni Wolf and his band WHY? for our theme music.\n",
      "\n",
      "Thanks to Illustration Age for being our proud syndicate.\n",
      "www.illustrationage.com\n",
      "\n",
      "Thanks to Nate Utesch and Metavari for our other music! \n",
      "nthnl.com/\n",
      "metavari.com/\n"
     ]
    }
   ],
   "source": [
    "for i,ia in enumerate(i):\n",
    "    print i, ia"
   ]
  },
  {
   "cell_type": "code",
   "execution_count": 218,
   "metadata": {
    "collapsed": false
   },
   "outputs": [
    {
     "data": {
      "text/plain": [
       "<pymongo.results.InsertOneResult at 0x113ef6960>"
      ]
     },
     "execution_count": 218,
     "metadata": {},
     "output_type": "execute_result"
    }
   ],
   "source": [
    "tab.insert_one( {'PodcastName':str(e1.findAll(text=True)[0]), \n",
    "                 'PodcastLink': e1['href'], \n",
    "                 'PodcastRSS' :text,\n",
    "                 'PodcastJson': j['results'][0]})"
   ]
  },
  {
   "cell_type": "code",
   "execution_count": 223,
   "metadata": {
    "collapsed": false
   },
   "outputs": [
    {
     "data": {
      "text/plain": [
       "{u'PodcastJson': {u'artistName': u'Andy J. Miller',\n",
       "  u'artworkUrl100': u'http://is5.mzstatic.com/image/thumb/Music69/v4/76/12/e7/7612e730-9171-cabc-5ed1-e4c498786347/source/100x100bb.jpg',\n",
       "  u'artworkUrl30': u'http://is5.mzstatic.com/image/thumb/Music69/v4/76/12/e7/7612e730-9171-cabc-5ed1-e4c498786347/source/30x30bb.jpg',\n",
       "  u'artworkUrl60': u'http://is5.mzstatic.com/image/thumb/Music69/v4/76/12/e7/7612e730-9171-cabc-5ed1-e4c498786347/source/60x60bb.jpg',\n",
       "  u'artworkUrl600': u'http://is5.mzstatic.com/image/thumb/Music69/v4/76/12/e7/7612e730-9171-cabc-5ed1-e4c498786347/source/600x600bb.jpg',\n",
       "  u'collectionCensoredName': u'Creative Pep Talk',\n",
       "  u'collectionExplicitness': u'cleaned',\n",
       "  u'collectionHdPrice': 0,\n",
       "  u'collectionId': 929743897,\n",
       "  u'collectionName': u'Creative Pep Talk',\n",
       "  u'collectionPrice': 0.0,\n",
       "  u'collectionViewUrl': u'https://itunes.apple.com/us/podcast/creative-pep-talk/id929743897?mt=2&uo=4',\n",
       "  u'contentAdvisoryRating': u'Clean',\n",
       "  u'country': u'USA',\n",
       "  u'currency': u'USD',\n",
       "  u'feedUrl': u'http://feeds.soundcloud.com/users/soundcloud:users:87660023/sounds.rss',\n",
       "  u'genreIds': [u'1402', u'26', u'1301'],\n",
       "  u'genres': [u'Design', u'Podcasts', u'Arts'],\n",
       "  u'kind': u'podcast',\n",
       "  u'primaryGenreName': u'Design',\n",
       "  u'releaseDate': u'2016-03-23T10:55:00Z',\n",
       "  u'trackCensoredName': u'Creative Pep Talk',\n",
       "  u'trackCount': 83,\n",
       "  u'trackExplicitness': u'cleaned',\n",
       "  u'trackHdPrice': 0,\n",
       "  u'trackHdRentalPrice': 0,\n",
       "  u'trackId': 929743897,\n",
       "  u'trackName': u'Creative Pep Talk',\n",
       "  u'trackPrice': 0.0,\n",
       "  u'trackRentalPrice': 0,\n",
       "  u'trackViewUrl': u'https://itunes.apple.com/us/podcast/creative-pep-talk/id929743897?mt=2&uo=4',\n",
       "  u'wrapperType': u'track'},\n",
       " u'PodcastLink': u'https://itunes.apple.com/ug/podcast/creative-pep-talk/id929743897?mt=2',\n",
       " u'PodcastName': u'Creative Pep Talk',\n",
       " u'PodcastRSS': [u'Today we chat with Brandon Rike on why staying inspired is so important, and how to actually do it!\\n\\nI love Brandon, he\\u2019s a good guy with a good soul. \\n\\nBrandon also has a podcast called \\u2018The Graphic Sound\\u2019. If you like CPT you might just like Brandon\\u2019s podcast too! This week we are both releasing episodes featuring each other. Go check out The Graphic Sound episode 10 to hear an in depth interview with ME.\\n\\nhttp://www.thegraphicsound.com/10\\nhttp://www.thegraphicsound.com/\\nhttp://brandonrike.com/\\n\\nThanks to Yoni Wolf and his band WHY? for our theme music.\\n\\nThanks to Illustration Age for being our proud syndicate.\\nwww.illustrationage.com\\n\\nThanks to Nate Utesch and Metavari for our other music! \\nnthnl.com/\\nmetavari.com/',\n",
       "  u'Here\\u2019s my guess: nothing is killing your career like FOMO aka \\u2018fear of missing out\\u2019\\n\\nRecently I\\u2019ve been battling this in my own life. I knew that I had too many plates spinning and I could feel the impending sense of doom, i.e. the day all the plates come crashing down. I took some aggressive moves to consolidate / eliminate the distractions and buckle down on what I knew in my gut I needed to focus on.\\n\\nThis episode provides action steps for simplifying your career, so you can make the greatest impact.\\n\\nShow Notes\\nCoin pusher analogy - you only have limited time and resources.\\nEssentialism by Greg McKeown - Push\\nNo resources to maintain\\n\\nTrust Your Gut, Not the Permission From Your Friends.\\nGet quiet. Plan a small get away, even a long walk.\\nWhat you\\u2019re listening for is your human brain, not your lizard brain.\\nPeace and inspiration not fear.\\nProcess not Payoff.\\n\\n2. See Self Awareness as a Live Document\\nBig Myers Briggs Fan, BUT\\u2026\\nUpdate your consciousness with the new info you\\u2019ve learned about who you are / your goals\\nAsk yourself this: what superpowers do you have? Machine analogy.\\n\\n3. Consolidate or Eliminate Opportunities\\nEssentialism - 90%\\nMaybe you two you have things on your plate that can serve your central mission?\\n\\nHard Talks\\nFocus all energy to finish your plate. Kids analogy.\\n\\n4. Let Go of Past Seasons\\nBad Seasons easy to leave, Good Seasons not so much.\\nIdentify where the ball is in play. Quit going back to the first quarter. The game is still on!\\n\\nConclusion\\nRabbits\\nPayoff - Get the Most Out of It - Coloring Books - NOD\\nPeace - Power - Momentum\\nLet Go! - 90% Essentialism\\n\\nLast note: you don\\u2019t have to let go of it all forever.\\nPower of \\u2018One Thing\\u2019 - Gary Keller / Jay Papasan - Weight Loss / Dominos\\n\\nThanks to Yoni Wolf and his band WHY? for our theme music.\\n\\nThanks to Illustration Age for being our proud syndicate.\\nwww.illustrationage.com\\n\\nThanks to Nate Utesch and Metavari for our other music! \\nhttp://nthnl.com/\\nhttp://metavari.com/\\n',\n",
       "  u\"Today on the show I interview the fantastic Sarah Walsh of www.sarahwalshmakesthings.com/\\n\\nSarah was so generous with her time and sharing her story. She talks about very vulnerable topics, such as being a single mother and fumbling early on with school choices. We also talk about her decision to work at Hallmark after school, having an illustration agent, making your illustration 'wish list' and making the leap into freelance.\\n\\nSarah is so great, I know you're going to love this conversation!\\n\\nThanks to Yoni Wolf and his band WHY? for our theme music.\\n\\nThanks to Illustration Age for being our proud syndicate.\\nwww.illustrationage.com\\n\\nThanks to Asura for their song 'Whispering Through' from the free music archive.\\n\\nShow Notes\\nhttp://www.lillarogers.com/\",\n",
       "  u'Kyle T. Webster ( http://www.kyletwebster.com/ ) is our guest on the show this week.\\n\\nKyle is an accomplished illustrator and hailed as the best photoshop brush maker in the biz http://kylebrush.com/\\n\\nI\\'ve admired Kyle\\'s art business for some time now and it was a pleasure to speak with him for the show. I really wanted to deconstruct this unique business and look at what it takes to breakthrough the usual freelance ceiling into something a lot more expansive.\\n\\nKyle was very generous with his time and answers and I know you\\'re going to love this episode. Thank you Kyle!\\n\\nThanks to Yoni Wolf and the band WHY? for our theme music.\\n\\nThanks to our proud syndicate illustrationage.com\\n\\nThanks to the music from the freemusicarchive.org\\nAnd \"Kosmiche Slop\" by Anenon',\n",
       "  u'Advertising is evolving to a better state. No longer are we allowing businesses to steal our time and attention without trading something return. How do we update our approach to promoting our work with this in mind?\\n\\nShow Notes:\\nLinks\\nBrian Koppelman - The Moment\\nhttps://itunes.apple.com/us/podcast/moment-brian-koppelman/id814550071?mt=2\\n\\n\\nRethinking Self Promotion\\n\\nThe domestication of the wolf.\\n\\nWolf to Dog -> Dogs Thrive, Wolves Endangered.\\n\\nBusiness / Advertising evolving from parasitic to mutualism. \\nOceanic Creatures.\\n\\n\\nAttention Trade v.s. Attention Steal\\n\\nA gift as advertising.\\n\\nAsk better questions. Not how do make them give me this job, but how do I become so good they can\\u2019t ignore me.\\n\\nRethink or die!\\n\\n\\n1. Better not Louder\\nSO Good they can\\u2019t ignore you.\\n\\nRealized that the better I became the more people shared it.\\n\\nVampire Weekend - Music too good not to catch on.\\n\\nDave Grohl & David Koppelman - Undeniably Good\\n\\nWhat\\u2019s stopping you from getting your 10,000 hours?\\nThere\\u2019s a anti - force\\n\\n\\n2. Allow Discovery\\nSpecials Board in Restaurant - Desperate / Suspect\\nQuit direct marketing.\\nFavorite band via Postcard / Unsolicited Email\\n\\nDo work for dream client / market / niche / audience.\\nLet the chips fall.\\n\\nOK there may be a place for it - but not much of a place.\\n\\n\\n\\n3. Right Place, Not In Their Face \\nOpening Bands\\n- Hang at the Garbage Dump / \\nCoral Reef - The Safe Area\\n\\nOpposite Power of the Internet - Geography / IRL has never been more important.\\n\\nConferences. Friends. Collaborations.\\n\\nProvide Value to Your Peers.\\n\\n\\n\\n4. Avoid the Bottleneck / Think Differently\\nZoo - \\nPacers game.\\n\\nTrain yourself to identify of the moment urges vs authentic ones\\n\\nGet out of the Arms Race \\nHot Dogs - Kobayashi\\n\\nAsk yourself - are you thinking like everyone else?\\nCould a slight compromise equal success?\\n\\n\\n\\n5. Social Proof is Everything\\nMeritocracy on the rise.\\nBusiness has become more frugal.\\n\\nDisney sequels.\\n\\nDeadpool leak\\n\\nSeth Godin - Tell 10 People\\n\\nBad news - winning the lottery less likely\\nGood News - You can earn your paycheck\\n\\n\\nConclusion\\nThe whole going out and making it happen with brute force sales plan is dead.\\nThere is no forcing the consumer to watch this. You have to evolve.\\n\\nQuit thinking that there\\u2019s this perfect way to manipulate your buyer.\\nAsk better questions.\\n\\n\\nThanks to Yoni Wolf and the band WHY? for our theme music.\\n\\nThanks to our proud syndicate illustrationage.com\\n\\nThanks to the music from the freemusicarchive.org\\nAnd \"Kosmiche Slop\" by Anenon\\n',\n",
       "  u'Interview with illustrator, designer and art director Timothy Goodman.\\n\\nWe talk about his new project 12 Kinds of Kindness with Jessica Walsh, his Sharpie Book and his other project with Walsh 40 Days of Dating.\\n\\nWe talk about making a connection with people outside of design, seeing your work as a gift and how being yourself can be polarizing but also advantageous.\\n\\nShow Notes\\n12 Kinds of Kindness - \\nhttp://12kindsofkindness.com/\\n\\n40 Days of Dating - \\nhttp://fortydaysofdating.com/\\n\\nSharpie Art Workshop -\\nhttp://www.amazon.com/Sharpie-Art-Workshop-Techniques-Transforming/dp/1631590480\\n\\ntgoodman.com\\n\\nBruno Munari - Design As Art -\\nhttp://www.amazon.com/Design-Art-Penguin-Modern-Classics/dp/0141035811\\n',\n",
       "  u\"One of the most clarifying questions you can ask yourself about your art is 'Do I like it'? Is your work your taste?\\n\\nLet's get rid of those thoughts that distract you from making the work you love!\\n\\nShow Notes:\\nSomething I think about a lot: would these employees eat at this restaurant?\\n\\nMy work gets bad when I'm not tasting what I'm making. Gordon Ramsey\\n\\nMural kids room\\n\\nWhy: because you have to write what you know. When you start making for someone else's taste it's only skin deep - you only have intimate knowledge of your own taste buds - I hate mushrooms, how would ever know if a mushroom dish would be good for someone else?\\n\\nThere's an arrogance to thinking you can know someone else's experience w/o walking it.\\n\\n1. Self Aware Not Self Conscious\\nGuilty Pleasures\\nElevate a dish\\n\\n2. People Pleasing\\nCrazy Long Menu\\nDon\\u2019t Be Afraid to Alienate People\\nDiamonds Next to Mood Rings\\n\\n\\n3. Stay True to Your First Love\\nGordon vs crazy garnishes\\nBack to Why You Do This\\nLisa Hanawalt - http://www.lisahanawalt.com/\\nOriginality\\n\\nConclusion\\nDisclaimer - you gotta try things that might be disgusting. Just don't put it on the menu!\",\n",
       "  u'Bonus episode!\\n\\nToday we talk strategies for pricing your work. It\\'s a tough subject but I will attempt to help you find some peace of mind!\\n\\nShow Notes\\nJoey Ellis - www.joeyellis.com\\nThe Dark Art of Pricing by Jessica Hische http://jessicahische.is/thinkingthoughtsaboutpricing\\n\\nThanks to Yoni Wolf and the band WHY? for our theme music.\\n\\nThanks to our proud syndicate illustrationage.com\\n\\nThanks to the music from the freemusicarchive.org\\nAnd \"Kosmiche Slop\" by Anenon\\n\\n',\n",
       "  u'Building a business on trends and taste is like building a house on quicksand.\\n\\nIt\\'s easy to see the value in art forms like stand up comedy. How valuable is a stand up comic that can\\'t make people laugh? \\n\\nIn some arenas of commercial art the value is harder to measure. What\\'s the value of your creative business? In today\\'s episode we try to figure this out.\\n\\nShow Notes\\nComedian who doesn\\u2019t know he supposed to make us laugh.\\n\\nWhat is the point of illustration?\\n\\nTalking Funny - \\nhttps://www.youtube.com/watch?v=OKY6BGcx37k\\n\\nTrends  - Beanie Babie & Trolls\\n\\n1. Define the Problem - \\nPersonal MBA Josh Kaufman - https://personalmba.com\\n- collect\\n- Attract\\n- Learn\\n- Defend\\n- Feel\\n\\nDo unto others - scratch your own itch\\nLook at other art forms\\n\\n2. Research - Study the Greats\\nJudd Apatow\\nhttp://www.amazon.com/Sick-Head-Conversations-About-Comedy/dp/0812997573\\n\\n3. Get on Stage / Workshop\\nPractice Test social proof\\nMeasure your success - Find a Metric\\n\\nThanks to Yoni Wolf and the band WHY? for our theme music.\\n\\nThanks to our proud syndicate illustrationage.com\\n\\nThanks to the music from the freemusicarchive.org\\nAnd \"Kosmiche Slop\" by Anenon',\n",
       "  u'Today we have the creator of Kid President, the amazing and extremely talented Brad Montague!\\n\\nThank to Yoni Wolf and his band WHY? for our theme music.\\n\\nThanks to our syndicate Illustration Age\\n\\nThanks to the band Minus for their music from the freemusicarchive.org\\nhttp://freemusicarchive.org/music/Minus/\\n\\nShow notes:\\nKid President Pep Talk\\nhttps://www.youtube.com/watch?v=l-gQLqv9f4o\\n\\nKid President with Grover!\\nhttps://www.youtube.com/watch?v=eCtVlNcmCgw\\n\\nThe Gift by Lewis Hyde\\nhttp://www.amazon.com/The-Gift-Creativity-Artist-Modern/dp/0307279502\\n\\nMake Money Make Art by Elizabeth Hyde Stevens\\nhttp://www.amazon.com/Make-Art-Money-Lessons-Creative/dp/1477817387/ref=sr_1_1?s=books&ie=UTF8&qid=1454338396&sr=1-1&keywords=make+money+make+art',\n",
       "  u'Intro\\nFlat Earth vs infinitely expanding universe\\nWhat is possible - moon landing\\n\\nWe think of ourselves like a flat earth. A finite puzzle piece.\\n\\nIn the past few years - expanding foam\\n\\nDr. Carol Dweck - fixed vs growth\\nHer TED talk\\nhttps://www.ted.com/talks/carol_dweck_the_power_of_believing_that_you_can_improve?language=en\\n\\n1.Have a Little Faith\\nThey thought Columbus was crazy (maybe he was).\\n\\nDaniel Fishel \\nhttp://www.o-fishel.com/\\n\\nForbes 30 Under 30: Art & Style 2016\\nhttp://www.forbes.com/30-under-30-2016/art-style/#48e5f35123c5\\n\\nAudible - Stories that Surround You\\nhttps://vimeo.com/135756801\\n\\n3. Fun not Outcome\\nRollercoaster vs Cross Country Move\\n\\nEric Molinsky /Imaginary Worlds\\nhttp://www.imaginaryworldspodcast.org/\\n\\n\\n4. Go Past the Horizon\\nChris Piascik\\nhttp://chrispiascik.com/\\n\\nHow do you motivate yourself to sail over the horizon?\\n\\nThanks to Yoni Wolf and the band WHY? for our theme music.\\n\\nThanks to our proud syndicate illustrationage.com\\n\\nThanks to the music from the freemusicarchive.org\\nToday we featured \"underclocked\" by Eric Skiff\\n\"Mouse trap\" by Apache tomcat\\n\"Night Owl\" by Broke for Free\\nAnd \"Kosmiche Slop\" by Anenon\\n\\nIf you love the show and its helped you in any way would you consider reviewing it on iTunes? This is the number one way to help me grow the show.',\n",
       "  u'Intro\\nHow confusing and frustrating would it be for a farmer to try and plant his crop in the off season? Or harvest when their vegetables have only began to grow?\\n\\nToday on the show we talk about the differing seasons in your creative career and the power that comes from understanding them, identifying where you\\u2019re at and making the most of the season you\\u2019re in.\\n\\nCycle to the call to something more creatively fulfilling vs making money at it or success\\nNothing kills motivation like confusion\\n\\n1. Plant\\nSigns you\\u2019re in the planting season:\\nDread / apathy about current work (not just boredom)\\nNew Opportunities or paths emerge\\nIdea that doesn\\u2019t go away (Seth Rogen from Tim Ferris Podcast http://fourhourworkweek.com/2015/09/29/seth-rogen-and-evan-goldberg/ )\\n\\nWhat to give your focus:\\nSeed Selection\\nClear goals\\nUnderstand the magnitude of the journey\\nGet super clear on the \\u2018why\\u2019\\n\\n2. Grow\\nSigns you\\u2019re in the growing season:\\nBoredom / no reward\\nFueled only by passion / dedication / curiosity / fun\\n\\nWhat to give your focus:\\nStay in touch with why\\nEnjoying the Journey\\nGiving it your all - like Rocky training\\n\\n3. Harvest\\nSigns you\\u2019re in the harvest season:\\n$ enters the equation\\nOpportunities knocking on your door\\n\\nWhat to give your focus:\\nFinish Strong\\n\\nJim Coudal creative mornings talk\\nhttps://creativemornings.com/talks/jim-coudal/1\\n\\n4. Rest\\nSigns you\\u2019re in the rest or the \\u2018dead soil\\u2019 season:\\nYou never want to touch this work again\\n\\nWhat to give your focus:\\nRome wasn\\u2019t built in a day\\nThere was a time you\\u2019d have killed for where you are now\\n\\nConclusion\\nUnderstanding the seasons mean that the farmer doesn\\u2019t have to wake up everyday questioning everything or scrambling. There is peace and productivity to understanding the seasons of your career.\\n\\nThese seasons are cyclical. You don\\u2019t just do each season once. Some smaller parts of your career will cycle a few times a year. The larger parts tend to cycle slower over many years.',\n",
       "  u\"Final episode on the topic rest.\\n\\nThis episode features a conversation I had with my good friend Brandon Rike on this topic of rest, balancing 'real life' with 'art life', the importance of your work and even death! Fun stuff!\\n\\nThis was a great conversation, super excited to share it with you!\\n\\nThanks to our syndicate Illustration Age and to Yoni Wolf and the band WHY? for our theme music!\",\n",
       "  u'Thriving financially as an artist is nearly impossible without good business and marketing, and we talk a lot about this on the podcast. But what if the art side is actually lacking? \\n\\nThe art is the foundation of your art business, but with everything seeming so subjective, how do you actually systematically improve your portfolio?\\n\\nToday we talk about how to use the right criteria to identify problem areas in your portfolio... with the help of Boyz II Men :D\\n\\nThanks to our syndicate Illustration Age and to Yoni Wolf and the band WHY? for our theme music!',\n",
       "  u'\"I\\'d love to just survive off of my art\"\\n\\nEver heard anyone say that? Maybe you say it all the time. I used to say it too. Today I want to talk about why you should set your goals higher and how embracing a bigger challenge can actually be more motivating and more rewarding.\\n\\nThanks to our syndicate Illustration Age and to Yoni Wolf and the band WHY? for our theme music!',\n",
       "  u\"Pt 2 of our exploration on REST.\\n\\nDesign hero Jeremy Slagle joins me in this episode as we hash out ideas on managing energy levels, sleep and mentally stepping away.\\n\\nGo check out Jeremy's excellent work: www.slagledesign.com\\n\\nThanks to Illustration Age, Slap Stickers and Yoni Wolf the lead singer of the band WHY? for letting us use their songs 'January Twenty Something' and 'Berkeley by Hearseback'.\\n\\nThis episode features the song 'Steamboat' by How How for our ad music from the freemusicarchive.org\",\n",
       "  u\"Is it all about hustle or does slow & steady still really win the race?\\n\\nI push you to think about your creative career less like a sprint and more like a marathon.\\n\\nWe also talk about how to stay motivated on a day to day basis so that you can be disciplined in your creativity.\\n\\nThanks to Illustration Age, Slap Stickers and Yoni Wolf the lead singer of the band WHY? for letting us use their songs 'January Twenty Something' and 'Berkeley by Hearseback'.\\n\\nThis episode features the song 'Steamboat' by How How for our ad music from the freemusicarchive.org\\n\\nThis 'Slow & Steady' is available as a print here:\\nsociety6.com/andyjmiller\",\n",
       "  u\"This is part 1 of 3 of our episodes on 'rest'.\\n\\nIn this episode we talk to a close friend of mine Jeffrey Bowman.\\n\\nJeff is the creative director at UK outdoor brand Millican.\\n\\nIn this episode we talk about how rest is key to finding your voice, staying true to yourself and making your best work.\\n\\nThis is one of my favorite episodes to date, hope you love it!\\n\\nwww.jeffrey-bowman.co.uk\\nhttp://www.homeofmillican.com/\",\n",
       "  u'This week on the show we have the one and only Tad Carpenter.\\n\\nWe talk about having a diverse range of markets, expanding your art business and working hard.\\n\\nThank you so much Tad, you brought so much to this episode!\\n\\nThis show features our theme songs:\\nWHY? - January Twenty Something\\nWHY? - Berkley by Hearseback\\n\\nand these songs from the freemusicarchive.org:\\nHow How - Steamboat\\nBroke for Free - Something Elated\\nBroke for Free -  Warm up Suit\\nJahzzar - Please Listen Carefully\\n',\n",
       "  u\"\\u201cYou are the average of the five people you spend the most time with.\\u201d \\u2015 Jim Rohn\\n\\nIf you are unhappy with the results of your art career, if you're not making the money you'd like to be making, if you're not as creatively fulfilled by the work you're making as you'd like to be... the problem might be deeper than the art you are putting out... it may go back to the stuff you're putting in.\",\n",
       "  u\"Why is it that designers seem to do so many things, so well?\\n\\nMassimo Vignelli once said that if you can design one thing, you can design anything.\\n\\nI think there might be something to this. Often designers design great lectures, great studios... great vacations.\\n\\nWhat if we approach our art careers with the design process?\\n\\nWhether you're a designer or not, learning this process can be a game changer.\\n\\nOver time I've realized that most of my ideas surrounding how to make a great art career go back to this design process, and that's what we talk about today.\",\n",
       "  u\"The early bird gets the worm, right? What about if the early bird is sooo early he doesn't get any sleep therefore falls asleep while waiting on the worm and misses the worm altogether!\\n\\nToday we talk about wanting a thriving commercial art career super badly but not so badly that it goes bad!\",\n",
       "  u'Pt 2 of episode 059.\\n\\nHere we continue our talk about communicating with your art and truly connecting with people.',\n",
       "  u'Today on the show we talk about how to express your inspirations and interests in a way that will connect with an audience in a powerful way.\\n\\nThis episode features the wonderful creative studio Jolby! Thanks guys!\\n\\nStay tuned for pt 2 tomorrow.',\n",
       "  u\"Brand Rike and I interview 'food typographer' Danielle Evans. It was an amazing experience and we got pretty deep into issues of rip off artists, experimentation, being broke early on and more! Hope you love it!\",\n",
       "  u\"Startups are all the rage these days, I know! And this show title is ridiculous, but recently I've noticed a lot of similarities between successful art career practices and successful startup practices. Let's see if we can't learn a thing or two from this startup culture!\",\n",
       "  u'Today we recap and discuss take aways from the conference Creative Works where I spoke last week.',\n",
       "  u\"A quick little pep talk, didn't want to leave you hanging this week!\",\n",
       "  u'Backstage with the man himself! Aaron Draplin of the DDC! I got to have a long conversation with Aaron earlier this week, and this episode is full of absolute gold! Hope you enjoy it. Thank you Aaron!',\n",
       "  u'This episode is a little different. We are going to talk about things that are important right now in the world of self-promotion for commercial art in terms of social media.',\n",
       "  u\"A few weeks back we explored the idea of elevating the commercial side of your art business. Because I believe nuance is the key to wisdom, I've decided to look at the other side: art. \\n\\nHow do we approach our art business more like a fine artist? Why would want to do this? All this and more answered today!\\n\\nThanks to commercial artist Dan Christofferson aka Beeteeth from beeteeth.com for chiming in on the topic and sharing his creative wisdom. Dan does an amazing job of injecting a fine art approach to his commercial work!\",\n",
       "  u\"This episode we talk about whether original art is possible, why it's a worthy pursuit and the few conditions necessary for new ideas to spring to life.\\n\\nThis episode features wonderful Brandon Rike & Jen Mussari.\",\n",
       "  u'BRB',\n",
       "  u\"We made it! It's episode 50! WOW can not believe.\\n\\nWe have new theme music from WHY? (the band).\\n\\nWe have a new brand!\\n\\nTo help celebrate I invited some of my favorite (creative) people along for the party. I asked these folks to tell us a tip they wish they had 5 years ago.\\n\\nListen in to the wisdom of Mikey Burton, Kate Bingaman-Burt, Daniel Fishel, Don Clark from Invisible Creature, Rilla, Matt Stevens, Darren Booth, Erik Marinovich, Mary Kate McDevitt and Andrew Neyer!\\n\\nWOOHOO!\",\n",
       "  u'049 - The Freelancer S Dungeon Map by Andy J. Miller',\n",
       "  u'048 - Relationships by Andy J. Miller',\n",
       "  u\"047 - It's Business Time by Andy J. Miller\",\n",
       "  u'046 - Making Things Happen by Andy J. Miller',\n",
       "  u'045 - Learning For Exponential Growth by Andy J. Miller',\n",
       "  u'044 - Level Up Career Breakthrough by Andy J. Miller',\n",
       "  u'043 - The Pencil Is The Path by Andy J. Miller',\n",
       "  u'042 - Effective Side Projects by Andy J. Miller',\n",
       "  u'041 - Repeat Clients by Andy J. Miller',\n",
       "  u'040 - Patreon by Andy J. Miller',\n",
       "  u'039 - The Pencil In The Stone !SPECIAL EPISODE! by Andy J. Miller',\n",
       "  u'038 - Knowing The Unknown by Andy J. Miller',\n",
       "  u'037 - Crafting An Impression by Andy J. Miller',\n",
       "  u'036 - Biggest Art Career Mistakes by Andy J. Miller',\n",
       "  u'035 - Peppy Talk 3 - Creative Block by Andy J. Miller',\n",
       "  u'034 - $$$$$ by Andy J. Miller',\n",
       "  u'033 - Peppy Talk 2 - Self Doubt by Andy J. Miller',\n",
       "  u'032 - Kick Butts Today by Andy J. Miller',\n",
       "  u'031 - Peppy Talk 1 by Andy J. Miller',\n",
       "  u'030 - 15 Steps To More Work by Andy J. Miller',\n",
       "  u'029 - Unlock Your Best Work by Andy J. Miller',\n",
       "  u'028 - Take Off The Governor by Andy J. Miller',\n",
       "  u'027 - How To Stand Out by Andy J. Miller',\n",
       "  u\"026 - Why It's Not Working by Andy J. Miller\",\n",
       "  u'025 - Nothing Can Stop You by Andy J. Miller',\n",
       "  u'024 - DO LESS MORE BETTER by Andy J. Miller',\n",
       "  u'023 - 7 Signposts That Point To Your Master Sword by Andy J. Miller',\n",
       "  u'022 - 10 Ways To Grow Your Commercial Art Practice by Andy J. Miller',\n",
       "  u'021 - You Must Stay The Same & Always Change by Andy J. Miller',\n",
       "  u'020 - Do Not Be Afraid by Andy J. Miller',\n",
       "  u'019 - Look Back, Before You Look Forward by Andy J. Miller',\n",
       "  u'018 - The Most Importan Question - What Do I Want To See by Andy J. Miller',\n",
       "  u'017 - You Purpose, Or Whatever by Andy J. Miller',\n",
       "  u'016 - 6 Ways To Be A Happier Creative by Andy J. Miller',\n",
       "  u'015 - Transcendence- Aligning Your Creator Mentality With Your Audience Mentality by Andy J. Miller',\n",
       "  u'014 - The Answer Is Not On The Internet by Andy J. Miller',\n",
       "  u\"013 - It's Commercial Art, Not Impersonal Art by Andy J. Miller\",\n",
       "  u'012 - Life Vs Work by Andy J. Miller',\n",
       "  u'011 - Choose Your Battles by Andy J. Miller',\n",
       "  u\"010 - Why People Don't Get Your Work by Andy J. Miller\",\n",
       "  u'009 - Never Stop Growing by Andy J. Miller',\n",
       "  u'008 - Self Awareness by Andy J. Miller',\n",
       "  u'007 The Most Important Question, What Do You Want by Andy J. Miller',\n",
       "  u'006 Haters Kill Your Destiny by Andy J. Miller',\n",
       "  u\"005 The Obvious Thing You're Missing... by Andy J. Miller\",\n",
       "  u'004 Over Thinking by Andy J. Miller',\n",
       "  u'003 Pain by Andy J. Miller',\n",
       "  u'002 Strengths by Andy J. Miller',\n",
       "  u'001 Hustlin by Andy J. Miller'],\n",
       " u'_id': ObjectId('56f5c6cd292d174794018c46')}"
      ]
     },
     "execution_count": 223,
     "metadata": {},
     "output_type": "execute_result"
    }
   ],
   "source": [
    "tab.find_one({})"
   ]
  },
  {
   "cell_type": "code",
   "execution_count": 222,
   "metadata": {
    "collapsed": false
   },
   "outputs": [
    {
     "data": {
      "text/plain": [
       "Collection(Database(MongoClient(host=['localhost:27017'], document_class=dict, tz_aware=False, connect=True), u'Podcast'), u'PodcastInfo.PodcastJson')"
      ]
     },
     "execution_count": 222,
     "metadata": {},
     "output_type": "execute_result"
    }
   ],
   "source": [
    "tab['PodcastJson']"
   ]
  }
 ],
 "metadata": {
  "hide_input": false,
  "kernelspec": {
   "display_name": "Python 2",
   "language": "python",
   "name": "python2"
  },
  "language_info": {
   "codemirror_mode": {
    "name": "ipython",
    "version": 2
   },
   "file_extension": ".py",
   "mimetype": "text/x-python",
   "name": "python",
   "nbconvert_exporter": "python",
   "pygments_lexer": "ipython2",
   "version": "2.7.11"
  }
 },
 "nbformat": 4,
 "nbformat_minor": 0
}
