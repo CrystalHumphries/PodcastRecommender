{
 "cells": [
  {
   "cell_type": "code",
   "execution_count": 1,
   "metadata": {
    "collapsed": true
   },
   "outputs": [],
   "source": [
    "from pymongo import MongoClient\n",
    "import pandas as pd\n",
    "import numpy as np\n",
    "from sklearn.feature_extraction.text import CountVectorizer\n",
    "CV = CountVectorizer()\n",
    "from scipy.sparse import csr_matrix\n",
    "from PodcastFeatureEngineering import Podcast_Features\n",
    "import graphlab as gl\n",
    "from graphlab import SFrame as sf\n",
    "import time"
   ]
  },
  {
   "cell_type": "code",
   "execution_count": 2,
   "metadata": {
    "collapsed": false
   },
   "outputs": [
    {
     "name": "stdout",
     "output_type": "stream",
     "text": [
      "153497\n"
     ]
    }
   ],
   "source": [
    "client = MongoClient()\n",
    "# Access/Initiate Database\n",
    "db = client['Podcast']\n",
    "# Access/Initiate Table\n",
    "Podcast_twitter = db['PodcastTwitter_handles']\n",
    "print Podcast_twitter.count()"
   ]
  },
  {
   "cell_type": "code",
   "execution_count": 3,
   "metadata": {
    "collapsed": false
   },
   "outputs": [
    {
     "name": "stdout",
     "output_type": "stream",
     "text": [
      "18658\n"
     ]
    }
   ],
   "source": [
    "practice = []\n",
    "n=0\n",
    "for pod in Podcast_twitter.find({}, {'Title':1, '_id':0, 'TwitterFollowers':1}):\n",
    "    try:\n",
    "        if 'TwitterFollowers' in pod and pod['TwitterFollowers'] and pod['TwitterFollowers'][0]!='None':\n",
    "            practice.append(pod)\n",
    "            n+=1\n",
    "    except:\n",
    "        pass\n",
    "print n"
   ]
  },
  {
   "cell_type": "code",
   "execution_count": 4,
   "metadata": {
    "collapsed": false
   },
   "outputs": [],
   "source": [
    "import json\n",
    "aws = json.load(open(\"/home/ubuntu/.api/AWS.api\"))\n",
    "key = str(aws['AWS_ACCESS_KEY'])\n",
    "secret = str(aws['AWS_SECRET_ACCESS_KEY'])\n",
    "gl.aws.set_credentials(access_key_id = key, secret_access_key = secret)\n",
    "my_config = gl.deploy.Ec2Config()"
   ]
  },
  {
   "cell_type": "code",
   "execution_count": 5,
   "metadata": {
    "collapsed": false
   },
   "outputs": [
    {
     "name": "stderr",
     "output_type": "stream",
     "text": [
      "2016-04-16 23:59:21,056 [INFO] graphlab.cython.cy_server, 176: GraphLab Create v1.8.5 started. Logging: /tmp/graphlab_server_1460851160.log\n",
      "2016-04-16 23:59:31,278 [INFO] graphlab.connect.aws._ec2, 503: Launching an m3.xlarge instance in the us-west-2b availability zone, with id: i-5a091e9d. You will be responsible for the cost of this instance.\n",
      "2016-04-16 23:59:51,011 [INFO] graphlab.deploy._executionenvironment, 361: One additional host will be launched by i-5a091e9d\n",
      "2016-04-16 23:59:51,013 [INFO] graphlab.deploy._executionenvironment, 367: Waiting for i-5a091e9d to start up.\n",
      "2016-04-17 00:04:58,790 [INFO] graphlab.util.file_util, 636: Deleting keys: []\n",
      "2016-04-17 00:04:58,830 [INFO] graphlab.util.file_util, 249: Error hit while uploading to S3: [Errno 2] No such file or directory\n",
      "2016-04-17 00:04:58,831 [INFO] graphlab.util.file_util, 250: Retrying 1 out of 5\n",
      "2016-04-17 00:05:00,854 [INFO] graphlab.util.file_util, 249: Error hit while uploading to S3: [Errno 2] No such file or directory\n",
      "2016-04-17 00:05:00,857 [INFO] graphlab.util.file_util, 250: Retrying 2 out of 5\n",
      "2016-04-17 00:05:02,882 [INFO] graphlab.util.file_util, 249: Error hit while uploading to S3: [Errno 2] No such file or directory\n",
      "2016-04-17 00:05:02,884 [INFO] graphlab.util.file_util, 250: Retrying 3 out of 5\n",
      "2016-04-17 00:05:04,908 [INFO] graphlab.util.file_util, 249: Error hit while uploading to S3: [Errno 2] No such file or directory\n",
      "2016-04-17 00:05:04,910 [INFO] graphlab.util.file_util, 250: Retrying 4 out of 5\n",
      "2016-04-17 00:05:06,935 [INFO] graphlab.util.file_util, 249: Error hit while uploading to S3: [Errno 2] No such file or directory\n",
      "2016-04-17 00:05:06,936 [INFO] graphlab.util.file_util, 250: Retrying 5 out of 5\n"
     ]
    },
    {
     "name": "stdout",
     "output_type": "stream",
     "text": [
      "This non-commercial license of GraphLab Create is assigned to crystal.humphries@systemsbiology.org and will expire on November 04, 2016. For commercial licensing options, visit https://dato.com/buy/.\n"
     ]
    },
    {
     "ename": "OSError",
     "evalue": "[Errno 2] No such file or directory",
     "output_type": "error",
     "traceback": [
      "\u001b[1;31m---------------------------------------------------------------------------\u001b[0m",
      "\u001b[1;31mOSError\u001b[0m                                   Traceback (most recent call last)",
      "\u001b[1;32m<ipython-input-5-000110286853>\u001b[0m in \u001b[0;36m<module>\u001b[1;34m()\u001b[0m\n\u001b[0;32m      2\u001b[0m                                                      \u001b[1;34m's3://galvanizecrystal/'\u001b[0m\u001b[1;33m,\u001b[0m\u001b[1;33m\u001b[0m\u001b[0m\n\u001b[0;32m      3\u001b[0m                                                      \u001b[0mmy_config\u001b[0m\u001b[1;33m,\u001b[0m\u001b[1;33m\u001b[0m\u001b[0m\n\u001b[1;32m----> 4\u001b[1;33m                                                      num_hosts = 2)\n\u001b[0m",
      "\u001b[1;32m/home/ubuntu/anaconda2/lib/python2.7/site-packages/graphlab/deploy/ec2_cluster.pyc\u001b[0m in \u001b[0;36mcreate\u001b[1;34m(name, s3_path, ec2_config, num_hosts, additional_packages, idle_shutdown_timeout)\u001b[0m\n\u001b[0;32m     81\u001b[0m     \u001b[0mcluster\u001b[0m \u001b[1;33m=\u001b[0m \u001b[0mEc2Cluster\u001b[0m\u001b[1;33m(\u001b[0m\u001b[0mec2_config\u001b[0m\u001b[1;33m,\u001b[0m \u001b[0ms3_path\u001b[0m\u001b[1;33m,\u001b[0m \u001b[0mname\u001b[0m\u001b[1;33m,\u001b[0m \u001b[0mnum_hosts\u001b[0m\u001b[1;33m,\u001b[0m \u001b[0madditional_packages\u001b[0m\u001b[1;33m,\u001b[0m \u001b[0midle_shutdown_timeout\u001b[0m\u001b[1;33m)\u001b[0m\u001b[1;33m\u001b[0m\u001b[0m\n\u001b[0;32m     82\u001b[0m \u001b[1;33m\u001b[0m\u001b[0m\n\u001b[1;32m---> 83\u001b[1;33m     \u001b[0mcluster\u001b[0m\u001b[1;33m.\u001b[0m\u001b[0mstart\u001b[0m\u001b[1;33m(\u001b[0m\u001b[1;33m)\u001b[0m\u001b[1;33m\u001b[0m\u001b[0m\n\u001b[0m\u001b[0;32m     84\u001b[0m     \u001b[1;32mreturn\u001b[0m \u001b[0mcluster\u001b[0m\u001b[1;33m\u001b[0m\u001b[0m\n\u001b[0;32m     85\u001b[0m \u001b[1;33m\u001b[0m\u001b[0m\n",
      "\u001b[1;32m/home/ubuntu/anaconda2/lib/python2.7/site-packages/graphlab/deploy/ec2_cluster.pyc\u001b[0m in \u001b[0;36mstart\u001b[1;34m(self)\u001b[0m\n\u001b[0;32m    233\u001b[0m                                                                        \u001b[0mself\u001b[0m\u001b[1;33m.\u001b[0m\u001b[0midle_shutdown_timeout\u001b[0m\u001b[1;33m\u001b[0m\u001b[0m\n\u001b[0;32m    234\u001b[0m                                                                        )\n\u001b[1;32m--> 235\u001b[1;33m         \u001b[0mself\u001b[0m\u001b[1;33m.\u001b[0m\u001b[0m_save\u001b[0m\u001b[1;33m(\u001b[0m\u001b[1;33m)\u001b[0m\u001b[1;33m\u001b[0m\u001b[0m\n\u001b[0m\u001b[0;32m    236\u001b[0m \u001b[1;33m\u001b[0m\u001b[0m\n\u001b[0;32m    237\u001b[0m     \u001b[1;32mdef\u001b[0m \u001b[0mstop\u001b[0m\u001b[1;33m(\u001b[0m\u001b[0mself\u001b[0m\u001b[1;33m)\u001b[0m\u001b[1;33m:\u001b[0m\u001b[1;33m\u001b[0m\u001b[0m\n",
      "\u001b[1;32m/home/ubuntu/anaconda2/lib/python2.7/site-packages/graphlab/deploy/ec2_cluster.pyc\u001b[0m in \u001b[0;36m_save\u001b[1;34m(self)\u001b[0m\n\u001b[0;32m    158\u001b[0m         \u001b[0msave\u001b[0m \u001b[0mto\u001b[0m \u001b[0mboth\u001b[0m \u001b[0mlocal\u001b[0m \u001b[0msession\u001b[0m \u001b[1;32mand\u001b[0m \u001b[0mS3\u001b[0m\u001b[1;33m.\u001b[0m\u001b[1;33m\u001b[0m\u001b[0m\n\u001b[0;32m    159\u001b[0m         '''\n\u001b[1;32m--> 160\u001b[1;33m         \u001b[0mself\u001b[0m\u001b[1;33m.\u001b[0m\u001b[0m_save_to_file\u001b[0m\u001b[1;33m(\u001b[0m\u001b[0mself\u001b[0m\u001b[1;33m.\u001b[0m\u001b[0ms3_state_path\u001b[0m \u001b[1;33m+\u001b[0m \u001b[1;34m'/state'\u001b[0m\u001b[1;33m)\u001b[0m\u001b[1;33m\u001b[0m\u001b[0m\n\u001b[0m\u001b[0;32m    161\u001b[0m         \u001b[0m_default_session\u001b[0m\u001b[1;33m.\u001b[0m\u001b[0msave\u001b[0m\u001b[1;33m(\u001b[0m\u001b[0mself\u001b[0m\u001b[1;33m)\u001b[0m\u001b[1;33m\u001b[0m\u001b[0m\n\u001b[0;32m    162\u001b[0m \u001b[1;33m\u001b[0m\u001b[0m\n",
      "\u001b[1;32m/home/ubuntu/anaconda2/lib/python2.7/site-packages/graphlab/deploy/_artifact.pyc\u001b[0m in \u001b[0;36m_save_to_file\u001b[1;34m(self, filename)\u001b[0m\n\u001b[0;32m     98\u001b[0m         \u001b[1;31m# Each child class must implement save_version\u001b[0m\u001b[1;33m\u001b[0m\u001b[1;33m\u001b[0m\u001b[0m\n\u001b[0;32m     99\u001b[0m         \u001b[0mself\u001b[0m\u001b[1;33m.\u001b[0m\u001b[0m_save_impl\u001b[0m\u001b[1;33m(\u001b[0m\u001b[0mpickler\u001b[0m\u001b[1;33m)\u001b[0m\u001b[1;33m\u001b[0m\u001b[0m\n\u001b[1;32m--> 100\u001b[1;33m         \u001b[0mpickler\u001b[0m\u001b[1;33m.\u001b[0m\u001b[0mclose\u001b[0m\u001b[1;33m(\u001b[0m\u001b[1;33m)\u001b[0m\u001b[1;33m\u001b[0m\u001b[0m\n\u001b[0m\u001b[0;32m    101\u001b[0m \u001b[1;33m\u001b[0m\u001b[0m\n\u001b[0;32m    102\u001b[0m     \u001b[1;32mdef\u001b[0m \u001b[0m_save_impl\u001b[0m\u001b[1;33m(\u001b[0m\u001b[0mself\u001b[0m\u001b[1;33m,\u001b[0m \u001b[0mpickler\u001b[0m\u001b[1;33m)\u001b[0m\u001b[1;33m:\u001b[0m\u001b[1;33m\u001b[0m\u001b[0m\n",
      "\u001b[1;32m/home/ubuntu/anaconda2/lib/python2.7/site-packages/graphlab/_gl_pickle.pyc\u001b[0m in \u001b[0;36mclose\u001b[1;34m(self)\u001b[0m\n\u001b[0;32m    381\u001b[0m             _file_util.upload_to_s3(self.gl_temp_storage_path, self.s3_path,\n\u001b[0;32m    382\u001b[0m                                     \u001b[0maws_credentials\u001b[0m \u001b[1;33m=\u001b[0m \u001b[0m_get_aws_credentials\u001b[0m\u001b[1;33m(\u001b[0m\u001b[1;33m)\u001b[0m\u001b[1;33m,\u001b[0m\u001b[1;33m\u001b[0m\u001b[0m\n\u001b[1;32m--> 383\u001b[1;33m                                     is_dir = True, silent = True)\n\u001b[0m\u001b[0;32m    384\u001b[0m         \u001b[1;32mif\u001b[0m \u001b[0mself\u001b[0m\u001b[1;33m.\u001b[0m\u001b[0mhdfs_path\u001b[0m\u001b[1;33m:\u001b[0m\u001b[1;33m\u001b[0m\u001b[0m\n\u001b[0;32m    385\u001b[0m             _file_util.upload_to_hdfs(self.gl_temp_storage_path,\n",
      "\u001b[1;32m/home/ubuntu/anaconda2/lib/python2.7/site-packages/graphlab/util/file_util.pyc\u001b[0m in \u001b[0;36mupload_to_s3\u001b[1;34m(local_path, s3_path, is_dir, aws_credentials, silent)\u001b[0m\n\u001b[0;32m    250\u001b[0m             \u001b[0m__logger__\u001b[0m\u001b[1;33m.\u001b[0m\u001b[0minfo\u001b[0m\u001b[1;33m(\u001b[0m\u001b[1;34m\"Retrying %s out of %s\"\u001b[0m \u001b[1;33m%\u001b[0m \u001b[1;33m(\u001b[0m\u001b[0mnum_retries\u001b[0m\u001b[1;33m,\u001b[0m \u001b[0m__RETRY_TIMES\u001b[0m\u001b[1;33m)\u001b[0m\u001b[1;33m)\u001b[0m\u001b[1;33m\u001b[0m\u001b[0m\n\u001b[0;32m    251\u001b[0m             \u001b[1;32mif\u001b[0m \u001b[0mnum_retries\u001b[0m \u001b[1;33m==\u001b[0m \u001b[0m__RETRY_TIMES\u001b[0m\u001b[1;33m:\u001b[0m\u001b[1;33m\u001b[0m\u001b[0m\n\u001b[1;32m--> 252\u001b[1;33m                 \u001b[1;32mraise\u001b[0m \u001b[0me\u001b[0m\u001b[1;33m\u001b[0m\u001b[0m\n\u001b[0m\u001b[0;32m    253\u001b[0m             \u001b[0mtime\u001b[0m\u001b[1;33m.\u001b[0m\u001b[0msleep\u001b[0m\u001b[1;33m(\u001b[0m\u001b[0m__SLEEP_SECONDS_BETWEEN_RETRIES\u001b[0m\u001b[1;33m)\u001b[0m\u001b[1;33m\u001b[0m\u001b[0m\n\u001b[0;32m    254\u001b[0m \u001b[1;33m\u001b[0m\u001b[0m\n",
      "\u001b[1;31mOSError\u001b[0m: [Errno 2] No such file or directory"
     ]
    }
   ],
   "source": [
    "my_cluster = gl.deploy.ec2_cluster.create('Cluster_2',\n",
    "                                                     's3://galvanizecrystal/',\n",
    "                                                     my_config,\n",
    "                                                     num_hosts = 2)"
   ]
  },
  {
   "cell_type": "code",
   "execution_count": 4,
   "metadata": {
    "collapsed": true
   },
   "outputs": [],
   "source": [
    "def create_sparse_matrix(list_of_followers):\n",
    "    list_of_strings = []\n",
    "    list_of_titles = []\n",
    "    for ls in list_of_followers:\n",
    "        x = ' '.join([ str(x) for x in ls['TwitterFollowers']])\n",
    "        list_of_strings.append(x)\n",
    "        list_of_titles.append(ls['Title'])\n",
    "    return list_of_strings, list_of_titles"
   ]
  },
  {
   "cell_type": "code",
   "execution_count": 5,
   "metadata": {
    "collapsed": false
   },
   "outputs": [
    {
     "name": "stdout",
     "output_type": "stream",
     "text": [
      "(17906, 2046770)\n"
     ]
    }
   ],
   "source": [
    "strings,titles = create_sparse_matrix(practice)\n",
    "final = CV.fit_transform(strings)\n",
    "a = csr_matrix.sum(final, axis=0)\n",
    "print final.shape\n",
    "a = np.array(a).reshape(a.shape[1],)\n",
    "mask = a>1\n",
    "\n",
    "u=np.where(mask)[0]\n",
    "sparse_mat = final.tocsc()[:,u]\n",
    "mat = sparse_mat.toarray()"
   ]
  },
  {
   "cell_type": "code",
   "execution_count": 6,
   "metadata": {
    "collapsed": true
   },
   "outputs": [],
   "source": [
    "def get_truncated_matrix(mat, max_num):\n",
    "    df = pd.DataFrame(mat[:,0:max_num])\n",
    "    df.index = titles\n",
    "    a = df.sum(axis=1)\n",
    "    mask2 = a>0\n",
    "    return df.loc[mask2,:]"
   ]
  },
  {
   "cell_type": "code",
   "execution_count": 31,
   "metadata": {
    "collapsed": false
   },
   "outputs": [
    {
     "name": "stdout",
     "output_type": "stream",
     "text": [
      "(17250, 243629)\n",
      "15.593239069\n"
     ]
    }
   ],
   "source": [
    "start = time.time()\n",
    "attempt = get_truncated_matrix(mat, 2028372)\n",
    "print attempt.shape\n",
    "end = time.time()\n",
    "print(end - start)"
   ]
  },
  {
   "cell_type": "code",
   "execution_count": 7,
   "metadata": {
    "collapsed": false
   },
   "outputs": [
    {
     "data": {
      "text/plain": [
       "(17906, 243629)"
      ]
     },
     "execution_count": 7,
     "metadata": {},
     "output_type": "execute_result"
    }
   ],
   "source": [
    "df_total = pd.DataFrame(mat)\n",
    "df_total.index = titles\n",
    "df_total.shape"
   ]
  },
  {
   "cell_type": "code",
   "execution_count": 8,
   "metadata": {
    "collapsed": false
   },
   "outputs": [
    {
     "name": "stderr",
     "output_type": "stream",
     "text": [
      "/home/ubuntu/anaconda2/lib/python2.7/site-packages/IPython/core/interactiveshell.py:3066: DtypeWarning: Columns (14,15,17) have mixed types. Specify dtype option on import or set low_memory=False.\n",
      "  exec(code_obj, self.user_global_ns, self.user_ns)\n",
      "clean_podcast_csv.py:24: FutureWarning: the coerce=True keyword is deprecated, use errors='coerce' instead\n",
      "  self.df['DateFirstEpisode'] = self.df.DateFirstEpisode.apply(lambda x: pd.to_datetime(str(x), coerce=True))\n"
     ]
    },
    {
     "name": "stdout",
     "output_type": "stream",
     "text": [
      "Creating Tf-idf\n"
     ]
    },
    {
     "name": "stderr",
     "output_type": "stream",
     "text": [
      "clean_podcast_csv.py:25: FutureWarning: the coerce=True keyword is deprecated, use errors='coerce' instead\n",
      "  self.df['DateLastEpisode']  = self.df.DateLastEpisode.apply(lambda x: pd.to_datetime(str(x), coerce=True))\n"
     ]
    }
   ],
   "source": [
    "PF = Podcast_Features()"
   ]
  },
  {
   "cell_type": "code",
   "execution_count": 9,
   "metadata": {
    "collapsed": true
   },
   "outputs": [],
   "source": [
    "df = PF.cleaned_df"
   ]
  },
  {
   "cell_type": "code",
   "execution_count": 29,
   "metadata": {
    "collapsed": false
   },
   "outputs": [],
   "source": [
    "# gl.deploy.ec2_cluster.create('Compute Cluster', \n",
    "#                              's3://crystalgalvanize/',\n",
    "#                                 my_config,\n",
    "#                                                      num_hosts = 4)"
   ]
  },
  {
   "cell_type": "code",
   "execution_count": 10,
   "metadata": {
    "collapsed": true
   },
   "outputs": [],
   "source": [
    "g = df.columns.to_series().groupby(df.dtypes).groups\n",
    "c = g.keys()"
   ]
  },
  {
   "cell_type": "code",
   "execution_count": 11,
   "metadata": {
    "collapsed": false
   },
   "outputs": [],
   "source": [
    "df2 = df.drop(g[c[0]], axis=1)\n",
    "df2 = df2.drop(g[c[1]], axis=1)"
   ]
  },
  {
   "cell_type": "code",
   "execution_count": 13,
   "metadata": {
    "collapsed": false
   },
   "outputs": [
    {
     "name": "stdout",
     "output_type": "stream",
     "text": [
      "<class 'pandas.core.frame.DataFrame'>\n",
      "Int64Index: 155804 entries, 0 to 155803\n",
      "Data columns (total 5 columns):\n",
      "TotalEpisodes      155804 non-null int64\n",
      "RatingCount        155804 non-null int64\n",
      "AverageRating      155804 non-null float64\n",
      "CategoryRanking    155804 non-null int64\n",
      "Title              155804 non-null object\n",
      "dtypes: float64(1), int64(3), object(1)\n",
      "memory usage: 7.1+ MB\n"
     ]
    }
   ],
   "source": [
    "df2.info()"
   ]
  },
  {
   "cell_type": "code",
   "execution_count": 12,
   "metadata": {
    "collapsed": true
   },
   "outputs": [],
   "source": [
    "df2['Title'] = df.Title"
   ]
  },
  {
   "cell_type": "code",
   "execution_count": 41,
   "metadata": {
    "collapsed": false
   },
   "outputs": [],
   "source": [
    "keep_from_df2 = df2.Title.isin(attempt.index) #& df_total.index.isin(df2.Title)\n",
    "keep_from_df_total = attempt.index.isin(df2.Title)"
   ]
  },
  {
   "cell_type": "code",
   "execution_count": 44,
   "metadata": {
    "collapsed": false
   },
   "outputs": [],
   "source": [
    "items = df2.loc[keep_from_df2,:]\n",
    "#users = attempt.loc[keep_from_df_total,:]"
   ]
  },
  {
   "cell_type": "code",
   "execution_count": 19,
   "metadata": {
    "collapsed": true
   },
   "outputs": [],
   "source": [
    "sf_items = gl.SFrame(items) "
   ]
  },
  {
   "cell_type": "code",
   "execution_count": 45,
   "metadata": {
    "collapsed": false
   },
   "outputs": [
    {
     "data": {
      "text/plain": [
       "((16038, 243629), (16343, 5))"
      ]
     },
     "execution_count": 45,
     "metadata": {},
     "output_type": "execute_result"
    }
   ],
   "source": [
    "users.shape, items.shape"
   ]
  },
  {
   "cell_type": "code",
   "execution_count": null,
   "metadata": {
    "collapsed": false
   },
   "outputs": [],
   "source": [
    "users2 = gl.SFrame(users)"
   ]
  },
  {
   "cell_type": "code",
   "execution_count": 38,
   "metadata": {
    "collapsed": false
   },
   "outputs": [],
   "source": [
    "gl.recommender.item_similarity_recommender.create"
   ]
  },
  {
   "cell_type": "code",
   "execution_count": 48,
   "metadata": {
    "collapsed": false
   },
   "outputs": [
    {
     "ename": "AttributeError",
     "evalue": "'DataFrame' object has no attribute 'save'",
     "output_type": "error",
     "traceback": [
      "\u001b[1;31m---------------------------------------------------------------------------\u001b[0m",
      "\u001b[1;31mAttributeError\u001b[0m                            Traceback (most recent call last)",
      "\u001b[1;32m<ipython-input-48-4f0672fa4648>\u001b[0m in \u001b[0;36m<module>\u001b[1;34m()\u001b[0m\n\u001b[1;32m----> 1\u001b[1;33m \u001b[0musers\u001b[0m\u001b[1;33m.\u001b[0m\u001b[0msave\u001b[0m\u001b[1;33m(\u001b[0m\u001b[1;34m\"users_podcast_sframe.gl\"\u001b[0m\u001b[1;33m)\u001b[0m\u001b[1;33m\u001b[0m\u001b[0m\n\u001b[0m",
      "\u001b[1;32m/home/ubuntu/anaconda2/lib/python2.7/site-packages/pandas/core/generic.pyc\u001b[0m in \u001b[0;36m__getattr__\u001b[1;34m(self, name)\u001b[0m\n\u001b[0;32m   2358\u001b[0m                 \u001b[1;32mreturn\u001b[0m \u001b[0mself\u001b[0m\u001b[1;33m[\u001b[0m\u001b[0mname\u001b[0m\u001b[1;33m]\u001b[0m\u001b[1;33m\u001b[0m\u001b[0m\n\u001b[0;32m   2359\u001b[0m             raise AttributeError(\"'%s' object has no attribute '%s'\" %\n\u001b[1;32m-> 2360\u001b[1;33m                                  (type(self).__name__, name))\n\u001b[0m\u001b[0;32m   2361\u001b[0m \u001b[1;33m\u001b[0m\u001b[0m\n\u001b[0;32m   2362\u001b[0m     \u001b[1;32mdef\u001b[0m \u001b[0m__setattr__\u001b[0m\u001b[1;33m(\u001b[0m\u001b[0mself\u001b[0m\u001b[1;33m,\u001b[0m \u001b[0mname\u001b[0m\u001b[1;33m,\u001b[0m \u001b[0mvalue\u001b[0m\u001b[1;33m)\u001b[0m\u001b[1;33m:\u001b[0m\u001b[1;33m\u001b[0m\u001b[0m\n",
      "\u001b[1;31mAttributeError\u001b[0m: 'DataFrame' object has no attribute 'save'"
     ]
    }
   ],
   "source": [
    "users.save(\"users_podcast_sframe.gl\")"
   ]
  },
  {
   "cell_type": "code",
   "execution_count": 50,
   "metadata": {
    "collapsed": false
   },
   "outputs": [
    {
     "data": {
      "text/plain": [
       "pandas.core.frame.DataFrame"
      ]
     },
     "execution_count": 50,
     "metadata": {},
     "output_type": "execute_result"
    }
   ],
   "source": [
    "gl.SFrame()"
   ]
  },
  {
   "cell_type": "code",
   "execution_count": 55,
   "metadata": {
    "collapsed": false
   },
   "outputs": [
    {
     "data": {
      "text/plain": [
       "(17723, 240254)"
      ]
     },
     "execution_count": 55,
     "metadata": {},
     "output_type": "execute_result"
    }
   ],
   "source": [
    "df_total.shape"
   ]
  },
  {
   "cell_type": "code",
   "execution_count": 87,
   "metadata": {
    "collapsed": false
   },
   "outputs": [
    {
     "data": {
      "text/plain": [
       "(17794, 241246)"
      ]
     },
     "execution_count": 87,
     "metadata": {},
     "output_type": "execute_result"
    }
   ],
   "source": [
    "df_total.shape"
   ]
  }
 ],
 "metadata": {
  "kernelspec": {
   "display_name": "Python 2",
   "language": "python",
   "name": "python2"
  },
  "language_info": {
   "codemirror_mode": {
    "name": "ipython",
    "version": 2
   },
   "file_extension": ".py",
   "mimetype": "text/x-python",
   "name": "python",
   "nbconvert_exporter": "python",
   "pygments_lexer": "ipython2",
   "version": "2.7.11"
  }
 },
 "nbformat": 4,
 "nbformat_minor": 0
}
