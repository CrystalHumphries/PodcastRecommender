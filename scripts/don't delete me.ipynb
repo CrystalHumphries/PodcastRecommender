{
 "cells": [
  {
   "cell_type": "code",
   "execution_count": null,
   "metadata": {
    "collapsed": false
   },
   "outputs": [],
   "source": [
    "import imp\n",
    "import os"
   ]
  },
  {
   "cell_type": "code",
   "execution_count": null,
   "metadata": {
    "collapsed": false
   },
   "outputs": [],
   "source": [
    "%%writefile get_MP3_files.py\n",
    "import imp\n",
    "import os\n",
    "\n",
    "if __name__ == \"__main__\":\n",
    "    loc = os.path.join('/home/ubuntu/PodcastRecommender/', \"scripts/GrabMP3.py\")\n",
    "    MP3s = imp.load_source('Grab_MP3S', loc)\n",
    "    MP3s = MP3s.Grab_MP3S()\n",
    "    MP3s.send_to_S3()\n"
   ]
  },
  {
   "cell_type": "code",
   "execution_count": null,
   "metadata": {
    "collapsed": false
   },
   "outputs": [],
   "source": [
    "loc = os.path.join('/home/ubuntu/PodcastRecommender/', \"scripts/GrabMP3.py\")\n",
    "MP3s = imp.load_source('Grab_MP3S', loc)\n",
    "MP3s = MP3s.Grab_MP3S()"
   ]
  },
  {
   "cell_type": "code",
   "execution_count": null,
   "metadata": {
    "collapsed": false
   },
   "outputs": [],
   "source": [
    "MP3s.send_to_S3()"
   ]
  }
 ],
 "metadata": {
  "kernelspec": {
   "display_name": "Python 2",
   "language": "python",
   "name": "python2"
  },
  "language_info": {
   "codemirror_mode": {
    "name": "ipython",
    "version": 2
   },
   "file_extension": ".py",
   "mimetype": "text/x-python",
   "name": "python",
   "nbconvert_exporter": "python",
   "pygments_lexer": "ipython2",
   "version": "2.7.11"
  }
 },
 "nbformat": 4,
 "nbformat_minor": 0
}
