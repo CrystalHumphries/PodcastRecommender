{
 "cells": [
  {
   "cell_type": "code",
   "execution_count": 4,
   "metadata": {
    "collapsed": false
   },
   "outputs": [],
   "source": [
    "import graphlab as gl\n",
    "gl.canvas.set_target('ipynb')\n",
    "import numpy as np\n",
    "from sklearn.feature_extraction.text import TfidfVectorizer\n",
    "from pymongo import MongoClient"
   ]
  },
  {
   "cell_type": "code",
   "execution_count": 3,
   "metadata": {
    "collapsed": true
   },
   "outputs": [],
   "source": [
    "gl_cat_tfidf = gl.SFrame('../data/items_categories_tifidf_need2reduce.gl')\n",
    "train_set_2 = gl.SFrame(\"../data/train_set_2.gl\")\n",
    "test_set_2 = gl.SFrame(\"../data/test_set_2.gl\")\n",
    "orig_results = gl.SFrame(\"../data/orig_results.gl\")"
   ]
  },
  {
   "cell_type": "code",
   "execution_count": 73,
   "metadata": {
    "collapsed": false
   },
   "outputs": [
    {
     "name": "stdout",
     "output_type": "stream",
     "text": [
      "413\n"
     ]
    }
   ],
   "source": [
    "client = MongoClient()\n",
    "# Access/Initiate Database\n",
    "db = client['Podcast']\n",
    "# Access/Initiate Table\n",
    "Features = db['Features']\n",
    "print Features.count()\n",
    "\n",
    "keep_cols = []\n",
    "for i in Features.find({}):\n",
    "    keep_cols.append(i['Feature'])"
   ]
  },
  {
   "cell_type": "code",
   "execution_count": 78,
   "metadata": {
    "collapsed": false
   },
   "outputs": [],
   "source": [
    "other_model = gl.load_model(\"../data/ItemSimilarity.gl\")"
   ]
  },
  {
   "cell_type": "code",
   "execution_count": 81,
   "metadata": {
    "collapsed": false
   },
   "outputs": [
    {
     "data": {
      "text/html": [
       "<pre>Getting similar items completed in 0.016432</pre>"
      ],
      "text/plain": [
       "Getting similar items completed in 0.016432"
      ]
     },
     "metadata": {},
     "output_type": "display_data"
    }
   ],
   "source": [
    "results = other_model.get_similar_items([\"Car Talk\"])\n",
    "results['similar']"
   ]
  },
  {
   "cell_type": "code",
   "execution_count": 83,
   "metadata": {
    "collapsed": false
   },
   "outputs": [
    {
     "data": {
      "text/plain": [
       "dtype: str\n",
       "Rows: 10\n",
       "['Fast Lane Daily', 'Sports Car Unleashed', 'SEMA 2014', 'Ask Me Another', 'Velocity', 'Mixing The Vibe', 'Opposite Lock', 'Omar Kelly Show', 'Motorz', 'This Week Inside Sim Racing']"
      ]
     },
     "execution_count": 83,
     "metadata": {},
     "output_type": "execute_result"
    }
   ],
   "source": [
    "results['similar']"
   ]
  },
  {
   "cell_type": "code",
   "execution_count": 76,
   "metadata": {
    "collapsed": false
   },
   "outputs": [
    {
     "name": "stdout",
     "output_type": "stream",
     "text": [
      "Writing get_best_features_OneInOut.py\n"
     ]
    }
   ],
   "source": [
    "%%writefile get_best_features_OneInOut.py\n",
    "\n",
    "import graphlab as gl\n",
    "gl.canvas.set_target('ipynb')\n",
    "import numpy as np\n",
    "from sklearn.feature_extraction.text import TfidfVectorizer\n",
    "from pymongo import MongoClient\n",
    "\n",
    "gl_cat_tfidf = gl.SFrame('../data/items_categories_tifidf_need2reduce.gl')\n",
    "train_set_2 = gl.SFrame(\"../data/train_set_2.gl\")\n",
    "test_set_2 = gl.SFrame(\"../data/test_set_2.gl\")\n",
    "orig_res = gl.SFrame(\"../data/orig_results.gl\")\n",
    "\n",
    "client = MongoClient()\n",
    "# Access/Initiate Database\n",
    "db = client['Podcast']\n",
    "# Access/Initiate Table\n",
    "Features = db['Features_noCategories']\n",
    "print Features.count()\n",
    "\n",
    "precision = []\n",
    "prec_num  = []\n",
    "recall    = []\n",
    "recall_num= []\n",
    "\n",
    "for col in gl_cat_tfidf.column_names()[:-1]:\n",
    "    cols = ['Title']\n",
    "    if col == 'Title':\n",
    "        continue\n",
    "    cols.append(col)\n",
    "    item_model = gl.item_similarity_recommender.create(train_set_2, user_id=\"user_id\", \n",
    "                                                       item_id=\"Title\", item_data=gl_cat_tfidf[cols],\n",
    "                                                       verbose=False)\n",
    "    new_res = item_model.evaluate_precision_recall(test_set_2, cutoffs=[1,2,3,4,5], verbose=False)\n",
    "    new_res = new_res['precision_recall_overall']\n",
    "    compare_p = sum(orig_res['precision']<new_res['precision'])\n",
    "    compare_r = sum(orig_res['recall']<new_res['recall'])\n",
    "    if compare_p>0 or compare_r>0:\n",
    "        p_max = np.array(orig_res['precision']- new_res['precision']).max()\n",
    "        r_max = np.array(orig_res['recall']- new_res['recall']).max()\n",
    "        Features.insert_one( {'Feature': col, 'Precision': compare_p, \n",
    "                      'Recall': compare_r, 'Precision_max': p_max, \n",
    "                      'Recall_max':r_max})\n",
    "        print \"Precision: \" + str(col)\n",
    "        print \"Recall: \" + str(col)"
   ]
  },
  {
   "cell_type": "code",
   "execution_count": 37,
   "metadata": {
    "collapsed": false
   },
   "outputs": [],
   "source": [
    "#new_res = item_model.evaluate_precision_recall(test_set_2, cutoffs=[1,2,3,4,5], verbose=False)\n",
    "#new_res = new_res['precision_recall_overall']\n",
    "compare_p = sum(orig_res['precision']<new_res['precision'])\n",
    "compare_r = sum(orig_res['recall']<new_res['recall'])\n",
    "\n",
    "p_max = np.array(orig_res['precision']- new_res['precision']).max()\n",
    "r_max = np.array(orig_res['recall']- new_res['recall']).max()"
   ]
  },
  {
   "cell_type": "code",
   "execution_count": 36,
   "metadata": {
    "collapsed": false
   },
   "outputs": [
    {
     "data": {
      "text/plain": [
       "0.00012853896804282394"
      ]
     },
     "execution_count": 36,
     "metadata": {},
     "output_type": "execute_result"
    }
   ],
   "source": [
    "np.array(orig_res['precision'] - new_res['precision']).max()"
   ]
  },
  {
   "cell_type": "code",
   "execution_count": 6,
   "metadata": {
    "collapsed": true
   },
   "outputs": [],
   "source": [
    "a = np.array([0,5,10,15])\n",
    "b = np.array([1,5.5,12,17])"
   ]
  },
  {
   "cell_type": "code",
   "execution_count": 16,
   "metadata": {
    "collapsed": false
   },
   "outputs": [],
   "source": [
    "a = True\n",
    "b = False"
   ]
  },
  {
   "cell_type": "code",
   "execution_count": 17,
   "metadata": {
    "collapsed": false
   },
   "outputs": [
    {
     "name": "stdout",
     "output_type": "stream",
     "text": [
      "hola\n"
     ]
    }
   ],
   "source": [
    "if a is True or b is True:\n",
    "    print \"hola\""
   ]
  },
  {
   "cell_type": "code",
   "execution_count": null,
   "metadata": {
    "collapsed": true
   },
   "outputs": [],
   "source": [
    "Podcasts.insert_one( {'Feature': col, 'Precision': compare_p, \n",
    "                      'Recall': compare_r, 'Precision_max': p_max, \n",
    "                      'Recall_max':r_max})"
   ]
  }
 ],
 "metadata": {
  "kernelspec": {
   "display_name": "Python 2",
   "language": "python",
   "name": "python2"
  },
  "language_info": {
   "codemirror_mode": {
    "name": "ipython",
    "version": 2
   },
   "file_extension": ".py",
   "mimetype": "text/x-python",
   "name": "python",
   "nbconvert_exporter": "python",
   "pygments_lexer": "ipython2",
   "version": "2.7.11"
  }
 },
 "nbformat": 4,
 "nbformat_minor": 0
}
